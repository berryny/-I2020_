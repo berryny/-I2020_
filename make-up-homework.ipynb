{
 "cells": [
  {
   "cell_type": "markdown",
   "id": "alike-expert",
   "metadata": {},
   "source": [
    "<div style=\"background: #000;\n",
    "            color: #FFF;\n",
    "            margin: 0px;\n",
    "            padding: 10px 0px 20px 0px;\n",
    "            text-align: center; \n",
    "                \">\n",
    "    <h1 >Make Up Homework</h1>\n",
    "</div>"
   ]
  },
  {
   "cell_type": "markdown",
   "id": "documentary-montgomery",
   "metadata": {},
   "source": [
    "# Exercise 1\n"
   ]
  },
  {
   "cell_type": "markdown",
   "id": "industrial-desperate",
   "metadata": {},
   "source": [
    "Given an integer array `arr`, return `True` if there are three consecutive odd numbers in the array. Otherwise, return `False`.\n",
    "\n",
    "**Example 1**:  \n",
    "\n",
    "Input: `arr = [2,6,4,1]`  \n",
    "Output: `False`   \n",
    "Explanation: There are no three consecutive odds.  \n",
    "\n",
    "**Example 2**:  \n",
    "\n",
    "**Input**: `arr = [1,2,34,3,4,5,7,23,12]`    \n",
    "**Output**: `True`  \n",
    "**Explanation**: [5,7,23] are three consecutive odds.  \n"
   ]
  },
  {
   "cell_type": "code",
   "execution_count": null,
   "id": "portable-drunk",
   "metadata": {},
   "outputs": [],
   "source": [
    "def exercise1(arr=[1,2,34,3,4,5,7,23,12]):\n",
    "    pass"
   ]
  },
  {
   "cell_type": "code",
   "execution_count": null,
   "id": "explicit-horror",
   "metadata": {},
   "outputs": [],
   "source": [
    "exercise1()"
   ]
  },
  {
   "cell_type": "code",
   "execution_count": null,
   "id": "streaming-combat",
   "metadata": {},
   "outputs": [],
   "source": [
    "import unittest\n",
    "\n",
    "class Test(unittest.TestCase):\n",
    "    def test(self):\n",
    "        args = (\n",
    "            # here we're using ret as keys and args as values\n",
    "            # because lists cannot be keys (since they're mutable)\n",
    "            ([],False),\n",
    "            ([1,3,5],True),\n",
    "            ([0,1,2],False),\n",
    "            ([2,6,4,1], False),\n",
    "            ([2,3,5,7,3],True),\n",
    "            ([2,3,5,6,7,3],False),\n",
    "            ([3,5,7,9,11],True),\n",
    "            ([1,2,34,3,4,5,7,23,12],True)\n",
    "        )\n",
    "        for arg, ret in args:\n",
    "            # subTest continues tests even if one fails\n",
    "            # also allows us to see arguments passed to test\n",
    "            with self.subTest(arg=arg, ret=ret):\n",
    "                self.assertEqual(exercise1(arg), ret)\n",
    "        \n",
    "\n",
    "unittest.main(argv=[''], verbosity=0, exit=False)"
   ]
  },
  {
   "cell_type": "markdown",
   "id": "honey-surgeon",
   "metadata": {},
   "source": [
    "# Exercise 2\n",
    "\n",
    "There is a robot starting at position $(0, 0)$, the origin, on a $2D$ plane. Given a sequence of its moves, judge if this robot ends up at $(0, 0)$ after it completes its moves.\n",
    "\n",
    "The move sequence is represented by a string, and the character `moves[i]` represents its `i`th move. Valid moves are `R` (right), `L` (left), `U` (up), and `D` (down). If the robot returns to the origin after it finishes all of its moves, return true. Otherwise, return false.\n",
    "\n",
    "Note: The way that the robot is \"facing\" is irrelevant. `\"R\"` will always make the robot move to the right once, `\"L\"` will always make it move left, etc. Also, assume that the magnitude of the robot's movement is the same for each move.\n",
    "\n",
    "**Example 1**:\n",
    "\n",
    "**Input**: `moves = \"UD\"`  \n",
    "**Output**: `True`  \n",
    "**Explanation**: The robot moves up once, and then down once. All moves have the same magnitude, so it ended up at the origin where it started. Therefore, we return `True`.\n",
    "\n",
    "**Example 2**:\n",
    "\n",
    "**Input**: `moves = \"LL\"`  \n",
    "**Output**: `False`     \n",
    "**Explanation**: The robot moves left twice. It ends up two \"moves\" to the left of the origin. We return `False` because it is not at the origin at the end of its moves.\n",
    "\n",
    "**Example 3**:\n",
    "\n",
    "**Input**: `moves = \"RRDD\"`  \n",
    "**Output**: `False`  \n",
    "\n",
    "**Example 4**:\n",
    "\n",
    "**Input**: `moves = \"LDRRLRUULR\"`  \n",
    "**Output**: `False`  \n",
    "\n",
    " "
   ]
  },
  {
   "cell_type": "code",
   "execution_count": null,
   "id": "brave-minority",
   "metadata": {},
   "outputs": [],
   "source": [
    "def exercise2(moves=\"UD\"):\n",
    "    pass\n"
   ]
  },
  {
   "cell_type": "code",
   "execution_count": null,
   "id": "occasional-squad",
   "metadata": {},
   "outputs": [],
   "source": [
    "exercise2()"
   ]
  },
  {
   "cell_type": "code",
   "execution_count": null,
   "id": "engaged-printing",
   "metadata": {},
   "outputs": [],
   "source": [
    "import unittest\n",
    "\n",
    "class Test(unittest.TestCase):\n",
    "    def test_exercise2(self):\n",
    "        args = (\n",
    "            (\"UD\", True),\n",
    "            (\"LL\", False),\n",
    "            (\"RRDD\", False),\n",
    "            (\"LDRRLRUULR\", False),\n",
    "            (\"URDLDLURLRLRUDDULR\", True)\n",
    "        )\n",
    "        for arg, ret in args:\n",
    "            # subTest continues tests even if one fails\n",
    "            # also allows us to see arguments passed to test\n",
    "            with self.subTest(arg=arg, ret=ret):\n",
    "                self.assertEqual(exercise2(arg), ret)\n",
    "\n",
    "unittest.main(argv=[''], verbosity=0, exit=False)"
   ]
  },
  {
   "cell_type": "markdown",
   "id": "incorporate-chemistry",
   "metadata": {},
   "source": [
    "# Exercise 3\n",
    "\n",
    "Given an integer `n`, return any array containing `n` unique integers such that they add up to 0.\n",
    "\n",
    "**Example 1**:\n",
    "\n",
    "**Input**: `n = 5`  \n",
    "**Output**: `[-7,-1,1,3,4]`  \n",
    "**Explanation**: These arrays also are accepted `[-5,-1,1,2,3]` , `[-3,-1,2,-2,4]`.  \n",
    "\n",
    "**Example 2**:\n",
    "\n",
    "**Input**: `n = 3`  \n",
    "**Output**: `[-1,0,1]`  \n",
    "\n",
    "**Example 3**:\n",
    "\n",
    "**Input**: `n = 1`  \n",
    "**Output**: `[0]`  \n",
    "\n",
    " "
   ]
  },
  {
   "cell_type": "code",
   "execution_count": null,
   "id": "abstract-sacramento",
   "metadata": {},
   "outputs": [],
   "source": [
    "def exercise3(n=6):\n",
    "    pass"
   ]
  },
  {
   "cell_type": "code",
   "execution_count": null,
   "id": "retired-inspection",
   "metadata": {},
   "outputs": [],
   "source": [
    "exercise3()"
   ]
  },
  {
   "cell_type": "code",
   "execution_count": null,
   "id": "adolescent-preliminary",
   "metadata": {},
   "outputs": [],
   "source": [
    "import unittest\n",
    "\n",
    "class Test(unittest.TestCase):\n",
    "    def test_exercise3(self):\n",
    "        for arg in range(20):\n",
    "            # subTest continues tests even if one fails\n",
    "            # also allows us to see arguments passed to test\n",
    "            with self.subTest(arg=arg):\n",
    "                self.assertEqual(sum(exercise3(arg)), 0)\n",
    "        \n",
    "unittest.main(argv=[''], verbosity=0, exit=False)"
   ]
  },
  {
   "cell_type": "code",
   "execution_count": null,
   "id": "designing-twelve",
   "metadata": {},
   "outputs": [],
   "source": []
  }
 ],
 "metadata": {
  "kernelspec": {
   "display_name": "Python 3",
   "language": "python",
   "name": "python3"
  },
  "language_info": {
   "codemirror_mode": {
    "name": "ipython",
    "version": 3
   },
   "file_extension": ".py",
   "mimetype": "text/x-python",
   "name": "python",
   "nbconvert_exporter": "python",
   "pygments_lexer": "ipython3",
   "version": "3.9.1"
  }
 },
 "nbformat": 4,
 "nbformat_minor": 5
}
