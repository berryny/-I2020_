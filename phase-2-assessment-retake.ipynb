{
 "cells": [
  {
   "cell_type": "markdown",
   "id": "compound-survival",
   "metadata": {},
   "source": [
    "<div style=\"background: #000;\n",
    "            color: #FFF;\n",
    "            margin: 0px;\n",
    "            padding: 10px 0px 20px 0px;\n",
    "            text-align: center; \n",
    "                \">\n",
    "    <h1>Phase 2 Assessment Retake</h1>\n",
    "</div>"
   ]
  },
  {
   "cell_type": "markdown",
   "id": "sought-citation",
   "metadata": {},
   "source": [
    "**Fill this out:**"
   ]
  },
  {
   "cell_type": "raw",
   "id": "known-macintosh",
   "metadata": {},
   "source": [
    "name:"
   ]
  },
  {
   "cell_type": "code",
   "execution_count": null,
   "id": "individual-talent",
   "metadata": {},
   "outputs": [],
   "source": [
    "import pandas as pd\n",
    "import numpy as np\n",
    "import matplotlib.pyplot as plt\n",
    "import seaborn as sns"
   ]
  },
  {
   "cell_type": "markdown",
   "id": "revised-thumb",
   "metadata": {},
   "source": [
    "# Multiple Choice Questions \n",
    "\n",
    "**[8.33% each; 25% total]**\n",
    "\n",
    "**1. Why might we prefer standard deviation over variance?**\n",
    "\n",
    "**a. Variance is always positive.**       \n",
    "**b. Standard deviation uses units comparable to our data.**        \n",
    "**c. Standard deviation isn't affected by outliers as much.**       \n",
    "**d. Variance is skewed because of the mode.**    "
   ]
  },
  {
   "cell_type": "raw",
   "id": "attended-study",
   "metadata": {},
   "source": []
  },
  {
   "cell_type": "markdown",
   "id": "urban-cambridge",
   "metadata": {},
   "source": [
    "**2. Based on the following code, what does `Dumpy.foo` return?**\n",
    "\n",
    "```python\n",
    "from typing import List\n",
    "from our_personal_typing_library import Dumpy\n",
    "\n",
    "def func(s: List, d: Dumpy) -> float:\n",
    "    for i in s:\n",
    "        d.add(i)\n",
    "    return d.foo()\n",
    "    \n",
    "func([0,0,0,4,5], d) #returns 0\n",
    "func([0,0,2,4,5], d) #returns 2\n",
    "func([1,2,3,4,5], d) #returns 3\n",
    "```\n",
    "\n",
    "**a. The mean of values in `Dumpy`.**   \n",
    "**b. The mode of values in `Dumpy`.**  \n",
    "**c. The median of values in `Dumpy`.**   \n",
    "**d. The list of values in `Dumpy`.**  "
   ]
  },
  {
   "cell_type": "raw",
   "id": "distributed-devon",
   "metadata": {},
   "source": []
  },
  {
   "cell_type": "markdown",
   "id": "competent-finder",
   "metadata": {},
   "source": [
    "**3. Say that we have a bag with 5 blue marbles, 7 red marbles, 3 white marbles and 5 green marbles. If we choose one marble at random, what is the probability that it is white or blue?**\n",
    "\n",
    "**a. $\\frac{5}{12}$**   \n",
    "**b. $\\frac{7}{20}$**  \n",
    "**c. $\\frac{8}{12}$**  \n",
    "**d. $\\frac{8}{20}$**  "
   ]
  },
  {
   "cell_type": "raw",
   "id": "recognized-stake",
   "metadata": {},
   "source": []
  },
  {
   "cell_type": "markdown",
   "id": "amended-wireless",
   "metadata": {},
   "source": [
    "# Python \n",
    "\n",
    "**[8.33% each; 25% total]** \n",
    "\n",
    "\n",
    "**1. Implement a binary search algorithm in python. Use it to search through the given list for `3`. Your function should return the index AND the value (see tests)**"
   ]
  },
  {
   "cell_type": "code",
   "execution_count": null,
   "id": "permanent-efficiency",
   "metadata": {},
   "outputs": [],
   "source": [
    "given = [3,4,5,6,7,8,9,10]\n",
    "\n",
    "sorted(given)"
   ]
  },
  {
   "cell_type": "code",
   "execution_count": null,
   "id": "primary-topic",
   "metadata": {},
   "outputs": [],
   "source": [
    "# needed for typing; not for the exercise\n",
    "from typing import List\n",
    "\n",
    "# fix this function:\n",
    "def binary_search(l:List = given, s:int = 3) -> (int, int):\n",
    "    pass\n",
    "\n",
    "#these test your solution\n",
    "try:\n",
    "    assert(binary_search() == (0, 3))\n",
    "    assert(binary_search(s=9) == (6, 9))\n",
    "    assert(binary_search(s=12) == (-1, None))\n",
    "    print(\"tests passed\")\n",
    "except AssertionError as e:\n",
    "    print(\"tests failed\")"
   ]
  },
  {
   "cell_type": "markdown",
   "id": "surprised-lyric",
   "metadata": {},
   "source": [
    "**2. Fix the following code so the function calls work.**"
   ]
  },
  {
   "cell_type": "code",
   "execution_count": null,
   "id": "hispanic-equity",
   "metadata": {},
   "outputs": [],
   "source": [
    "class StockTree:\n",
    "    def __init__(self, data):\n",
    "        self.upper = None\n",
    "        self.lower = None\n",
    "        self.data = data\n",
    "\n",
    "    def add(self, data):\n",
    "        # fix this function:\n",
    "        if data > self.data:\n",
    "            pass\n",
    "        elif data < self.data:\n",
    "            pass\n",
    "        # end of section that needs fixing\n",
    "        \n",
    "    def print(self):\n",
    "        if self.upper:\n",
    "            self.upper.print()\n",
    "        print(self.data)\n",
    "        if self.lower:\n",
    "            self.lower.print()  \n",
    "            \n",
    "bt = StockTree(5) # we did this\n",
    "bt.add(4)\n",
    "bt.add(3)\n",
    "bt.add(8)\n",
    "bt.add(7)\n",
    "bt.print()\n",
    "# if your solution is correct,\n",
    "# you will see all the values [8,7,5,4,3] printed"
   ]
  },
  {
   "cell_type": "markdown",
   "id": "improving-bride",
   "metadata": {},
   "source": [
    "**4. Write a python function that calculates the combination function for any values of $n$ and $k$.**\n",
    "\n",
    "$${_n}C_k = \\frac{n!}{k!(n-k)!} $$\n",
    "\n",
    "**You will also need a function for factorial. Below is the recursive factorial function for you to use.**\n",
    "\n",
    "$$ n! = n \\cdot (n-1)!$$\n"
   ]
  },
  {
   "cell_type": "code",
   "execution_count": null,
   "id": "horizontal-vinyl",
   "metadata": {},
   "outputs": [],
   "source": [
    "# you'll need to create this:\n",
    "def factorial(n: int) -> int:\n",
    "    pass\n",
    "\n",
    "# to get this to work:\n",
    "def combination(n: int = 16, k: int = 4) -> float:\n",
    "    pass\n",
    "\n",
    "# use this to test your code\n",
    "try:\n",
    "    assert(combination() == 1820)\n",
    "    assert(combination(2,1) == 2)\n",
    "    assert(combination(4,2) == 6)\n",
    "except AssertionError:\n",
    "    print(\"test failed.\")"
   ]
  },
  {
   "cell_type": "markdown",
   "id": "missing-links",
   "metadata": {},
   "source": [
    "# Machine Learning Questions \n",
    "\n",
    "This section is worth 15% (7.5% each).\n",
    "\n",
    "**1. What is underfitting and overfitting in machine learning models? What causes underfitting? What does overfitting imply? What sort of fit do we ideally want?**"
   ]
  },
  {
   "cell_type": "code",
   "execution_count": null,
   "id": "horizontal-frame",
   "metadata": {},
   "outputs": [],
   "source": []
  },
  {
   "cell_type": "markdown",
   "id": "killing-tattoo",
   "metadata": {},
   "source": [
    "**2. What do we use a linear regression for? What is one assumption we must make to perform a linear regression? What class of machine learning algorithms is linear regression part of? Explain the main difference between this class of machine learning algorithm and alternatives.**"
   ]
  },
  {
   "cell_type": "code",
   "execution_count": null,
   "id": "generic-poker",
   "metadata": {},
   "outputs": [],
   "source": []
  },
  {
   "cell_type": "markdown",
   "id": "quarterly-spice",
   "metadata": {},
   "source": [
    "# Numpy\n",
    "\n",
    "**This section is worth 12.5%**\n",
    "\n",
    "**1. Without using any numpy methods, calculate the variance of the following array using this formula.**\n",
    "\n",
    "$$\\text{var(x)}= \\frac{1}{N}\\sum_{i=1}^{N}(x_i - \\mu)^{2}$$\n",
    "\n",
    "Note: You may use built in python methods like `sum` and `len`."
   ]
  },
  {
   "cell_type": "code",
   "execution_count": null,
   "id": "nasty-border",
   "metadata": {},
   "outputs": [],
   "source": [
    "n = np.array([10, 12, 23, 23, 16, 23, 21, 16])\n"
   ]
  },
  {
   "cell_type": "markdown",
   "id": "union-favor",
   "metadata": {},
   "source": [
    "**2. Using `np.arange`, create a 10 element numpy array with the positive multiples of 2 and assign it to x. Then use it to create a separate array `y` of the powers of two based on the following formula:**\n",
    "\n",
    "$$ y = 2^{x}$$\n",
    "\n",
    "\n"
   ]
  },
  {
   "cell_type": "code",
   "execution_count": null,
   "id": "afraid-grade",
   "metadata": {},
   "outputs": [],
   "source": []
  },
  {
   "cell_type": "markdown",
   "id": "optimum-catalyst",
   "metadata": {},
   "source": [
    "**3. Create an array containing 9 values between 0 and 10. Use a conditional slice to remove the value `0`. Then use the remaining values to calculate:**\n",
    "\n",
    "$$ y = \\frac{x}{0.5^3}$$"
   ]
  },
  {
   "cell_type": "code",
   "execution_count": null,
   "id": "complicated-desert",
   "metadata": {},
   "outputs": [],
   "source": []
  },
  {
   "cell_type": "markdown",
   "id": "surgical-copper",
   "metadata": {},
   "source": [
    "# Pandas \n",
    "\n",
    "**This section is worth 12.5% (4.1666% each)**\n",
    "\n",
    "The questions for this section use the dataframe below:"
   ]
  },
  {
   "cell_type": "code",
   "execution_count": null,
   "id": "suited-chick",
   "metadata": {},
   "outputs": [],
   "source": [
    "df = pd.DataFrame([\n",
    "['united states', \"north america\", 124481412, 38, 0.25, 0.13 ],\n",
    "['mainland china', \"asia\", 74956000],\n",
    "['india' , \"asia\", 45065998, 3.3, 0.028, 0.006],\n",
    "['united kingdom', \"europe\", 29859742, 45, 0.42, 0.034 ],\n",
    "['brazil', \"south america\",13562176, 6.5, 0.049, 0.016],\n",
    "['israel', \"asia\", 9739025, 110, 0.58, 0.51 ],\n",
    "['chile', \"south america\", 8470866, 45, 0.30, 0.15],\n",
    "['mexico', \"north america\",5612291, 4.4, 0.039, 0.006],\n",
    "['bangladesh', \"asia\", 4760747, 3, 0.03],\n",
    "['canada', \"north america\",3954285, 11, 0.09, 0.017],\n",
    "['argentina', 'south america', 3119828, 7, 0.057, 0.014],\n",
    "['colombia', 'south america', 1182098, 2.4, 0.023, 0.001],\n",
    "['switzerland', \"europe\",1176875, 14, 0.087, 0.051],\n",
    "['dominican republic', \"north america\", 675000, 5.8, 0.064],\n",
    "['peru', 'south america', 623800,  2, 0.014, 0.006],\n",
    "['ghana', 'africa', 420000, 1.4, 0.014],\n",
    "['bulgaria', \"europe\", 368905, 5.3, 0.042, 0.01],\n",
    "['costa rica', \"south america\", 248082, 5, 0.038, 0.012],\n",
    "['south africa', \"africa\",182983, 0.3, 0.003],\n",
    "['jamaica', np.nan, 16096, 0.5, 0.005],\n",
    "['guyana', \"south america\", 15524, 2, 0.02],\n",
    "['nigeria', 'africa', 8000, 0.1, 0.001],\n",
    "['trinidad and tobago', 'south america', 991, 0.1, 0.001],\n",
    "], columns=[\"country\", \"continent\", \"doses given\", \"doses given per 100\", \"percent vaccinated\", \"percent fully vaccinated\" ])\n",
    "df"
   ]
  },
  {
   "cell_type": "markdown",
   "id": "spread-suicide",
   "metadata": {},
   "source": [
    "**1. Output the dataframe only showing the rows where `'doses given'` is less than 20,000 and the columns `'country', 'continent', 'doses given'` and sorted by `'doses given'` in ascending order.**"
   ]
  },
  {
   "cell_type": "code",
   "execution_count": null,
   "id": "independent-proceeding",
   "metadata": {},
   "outputs": [],
   "source": []
  },
  {
   "cell_type": "markdown",
   "id": "stylish-integer",
   "metadata": {},
   "source": [
    "**2. Output a dataframe containing the countries that has vaccinated more than 500,000 people but have doses `given per 100` less than 20 .**"
   ]
  },
  {
   "cell_type": "code",
   "execution_count": null,
   "id": "hairy-marks",
   "metadata": {},
   "outputs": [],
   "source": []
  },
  {
   "cell_type": "markdown",
   "id": "entertaining-columbia",
   "metadata": {},
   "source": [
    "**3. What is the average `'percent vaccinated'` rate per continent?**"
   ]
  },
  {
   "cell_type": "code",
   "execution_count": null,
   "id": "guilty-encounter",
   "metadata": {},
   "outputs": [],
   "source": []
  },
  {
   "cell_type": "markdown",
   "id": "adult-valentine",
   "metadata": {},
   "source": [
    "# SQL \n",
    "\n",
    "**This section is worth 5%.**\n",
    "\n",
    "Our company has a number of positions on our books. We want to **UPDATE** some positions. Change the following  information (making sure to use new cells so your work can be saved as you won't submit the db file). Keep in mind that direction means if we've bought or sold the stock (`0` means we sold it short, `1` means we bought it).\n",
    "\n",
    "Update using the following information:\n",
    "* We bought back 50 shares of Tesla. That means our position is now 50 (not 100).\n",
    "* We bought more 81 shares of VIX making our average price now \\\\$280. That means position is now 100 and price is \\\\$280.\n",
    "* We sold 67 shares of SPY. That means our position is now 100 (not 167)."
   ]
  },
  {
   "cell_type": "code",
   "execution_count": null,
   "id": "approximate-burns",
   "metadata": {},
   "outputs": [],
   "source": [
    "# run this cell to set up your sqlite3 db.\n",
    "import sqlite3\n",
    "\n",
    "sql_commands = \\\n",
    "\"\"\"\n",
    "DROP TABLE IF EXISTS stocks;\n",
    "\n",
    "CREATE TABLE stocks (\n",
    " id INTEGER PRIMARY KEY,\n",
    " ticker TEXT NOT NULL,\n",
    " position TEXT NOT NULL,\n",
    " price FLOAT NOT NULL,\n",
    " direction BOOLEAN NOT NULL\n",
    ");\n",
    "\n",
    "INSERT INTO stocks \n",
    "(ticker, position, price, direction)\n",
    "VALUES \n",
    "('TSLA', 100, 700.00, 0),\n",
    "('VIX', 19,  292.00, 1),\n",
    "('SPY', 167, 395.00, 0);\n",
    "\"\"\"\n",
    "\n",
    "db = sqlite3.connect('stocks.db')\n",
    "cursor = db.cursor()\n",
    "cursor.executescript(sql_commands)\n",
    "db.commit()\n",
    "db.close()"
   ]
  },
  {
   "cell_type": "code",
   "execution_count": null,
   "id": "connected-adjustment",
   "metadata": {},
   "outputs": [],
   "source": [
    "# use this function for your answers.\n",
    "def with_conn(statement):\n",
    "    conn = sqlite3.connect('stocks.db')\n",
    "    with conn:\n",
    "        cur = conn.cursor()\n",
    "        cur.execute(statement)\n",
    "        result = cur.fetchall()\n",
    "        return result "
   ]
  },
  {
   "cell_type": "code",
   "execution_count": null,
   "id": "increased-impact",
   "metadata": {},
   "outputs": [],
   "source": [
    "with_conn('SELECT * FROM stocks;')"
   ]
  },
  {
   "cell_type": "code",
   "execution_count": null,
   "id": "satisfied-assault",
   "metadata": {},
   "outputs": [],
   "source": [
    "with_conn(';')"
   ]
  },
  {
   "cell_type": "markdown",
   "id": "miniature-price",
   "metadata": {},
   "source": [
    "# Matplotlib \n",
    "**This section is worth 5%**\n",
    "\n",
    "Using the following dataset, create a chart of the data using the right chart to convey the information. Make sure your chart is professional looking, utilizing axis labeling and a proper title. "
   ]
  },
  {
   "cell_type": "code",
   "execution_count": null,
   "id": "romantic-suspect",
   "metadata": {},
   "outputs": [],
   "source": [
    "df = pd.DataFrame([['alice',\"software engineer\",120000, 2, 20],['bob',\"data engineer\", 105000, 1.75, 15], ['carol',\"machine learning engineer\", 180000, 3, 20], ['davin',\"data scientist\", 120000, 2, 15], ['eric',\"assistant\",60000, 1 ,30]], columns=['name', 'position', 'salary','years worked at company', 'percent of project'])\n",
    "df.head()"
   ]
  },
  {
   "cell_type": "code",
   "execution_count": null,
   "id": "worth-revelation",
   "metadata": {},
   "outputs": [],
   "source": []
  }
 ],
 "metadata": {
  "kernelspec": {
   "display_name": "Python 3",
   "language": "python",
   "name": "python3"
  },
  "language_info": {
   "codemirror_mode": {
    "name": "ipython",
    "version": 3
   },
   "file_extension": ".py",
   "mimetype": "text/x-python",
   "name": "python",
   "nbconvert_exporter": "python",
   "pygments_lexer": "ipython3",
   "version": "3.9.1"
  }
 },
 "nbformat": 4,
 "nbformat_minor": 5
}
