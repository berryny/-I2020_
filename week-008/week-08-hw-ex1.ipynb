{
 "cells": [
  {
   "cell_type": "markdown",
   "metadata": {},
   "source": [
    "<div style=\"background: #000;\n",
    "            color: #FFF;\n",
    "            margin: 0px;\n",
    "                padding: 10px 0px 20px 0px;\n",
    "            text-align: center; \n",
    "                \">\n",
    "    <h1>Week 8 Homework</h1>\n",
    "</div>"
   ]
  },
  {
   "cell_type": "markdown",
   "metadata": {},
   "source": [
    "# Exercise 1:\n",
    "\n",
    "Fix the following code:"
   ]
  },
  {
   "cell_type": "code",
   "execution_count": 2,
   "metadata": {},
   "outputs": [
    {
     "name": "stdout",
     "output_type": "stream",
     "text": [
      "<bound method Scraper.title of <__main__.Scraper object at 0x0000023754C604F0>>\n",
      "<bound method Scraper.header of <__main__.Scraper object at 0x0000023754C604F0>>\n"
     ]
    }
   ],
   "source": [
    "import requests\n",
    "from bs4 import BeautifulSoup                                              \n",
    "\n",
    "class Scraper:\n",
    "    def __init__(self, url):\n",
    "        self.url = url\n",
    "        \n",
    "    def do_request(self):\n",
    "        r = requests.get(self.url)\n",
    "        self.headers = r.headers\n",
    "        self.text = r.text\n",
    "    \n",
    "    def set_soup(self):\n",
    "        self.soup = BeautifulSoup(self.text)\n",
    "        \n",
    "    def scrape(self):\n",
    "        self.do_request()\n",
    "        self.set_soup()\n",
    "\n",
    "    def title(self):\n",
    "        \"\"\"\n",
    "        this function is meant to:\n",
    "          - return the title of the \n",
    "            page (without the tags)\n",
    "        \"\"\"\n",
    "        pass\n",
    "    \n",
    "    def header(self):\n",
    "        \"\"\"\n",
    "        this function is meant to:\n",
    "          - access the header of the page\n",
    "          - print the headers in a human\n",
    "            readable format\n",
    "        \"\"\"\n",
    "        pass\n",
    "\n",
    "# DO NOT change the following code.\n",
    "# Your changes to the code above should allow\n",
    "# the code below to work without error.\n",
    "# hint: @\n",
    "s = Scraper('http://www.theknowledgehouse.org')\n",
    "print(s.title)\n",
    "print(s.header)"
   ]
  },
  {
   "cell_type": "code",
   "execution_count": 8,
   "metadata": {},
   "outputs": [
    {
     "name": "stdout",
     "output_type": "stream",
     "text": [
      "THE KNOWLEDGE HOUSE\n",
      "\n",
      "\n",
      "Connection: keep-alive \n",
      "Server: gunicorn/19.9.0 \n",
      "Date: Mon, 09 Nov 2020 22:57:31 GMT \n",
      "X-Frame-Options: SAMEORIGIN \n",
      "Content-Length: 89280 \n",
      "Content-Type: text/html; charset=utf-8 \n",
      "Via: 1.1 vegur \n",
      "\n"
     ]
    }
   ],
   "source": [
    "import requests\n",
    "from bs4 import BeautifulSoup                                              \n",
    "\n",
    "class Scraper:\n",
    "    def __init__(self, url):\n",
    "        self.url = url\n",
    "        self.scrape()\n",
    "        \n",
    "    def do_request(self):\n",
    "        r = requests.get(self.url)\n",
    "        self.headers = r.headers\n",
    "        self.text = r.text\n",
    "    \n",
    "    def set_soup(self):\n",
    "        self.soup = BeautifulSoup(self.text)\n",
    "        \n",
    "    def scrape(self):\n",
    "        self.do_request()\n",
    "        self.set_soup()\n",
    "\n",
    "    @property\n",
    "    def title(self):\n",
    "        \"\"\"\n",
    "        this function is meant to:\n",
    "          - return the title of the \n",
    "            page (without the tags)\n",
    "        \"\"\"\n",
    "#         pass\n",
    "        return self.soup.find('title').contents[0]\n",
    "\n",
    "# @property decorator allows us to define properties easily without calling the property() function manually. Before learning about the @property decorator, let's understand what is a decorator.\n",
    "    @property    \n",
    "    def header(self):\n",
    "        \"\"\"\n",
    "        this function is meant to:\n",
    "          - access the header of the page\n",
    "          - print the headers in a human\n",
    "            readable format\n",
    "        \"\"\"\n",
    "#         pass\n",
    "        print('\\n')\n",
    "        headers_list = ''\n",
    "        for k,v in self.headers.items():\n",
    "            headers_list += f\"{k}: {v} \\n\"\n",
    "        return headers_list\n",
    "\n",
    "# DO NOT change the following code.\n",
    "# Your changes to the code above should allow\n",
    "# the code below to work without error.\n",
    "# hint: @\n",
    "s = Scraper('http://www.theknowledgehouse.org')\n",
    "print(s.title)\n",
    "print(s.header)"
   ]
  },
  {
   "cell_type": "code",
   "execution_count": null,
   "metadata": {},
   "outputs": [],
   "source": []
  },
  {
   "cell_type": "code",
   "execution_count": null,
   "metadata": {},
   "outputs": [],
   "source": []
  }
 ],
 "metadata": {
  "kernelspec": {
   "display_name": "Python 3",
   "language": "python",
   "name": "python3"
  },
  "language_info": {
   "codemirror_mode": {
    "name": "ipython",
    "version": 3
   },
   "file_extension": ".py",
   "mimetype": "text/x-python",
   "name": "python",
   "nbconvert_exporter": "python",
   "pygments_lexer": "ipython3",
   "version": "3.8.3"
  }
 },
 "nbformat": 4,
 "nbformat_minor": 4
}
