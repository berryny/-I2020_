{
 "cells": [
  {
   "cell_type": "markdown",
   "metadata": {},
   "source": [
    "<div style=\"background: #000;\n",
    "            color: #FFF;\n",
    "            margin: 0px;\n",
    "                padding: 10px 0px 20px 0px;\n",
    "            text-align: center; \n",
    "                \">\n",
    "    <h1>Week 8 - Project</h1>\n",
    "</div>"
   ]
  },
  {
   "cell_type": "markdown",
   "metadata": {},
   "source": [
    "#### Write a python script that:  \n",
    "- scrapes the following webpage:  \n",
    "https://en.wikipedia.org/wiki/Template:COVID-19_pandemic_data    \n",
    "- parses the html for the table of covid data  \n",
    "- fills missing values with `None`   \n",
    "- calculates the death and recovery rate for each  country   \n",
    "- writes the data in csv format to a file called:`{your-name}-covid-report.csv`\n",
    "\n",
    "Your csv file should contain the following \"header\" (and corresponding data):\n",
    "\n",
    "```csv\n",
    "country,cases,deaths,recoveries,death_rate,recovery_rate\n",
    "\n",
    "```\n",
    "\n",
    "Please ask for clarification if needed.\n"
   ]
  },
  {
   "cell_type": "code",
   "execution_count": 1,
   "metadata": {},
   "outputs": [
    {
     "name": "stdout",
     "output_type": "stream",
     "text": [
      "Requirement already satisfied: pandas in c:\\users\\youthcode_11\\anaconda3\\lib\\site-packages (1.0.5)\n",
      "Requirement already satisfied: pytz>=2017.2 in c:\\users\\youthcode_11\\anaconda3\\lib\\site-packages (from pandas) (2020.1)\n",
      "Requirement already satisfied: numpy>=1.13.3 in c:\\users\\youthcode_11\\anaconda3\\lib\\site-packages (from pandas) (1.18.5)\n",
      "Requirement already satisfied: python-dateutil>=2.6.1 in c:\\users\\youthcode_11\\anaconda3\\lib\\site-packages (from pandas) (2.8.1)\n",
      "Requirement already satisfied: six>=1.5 in c:\\users\\youthcode_11\\anaconda3\\lib\\site-packages (from python-dateutil>=2.6.1->pandas) (1.15.0)\n",
      "Note: you may need to restart the kernel to use updated packages.\n"
     ]
    }
   ],
   "source": [
    "pip install pandas"
   ]
  },
  {
   "cell_type": "code",
   "execution_count": 2,
   "metadata": {},
   "outputs": [],
   "source": [
    "import requests\n",
    "from bs4 import BeautifulSoup"
   ]
  },
  {
   "cell_type": "code",
   "execution_count": 3,
   "metadata": {},
   "outputs": [],
   "source": [
    "import pandas as pd"
   ]
  },
  {
   "cell_type": "code",
   "execution_count": 4,
   "metadata": {},
   "outputs": [],
   "source": [
    "# scrapes the following webpage:\n",
    "scrape_url = 'https://en.wikipedia.org/wiki/Template:COVID-19_pandemic_data'\n",
    "\n",
    "class CovidData:\n",
    "\n",
    "    # parses the html for the table of covid data\n",
    "    def __init__(self,url):\n",
    "        self.url = url\n",
    "        req = requests.get(self.url)\n",
    "        self.table_header = []\n",
    "        self.scrap_covid_data = []\n",
    "\n",
    "        if req.status_code == 200:\n",
    "            soup = BeautifulSoup(req.content)\n",
    "            div = soup.find(id=\"covid19-container\")\n",
    "\n",
    "            label = div['aria-label']\n",
    "            table_body = div.findAll('tbody')\n",
    "\n",
    "            print(label)\n",
    "            table_soup = BeautifulSoup(str(table_body))\n",
    "            for tbl_tr in table_soup.find_all('tr'):\n",
    "                if tbl_tr.attrs.get(\"class\") and ('covid-sticky' in tbl_tr.attrs.get(\"class\")):\n",
    "                    self.table_header = [t.get_text().replace(\"\\n\", \"\") for t in tbl_tr.findAll('th')]\n",
    "                else:\n",
    "                    tbl_th_arr = []\n",
    "                    tbl_td_arr = []\n",
    "                    if len(tbl_tr.findAll('th', {'scope':'row'})):\n",
    "                        # get the \"World\" data within the th tags\n",
    "                        for tbl_th in tbl_tr.findAll('th'):\n",
    "                            if tbl_th.findAll('img'):\n",
    "                                country_flag = tbl_th.findAll('img')[0]['src']\n",
    "                                tbl_th_arr.append(country_flag)\n",
    "                            else:\n",
    "                                tbl_th_arr.append(tbl_th.get_text().replace(\"\\n\", \"\"))\n",
    "                        # grabs the individual country's data in td tags\n",
    "                        for tbl_td in tbl_tr.findAll('td'):\n",
    "                            # fills missing values with None\n",
    "                            if tbl_td.get_text().replace(\"\\n\", \"\") == \"No data\":\n",
    "                                tbl_td_arr.append(\"None\")\n",
    "                            else:\n",
    "                                tbl_td_arr.append(tbl_td.get_text().replace(\"\\n\", \"\"))\n",
    "                            \n",
    "                        # merge the list for each data\n",
    "                        self.scrap_covid_data.append(tbl_th_arr + tbl_td_arr)\n",
    "\n",
    "    # Your csv file should contain the following \"header\" (and corresponding data):\n",
    "    # country,cases,deaths,recoveries,death_rate,recovery_rate\n",
    "    def create_csv(self):\n",
    "#         csv_headers = ['Flag'] + self.table_header + ['Death Rate','Recovery Rate']\n",
    "        csv_headers = ['Flag'] + self.table_header\n",
    "        if len(self.scrap_covid_data) > 0 :\n",
    "#             print('table_header',csv_headers)\n",
    "#             print('create_csv',self.scrap_covid_data)\n",
    "            data = pd.DataFrame(self.scrap_covid_data, columns=csv_headers)\n",
    "            # writes the data in csv format to a file called:{your-name}-covid-report.csv\n",
    "            data.to_csv('judi-covid-report.csv')\n",
    "        else:\n",
    "            print(\"Error\")\n",
    "            return False"
   ]
  },
  {
   "cell_type": "code",
   "execution_count": 5,
   "metadata": {},
   "outputs": [
    {
     "name": "stdout",
     "output_type": "stream",
     "text": [
      "COVID-19 pandemic by country and territory table\n"
     ]
    }
   ],
   "source": [
    "cd = CovidData(scrape_url)\n",
    "cd.create_csv()"
   ]
  },
  {
   "cell_type": "code",
   "execution_count": null,
   "metadata": {},
   "outputs": [],
   "source": []
  },
  {
   "cell_type": "code",
   "execution_count": null,
   "metadata": {},
   "outputs": [],
   "source": []
  }
 ],
 "metadata": {
  "kernelspec": {
   "display_name": "Python 3",
   "language": "python",
   "name": "python3"
  },
  "language_info": {
   "codemirror_mode": {
    "name": "ipython",
    "version": 3
   },
   "file_extension": ".py",
   "mimetype": "text/x-python",
   "name": "python",
   "nbconvert_exporter": "python",
   "pygments_lexer": "ipython3",
   "version": "3.8.3"
  }
 },
 "nbformat": 4,
 "nbformat_minor": 4
}
