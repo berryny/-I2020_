{
 "cells": [
  {
   "cell_type": "markdown",
   "metadata": {},
   "source": [
    "<div style=\"background: #000;\n",
    "            color: #FFF;\n",
    "            margin: 0px;\n",
    "            padding: 10px 0px 20px 0px;\n",
    "            text-align: center; \n",
    "                \">\n",
    "    <h1 >Week 20 Lab</h1>\n",
    "</div>"
   ]
  },
  {
   "cell_type": "markdown",
   "metadata": {},
   "source": [
    "# Part 1\n",
    "\n",
    "For part one, we're going to be using the following code:\n",
    "\n",
    "(reference week-19 for help with this)"
   ]
  },
  {
   "cell_type": "code",
   "execution_count": 1,
   "metadata": {},
   "outputs": [],
   "source": [
    "# our sql script\n",
    "\n",
    "import sqlite3\n",
    "from contextlib import closing\n",
    "\n",
    "db = '../datasets/week-20-lab.db'\n",
    "\n",
    "def connection(db_name=None):\n",
    "    conn = None\n",
    "    try:\n",
    "        db_name = db_name or ':memory:'\n",
    "        conn = sqlite3.connect(db_name)\n",
    "        return conn\n",
    "    except Exception as e:\n",
    "        print(e)\n",
    "\n",
    "def execute(db, cmd, commit=False):\n",
    "    with closing(connection(db)) as conn:\n",
    "        with closing(conn.cursor()) as cursor:\n",
    "            try:\n",
    "                cur = cursor.execute(cmd).fetchall()\n",
    "                if commit:\n",
    "                    conn.commit()\n",
    "                else:\n",
    "                    return cur\n",
    "            except Exception as e:\n",
    "                print(e)    \n",
    "                \n",
    "def get_tables(db):\n",
    "    rows = execute(db, \"SELECT name from sqlite_master where type='table';\")\n",
    "    return [i[0] for i in rows]\n",
    "\n",
    "def get_cols(db, table):\n",
    "    return execute(db, f\"pragma table_info({table});\")"
   ]
  },
  {
   "cell_type": "markdown",
   "metadata": {},
   "source": [
    "a. Create a table called 'students' with the following columns:\n",
    "* first_name (string)\n",
    "* last_name (string)\n",
    "* course (string)"
   ]
  },
  {
   "cell_type": "code",
   "execution_count": 2,
   "metadata": {},
   "outputs": [
    {
     "data": {
      "text/plain": [
       "[]"
      ]
     },
     "execution_count": 2,
     "metadata": {},
     "output_type": "execute_result"
    }
   ],
   "source": [
    "execute(db, 'DROP TABLE students')"
   ]
  },
  {
   "cell_type": "code",
   "execution_count": 3,
   "metadata": {},
   "outputs": [
    {
     "data": {
      "text/plain": [
       "[]"
      ]
     },
     "execution_count": 3,
     "metadata": {},
     "output_type": "execute_result"
    }
   ],
   "source": [
    "execute(db, 'CREATE TABLE IF NOT EXISTS students (id INTEGER PRIMARY KEY AUTOINCREMENT, first_name text NOT NULL, last_name text NOT NULL, course text)')"
   ]
  },
  {
   "cell_type": "code",
   "execution_count": 4,
   "metadata": {},
   "outputs": [
    {
     "data": {
      "text/plain": [
       "[(0, 'id', 'INTEGER', 0, None, 1),\n",
       " (1, 'first_name', 'text', 1, None, 0),\n",
       " (2, 'last_name', 'text', 1, None, 0),\n",
       " (3, 'course', 'text', 0, None, 0)]"
      ]
     },
     "execution_count": 4,
     "metadata": {},
     "output_type": "execute_result"
    }
   ],
   "source": [
    "get_cols(db, 'students')"
   ]
  },
  {
   "cell_type": "markdown",
   "metadata": {},
   "source": [
    "b. Add 30 students to your table. 15 of them taking the course 'progressive web' and 15 taking 'data science'. "
   ]
  },
  {
   "cell_type": "code",
   "execution_count": 5,
   "metadata": {},
   "outputs": [],
   "source": [
    "names = ['Tim,Forsyth',\n",
    "'Sophie,Churchill',\n",
    "'Heather,Hardacre',\n",
    "'Owen,Jackson',\n",
    "'Lily,Ball',\n",
    "'Ian,Lee',\n",
    "'Max,Ferguson',\n",
    "'Jonathan,Hughes',\n",
    "'Jane,Stewart',\n",
    "'Donna,Churchill',\n",
    "'Virginia,Langdon',\n",
    "'Richard,Cornish',\n",
    "'Pippa,Lewis',\n",
    "'Sue,Davies',\n",
    "'Carolyn,Quinn',\n",
    "'Yvonne,Parr',\n",
    "'Victor,Young',\n",
    "'Sophie,Taylor',\n",
    "'Justin,Ince',\n",
    "'Dan,Rees',\n",
    "'Isaac,Davidson',\n",
    "'Cameron,Howard',\n",
    "'Samantha,Vaughan',\n",
    "'Zoe,Newman',\n",
    "'Claire,Ferguson',\n",
    "'Joanne,McDonald',\n",
    "'Vanessa,Pullman',\n",
    "'Diane,Ferguson',\n",
    "'Molly,Nash',\n",
    "'Andrew,Dowd']\n",
    "course = ['progressive web','data science']"
   ]
  },
  {
   "cell_type": "code",
   "execution_count": 6,
   "metadata": {},
   "outputs": [],
   "source": [
    "student_rows = []\n",
    "\n",
    "for n in range(len(names)):\n",
    "    if n % 2 == 0:\n",
    "        student_rows.append((names[n].split(',')[0],names[n].split(',')[1],course[0]))\n",
    "    else:\n",
    "        student_rows.append((names[n].split(',')[0],names[n].split(',')[1],course[1]))"
   ]
  },
  {
   "cell_type": "code",
   "execution_count": 7,
   "metadata": {},
   "outputs": [],
   "source": [
    "for s in student_rows:\n",
    "    execute(db, 'INSERT INTO students (first_name, last_name, course) VALUES '+str(s)+';', True)"
   ]
  },
  {
   "cell_type": "code",
   "execution_count": 8,
   "metadata": {},
   "outputs": [
    {
     "data": {
      "text/plain": [
       "[(1, 'Tim', 'Forsyth', 'progressive web'),\n",
       " (2, 'Sophie', 'Churchill', 'data science'),\n",
       " (3, 'Heather', 'Hardacre', 'progressive web'),\n",
       " (4, 'Owen', 'Jackson', 'data science'),\n",
       " (5, 'Lily', 'Ball', 'progressive web'),\n",
       " (6, 'Ian', 'Lee', 'data science'),\n",
       " (7, 'Max', 'Ferguson', 'progressive web'),\n",
       " (8, 'Jonathan', 'Hughes', 'data science'),\n",
       " (9, 'Jane', 'Stewart', 'progressive web'),\n",
       " (10, 'Donna', 'Churchill', 'data science'),\n",
       " (11, 'Virginia', 'Langdon', 'progressive web'),\n",
       " (12, 'Richard', 'Cornish', 'data science'),\n",
       " (13, 'Pippa', 'Lewis', 'progressive web'),\n",
       " (14, 'Sue', 'Davies', 'data science'),\n",
       " (15, 'Carolyn', 'Quinn', 'progressive web'),\n",
       " (16, 'Yvonne', 'Parr', 'data science'),\n",
       " (17, 'Victor', 'Young', 'progressive web'),\n",
       " (18, 'Sophie', 'Taylor', 'data science'),\n",
       " (19, 'Justin', 'Ince', 'progressive web'),\n",
       " (20, 'Dan', 'Rees', 'data science'),\n",
       " (21, 'Isaac', 'Davidson', 'progressive web'),\n",
       " (22, 'Cameron', 'Howard', 'data science'),\n",
       " (23, 'Samantha', 'Vaughan', 'progressive web'),\n",
       " (24, 'Zoe', 'Newman', 'data science'),\n",
       " (25, 'Claire', 'Ferguson', 'progressive web'),\n",
       " (26, 'Joanne', 'McDonald', 'data science'),\n",
       " (27, 'Vanessa', 'Pullman', 'progressive web'),\n",
       " (28, 'Diane', 'Ferguson', 'data science'),\n",
       " (29, 'Molly', 'Nash', 'progressive web'),\n",
       " (30, 'Andrew', 'Dowd', 'data science')]"
      ]
     },
     "execution_count": 8,
     "metadata": {},
     "output_type": "execute_result"
    }
   ],
   "source": [
    "execute(db,'SELECT * FROM students')"
   ]
  },
  {
   "cell_type": "markdown",
   "metadata": {},
   "source": [
    "c. One of the students from the data science course got hired! Show the SQL command that will remove this student from the table and then remove them. "
   ]
  },
  {
   "cell_type": "code",
   "execution_count": 9,
   "metadata": {},
   "outputs": [],
   "source": [
    "execute(db, 'DELETE FROM students WHERE id = 30', True)"
   ]
  },
  {
   "cell_type": "markdown",
   "metadata": {},
   "source": [
    "d. Two students named Bill Gates and Elon Musk tested into phase 2 for progressive web. Write the SQL command that will add them to the table and then add them."
   ]
  },
  {
   "cell_type": "code",
   "execution_count": 10,
   "metadata": {},
   "outputs": [],
   "source": [
    "# Bill Gates and Elon Musk tested into phase 2 for progressive web. \n",
    "execute(db, \"INSERT INTO students (first_name, last_name, course) VALUES ('Bill', 'Gates', 'progressive web'), ('Elon', 'Musk', 'progressive web');\", True)"
   ]
  },
  {
   "cell_type": "markdown",
   "metadata": {},
   "source": [
    "e. Elon Musk would like to go by a new name: 'XÆ Dogecoin-12'. Show the SQL command that would change his name and then run it. "
   ]
  },
  {
   "cell_type": "code",
   "execution_count": 11,
   "metadata": {},
   "outputs": [],
   "source": [
    "execute(db, \"UPDATE students SET first_name='XÆ', last_name='Dogecoin-12' WHERE first_name='Elon'\", True)"
   ]
  },
  {
   "cell_type": "markdown",
   "metadata": {},
   "source": [
    "f. Show the command that would allow us to see only the students who are part of the course `data science`."
   ]
  },
  {
   "cell_type": "code",
   "execution_count": 12,
   "metadata": {},
   "outputs": [
    {
     "data": {
      "text/plain": [
       "[(2, 'Sophie', 'Churchill', 'data science'),\n",
       " (4, 'Owen', 'Jackson', 'data science'),\n",
       " (6, 'Ian', 'Lee', 'data science'),\n",
       " (8, 'Jonathan', 'Hughes', 'data science'),\n",
       " (10, 'Donna', 'Churchill', 'data science'),\n",
       " (12, 'Richard', 'Cornish', 'data science'),\n",
       " (14, 'Sue', 'Davies', 'data science'),\n",
       " (16, 'Yvonne', 'Parr', 'data science'),\n",
       " (18, 'Sophie', 'Taylor', 'data science'),\n",
       " (20, 'Dan', 'Rees', 'data science'),\n",
       " (22, 'Cameron', 'Howard', 'data science'),\n",
       " (24, 'Zoe', 'Newman', 'data science'),\n",
       " (26, 'Joanne', 'McDonald', 'data science'),\n",
       " (28, 'Diane', 'Ferguson', 'data science')]"
      ]
     },
     "execution_count": 12,
     "metadata": {},
     "output_type": "execute_result"
    }
   ],
   "source": [
    "execute(db,'SELECT * FROM students WHERE course=\"data science\"')"
   ]
  },
  {
   "cell_type": "markdown",
   "metadata": {},
   "source": [
    "# Part 2\n",
    "\n",
    "The following section uses the `unknown.csv` dataset located in `../datasets/`"
   ]
  },
  {
   "cell_type": "code",
   "execution_count": 13,
   "metadata": {},
   "outputs": [],
   "source": [
    "import pandas as pd\n",
    "import numpy as np\n",
    "import matplotlib.pyplot as plt\n",
    "import seaborn as sns\n",
    "import sklearn as sk\n",
    "\n",
    "%matplotlib inline"
   ]
  },
  {
   "cell_type": "markdown",
   "metadata": {},
   "source": [
    "a. Import and analyze the dataset. Make sure you do the following:\n",
    "\n",
    "* read the csv file in as a `df`."
   ]
  },
  {
   "cell_type": "code",
   "execution_count": 14,
   "metadata": {},
   "outputs": [
    {
     "data": {
      "text/html": [
       "<div>\n",
       "<style scoped>\n",
       "    .dataframe tbody tr th:only-of-type {\n",
       "        vertical-align: middle;\n",
       "    }\n",
       "\n",
       "    .dataframe tbody tr th {\n",
       "        vertical-align: top;\n",
       "    }\n",
       "\n",
       "    .dataframe thead th {\n",
       "        text-align: right;\n",
       "    }\n",
       "</style>\n",
       "<table border=\"1\" class=\"dataframe\">\n",
       "  <thead>\n",
       "    <tr style=\"text-align: right;\">\n",
       "      <th></th>\n",
       "      <th>x</th>\n",
       "      <th>y</th>\n",
       "    </tr>\n",
       "  </thead>\n",
       "  <tbody>\n",
       "    <tr>\n",
       "      <th>0</th>\n",
       "      <td>77</td>\n",
       "      <td>79.775152</td>\n",
       "    </tr>\n",
       "    <tr>\n",
       "      <th>1</th>\n",
       "      <td>21</td>\n",
       "      <td>23.177279</td>\n",
       "    </tr>\n",
       "    <tr>\n",
       "      <th>2</th>\n",
       "      <td>22</td>\n",
       "      <td>25.609262</td>\n",
       "    </tr>\n",
       "    <tr>\n",
       "      <th>3</th>\n",
       "      <td>20</td>\n",
       "      <td>17.857388</td>\n",
       "    </tr>\n",
       "    <tr>\n",
       "      <th>4</th>\n",
       "      <td>36</td>\n",
       "      <td>41.849864</td>\n",
       "    </tr>\n",
       "    <tr>\n",
       "      <th>...</th>\n",
       "      <td>...</td>\n",
       "      <td>...</td>\n",
       "    </tr>\n",
       "    <tr>\n",
       "      <th>295</th>\n",
       "      <td>71</td>\n",
       "      <td>68.545888</td>\n",
       "    </tr>\n",
       "    <tr>\n",
       "      <th>296</th>\n",
       "      <td>46</td>\n",
       "      <td>47.334876</td>\n",
       "    </tr>\n",
       "    <tr>\n",
       "      <th>297</th>\n",
       "      <td>55</td>\n",
       "      <td>54.090637</td>\n",
       "    </tr>\n",
       "    <tr>\n",
       "      <th>298</th>\n",
       "      <td>62</td>\n",
       "      <td>63.297171</td>\n",
       "    </tr>\n",
       "    <tr>\n",
       "      <th>299</th>\n",
       "      <td>47</td>\n",
       "      <td>52.459467</td>\n",
       "    </tr>\n",
       "  </tbody>\n",
       "</table>\n",
       "<p>300 rows × 2 columns</p>\n",
       "</div>"
      ],
      "text/plain": [
       "      x          y\n",
       "0    77  79.775152\n",
       "1    21  23.177279\n",
       "2    22  25.609262\n",
       "3    20  17.857388\n",
       "4    36  41.849864\n",
       "..   ..        ...\n",
       "295  71  68.545888\n",
       "296  46  47.334876\n",
       "297  55  54.090637\n",
       "298  62  63.297171\n",
       "299  47  52.459467\n",
       "\n",
       "[300 rows x 2 columns]"
      ]
     },
     "execution_count": 14,
     "metadata": {},
     "output_type": "execute_result"
    }
   ],
   "source": [
    "df = pd.read_csv('../datasets/unknown.csv')\n",
    "df"
   ]
  },
  {
   "cell_type": "markdown",
   "metadata": {},
   "source": [
    "* output the top of the `df`."
   ]
  },
  {
   "cell_type": "code",
   "execution_count": 15,
   "metadata": {},
   "outputs": [
    {
     "data": {
      "text/html": [
       "<div>\n",
       "<style scoped>\n",
       "    .dataframe tbody tr th:only-of-type {\n",
       "        vertical-align: middle;\n",
       "    }\n",
       "\n",
       "    .dataframe tbody tr th {\n",
       "        vertical-align: top;\n",
       "    }\n",
       "\n",
       "    .dataframe thead th {\n",
       "        text-align: right;\n",
       "    }\n",
       "</style>\n",
       "<table border=\"1\" class=\"dataframe\">\n",
       "  <thead>\n",
       "    <tr style=\"text-align: right;\">\n",
       "      <th></th>\n",
       "      <th>x</th>\n",
       "      <th>y</th>\n",
       "    </tr>\n",
       "  </thead>\n",
       "  <tbody>\n",
       "    <tr>\n",
       "      <th>0</th>\n",
       "      <td>77</td>\n",
       "      <td>79.775152</td>\n",
       "    </tr>\n",
       "    <tr>\n",
       "      <th>1</th>\n",
       "      <td>21</td>\n",
       "      <td>23.177279</td>\n",
       "    </tr>\n",
       "    <tr>\n",
       "      <th>2</th>\n",
       "      <td>22</td>\n",
       "      <td>25.609262</td>\n",
       "    </tr>\n",
       "    <tr>\n",
       "      <th>3</th>\n",
       "      <td>20</td>\n",
       "      <td>17.857388</td>\n",
       "    </tr>\n",
       "    <tr>\n",
       "      <th>4</th>\n",
       "      <td>36</td>\n",
       "      <td>41.849864</td>\n",
       "    </tr>\n",
       "  </tbody>\n",
       "</table>\n",
       "</div>"
      ],
      "text/plain": [
       "    x          y\n",
       "0  77  79.775152\n",
       "1  21  23.177279\n",
       "2  22  25.609262\n",
       "3  20  17.857388\n",
       "4  36  41.849864"
      ]
     },
     "execution_count": 15,
     "metadata": {},
     "output_type": "execute_result"
    }
   ],
   "source": [
    "df.head()"
   ]
  },
  {
   "cell_type": "markdown",
   "metadata": {},
   "source": [
    "* output the columns."
   ]
  },
  {
   "cell_type": "code",
   "execution_count": 16,
   "metadata": {},
   "outputs": [
    {
     "data": {
      "text/plain": [
       "Index(['x', 'y'], dtype='object')"
      ]
     },
     "execution_count": 16,
     "metadata": {},
     "output_type": "execute_result"
    }
   ],
   "source": [
    "df.columns"
   ]
  },
  {
   "cell_type": "markdown",
   "metadata": {},
   "source": [
    "* show the shape of the `df`"
   ]
  },
  {
   "cell_type": "code",
   "execution_count": 17,
   "metadata": {},
   "outputs": [
    {
     "data": {
      "text/plain": [
       "(300, 2)"
      ]
     },
     "execution_count": 17,
     "metadata": {},
     "output_type": "execute_result"
    }
   ],
   "source": [
    "df.shape"
   ]
  },
  {
   "cell_type": "markdown",
   "metadata": {},
   "source": [
    "* show the info."
   ]
  },
  {
   "cell_type": "code",
   "execution_count": 18,
   "metadata": {},
   "outputs": [
    {
     "name": "stdout",
     "output_type": "stream",
     "text": [
      "<class 'pandas.core.frame.DataFrame'>\n",
      "RangeIndex: 300 entries, 0 to 299\n",
      "Data columns (total 2 columns):\n",
      " #   Column  Non-Null Count  Dtype  \n",
      "---  ------  --------------  -----  \n",
      " 0   x       300 non-null    int64  \n",
      " 1   y       300 non-null    float64\n",
      "dtypes: float64(1), int64(1)\n",
      "memory usage: 4.8 KB\n"
     ]
    }
   ],
   "source": [
    "df.info()"
   ]
  },
  {
   "cell_type": "markdown",
   "metadata": {},
   "source": [
    "* check if we're missing any data and handle it."
   ]
  },
  {
   "cell_type": "code",
   "execution_count": 19,
   "metadata": {},
   "outputs": [
    {
     "data": {
      "text/html": [
       "<div>\n",
       "<style scoped>\n",
       "    .dataframe tbody tr th:only-of-type {\n",
       "        vertical-align: middle;\n",
       "    }\n",
       "\n",
       "    .dataframe tbody tr th {\n",
       "        vertical-align: top;\n",
       "    }\n",
       "\n",
       "    .dataframe thead th {\n",
       "        text-align: right;\n",
       "    }\n",
       "</style>\n",
       "<table border=\"1\" class=\"dataframe\">\n",
       "  <thead>\n",
       "    <tr style=\"text-align: right;\">\n",
       "      <th></th>\n",
       "      <th>x</th>\n",
       "      <th>y</th>\n",
       "    </tr>\n",
       "  </thead>\n",
       "  <tbody>\n",
       "    <tr>\n",
       "      <th>0</th>\n",
       "      <td>False</td>\n",
       "      <td>False</td>\n",
       "    </tr>\n",
       "    <tr>\n",
       "      <th>1</th>\n",
       "      <td>False</td>\n",
       "      <td>False</td>\n",
       "    </tr>\n",
       "    <tr>\n",
       "      <th>2</th>\n",
       "      <td>False</td>\n",
       "      <td>False</td>\n",
       "    </tr>\n",
       "    <tr>\n",
       "      <th>3</th>\n",
       "      <td>False</td>\n",
       "      <td>False</td>\n",
       "    </tr>\n",
       "    <tr>\n",
       "      <th>4</th>\n",
       "      <td>False</td>\n",
       "      <td>False</td>\n",
       "    </tr>\n",
       "    <tr>\n",
       "      <th>...</th>\n",
       "      <td>...</td>\n",
       "      <td>...</td>\n",
       "    </tr>\n",
       "    <tr>\n",
       "      <th>295</th>\n",
       "      <td>False</td>\n",
       "      <td>False</td>\n",
       "    </tr>\n",
       "    <tr>\n",
       "      <th>296</th>\n",
       "      <td>False</td>\n",
       "      <td>False</td>\n",
       "    </tr>\n",
       "    <tr>\n",
       "      <th>297</th>\n",
       "      <td>False</td>\n",
       "      <td>False</td>\n",
       "    </tr>\n",
       "    <tr>\n",
       "      <th>298</th>\n",
       "      <td>False</td>\n",
       "      <td>False</td>\n",
       "    </tr>\n",
       "    <tr>\n",
       "      <th>299</th>\n",
       "      <td>False</td>\n",
       "      <td>False</td>\n",
       "    </tr>\n",
       "  </tbody>\n",
       "</table>\n",
       "<p>300 rows × 2 columns</p>\n",
       "</div>"
      ],
      "text/plain": [
       "         x      y\n",
       "0    False  False\n",
       "1    False  False\n",
       "2    False  False\n",
       "3    False  False\n",
       "4    False  False\n",
       "..     ...    ...\n",
       "295  False  False\n",
       "296  False  False\n",
       "297  False  False\n",
       "298  False  False\n",
       "299  False  False\n",
       "\n",
       "[300 rows x 2 columns]"
      ]
     },
     "execution_count": 19,
     "metadata": {},
     "output_type": "execute_result"
    }
   ],
   "source": [
    "df.isna().fillna(0)"
   ]
  },
  {
   "cell_type": "markdown",
   "metadata": {},
   "source": [
    "* chart the data so we can visualize any relationships"
   ]
  },
  {
   "cell_type": "code",
   "execution_count": 20,
   "metadata": {},
   "outputs": [
    {
     "data": {
      "text/plain": [
       "<AxesSubplot:xlabel='x'>"
      ]
     },
     "execution_count": 20,
     "metadata": {},
     "output_type": "execute_result"
    },
    {
     "data": {
      "text/plain": [
       "<Figure size 432x288 with 0 Axes>"
      ]
     },
     "metadata": {},
     "output_type": "display_data"
    },
    {
     "data": {
      "image/png": "[encoded data removed]",
      "text/plain": [
       "<Figure size 432x288 with 1 Axes>"
      ]
     },
     "metadata": {
      "needs_background": "light"
     },
     "output_type": "display_data"
    }
   ],
   "source": [
    "plt.figure()\n",
    "# df.plot()\n",
    "df.plot(x=\"x\", y=\"y\")"
   ]
  },
  {
   "cell_type": "markdown",
   "metadata": {},
   "source": [
    "* show the covariance and correlation matrixes (including heatmap if you'd like)."
   ]
  },
  {
   "cell_type": "code",
   "execution_count": 21,
   "metadata": {},
   "outputs": [
    {
     "name": "stdout",
     "output_type": "stream",
     "text": [
      "257\n",
      "43\n"
     ]
    }
   ],
   "source": [
    "msk = np.random.rand(len(df)) < 0.8\n",
    "train_df = df[msk]\n",
    "test_df = df[~msk]\n",
    "\n",
    "print(len(train_df))\n",
    "print(len(test_df))\n",
    "\n",
    "x = train_df['x'].values\n",
    "y = train_df['y'].values"
   ]
  },
  {
   "cell_type": "code",
   "execution_count": 22,
   "metadata": {},
   "outputs": [],
   "source": [
    "def mean(values):\n",
    "    return np.mean(values)"
   ]
  },
  {
   "cell_type": "code",
   "execution_count": 23,
   "metadata": {},
   "outputs": [
    {
     "name": "stdout",
     "output_type": "stream",
     "text": [
      "50.19455252918288 50.397445257249025\n"
     ]
    }
   ],
   "source": [
    "mean_X, mean_Y = mean(x), mean(y)\n",
    "print(mean_X, mean_Y)"
   ]
  },
  {
   "cell_type": "code",
   "execution_count": 24,
   "metadata": {},
   "outputs": [],
   "source": [
    "# covariance and correlation matrixes"
   ]
  },
  {
   "cell_type": "code",
   "execution_count": 25,
   "metadata": {},
   "outputs": [],
   "source": [
    "def covariance(x, mean_x, y, mean_y):\n",
    "    covar = 0.0\n",
    "    for i in range(len(x)):\n",
    "        covar += (x[i] - mean_x)*(y[i] - mean_y)\n",
    "    return covar"
   ]
  },
  {
   "cell_type": "code",
   "execution_count": 26,
   "metadata": {},
   "outputs": [
    {
     "data": {
      "text/plain": [
       "210412.86653265965"
      ]
     },
     "execution_count": 26,
     "metadata": {},
     "output_type": "execute_result"
    }
   ],
   "source": [
    "covariance(x, mean_X, y, mean_Y)"
   ]
  },
  {
   "cell_type": "code",
   "execution_count": 27,
   "metadata": {},
   "outputs": [
    {
     "data": {
      "text/plain": [
       "<AxesSubplot:>"
      ]
     },
     "execution_count": 27,
     "metadata": {},
     "output_type": "execute_result"
    },
    {
     "data": {
      "image/png": "[encoded data removed]",
      "text/plain": [
       "<Figure size 432x288 with 2 Axes>"
      ]
     },
     "metadata": {
      "needs_background": "light"
     },
     "output_type": "display_data"
    }
   ],
   "source": [
    "# heatmap\n",
    "sns.heatmap(df.corr())"
   ]
  },
  {
   "cell_type": "markdown",
   "metadata": {},
   "source": [
    "b. Train a linear regression model using week-20-class-2 as reference. We'd like to predict column `y`.\n",
    "\n",
    "Make sure to do the following:\n",
    "* Separate values into `X` and `Y` variables."
   ]
  },
  {
   "cell_type": "code",
   "execution_count": 28,
   "metadata": {},
   "outputs": [],
   "source": [
    "x = df['x']\n",
    "y = df['y']"
   ]
  },
  {
   "cell_type": "markdown",
   "metadata": {},
   "source": [
    "* Generate training and test data for `X` and `Y` using `train_test_split` (with a test size of 20%)"
   ]
  },
  {
   "cell_type": "code",
   "execution_count": 29,
   "metadata": {},
   "outputs": [],
   "source": [
    "from sklearn.model_selection import train_test_split\n",
    "x_train, x_test, y_train, y_test = train_test_split(x,y,test_size=0.2)"
   ]
  },
  {
   "cell_type": "code",
   "execution_count": 30,
   "metadata": {
    "collapsed": true,
    "jupyter": {
     "outputs_hidden": true
    }
   },
   "outputs": [
    {
     "data": {
      "text/plain": [
       "array([[ 14.82248589],\n",
       "       [ 52.05490703],\n",
       "       [ 68.16724757],\n",
       "       [ 12.11219941],\n",
       "       [ 96.58888601],\n",
       "       [ 96.11982476],\n",
       "       [ 95.14907176],\n",
       "       [ 58.61466887],\n",
       "       [ 47.49374765],\n",
       "       [ 89.899991  ],\n",
       "       [ 10.34754461],\n",
       "       [ 95.58017185],\n",
       "       [ 91.69240746],\n",
       "       [ 54.08170635],\n",
       "       [ 26.59112396],\n",
       "       [ 68.11367147],\n",
       "       [ 10.80462727],\n",
       "       [ 12.07991648],\n",
       "       [ 11.89457829],\n",
       "       [ 17.76197116],\n",
       "       [ 19.1315097 ],\n",
       "       [ 41.46923883],\n",
       "       [ 55.37049953],\n",
       "       [ 36.11334779],\n",
       "       [ 78.79008525],\n",
       "       [ 39.31485292],\n",
       "       [ 50.17008622],\n",
       "       [ 46.69013968],\n",
       "       [ 34.58876491],\n",
       "       [ 92.88772282],\n",
       "       [ 97.13832018],\n",
       "       [ 27.42497237],\n",
       "       [  0.67607675],\n",
       "       [ 33.37834391],\n",
       "       [ 95.3958003 ],\n",
       "       [ 15.49301141],\n",
       "       [ 46.91387709],\n",
       "       [  7.64652976],\n",
       "       [ 95.79747345],\n",
       "       [  5.40522052],\n",
       "       [ 60.91792707],\n",
       "       [ 37.08457698],\n",
       "       [ 13.12109842],\n",
       "       [ 61.09367762],\n",
       "       [ 72.86282528],\n",
       "       [ 37.80182795],\n",
       "       [  6.07939007],\n",
       "       [ 92.11906278],\n",
       "       [ 13.25690647],\n",
       "       [ 88.54475895],\n",
       "       [ 91.36566374],\n",
       "       [ -2.34473854],\n",
       "       [ 17.09537241],\n",
       "       [ 54.09063686],\n",
       "       [ 41.90368917],\n",
       "       [ 19.38780134],\n",
       "       [ 63.80768172],\n",
       "       [ 53.32005764],\n",
       "       [ 17.0761107 ],\n",
       "       [ 62.22635684],\n",
       "       [ 25.60926156],\n",
       "       [ 48.09843134],\n",
       "       [ 17.44047622],\n",
       "       [  5.60766487],\n",
       "       [ 79.77515201],\n",
       "       [ 16.68715211],\n",
       "       [ 30.49412933],\n",
       "       [ 75.59701346],\n",
       "       [ 24.18437976],\n",
       "       [ 56.82457013],\n",
       "       [ 91.59548851],\n",
       "       [ 87.45721555],\n",
       "       [ 97.41206981],\n",
       "       [ 56.01448111],\n",
       "       [ 25.75612514],\n",
       "       [ 81.40381769],\n",
       "       [ -1.63296825],\n",
       "       [ 97.61793701],\n",
       "       [ 73.9308764 ],\n",
       "       [ 69.46306072],\n",
       "       [ 63.29717058],\n",
       "       [ 34.12473248],\n",
       "       [ 98.03017721],\n",
       "       [ 59.61247085],\n",
       "       [ 14.86159401],\n",
       "       [ 14.05572877],\n",
       "       [ 90.65513736],\n",
       "       [  9.3914168 ],\n",
       "       [ 46.11021062],\n",
       "       [ 79.50341495],\n",
       "       [  9.74416426],\n",
       "       [ 59.8313966 ],\n",
       "       [ 91.30863673],\n",
       "       [ 97.27405461],\n",
       "       [ 57.19103506],\n",
       "       [ 74.4993599 ],\n",
       "       [ 13.41310757],\n",
       "       [ 40.00709598],\n",
       "       [ 60.07137496],\n",
       "       [ 69.39858505],\n",
       "       [ 47.41006725],\n",
       "       [ 78.39683006],\n",
       "       [ 10.41468095],\n",
       "       [ 24.3884599 ],\n",
       "       [  0.27530726],\n",
       "       [ 26.49487961],\n",
       "       [ 65.01324035],\n",
       "       [ 59.12912974],\n",
       "       [ 53.62235225],\n",
       "       [105.5918375 ],\n",
       "       [ 80.97144285],\n",
       "       [ 75.7584178 ],\n",
       "       [ 38.05766408],\n",
       "       [ 69.45498498],\n",
       "       [ -2.7611826 ],\n",
       "       [ 60.20758349],\n",
       "       [  8.74674765],\n",
       "       [ 87.36938931],\n",
       "       [ 28.15668543],\n",
       "       [ -2.81991397],\n",
       "       [ 41.97607107],\n",
       "       [ 97.00148372],\n",
       "       [ 75.07484683],\n",
       "       [ 52.28620611],\n",
       "       [ 77.22982636],\n",
       "       [103.5266162 ],\n",
       "       [ 23.17727887],\n",
       "       [ 78.61042432],\n",
       "       [ 56.43046022],\n",
       "       [ 41.04525583],\n",
       "       [ 95.12400481],\n",
       "       [ 99.87382707],\n",
       "       [ 30.41303282],\n",
       "       [ 75.69298554],\n",
       "       [  8.65571417],\n",
       "       [ 89.82634442],\n",
       "       [ 67.01715955],\n",
       "       [ 79.44769523],\n",
       "       [ 50.96155532],\n",
       "       [ 16.63507984],\n",
       "       [ 52.45103628],\n",
       "       [ 18.98322306],\n",
       "       [ 97.70342201],\n",
       "       [ 55.7383467 ],\n",
       "       [ 25.69041546],\n",
       "       [ 70.9146434 ],\n",
       "       [ 82.870594  ],\n",
       "       [ 50.96343637],\n",
       "       [ 59.07247174],\n",
       "       [ 53.11628433],\n",
       "       [ 51.80035866],\n",
       "       [ 95.06140858],\n",
       "       [ 61.38800663],\n",
       "       [ 48.35172635],\n",
       "       [ 47.33487629],\n",
       "       [ 21.42637785],\n",
       "       [ 52.45946688],\n",
       "       [ 79.3142548 ],\n",
       "       [ 41.84986439],\n",
       "       [ 38.68888682],\n",
       "       [ 61.74063192],\n",
       "       [ 60.11134958],\n",
       "       [ 18.31396758],\n",
       "       [ 59.10598995],\n",
       "       [ 49.88226593],\n",
       "       [  9.28169975],\n",
       "       [ 36.94173178],\n",
       "       [ 38.67780759],\n",
       "       [ 51.83503872],\n",
       "       [ 36.79224762],\n",
       "       [ 18.39512747],\n",
       "       [ 59.70864577],\n",
       "       [ 94.79081712],\n",
       "       [  7.46850184],\n",
       "       [ 19.87846479],\n",
       "       [ 74.45114379],\n",
       "       [ 90.71481654],\n",
       "       [ 12.59244741],\n",
       "       [101.0697879 ],\n",
       "       [ 78.04237454],\n",
       "       [ 74.68953276],\n",
       "       [ 21.32273728],\n",
       "       [ 70.3698748 ],\n",
       "       [ 48.67252645],\n",
       "       [ 51.57326718],\n",
       "       [ 36.34644189],\n",
       "       [ 63.19354354],\n",
       "       [ 36.06292994],\n",
       "       [ 40.03504862],\n",
       "       [ 24.68362712],\n",
       "       [ 26.48713683],\n",
       "       [ 46.56141773],\n",
       "       [ 31.43524822],\n",
       "       [  5.6340309 ],\n",
       "       [ 39.3294153 ],\n",
       "       [ -3.46788379],\n",
       "       [ 45.44599591],\n",
       "       [ 68.19721905],\n",
       "       [ 68.94699774],\n",
       "       [ 53.52042319],\n",
       "       [ 64.37521087],\n",
       "       [ 34.31141446],\n",
       "       [ 49.83051801],\n",
       "       [ 51.69967172],\n",
       "       [ 83.68820499],\n",
       "       [ 13.83959878],\n",
       "       [105.4503788 ],\n",
       "       [ 67.22008001],\n",
       "       [ 23.52647153],\n",
       "       [  5.3136862 ],\n",
       "       [ 11.21710477],\n",
       "       [ 84.06676818],\n",
       "       [ 92.40217686],\n",
       "       [ 21.71380347],\n",
       "       [ 57.01631363],\n",
       "       [ 97.55155344],\n",
       "       [ 63.28312382],\n",
       "       [ 18.84798163],\n",
       "       [ 59.225745  ],\n",
       "       [ 42.84526108],\n",
       "       [ 67.2352155 ],\n",
       "       [  8.67333636],\n",
       "       [ 78.31056542],\n",
       "       [ 55.81628509],\n",
       "       [ 14.99514319],\n",
       "       [ 99.43577876],\n",
       "       [ -1.04011421],\n",
       "       [ 67.28725332],\n",
       "       [ 87.84749912],\n",
       "       [ 54.55446979],\n",
       "       [ 33.38474138],\n",
       "       [ 35.12724777],\n",
       "       [ 66.95806869],\n",
       "       [ 21.16523945],\n",
       "       [ 38.14753871],\n",
       "       [ 56.14834113],\n",
       "       [ 62.82816355],\n",
       "       [ 17.85738813],\n",
       "       [  9.24113898],\n",
       "       [ 52.01932286]])"
      ]
     },
     "execution_count": 30,
     "metadata": {},
     "output_type": "execute_result"
    }
   ],
   "source": [
    "y_train.values.reshape(-1,1)"
   ]
  },
  {
   "cell_type": "markdown",
   "metadata": {},
   "source": [
    "* Create an instance of the `LinearRegression` class and run the regression."
   ]
  },
  {
   "cell_type": "code",
   "execution_count": 31,
   "metadata": {},
   "outputs": [
    {
     "name": "stdout",
     "output_type": "stream",
     "text": [
      "[-0.35598099]\n"
     ]
    }
   ],
   "source": [
    "from sklearn.linear_model import LinearRegression\n",
    "\n",
    "reg = LinearRegression()\n",
    "reg.fit(x_train.values.reshape(-1,1), y_train.values.reshape(-1,1))\n",
    "print(reg.intercept_)"
   ]
  },
  {
   "cell_type": "code",
   "execution_count": 32,
   "metadata": {},
   "outputs": [
    {
     "data": {
      "text/plain": [
       "<seaborn.axisgrid.PairGrid at 0x2daffed0b20>"
      ]
     },
     "execution_count": 32,
     "metadata": {},
     "output_type": "execute_result"
    },
    {
     "data": {
      "image/png": "[encoded data removed]",
      "text/plain": [
       "<Figure size 360x360 with 6 Axes>"
      ]
     },
     "metadata": {
      "needs_background": "light"
     },
     "output_type": "display_data"
    }
   ],
   "source": [
    "sns.pairplot(df)"
   ]
  },
  {
   "cell_type": "markdown",
   "metadata": {},
   "source": [
    "* Output the score of the regression."
   ]
  },
  {
   "cell_type": "code",
   "execution_count": 33,
   "metadata": {},
   "outputs": [
    {
     "name": "stdout",
     "output_type": "stream",
     "text": [
      "          x         y\n",
      "x  1.000000  0.994545\n",
      "y  0.994545  1.000000\n"
     ]
    }
   ],
   "source": [
    "print(df.corr())"
   ]
  },
  {
   "cell_type": "code",
   "execution_count": 34,
   "metadata": {},
   "outputs": [
    {
     "name": "stdout",
     "output_type": "stream",
     "text": [
      "[[1.0134227]]\n"
     ]
    }
   ],
   "source": [
    "print(reg.coef_)"
   ]
  },
  {
   "cell_type": "markdown",
   "metadata": {},
   "source": [
    "* Chart the data."
   ]
  },
  {
   "cell_type": "code",
   "execution_count": 35,
   "metadata": {},
   "outputs": [
    {
     "data": {
      "text/plain": [
       "<AxesSubplot:xlabel='x', ylabel='y'>"
      ]
     },
     "execution_count": 35,
     "metadata": {},
     "output_type": "execute_result"
    },
    {
     "data": {
      "image/png": "[encoded data removed]",
      "text/plain": [
       "<Figure size 432x288 with 1 Axes>"
      ]
     },
     "metadata": {
      "needs_background": "light"
     },
     "output_type": "display_data"
    }
   ],
   "source": [
    "sns.regplot(x='x', y='y', data=df, fit_reg=True, scatter_kws={\"color\": \"black\"}, line_kws={\"color\": \"red\"})"
   ]
  },
  {
   "cell_type": "markdown",
   "metadata": {},
   "source": [
    "* Bonus: what was the y-intercept and slope? Use the documentation to find this information out."
   ]
  },
  {
   "cell_type": "code",
   "execution_count": 36,
   "metadata": {
    "collapsed": true,
    "jupyter": {
     "outputs_hidden": true
    }
   },
   "outputs": [
    {
     "data": {
      "text/plain": [
       "array([[ 1.46654627e+01],\n",
       "       [ 5.23976436e+01],\n",
       "       [ 6.87262553e+01],\n",
       "       [ 1.19187969e+01],\n",
       "       [ 9.75293890e+01],\n",
       "       [ 9.70540317e+01],\n",
       "       [ 9.60702485e+01],\n",
       "       [ 5.90454552e+01],\n",
       "       [ 4.77752611e+01],\n",
       "       [ 9.07507109e+01],\n",
       "       [ 1.01304556e+01],\n",
       "       [ 9.65071351e+01],\n",
       "       [ 9.25671864e+01],\n",
       "       [ 5.44516481e+01],\n",
       "       [ 2.65920677e+01],\n",
       "       [ 6.86719601e+01],\n",
       "       [ 1.05936736e+01],\n",
       "       [ 1.18860806e+01],\n",
       "       [ 1.16982547e+01],\n",
       "       [ 1.76444038e+01],\n",
       "       [ 1.90323253e+01],\n",
       "       [ 4.16698871e+01],\n",
       "       [ 5.57577403e+01],\n",
       "       [ 3.62421055e+01],\n",
       "       [ 7.94916802e+01],\n",
       "       [ 3.94865835e+01],\n",
       "       [ 5.04875234e+01],\n",
       "       [ 4.69608666e+01],\n",
       "       [ 3.46970586e+01],\n",
       "       [ 9.37785462e+01],\n",
       "       [ 9.80861980e+01],\n",
       "       [ 2.74371086e+01],\n",
       "       [ 3.29170533e-01],\n",
       "       [ 3.34703905e+01],\n",
       "       [ 9.63202888e+01],\n",
       "       [ 1.53449885e+01],\n",
       "       [ 4.71876071e+01],\n",
       "       [ 7.39318587e+00],\n",
       "       [ 9.67273535e+01],\n",
       "       [ 5.12179220e+00],\n",
       "       [ 6.13796293e+01],\n",
       "       [ 3.72263713e+01],\n",
       "       [ 1.29412380e+01],\n",
       "       [ 6.15577389e+01],\n",
       "       [ 7.34848604e+01],\n",
       "       [ 3.79532497e+01],\n",
       "       [ 5.80501093e+00],\n",
       "       [ 9.29995686e+01],\n",
       "       [ 1.30788690e+01],\n",
       "       [ 8.93772880e+01],\n",
       "       [ 9.22360569e+01],\n",
       "       [-2.73219227e+00],\n",
       "       [ 1.69688575e+01],\n",
       "       [ 5.44606984e+01],\n",
       "       [ 4.21101690e+01],\n",
       "       [ 1.92920571e+01],\n",
       "       [ 6.43081723e+01],\n",
       "       [ 5.36797760e+01],\n",
       "       [ 1.69493373e+01],\n",
       "       [ 6.27056218e+01],\n",
       "       [ 2.55970261e+01],\n",
       "       [ 4.83880613e+01],\n",
       "       [ 1.73185936e+01],\n",
       "       [ 5.32695389e+00],\n",
       "       [ 8.04899692e+01],\n",
       "       [ 1.65551578e+01],\n",
       "       [ 3.05474620e+01],\n",
       "       [ 7.62557487e+01],\n",
       "       [ 2.41530185e+01],\n",
       "       [ 5.72313285e+01],\n",
       "       [ 9.24689666e+01],\n",
       "       [ 8.82751468e+01],\n",
       "       [ 9.83636221e+01],\n",
       "       [ 5.64103659e+01],\n",
       "       [ 2.57458610e+01],\n",
       "       [ 8.21404960e+01],\n",
       "       [-2.01086809e+00],\n",
       "       [ 9.85722526e+01],\n",
       "       [ 7.45672476e+01],\n",
       "       [ 7.00394618e+01],\n",
       "       [ 6.37908087e+01],\n",
       "       [ 3.42267976e+01],\n",
       "       [ 9.89900262e+01],\n",
       "       [ 6.00566504e+01],\n",
       "       [ 1.47050958e+01],\n",
       "       [ 1.38884137e+01],\n",
       "       [ 9.15159934e+01],\n",
       "       [ 9.16149401e+00],\n",
       "       [ 4.63731533e+01],\n",
       "       [ 8.02145847e+01],\n",
       "       [ 9.51897629e+00],\n",
       "       [ 6.02785147e+01],\n",
       "       [ 9.21782645e+01],\n",
       "       [ 9.82237544e+01],\n",
       "       [ 5.76027124e+01],\n",
       "       [ 7.51433617e+01],\n",
       "       [ 1.32371667e+01],\n",
       "       [ 4.01881184e+01],\n",
       "       [ 6.05217142e+01],\n",
       "       [ 6.99741207e+01],\n",
       "       [ 4.76904575e+01],\n",
       "       [ 7.90931465e+01],\n",
       "       [ 1.01984931e+01],\n",
       "       [ 2.43598380e+01],\n",
       "       [-7.69783649e-02],\n",
       "       [ 2.64945315e+01],\n",
       "       [ 6.55299128e+01],\n",
       "       [ 5.95668215e+01],\n",
       "       [ 5.39861282e+01],\n",
       "       [ 1.06653184e+02],\n",
       "       [ 8.17023175e+01],\n",
       "       [ 7.64193196e+01],\n",
       "       [ 3.82125198e+01],\n",
       "       [ 7.00312776e+01],\n",
       "       [-3.15422612e+00],\n",
       "       [ 6.06597510e+01],\n",
       "       [ 8.50817166e+00],\n",
       "       [ 8.81861417e+01],\n",
       "       [ 2.81786433e+01],\n",
       "       [-3.21374584e+00],\n",
       "       [ 4.21835224e+01],\n",
       "       [ 9.79475249e+01],\n",
       "       [ 7.57265732e+01],\n",
       "       [ 5.26320473e+01],\n",
       "       [ 7.79104784e+01],\n",
       "       [ 1.04560242e+02],\n",
       "       [ 2.31323996e+01],\n",
       "       [ 7.93096077e+01],\n",
       "       [ 5.68319286e+01],\n",
       "       [ 4.12402131e+01],\n",
       "       [ 9.60448451e+01],\n",
       "       [ 1.00858423e+02],\n",
       "       [ 3.04652769e+01],\n",
       "       [ 7.63530090e+01],\n",
       "       [ 8.41591626e+00],\n",
       "       [ 9.06760758e+01],\n",
       "       [ 6.75607300e+01],\n",
       "       [ 8.01581171e+01],\n",
       "       [ 5.12896162e+01],\n",
       "       [ 1.65023866e+01],\n",
       "       [ 5.27990900e+01],\n",
       "       [ 1.88820482e+01],\n",
       "       [ 9.86588851e+01],\n",
       "       [ 5.61305250e+01],\n",
       "       [ 2.56792693e+01],\n",
       "       [ 7.15105286e+01],\n",
       "       [ 8.36269604e+01],\n",
       "       [ 5.12915225e+01],\n",
       "       [ 5.95094030e+01],\n",
       "       [ 5.34732675e+01],\n",
       "       [ 5.21396785e+01],\n",
       "       [ 9.59814087e+01],\n",
       "       [ 6.18560186e+01],\n",
       "       [ 4.86447562e+01],\n",
       "       [ 4.76142573e+01],\n",
       "       [ 2.13579968e+01],\n",
       "       [ 5.28076337e+01],\n",
       "       [ 8.00228855e+01],\n",
       "       [ 4.20556217e+01],\n",
       "       [ 3.88522153e+01],\n",
       "       [ 6.22133771e+01],\n",
       "       [ 6.05622254e+01],\n",
       "       [ 1.82038095e+01],\n",
       "       [ 5.95433711e+01],\n",
       "       [ 5.01958398e+01],\n",
       "       [ 9.05030426e+00],\n",
       "       [ 3.70816087e+01],\n",
       "       [ 3.88409873e+01],\n",
       "       [ 5.21748241e+01],\n",
       "       [ 3.69301181e+01],\n",
       "       [ 1.82860588e+01],\n",
       "       [ 6.01541162e+01],\n",
       "       [ 9.57071851e+01],\n",
       "       [ 7.21276833e+00],\n",
       "       [ 1.97893065e+01],\n",
       "       [ 7.50944984e+01],\n",
       "       [ 9.15764736e+01],\n",
       "       [ 1.24054911e+01],\n",
       "       [ 1.02070437e+02],\n",
       "       [ 7.87339332e+01],\n",
       "       [ 7.53360872e+01],\n",
       "       [ 2.12529651e+01],\n",
       "       [ 7.09584478e+01],\n",
       "       [ 4.89698623e+01],\n",
       "       [ 5.19095389e+01],\n",
       "       [ 3.64783284e+01],\n",
       "       [ 6.36857907e+01],\n",
       "       [ 3.61910110e+01],\n",
       "       [ 4.02164462e+01],\n",
       "       [ 2.46589671e+01],\n",
       "       [ 2.64866848e+01],\n",
       "       [ 4.68304168e+01],\n",
       "       [ 3.15012132e+01],\n",
       "       [ 5.35367383e+00],\n",
       "       [ 3.95013414e+01],\n",
       "       [-3.87041316e+00],\n",
       "       [ 4.57000230e+01],\n",
       "       [ 6.87566291e+01],\n",
       "       [ 6.95164718e+01],\n",
       "       [ 5.38828310e+01],\n",
       "       [ 6.48833192e+01],\n",
       "       [ 3.44159854e+01],\n",
       "       [ 5.01433973e+01],\n",
       "       [ 5.20376401e+01],\n",
       "       [ 8.44555459e+01],\n",
       "       [ 1.36693826e+01],\n",
       "       [ 1.06509827e+02],\n",
       "       [ 6.77663742e+01],\n",
       "       [ 2.34862794e+01],\n",
       "       [ 5.02902924e+00],\n",
       "       [ 1.10116876e+01],\n",
       "       [ 8.48391905e+01],\n",
       "       [ 9.32864829e+01],\n",
       "       [ 2.16492804e+01],\n",
       "       [ 5.74256457e+01],\n",
       "       [ 9.85049780e+01],\n",
       "       [ 6.37765734e+01],\n",
       "       [ 1.87449915e+01],\n",
       "       [ 5.96647336e+01],\n",
       "       [ 4.30643793e+01],\n",
       "       [ 6.77817129e+01],\n",
       "       [ 8.43377498e+00],\n",
       "       [ 7.90057239e+01],\n",
       "       [ 5.62095095e+01],\n",
       "       [ 1.48404376e+01],\n",
       "       [ 1.00414495e+02],\n",
       "       [-1.41005635e+00],\n",
       "       [ 6.78344492e+01],\n",
       "       [ 8.86706690e+01],\n",
       "       [ 5.49307573e+01],\n",
       "       [ 3.34768739e+01],\n",
       "       [ 3.52427694e+01],\n",
       "       [ 6.75008460e+01],\n",
       "       [ 2.10933532e+01],\n",
       "       [ 3.83036008e+01],\n",
       "       [ 5.65460227e+01],\n",
       "       [ 6.33155064e+01],\n",
       "       [ 1.77411016e+01],\n",
       "       [ 9.00919905e+00],\n",
       "       [ 5.23615818e+01]])"
      ]
     },
     "execution_count": 36,
     "metadata": {},
     "output_type": "execute_result"
    }
   ],
   "source": [
    "y_intercept = reg.predict(y_train.values.reshape(-1,1))\n",
    "y_intercept"
   ]
  },
  {
   "cell_type": "markdown",
   "metadata": {},
   "source": [
    "# Part 3\n",
    "\n",
    "Using a dataset of your choosing (try kaggle if stuck). Set up and run a linear regression on the data using the steps from Part 2. Don't worry if your results are inconclusive (it happens). Demonstrate that you're able to do it."
   ]
  },
  {
   "cell_type": "code",
   "execution_count": null,
   "metadata": {},
   "outputs": [],
   "source": []
  }
 ],
 "metadata": {
  "kernelspec": {
   "display_name": "Python 3",
   "language": "python",
   "name": "python3"
  },
  "language_info": {
   "codemirror_mode": {
    "name": "ipython",
    "version": 3
   },
   "file_extension": ".py",
   "mimetype": "text/x-python",
   "name": "python",
   "nbconvert_exporter": "python",
   "pygments_lexer": "ipython3",
   "version": "3.9.0"
  }
 },
 "nbformat": 4,
 "nbformat_minor": 5
}
