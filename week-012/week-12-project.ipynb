{
 "cells": [
  {
   "cell_type": "markdown",
   "metadata": {},
   "source": [
    "# Week 12 Project\n",
    "Due Sunday, December 6th.\n"
   ]
  },
  {
   "cell_type": "markdown",
   "metadata": {},
   "source": [
    "Building off of our last project, creating the table/model for your db and import your scraped data into the database using instances of the model class you create. \n",
    "\n",
    "Submit your git repo (with the new changes to your code by adding/committing them using git). No need to include the *.db file."
   ]
  },
  {
   "cell_type": "raw",
   "metadata": {},
   "source": [
    "herokuapp: https://python-web-scrapping.herokuapp.com/\n",
    "github: https://github.com/berryny/-I2020_/tree/master/project-folder"
   ]
  }
 ],
 "metadata": {
  "kernelspec": {
   "display_name": "Python 3",
   "language": "python",
   "name": "python3"
  },
  "language_info": {
   "codemirror_mode": {
    "name": "ipython",
    "version": 3
   },
   "file_extension": ".py",
   "mimetype": "text/x-python",
   "name": "python",
   "nbconvert_exporter": "python",
   "pygments_lexer": "ipython3",
   "version": "3.8.3"
  }
 },
 "nbformat": 4,
 "nbformat_minor": 4
}
