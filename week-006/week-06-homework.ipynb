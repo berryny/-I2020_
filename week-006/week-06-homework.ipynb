{
 "cells": [
  {
   "cell_type": "markdown",
   "metadata": {},
   "source": [
    "<div style=\"background: #000;\n",
    "            color: #FFF;\n",
    "            margin: 0px;\n",
    "                padding: 10px 0px 20px 0px;\n",
    "            text-align: center; \n",
    "                \">\n",
    "    <h1>Week 6 - Homework</h1>\n",
    "</div>\n",
    "\n",
    "<pre style=\"text-align:center;\">\n",
    "Exercise 1 is due Monday 10/26\n",
    "Exercise 2 is due Tuesday 10/27\n",
    "Exercise 3 is due Wednesday 10/28\n",
    "</pre>"
   ]
  },
  {
   "cell_type": "markdown",
   "metadata": {},
   "source": [
    "# Exercise 1\n",
    "\n",
    "Create a class called `Course` and a class called `Student` based on what you think they will need. Create a way to store 20 \"students\" (instances of the `Student` class into an instance\n",
    "of `Course` to represent our Data Science course. \n",
    "\n",
    "Demonstrate that your code works. Message on slack if stuck or need clarification."
   ]
  },
  {
   "cell_type": "code",
   "execution_count": 21,
   "metadata": {},
   "outputs": [
    {
     "name": "stdout",
     "output_type": "stream",
     "text": [
      "Data Science Enrollment\n",
      "[Student Roster: ['Adam', 'Scott', 'Michael', 'Andrew', 'Mark', 'Fernando', 'Faith', 'Steve', 'Lee', 'Amani', 'Liv', 'Nick A', 'James', 'Jake', 'Brett', 'Graham', 'Fraser', 'Jacob', 'Chelsea', 'Phil', 'George', 'Charley', 'Emma', 'Steph']]\n",
      "student_to_course ('Adam', 'Scott', 'Michael', 'Andrew', 'Mark', 'Fernando', 'Faith', 'Steve', 'Lee', 'Amani', 'Liv', 'Nick A', 'James', 'Jake', 'Brett', 'Graham', 'Fraser', 'Jacob', 'Chelsea', 'Phil', 'George', 'Charley', 'Emma', 'Steph')\n",
      "None\n"
     ]
    }
   ],
   "source": [
    "class Student:\n",
    "    \"\"\"Data Science Enrollment\"\"\"\n",
    "    def __init__(self, roster):\n",
    "        self.student = roster\n",
    "    \n",
    "    def __repr__(self):\n",
    "        return f\"Student Roster: {self.student}\"\n",
    "    \n",
    "    def __str__(self):\n",
    "        return f\"<Students in courses:  {self.student}\"\n",
    "\n",
    "class Course:\n",
    "    def __init__(self, *names):\n",
    "        self.student_roster = list(names)\n",
    "        \n",
    "    def add_student(self,*student_to_course):\n",
    "#         print('student_to_course',student_to_course)\n",
    "        if isinstance(student_to_course, Course):\n",
    "            self.student_roster.append(student_to_course)\n",
    "\n",
    "student_names = [\"Adam\", \"Scott\", \"Michael\", \"Andrew\", \"Mark\", \"Fernando\", \"Faith\", \"Steve\", \"Lee\", \"Amani\", \"Liv\", \"Nick A\", \"James\", \"Jake\", \"Brett\", \"Graham\", \"Fraser\", \"Jacob\", \"Chelsea\", \"Phil\", \"George\", \"Charley\", \"Emma\", \"Steph\"]\n",
    "student_data = Student(student_names)\n",
    "\n",
    "students = Course(student_data)\n",
    "print(student_data.__doc__)\n",
    "print(students.student_roster)\n",
    "print(students.add_student(*student_names))"
   ]
  },
  {
   "cell_type": "code",
   "execution_count": 1,
   "metadata": {},
   "outputs": [],
   "source": [
    "import random"
   ]
  },
  {
   "cell_type": "code",
   "execution_count": 2,
   "metadata": {},
   "outputs": [],
   "source": [
    "# Create a class called Course\n",
    "class Course:\n",
    "    def __init__(self):\n",
    "        self.course_name = \"Data Science\"\n",
    "        self.course_student_max = 20\n",
    "        print(f'Randomly enroll {self.course_student_max} students into the {self.course_name} course')\n",
    "\n",
    "# Create a class called Student\n",
    "class Student(Course):\n",
    "    def __init__(self):\n",
    "#         Create a way to store 20 \"students\"\n",
    "        self.students_names = [\"Adam\", \"Scott\", \"Michael\", \"Andrew\", \"Mark\", \"Fernando\", \"Faith\", \"Steve\", \"Lee\", \"Amani\", \"Liv\", \"Nick A\", \"James\", \"Jake\", \"Brett\", \"Graham\", \"Fraser\", \"Jacob\", \"Chelsea\", \"Phil\", \"George\", \"Charley\", \"Emma\", \"Steph\"]\n",
    "        random.shuffle(self.students_names)\n",
    "        Course.__init__(self)\n",
    "        for i in range(self.course_student_max):\n",
    "            print(self.students_names[i])"
   ]
  },
  {
   "cell_type": "code",
   "execution_count": 3,
   "metadata": {},
   "outputs": [
    {
     "name": "stdout",
     "output_type": "stream",
     "text": [
      "Randomly enroll 20 into the Data Science course\n",
      "Brett\n",
      "Michael\n",
      "Mark\n",
      "Faith\n",
      "Adam\n",
      "Steph\n",
      "Charley\n",
      "Liv\n",
      "James\n",
      "Fraser\n",
      "Andrew\n",
      "Emma\n",
      "Jake\n",
      "Jacob\n",
      "Lee\n",
      "Amani\n",
      "Steve\n",
      "Phil\n",
      "Graham\n",
      "George\n"
     ]
    }
   ],
   "source": [
    "course_info = Student()\n",
    "# print(course_info.students_names)\n"
   ]
  },
  {
   "cell_type": "markdown",
   "metadata": {},
   "source": [
    "# Exercise 2\n",
    "\n",
    "Create a class called `SafeFloat` that stores an attribute called `num` as an instance attribute set during initialization and sets `num_as_float` based on `num`\n",
    "\n",
    "Include the following three methods:\n",
    "\n",
    "`to_float` - that converts `num` to a float and stores that an attribute `num_as_float`. If `num` cannot be converted, set `num_as_float` to `None`. Do on mutate the original `num`, we'd like to keep it.\n",
    "\n",
    "`check_type` - that returns `True` if `num_as_float` is a float. It should create `num_as_float` if it doesn't exist. \n",
    "\n",
    "and a method that overrides the addition operator so that when instances of `SafeFloat` are added, `num_as_float` is used to add. Return the sum of the two instances or return `None` if the two cannot be added.\n",
    "\n",
    "Demonstrate that this works for strings, ints, bools and floats."
   ]
  },
  {
   "cell_type": "code",
   "execution_count": 21,
   "metadata": {},
   "outputs": [
    {
     "name": "stdout",
     "output_type": "stream",
     "text": [
      "0.5\n",
      "0.0\n",
      "True\n",
      "True\n",
      "None\n"
     ]
    }
   ],
   "source": [
    "class SafeFloat:\n",
    "    # replace pass with your code\n",
    "    def __init__(self,num):\n",
    "        self.num = num\n",
    "#         self.num_as_float = None\n",
    "        self.to_float()\n",
    "    \n",
    "    def to_float(self):\n",
    "        if isinstance(self.num, str):\n",
    "            self.num_as_float = None\n",
    "        else:\n",
    "            self.num_as_float = float(self.num)\n",
    "            \n",
    "#     def check_type(self):\n",
    "#         if isinstance(self.num, float):\n",
    "#             print('yes')\n",
    "#         else:\n",
    "#             print('no')\n",
    "    def check_type(self):\n",
    "        self.to_float()\n",
    "        if isinstance(self.num_as_float, float):\n",
    "            return True\n",
    "        return False\n",
    "\n",
    "    def __add__(self, other):\n",
    "        if isinstance(other, SafeFloat):\n",
    "            if self.check_type() and other.check_type():\n",
    "                self.num_as_float + other.num_as_float\n",
    "                \n",
    "# test with ints, floats, bools and strings\n",
    "e = SafeFloat(0.5)\n",
    "f = SafeFloat(0)\n",
    "print(e.num_as_float)\n",
    "print(f.num_as_float)\n",
    "print(e.check_type())\n",
    "print(f.check_type())\n",
    "print(e + f)"
   ]
  },
  {
   "cell_type": "markdown",
   "metadata": {},
   "source": [
    "# Exercise 3\n",
    "\n",
    "Create a base class `Shape` and two classes that inherits that base class called `Triangle` and `Rectangle`. Consider what those two share in common (height and width) and use that to create your base class `Shape`. Create a method for base class called `area` that returns `None` for the base class. Override that method for `Triangle` and `Rectangle` so instances of those two classes can calculate the correct area.\n",
    "\n",
    "Demonstrate that your code works."
   ]
  },
  {
   "cell_type": "code",
   "execution_count": 10,
   "metadata": {},
   "outputs": [],
   "source": [
    "# Create a base class Shape \n",
    "class Shape:\n",
    "    def __init__(self, height,width):\n",
    "        self.height = height\n",
    "        self.width = width\n",
    "    def area(self):\n",
    "        return None\n",
    "s = Shape(5,10)\n",
    "s.area()"
   ]
  },
  {
   "cell_type": "code",
   "execution_count": 11,
   "metadata": {},
   "outputs": [
    {
     "data": {
      "text/plain": [
       "12.0"
      ]
     },
     "execution_count": 11,
     "metadata": {},
     "output_type": "execute_result"
    }
   ],
   "source": [
    "# two classes that inherits that base class called Triangle and Rectangle.\n",
    "class Triangle(Shape):\n",
    "#     def __init__(self):\n",
    "#         pass\n",
    "    def area(self):\n",
    "        return self.height * self.width * 0.5\n",
    "t = Triangle(6,4)\n",
    "t.area()"
   ]
  },
  {
   "cell_type": "code",
   "execution_count": 14,
   "metadata": {},
   "outputs": [
    {
     "data": {
      "text/plain": [
       "150"
      ]
     },
     "execution_count": 14,
     "metadata": {},
     "output_type": "execute_result"
    }
   ],
   "source": [
    "class Rectangle(Shape):\n",
    "#     area = width * height\n",
    "    def area(self):\n",
    "        return self.height * self.width\n",
    "r = Rectangle(5,30)\n",
    "r.area()"
   ]
  },
  {
   "cell_type": "code",
   "execution_count": 16,
   "metadata": {},
   "outputs": [
    {
     "name": "stdin",
     "output_type": "stream",
     "text": [
      "Enter width of rectangle:  4\n",
      "Enter height of rectangle:  5\n"
     ]
    },
    {
     "name": "stdout",
     "output_type": "stream",
     "text": [
      "Area of rectangle: 20\n"
     ]
    }
   ],
   "source": [
    "w = int(input(\"Enter width of rectangle: \"))\n",
    "h =int(input(\"Enter height of rectangle: \"))\n",
    "areaShape = Rectangle(w,h)\n",
    "print(\"Area of rectangle:\",areaShape.area())"
   ]
  },
  {
   "cell_type": "code",
   "execution_count": null,
   "metadata": {},
   "outputs": [],
   "source": []
  }
 ],
 "metadata": {
  "kernelspec": {
   "display_name": "Python 3",
   "language": "python",
   "name": "python3"
  },
  "language_info": {
   "codemirror_mode": {
    "name": "ipython",
    "version": 3
   },
   "file_extension": ".py",
   "mimetype": "text/x-python",
   "name": "python",
   "nbconvert_exporter": "python",
   "pygments_lexer": "ipython3",
   "version": "3.8.3"
  }
 },
 "nbformat": 4,
 "nbformat_minor": 4
}
