{
 "cells": [
  {
   "cell_type": "markdown",
   "metadata": {},
   "source": [
    "# Week 6 Project\n",
    "\n",
    "#### For this project, you'll be using your solution exercise 2 from week-05-class-01-lab.ipynb and the following piece of code:"
   ]
  },
  {
   "cell_type": "code",
   "execution_count": 1,
   "metadata": {},
   "outputs": [
    {
     "data": {
      "text/plain": [
       "(0, 'rock')"
      ]
     },
     "execution_count": 1,
     "metadata": {},
     "output_type": "execute_result"
    }
   ],
   "source": [
    "import random\n",
    "def computers_turn():\n",
    "    choices = {\n",
    "        0: 'rock',\n",
    "        1: 'paper',\n",
    "        2: 'scissors',\n",
    "    }\n",
    "    turn = random.randint(0,2)\n",
    "    return (turn, choices[turn])\n",
    "\n",
    "computers_turn()"
   ]
  },
  {
   "cell_type": "markdown",
   "metadata": {},
   "source": [
    "#### Your solution for exercise 2"
   ]
  },
  {
   "cell_type": "code",
   "execution_count": null,
   "metadata": {},
   "outputs": [],
   "source": [
    "def rock_paper_scissors():\n",
    "    user_correct_input = False\n",
    "    while not user_correct_input:\n",
    "        user_input = input(\"Hey there, please choose from ['R', 'P', 'S'] to play this game.\")\n",
    "        if user_input in ['R', 'P', 'S']:\n",
    "             user_correct_input = True\n",
    "        else:\n",
    "            print(\"Hey there, please put one of ['R', 'P', 'S'] to play the game.\")\n",
    "            user_input = input(\"Hey there, please choose from ['R', 'P', 'S'] to play this game.\")\n",
    "#     user_input = input(\"Hey there, please choose from ['R', 'P', 'S'] to play this game.\")\n",
    "#     if user_input not in ['R', 'S', 'P']:\n",
    "#         raise ValueError(f\"Incorrect Value. Must be one of ['R', 'S', 'P']. Was {user_input}\")\n",
    "    \n",
    "    computer_choice_tuple = computers_turn()\n",
    "    \n",
    "    choices = {\n",
    "        'R': (0, 'rock'),\n",
    "        'P': (1, 'paper'),\n",
    "        'S': (2, 'scissors',)\n",
    "    }\n",
    "    \n",
    "    user_choice_tuple = choices[user_input]\n",
    "    \n",
    "    if (user_choice_tuple[0] - computer_choice_tuple[0]) % 3 == 0:\n",
    "        return f\"It's a tie. User picked {user_choice_tuple}. Computer picked {computer_choice_tuple}\"\n",
    "    \n",
    "    elif (user_choice_tuple[0] - computer_choice_tuple[0]) % 3 == 1:\n",
    "        return f\"User Wins. User picked {user_choice_tuple}. Computer picked {computer_choice_tuple}\"\n",
    "    \n",
    "    elif (user_choice_tuple[0] - computer_choice_tuple[0]) % 3 == 2:\n",
    "        return f\"Computer Wins. User picked {user_choice_tuple}. Computer picked {computer_choice_tuple}\"\n",
    "    else:\n",
    "        return \"Unexpected Result.\""
   ]
  },
  {
   "cell_type": "markdown",
   "metadata": {},
   "source": [
    "Take your solution to exercise 2 and break it up into two separate functions:\n",
    "\n",
    "`your_turn` -  which takes an input and returns `(turn, choices[turn])` similar to `computers_turn`.\n",
    "\n",
    "`compare_turns` - which takes the two-tuples from `your_turn` and `computers_turn` to declare a winner\n",
    "\n"
   ]
  },
  {
   "cell_type": "code",
   "execution_count": null,
   "metadata": {},
   "outputs": [],
   "source": [
    "def your_turn():\n",
    "    pass"
   ]
  },
  {
   "cell_type": "code",
   "execution_count": 4,
   "metadata": {},
   "outputs": [],
   "source": [
    "def compare_turns():\n",
    "    pass"
   ]
  },
  {
   "cell_type": "markdown",
   "metadata": {},
   "source": [
    "Now create a function called `won_round` that calls `computers_turn`, `your_turn` and then `compare_turns` within the function body and then returns True if you won the round, else False."
   ]
  },
  {
   "cell_type": "code",
   "execution_count": 6,
   "metadata": {},
   "outputs": [],
   "source": [
    "def won_round():\n",
    "    pass"
   ]
  },
  {
   "cell_type": "markdown",
   "metadata": {},
   "source": [
    "Create a class using these functions (converting them to methods that take `self`) tha has attributes to store the details of who's won. Create an `__init__` function that takes, at minimum, an argument asking how many rounds to play. Also create a function that displays the details of who won each round. Bonus points for implementing other features.\n",
    "\n",
    "Demonstrate that this class can be used to run games of Rock-Paper-Scissors.\n",
    "\n",
    "When submitting, make sure all of your code from above is in this class declaration below and that the below two cells run without error. Failure to do so will result in points taken off."
   ]
  },
  {
   "cell_type": "code",
   "execution_count": null,
   "metadata": {},
   "outputs": [],
   "source": [
    "class RockPaperScissors:\n",
    "    def __init__(self):\n",
    "        pass\n",
    "    # other methods below\n",
    "    \n",
    "    \n"
   ]
  },
  {
   "cell_type": "markdown",
   "metadata": {},
   "source": [
    "Create an instance of your class below and run a game of 3 rounds. Then output the results\n",
    "\n"
   ]
  },
  {
   "cell_type": "code",
   "execution_count": null,
   "metadata": {},
   "outputs": [],
   "source": []
  }
 ],
 "metadata": {
  "kernelspec": {
   "display_name": "Python 3",
   "language": "python",
   "name": "python3"
  },
  "language_info": {
   "codemirror_mode": {
    "name": "ipython",
    "version": 3
   },
   "file_extension": ".py",
   "mimetype": "text/x-python",
   "name": "python",
   "nbconvert_exporter": "python",
   "pygments_lexer": "ipython3",
   "version": "3.8.3"
  }
 },
 "nbformat": 4,
 "nbformat_minor": 4
}
