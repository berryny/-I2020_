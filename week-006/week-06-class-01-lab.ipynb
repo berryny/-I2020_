{
 "cells": [
  {
   "cell_type": "markdown",
   "metadata": {},
   "source": [
    "<div style=\"background: #000;\n",
    "            color: #FFF;\n",
    "            margin: 0px;\n",
    "                padding: 10px 0px 20px 0px;\n",
    "            text-align: center; \n",
    "                \">\n",
    "    <h1>Week 6 - Class 1 - Lab</h1>\n",
    "</div>\n"
   ]
  },
  {
   "cell_type": "markdown",
   "metadata": {},
   "source": [
    "# Question 1\n",
    "\n",
    "What is a class? What is an object? What is the difference? How can we use objects in python?"
   ]
  },
  {
   "cell_type": "code",
   "execution_count": null,
   "metadata": {},
   "outputs": [],
   "source": [
    "# To create a clas"
   ]
  },
  {
   "cell_type": "markdown",
   "metadata": {},
   "source": [
    "# Execise 1\n",
    "\n",
    "Create a class. Show that the class can be used to create an object."
   ]
  },
  {
   "cell_type": "code",
   "execution_count": 11,
   "metadata": {},
   "outputs": [
    {
     "data": {
      "text/plain": [
       "'Birth year: 2002'"
      ]
     },
     "execution_count": 11,
     "metadata": {},
     "output_type": "execute_result"
    }
   ],
   "source": [
    "# To create a clas\n",
    "class Students:\n",
    "    def student_name(self,name):\n",
    "        return name\n",
    "    def student_age(self,age):\n",
    "        return f\"Birth year: {2020 - age}\"\n",
    "    \n",
    "# to create an object.\n",
    "s = Students()\n",
    "s.student_name(\"Jane Smith\")\n",
    "s.student_age(18)"
   ]
  },
  {
   "cell_type": "markdown",
   "metadata": {},
   "source": [
    "# Exercise 2\n",
    "\n",
    "Create a class including an `__init__` function that initializes some sort of state when objects are created. Demonstrate that the state is initialized."
   ]
  },
  {
   "cell_type": "code",
   "execution_count": null,
   "metadata": {},
   "outputs": [],
   "source": []
  },
  {
   "cell_type": "markdown",
   "metadata": {},
   "source": [
    "# Exercise 3\n",
    "\n",
    "Building on our point example, add code to alter the class to store three values `x`, `y`, and `z`. Bonus if you're able to implement the distance method for this new class."
   ]
  },
  {
   "cell_type": "code",
   "execution_count": 15,
   "metadata": {},
   "outputs": [
    {
     "data": {
      "text/plain": [
       "6.4031242374328485"
      ]
     },
     "execution_count": 15,
     "metadata": {},
     "output_type": "execute_result"
    }
   ],
   "source": [
    "# Use the \"Deriving and using the distance formular\"\n",
    "# Code along\n",
    "class Point:\n",
    "#     pass\n",
    "    def __init__(self,x,y,z):\n",
    "        self.x = x\n",
    "        self.y = y\n",
    "        self.z = z\n",
    "        \n",
    "    def print_msg(self):\n",
    "        print(f\"x: {self.x}, y: {self.y}, z: {self.z}\")\n",
    "    \n",
    "    # create a method that colculates distance\n",
    "    # between one point and another\n",
    "    def calculate_distance(self, other_point):\n",
    "        if isinstance(other_point, Point):\n",
    "            return ((other_point.x - self.x)**2 + (other_point.y - self.y)**2 + (other_point.z - self.z)**2)**0.5\n",
    "        else:\n",
    "            print(\"failed\")\n",
    "\n",
    "\n",
    "p = Point(2,3,1)\n",
    "q = Point(5,7,5)\n",
    "\n",
    "# pass the variable q which calls the class Point with x and y arguments\n",
    "q.calculate_distance(p)\n"
   ]
  },
  {
   "cell_type": "markdown",
   "metadata": {},
   "source": [
    "# Exercise 4\n",
    "\n",
    "Create an example of a class that uses either `@staticmethod` or `@classmethod`"
   ]
  },
  {
   "cell_type": "code",
   "execution_count": 23,
   "metadata": {},
   "outputs": [
    {
     "data": {
      "text/plain": [
       "'Birth year: 2002'"
      ]
     },
     "execution_count": 23,
     "metadata": {},
     "output_type": "execute_result"
    }
   ],
   "source": [
    "# To create a clas\n",
    "class Students:\n",
    "    @staticmethod\n",
    "    def student_name(name):\n",
    "        return name\n",
    "    @staticmethod\n",
    "    def student_age(age):\n",
    "        return f\"Birth year: {2020 - age}\"\n",
    "    \n",
    "# to create an object.\n",
    "s = Students\n"
   ]
  },
  {
   "cell_type": "code",
   "execution_count": 24,
   "metadata": {},
   "outputs": [
    {
     "data": {
      "text/plain": [
       "'Jane Smith'"
      ]
     },
     "execution_count": 24,
     "metadata": {},
     "output_type": "execute_result"
    }
   ],
   "source": [
    "s.student_name(\"Jane Smith\")"
   ]
  },
  {
   "cell_type": "code",
   "execution_count": 25,
   "metadata": {},
   "outputs": [
    {
     "data": {
      "text/plain": [
       "'Birth year: 2002'"
      ]
     },
     "execution_count": 25,
     "metadata": {},
     "output_type": "execute_result"
    }
   ],
   "source": [
    "s.student_age(18)"
   ]
  },
  {
   "cell_type": "markdown",
   "metadata": {},
   "source": [
    "# Exercise 5\n",
    "\n",
    "Create an object called `Student` with attributes that store the `first_name`, `last_name`, and `age` of the student. Also create an attribute `hw_grades` that stores hw grades depending on how you think it might be stored. Create methods that prints the full name of the student, adds grades to the attribute`hw_grades` and even calculates the average hw grade. Use additional attributes and methods if needed.\n",
    "\n",
    "Demonstrate that your code works by creating an instance of the class and storing the requisite information."
   ]
  }
 ],
 "metadata": {
  "kernelspec": {
   "display_name": "Python 3",
   "language": "python",
   "name": "python3"
  },
  "language_info": {
   "codemirror_mode": {
    "name": "ipython",
    "version": 3
   },
   "file_extension": ".py",
   "mimetype": "text/x-python",
   "name": "python",
   "nbconvert_exporter": "python",
   "pygments_lexer": "ipython3",
   "version": "3.8.3"
  }
 },
 "nbformat": 4,
 "nbformat_minor": 4
}
