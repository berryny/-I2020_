{
 "cells": [
  {
   "cell_type": "markdown",
   "metadata": {},
   "source": [
    "<div style=\"background: #000;\n",
    "            color: #FFF;\n",
    "            margin: 0px;\n",
    "                padding: 10px 0px 20px 0px;\n",
    "            text-align: center; \n",
    "                \">\n",
    "    <h1>Week 6 - Class 2 - Lab</h1>\n",
    "</div>\n"
   ]
  },
  {
   "cell_type": "markdown",
   "metadata": {},
   "source": [
    "## Question 1:\n",
    "    \n",
    "Explain one of the dunder methods describing what it does, how it works and why we might need to use it."
   ]
  },
  {
   "cell_type": "raw",
   "metadata": {},
   "source": []
  },
  {
   "cell_type": "markdown",
   "metadata": {},
   "source": [
    "## Exercise 1:\n",
    "\n",
    "Create a class called `Employee`, add in attributes and methods you think would be associated with an employee. Use at least 2 attributes and 2 methods (not including the `__init__` method you'll create as well)."
   ]
  },
  {
   "cell_type": "code",
   "execution_count": 1,
   "metadata": {},
   "outputs": [
    {
     "name": "stdout",
     "output_type": "stream",
     "text": [
      "Employee\n"
     ]
    }
   ],
   "source": [
    "# Create a class called Employee\n",
    "class Employee:\n",
    "    # add in attributes and methods\n",
    "    #Use at least 2 attributes and 2 methods = empid\n",
    "    \n",
    "    def __init__(self,empid,first_name,last_name,role,location):\n",
    "        print(\"Employee\")\n",
    "        self.empid = empid\n",
    "        self.first_name = first_name\n",
    "        self.last_name = last_name\n",
    "        self.role = role\n",
    "        self.location = location\n",
    "        \n",
    "    def positions(self):\n",
    "        x = self.empid\n",
    "        y = self.role\n",
    "        return [x,y]\n",
    "\n",
    "    def fullname(self):\n",
    "        x = self.first_name\n",
    "        y = self.last_name\n",
    "        return [x,y]\n",
    "\n",
    "e = Employee(10,'jane','doe','bookkeeping', 'new york')\n"
   ]
  },
  {
   "cell_type": "code",
   "execution_count": 2,
   "metadata": {},
   "outputs": [
    {
     "data": {
      "text/plain": [
       "[10, 'bookkeeping']"
      ]
     },
     "execution_count": 2,
     "metadata": {},
     "output_type": "execute_result"
    }
   ],
   "source": [
    "e.positions()"
   ]
  },
  {
   "cell_type": "code",
   "execution_count": 3,
   "metadata": {},
   "outputs": [
    {
     "data": {
      "text/plain": [
       "['jane', 'doe']"
      ]
     },
     "execution_count": 3,
     "metadata": {},
     "output_type": "execute_result"
    }
   ],
   "source": [
    "e.fullname()"
   ]
  },
  {
   "cell_type": "markdown",
   "metadata": {},
   "source": [
    "## Exercise 2:\n",
    "\n",
    "Create a class called `Paper` with the `content`, `length`, `width`, `margin`, `print_layout` (landscape or portrait) and `doublesided` (boolean value) as attributes. Provide methods that allow us to change those attributes."
   ]
  },
  {
   "cell_type": "code",
   "execution_count": 4,
   "metadata": {},
   "outputs": [],
   "source": [
    "# Create a class called Paper \n",
    "class Paper:\n",
    "    pass\n",
    "# attributes:\n",
    "#     content, \n",
    "#     length, \n",
    "#     width, \n",
    "#     margin, \n",
    "#     print_layout (landscape or portrait) \n",
    "#     doublesided (boolean value) \n",
    "\n",
    "# Provide methods that allow us to change those attributes.\n"
   ]
  },
  {
   "cell_type": "code",
   "execution_count": 5,
   "metadata": {},
   "outputs": [],
   "source": [
    "class Paper:\n",
    "    # attributes\n",
    "    def __init__(self, content, length, width, margin, print_layout, doublesided):\n",
    "        self.content = content\n",
    "        self.length = length\n",
    "        self.width = width\n",
    "        self.margin = margin\n",
    "        self.print_layout = print_layout # (landscape or portrait)\n",
    "        self.doublesided = doublesided #(boolean value)\n",
    "    \n",
    "    # Provide methods that allow us to change those attributes.\n",
    "    def changeObj(self):\n",
    "        self.content = input('Enter content text: ')\n",
    "        self.length = input('Enter length: ')\n",
    "        self.width = input('Enter width: ')\n",
    "        self.margin = input('Enter margin: ')\n",
    "        self.print_layout = input('Enter print layout (landscape / portrait): ')\n",
    "        self.doublesided = input('Enter double sided (True/False): ')\n",
    "        return [self.content, self.length, self.width, self.margin, self.print_layout, self.doublesided]"
   ]
  },
  {
   "cell_type": "code",
   "execution_count": 6,
   "metadata": {},
   "outputs": [],
   "source": [
    "p = Paper('text', 1, 200, 5, 'portrait', False)"
   ]
  },
  {
   "cell_type": "code",
   "execution_count": 7,
   "metadata": {},
   "outputs": [
    {
     "name": "stdin",
     "output_type": "stream",
     "text": [
      "Enter content text:  e\n",
      "Enter length:  5\n",
      "Enter width:  99\n",
      "Enter margin:  1\n",
      "Enter print layout (landscape / portrait):  p\n",
      "Enter double sided (True/False):  f\n"
     ]
    },
    {
     "data": {
      "text/plain": [
       "['e', '5', '99', '1', 'p', 'f']"
      ]
     },
     "execution_count": 7,
     "metadata": {},
     "output_type": "execute_result"
    }
   ],
   "source": [
    "p.changeObj()"
   ]
  },
  {
   "cell_type": "markdown",
   "metadata": {},
   "source": [
    "## Exercise 3\n",
    "\n",
    "Create a class called `Printer` that implements a queue. You should be able to store `Paper` objects in this queue so provide methods that add instances of `Paper` to the `Printer`'s queue and a toy method that \"prints\" `n` amount of \"jobs\" from the queue at a time. Demonstrate that this code works."
   ]
  },
  {
   "cell_type": "code",
   "execution_count": 8,
   "metadata": {},
   "outputs": [],
   "source": [
    "# Create a class called Printer\n",
    "class Printer:\n",
    "    pass\n",
    "\n",
    "# You should be able to store Paper objects in this queue\n",
    "# provide methods that add instances of Paper to the Printer's queue\n",
    "# a toy method that \"prints\" n amount of \"jobs\" from the queue at a time. "
   ]
  },
  {
   "cell_type": "code",
   "execution_count": 9,
   "metadata": {},
   "outputs": [],
   "source": [
    "class Printer:\n",
    "    def __init__(self, queue):\n",
    "        self.queue = queue\n",
    "    # a toy method that \"prints\" n amount of \"jobs\" from the queue at a time. \n",
    "    def toy(self):\n",
    "        print('jobs', len(self.queue))\n",
    "        for num in self.queue:\n",
    "            print('printing:',num)\n"
   ]
  },
  {
   "cell_type": "code",
   "execution_count": 10,
   "metadata": {},
   "outputs": [],
   "source": [
    "class Paper:\n",
    "    docsqueue = []\n",
    "    def __init__(self,*doc):\n",
    "        self.doc = doc # resume.pdf\n",
    "\n",
    "    # You should be able to store Paper objects in this queue\n",
    "    def toPrinter(self):\n",
    "        for d in self.doc:\n",
    "            self.docsqueue.append(d)\n",
    "        \n",
    "        \n"
   ]
  },
  {
   "cell_type": "code",
   "execution_count": 11,
   "metadata": {},
   "outputs": [
    {
     "data": {
      "text/plain": [
       "['resume10', 'coding', 'resume1', 'essay']"
      ]
     },
     "execution_count": 11,
     "metadata": {},
     "output_type": "execute_result"
    }
   ],
   "source": [
    "pap = Paper('resume10', 'coding','resume1', 'essay')\n",
    "pap.toPrinter()\n",
    "pap.docsqueue"
   ]
  },
  {
   "cell_type": "code",
   "execution_count": 12,
   "metadata": {},
   "outputs": [
    {
     "name": "stdout",
     "output_type": "stream",
     "text": [
      "jobs 4\n",
      "printing: resume10\n",
      "printing: coding\n",
      "printing: resume1\n",
      "printing: essay\n"
     ]
    }
   ],
   "source": [
    "# provide methods that add instances of Paper to the Printer's queue\n",
    "prt = Printer(pap.docsqueue)\n",
    "prt.toy()"
   ]
  },
  {
   "cell_type": "markdown",
   "metadata": {},
   "source": [
    "## Exercise 4:\n",
    "    \n",
    "Create a class called `Square` that overloads the addition operator by adding the area of two squares. You will need at least an attribute for length, a method for calculating area and the overloaded `+` operator method.\n",
    "\n",
    "e.g. `Square(3) + Square(4) == 25`"
   ]
  },
  {
   "cell_type": "code",
   "execution_count": 13,
   "metadata": {},
   "outputs": [],
   "source": [
    "# required to use dunda"
   ]
  },
  {
   "cell_type": "code",
   "execution_count": 14,
   "metadata": {},
   "outputs": [],
   "source": [
    "# Create a class called Square\n",
    "class Square:\n",
    "#     You will need at least an attribute for length\n",
    "#     length = 0\n",
    "#     overloads the addition operator by adding the area of two squares\n",
    "    def __init__(self, s1, s2):\n",
    "        self.s1 = s1\n",
    "        self.s2 = s2\n",
    "    \n",
    "#     a method for calculating area\n",
    "    def calculateArea(self, a, b):\n",
    "#         Square(3) + Square(4) == 25\n",
    "        area = (a * b)\n",
    "        return area\n",
    "    "
   ]
  },
  {
   "cell_type": "code",
   "execution_count": 15,
   "metadata": {},
   "outputs": [
    {
     "data": {
      "text/plain": [
       "12"
      ]
     },
     "execution_count": 15,
     "metadata": {},
     "output_type": "execute_result"
    }
   ],
   "source": [
    "s = Square(3,4)\n",
    "a = s.calculateArea(s.s1, s.s2)\n",
    "a"
   ]
  },
  {
   "cell_type": "code",
   "execution_count": 16,
   "metadata": {},
   "outputs": [
    {
     "data": {
      "text/plain": [
       "30"
      ]
     },
     "execution_count": 16,
     "metadata": {},
     "output_type": "execute_result"
    }
   ],
   "source": [
    "s = Square(5,6)\n",
    "b = s.calculateArea(s.s1, s.s2)\n",
    "b"
   ]
  },
  {
   "cell_type": "code",
   "execution_count": 17,
   "metadata": {},
   "outputs": [
    {
     "name": "stdout",
     "output_type": "stream",
     "text": [
      "42\n"
     ]
    }
   ],
   "source": [
    "#  the overloaded + operator method.\n",
    "print(a + b)"
   ]
  },
  {
   "cell_type": "code",
   "execution_count": null,
   "metadata": {},
   "outputs": [],
   "source": []
  }
 ],
 "metadata": {
  "kernelspec": {
   "display_name": "Python 3",
   "language": "python",
   "name": "python3"
  },
  "language_info": {
   "codemirror_mode": {
    "name": "ipython",
    "version": 3
   },
   "file_extension": ".py",
   "mimetype": "text/x-python",
   "name": "python",
   "nbconvert_exporter": "python",
   "pygments_lexer": "ipython3",
   "version": "3.8.3"
  }
 },
 "nbformat": 4,
 "nbformat_minor": 4
}
