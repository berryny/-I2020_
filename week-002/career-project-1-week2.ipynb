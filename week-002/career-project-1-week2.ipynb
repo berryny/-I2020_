{
 "cells": [
  {
   "cell_type": "markdown",
   "metadata": {},
   "source": [
    "Taking the following dictionary:\n",
    "\n",
    "```\n",
    "companies = {\n",
    "   \"msft\": {\"\n",
    "\t   \"name\" : \"Microsoft\",\n",
    "       \"ceo\":\"satya nadella\",\n",
    "       \"location\":\"redmond, washington\"\n",
    "   },\n",
    "   \"tlsa\": {\n",
    "\t   \"name\" : \"Tesla,\n",
    "       \"ceo\":\"elon musk\",\n",
    "       \"location\":\"palo alto, california\"\n",
    "   },\n",
    "   \"aapl\": {\n",
    "\t   \"name\": \"Apple\",\n",
    "       \"ceo\":\"tim cook\",\n",
    "       \"location\":\"cupertino, california\"\n",
    "   },\n",
    "   \"goog\": {\n",
    "\t    \"name\":\"Google\",\n",
    "       \"ceo\":\"sundar pichai\",\n",
    "       \"location\": \"mountain view, california\"\n",
    "   },\n",
    "   \"amzn\": {\n",
    "\t   \"name\":\"Amazon\",\n",
    "       \"ceo\":\"jeff bezos\",\n",
    "       \"location\":\"seattle, washington\"}\n",
    "}\n",
    "```"
   ]
  },
  {
   "cell_type": "markdown",
   "metadata": {},
   "source": [
    "Write a series of python statements that will:\n",
    "1. Access the value for key \"location\" of each element of dictionary `companies`\n",
    "\n",
    "2. Access the value of the key name of each element of dict companies\n",
    "\n",
    "3. Print the following \"<COMPANY NAME>, is located in <COMPANY LOCATION>\" for each dictionary element."
   ]
  },
  {
   "cell_type": "code",
   "execution_count": 33,
   "metadata": {},
   "outputs": [],
   "source": [
    "companies = {\n",
    "   \"msft\": {\n",
    "       \"name\" : \"Microsoft\",\n",
    "       \"ceo\":\"satya nadella\",\n",
    "       \"location\":\"redmond, washington\"\n",
    "   },\n",
    "   \"tlsa\": {\n",
    "       \"name\" : \"Tesla\",\n",
    "       \"ceo\":\"elon musk\",\n",
    "       \"location\":\"palo alto, california\"\n",
    "   },\n",
    "   \"aapl\": {\n",
    "       \"name\": \"Apple\",\n",
    "       \"ceo\":\"tim cook\",\n",
    "       \"location\":\"cupertino, california\"\n",
    "   },\n",
    "   \"goog\": {\n",
    "        \"name\":\"Google\",\n",
    "       \"ceo\":\"sundar pichai\",\n",
    "       \"location\": \"mountain view, california\"\n",
    "   },\n",
    "   \"amzn\": {\n",
    "       \"name\":\"Amazon\",\n",
    "       \"ceo\":\"jeff bezos\",\n",
    "       \"location\":\"seattle, washington\"\n",
    "   }\n",
    "}"
   ]
  },
  {
   "cell_type": "code",
   "execution_count": 34,
   "metadata": {},
   "outputs": [
    {
     "data": {
      "text/plain": [
       "'{\"msft\": {\"name\": \"Microsoft\", \"ceo\": \"satya nadella\", \"location\": \"redmond, washington\"}, \"tlsa\": {\"name\": \"Tesla\", \"ceo\": \"elon musk\", \"location\": \"palo alto, california\"}, \"aapl\": {\"name\": \"Apple\", \"ceo\": \"tim cook\", \"location\": \"cupertino, california\"}, \"goog\": {\"name\": \"Google\", \"ceo\": \"sundar pichai\", \"location\": \"mountain view, california\"}, \"amzn\": {\"name\": \"Amazon\", \"ceo\": \"jeff bezos\", \"location\": \"seattle, washington\"}}'"
      ]
     },
     "execution_count": 34,
     "metadata": {},
     "output_type": "execute_result"
    }
   ],
   "source": [
    "companies_json\n"
   ]
  },
  {
   "cell_type": "code",
   "execution_count": 36,
   "metadata": {},
   "outputs": [
    {
     "name": "stdout",
     "output_type": "stream",
     "text": [
      "Microsoft is locatied in Redmond, Washington\n",
      "Tesla is locatied in Palo Alto, California\n",
      "Apple is locatied in Cupertino, California\n",
      "Google is locatied in Mountain View, California\n",
      "Amazon is locatied in Seattle, Washington\n"
     ]
    }
   ],
   "source": [
    "for i in companies.keys():\n",
    "    locations = companies[i].get(\"location\").title()\n",
    "    names = companies[i].get(\"name\")\n",
    "    print(names, \"is located in\" , locations)"
   ]
  },
  {
   "cell_type": "code",
   "execution_count": null,
   "metadata": {},
   "outputs": [],
   "source": []
  }
 ],
 "metadata": {
  "kernelspec": {
   "display_name": "Python 3",
   "language": "python",
   "name": "python3"
  },
  "language_info": {
   "codemirror_mode": {
    "name": "ipython",
    "version": 3
   },
   "file_extension": ".py",
   "mimetype": "text/x-python",
   "name": "python",
   "nbconvert_exporter": "python",
   "pygments_lexer": "ipython3",
   "version": "3.8.3"
  }
 },
 "nbformat": 4,
 "nbformat_minor": 4
}
