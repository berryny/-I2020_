{
 "cells": [
  {
   "cell_type": "markdown",
   "metadata": {},
   "source": [
    "<div style=\"background: #000;\n",
    "            color: #FFF;\n",
    "            margin: 0px;\n",
    "                padding: 10px 0px 20px 0px;\n",
    "            text-align: center; \n",
    "                \">\n",
    "    <h1>Week 2 Class 3 Lab</h1>\n",
    "</div>"
   ]
  },
  {
   "cell_type": "markdown",
   "metadata": {},
   "source": [
    "# Question 1\n",
    "\n",
    "When might you use a dictionary? Why? Explain in your own words"
   ]
  },
  {
   "cell_type": "markdown",
   "metadata": {},
   "source": [
    "Dictionary are key and value pairing to group to a variable that defines the content. The dictionary can be used when grouping different data types, access the values multiple times and mutable. "
   ]
  },
  {
   "cell_type": "markdown",
   "metadata": {},
   "source": [
    "# Question 2\n",
    "\n",
    "When might you use a set? Why? Explain in your own words."
   ]
  },
  {
   "cell_type": "markdown",
   "metadata": {},
   "source": [
    "# Exercise 1 \n",
    "\n",
    "Create a dictionary and populate it with keys from 0 to 9 and a default value of \"None\". Then set the values of all keys divisible by 2 to be the value times itself. "
   ]
  },
  {
   "cell_type": "code",
   "execution_count": 21,
   "metadata": {},
   "outputs": [
    {
     "data": {
      "text/plain": [
       "{0: 'None',\n",
       " 1: 'None',\n",
       " 2: 'None',\n",
       " 3: 'None',\n",
       " 4: 'None',\n",
       " 5: 'None',\n",
       " 6: 'None',\n",
       " 7: 'None',\n",
       " 8: 'None',\n",
       " 9: 'None'}"
      ]
     },
     "execution_count": 21,
     "metadata": {},
     "output_type": "execute_result"
    }
   ],
   "source": [
    "# Create a dictionary and populate it with keys from 0 to 9 and a default value of \"None\". \n",
    "ex_1 = list(range(0,10))\n",
    "ext_dictionary = dict.fromkeys(ex_1, \"None\")\n",
    "ext_dictionary"
   ]
  },
  {
   "cell_type": "code",
   "execution_count": 22,
   "metadata": {},
   "outputs": [
    {
     "name": "stdout",
     "output_type": "stream",
     "text": [
      "{0: 0.0, 1: 0.5, 2: 1.0, 3: 1.5, 4: 2.0, 5: 2.5, 6: 3.0, 7: 3.5, 8: 4.0, 9: 4.5}\n"
     ]
    }
   ],
   "source": [
    "# Then set the values of all keys divisible by 2 to be the value times itself.\n",
    "for e in ext_dictionary.keys():\n",
    "    ext_dictionary[e] = e/2\n",
    "\n",
    "print(ext_dictionary)"
   ]
  },
  {
   "cell_type": "markdown",
   "metadata": {},
   "source": [
    "# Exercise 2\n",
    "\n",
    "Given a list of words and utilizing set methods print the words that can be typed using letters of alphabet on only one row's of the (American) keyboard. You may use one character in the keyboard more than once. \n",
    "\n",
    " "
   ]
  },
  {
   "cell_type": "code",
   "execution_count": 24,
   "metadata": {},
   "outputs": [],
   "source": [
    "words = ['type', 'router', 'pine', 'dash', 'top', 'rower', 'freedom']"
   ]
  },
  {
   "cell_type": "code",
   "execution_count": null,
   "metadata": {},
   "outputs": [],
   "source": []
  },
  {
   "cell_type": "markdown",
   "metadata": {},
   "source": [
    "# Exercise 3\n",
    "\n",
    "Given a list of students, find the students who favorite colors are the same utitlizng set methods. Print the name of the students who share similar tastes in colors. "
   ]
  },
  {
   "cell_type": "code",
   "execution_count": 99,
   "metadata": {},
   "outputs": [
    {
     "name": "stdout",
     "output_type": "stream",
     "text": [
      "[{'name': 'Rob', 'student_id': 115, 'favorite_colors': {'green', 'red'}}, {'name': 'Clara', 'student_id': 15, 'favorite_colors': {'blue', 'green', 'red'}}, {'name': 'Sally', 'student_id': 21, 'favorite_colors': {'black'}}, {'name': 'Jim', 'student_id': 33, 'favorite_colors': {'blue', 'green'}}]\n"
     ]
    }
   ],
   "source": [
    "students = [{\"name\":\"Rob\",\"student_id\": 115, \"favorite_colors\":{\"red\",\"green\"}},{\"name\":\"Clara\",\"student_id\": 15, \"favorite_colors\":{\"blue\",\"red\",\"green\"}}, {\"name\":\"Sally\",\"student_id\": 21, \"favorite_colors\":{\"black\"}}, {\"name\":\"Jim\",\"student_id\": 33, \"favorite_colors\":{\"blue\",\"green\"}}]\n",
    "\n",
    "print(students)"
   ]
  },
  {
   "cell_type": "code",
   "execution_count": 100,
   "metadata": {},
   "outputs": [],
   "source": [
    "student_color = {}"
   ]
  },
  {
   "cell_type": "code",
   "execution_count": 101,
   "metadata": {},
   "outputs": [
    {
     "name": "stdout",
     "output_type": "stream",
     "text": [
      "{'Rob': {'green', 'red'}, 'Clara': {'blue', 'green', 'red'}, 'Sally': {'black'}, 'Jim': {'blue', 'green'}}\n"
     ]
    }
   ],
   "source": [
    "for ele in students:\n",
    "    student_color.setdefault(ele.get('name'),ele.get('favorite_colors'))\n",
    "print(student_color)\n"
   ]
  },
  {
   "cell_type": "code",
   "execution_count": 103,
   "metadata": {},
   "outputs": [
    {
     "name": "stdout",
     "output_type": "stream",
     "text": [
      "Rob {'green', 'red'}\n",
      "\t Clara {'blue', 'green', 'red'}\n",
      "\t Jim {'blue', 'green'}\n",
      "Clara {'blue', 'green', 'red'}\n",
      "\t Rob {'green', 'red'}\n",
      "\t Jim {'blue', 'green'}\n",
      "Sally {'black'}\n",
      "Jim {'blue', 'green'}\n",
      "\t Rob {'green', 'red'}\n",
      "\t Clara {'blue', 'green', 'red'}\n"
     ]
    }
   ],
   "source": [
    "for s in student_color:\n",
    "        print(s, student_color[s])\n",
    "        for ele in students:\n",
    "            if s != ele['name']:\n",
    "                if student_color[s].intersection(ele['favorite_colors']):\n",
    "                    print('\\t',ele['name'], ele['favorite_colors'])\n",
    "\n"
   ]
  },
  {
   "cell_type": "code",
   "execution_count": null,
   "metadata": {},
   "outputs": [],
   "source": []
  }
 ],
 "metadata": {
  "kernelspec": {
   "display_name": "Python 3",
   "language": "python",
   "name": "python3"
  },
  "language_info": {
   "codemirror_mode": {
    "name": "ipython",
    "version": 3
   },
   "file_extension": ".py",
   "mimetype": "text/x-python",
   "name": "python",
   "nbconvert_exporter": "python",
   "pygments_lexer": "ipython3",
   "version": "3.8.3"
  }
 },
 "nbformat": 4,
 "nbformat_minor": 4
}
