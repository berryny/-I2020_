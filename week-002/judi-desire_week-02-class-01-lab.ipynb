{
 "cells": [
  {
   "cell_type": "markdown",
   "metadata": {},
   "source": [
    "<div style=\"background: #000;\n",
    "            color: #FFF;\n",
    "            margin: 0px;\n",
    "                padding: 10px 0px 20px 0px;\n",
    "            text-align: center; \n",
    "                \">\n",
    "    <h1>Week 02 Class 01 Lab</h1>\n",
    "</div>"
   ]
  },
  {
   "cell_type": "markdown",
   "metadata": {},
   "source": [
    "###### Question 1\n",
    "\n",
    "In your own words, explain what data structures are. Then name one python data type and explain what sort of problem might require it. "
   ]
  },
  {
   "cell_type": "markdown",
   "metadata": {},
   "source": [
    "# Exercise 1\n",
    "\n",
    "Using the list below, answer the following questions."
   ]
  },
  {
   "cell_type": "code",
   "execution_count": 56,
   "metadata": {},
   "outputs": [
    {
     "name": "stdout",
     "output_type": "stream",
     "text": [
      "[[[1, 2, 3], [4, 5, 6], [7, 8, 9]], [[10, 11, 12], [13, 14, 15], [16, 17, 18]], [[19, 20, 21], [22, 23, 24], [25, 26, 27]]]\n"
     ]
    }
   ],
   "source": [
    "l = [[[1,2,3], [4,5,6],[7,8,9]],[[10,11,12], [13,14,15],[16,17,18]],[[19,20,21], [22,23,24],[25,26,27]]]\n",
    "print(l)"
   ]
  },
  {
   "cell_type": "markdown",
   "metadata": {},
   "source": [
    "a. What index gives you the number 15? "
   ]
  },
  {
   "cell_type": "code",
   "execution_count": 57,
   "metadata": {},
   "outputs": [
    {
     "data": {
      "text/plain": [
       "15"
      ]
     },
     "execution_count": 57,
     "metadata": {},
     "output_type": "execute_result"
    }
   ],
   "source": [
    "l[1][1][2]"
   ]
  },
  {
   "cell_type": "code",
   "execution_count": 70,
   "metadata": {},
   "outputs": [
    {
     "name": "stdout",
     "output_type": "stream",
     "text": [
      "[13, 14, 15]\n",
      "l[ 1 ] [ 1 ] [ 2 ]\n"
     ]
    }
   ],
   "source": [
    "for i in range(len(l)):\n",
    "#     print(l[i])\n",
    "    for k in range(len(l[i])):\n",
    "        arr = l[i][k]\n",
    "        if 15 in arr:\n",
    "            print(arr)\n",
    "#             print(l[i][k][arr.index(15)])\n",
    "            print(\"l[\",i,\"]\",\"[\",k,\"]\",\"[\",arr.index(15),\"]\")"
   ]
  },
  {
   "cell_type": "markdown",
   "metadata": {},
   "source": [
    " b. Use `del` to delete all numbers divisible by 2, 3, 4 and 5. Print the list.  "
   ]
  },
  {
   "cell_type": "markdown",
   "metadata": {},
   "source": [
    "# Which method is correct?"
   ]
  },
  {
   "cell_type": "code",
   "execution_count": 248,
   "metadata": {},
   "outputs": [
    {
     "name": "stdout",
     "output_type": "stream",
     "text": [
      "divisible:  [[2, 3], [4, 5, 6], [7, 8, 9]]\n",
      "divisible:  [[2], [4, 5, 6], [7, 8, 9]]\n",
      "divisible:  [[2], [5, 6], [7, 8, 9]]\n",
      "divisible:  [[2], [5], [7, 8, 9]]\n",
      "divisible:  [[2], [5], [8, 9]]\n",
      "divisible:  [[2], [5], [8]]\n",
      "divisible:  [[11, 12], [13, 14, 15], [16, 17, 18]]\n",
      "divisible:  [[11], [13, 14, 15], [16, 17, 18]]\n",
      "divisible:  [[11], [14, 15], [16, 17, 18]]\n",
      "divisible:  [[11], [14], [16, 17, 18]]\n",
      "divisible:  [[11], [14], [17, 18]]\n",
      "divisible:  [[11], [14], [17]]\n",
      "divisible:  [[20, 21], [22, 23, 24], [25, 26, 27]]\n",
      "divisible:  [[20], [22, 23, 24], [25, 26, 27]]\n",
      "divisible:  [[20], [23, 24], [25, 26, 27]]\n",
      "divisible:  [[20], [23], [25, 26, 27]]\n",
      "divisible:  [[20], [23], [26, 27]]\n",
      "divisible:  [[20], [23], [26]]\n"
     ]
    }
   ],
   "source": [
    "# Option 1:\n",
    "\n",
    "# for row in l:\n",
    "#     for elem in range(len(row)):\n",
    "#         for j in range(len(row[elem])-1):\n",
    "#             if row[elem][j]%2 != 0:\n",
    "#                 del row[elem][j]\n",
    "#                 print(\"divisible by 2: \", row)\n",
    "#             elif row[elem][j]%3 != 0:\n",
    "#                 del row[elem][j]\n",
    "#                 print(\"divisible by 3: \", row)\n",
    "#             elif row[elem][j]%4 != 0:\n",
    "#                 del row[elem][j]\n",
    "#                 print(\"divisible by 4: \", row)\n",
    "#             elif row[elem][j]%5 != 0:\n",
    "#                 del row[elem][j]\n",
    "#                 print(\"divisible by 5: \", row)\n",
    "\n",
    "# Option 2:\n",
    "\n",
    "for row in l:\n",
    "    for elem in range(len(row)):\n",
    "        for j in range(len(row[elem])-1):\n",
    "            if row[elem][j]%2 != 0 or row[elem][j]%3 != 0 or row[elem][j]%4 != 0 or row[elem][j]%5 != 0:\n",
    "                del row[elem][j]\n",
    "                print(\"divisible: \", row)"
   ]
  },
  {
   "cell_type": "code",
   "execution_count": 249,
   "metadata": {},
   "outputs": [
    {
     "data": {
      "text/plain": [
       "[[[2], [5], [8]], [[11], [14], [17]], [[20], [23], [26]]]"
      ]
     },
     "execution_count": 249,
     "metadata": {},
     "output_type": "execute_result"
    }
   ],
   "source": [
    "l"
   ]
  },
  {
   "cell_type": "markdown",
   "metadata": {},
   "source": [
    "c. Create a new 1 x 7 list with the numbers remaining from `l`."
   ]
  },
  {
   "cell_type": "code",
   "execution_count": 241,
   "metadata": {},
   "outputs": [
    {
     "name": "stdout",
     "output_type": "stream",
     "text": [
      "7\n"
     ]
    },
    {
     "data": {
      "text/plain": [
       "[1, 2, 3, 4, 5, 6, 7]"
      ]
     },
     "execution_count": 241,
     "metadata": {},
     "output_type": "execute_result"
    }
   ],
   "source": [
    "l = [1,2,3,4,5,6,7]\n",
    "print(len(l))\n",
    "l "
   ]
  },
  {
   "cell_type": "markdown",
   "metadata": {},
   "source": [
    "# Exercise 2\n",
    "\n",
    "Using only the following string, use string methods/slices/indexing to produce the following quote from the late Justice Ruth Bader Ginsberg:\n",
    "\n",
    "\"Real change, enduring change, happens one step at a time.\"\n",
    "\n",
    "hint: try splitting the string up."
   ]
  },
  {
   "cell_type": "code",
   "execution_count": 12,
   "metadata": {},
   "outputs": [],
   "source": [
    "string = 'stepataenduringrealdemocracyblmchange,progresschangefreedomonetimehappens,equalityjustice'"
   ]
  },
  {
   "cell_type": "code",
   "execution_count": 19,
   "metadata": {},
   "outputs": [
    {
     "name": "stdout",
     "output_type": "stream",
     "text": [
      "['real', 'change,', 'enduring', 'change,', 'happens', 'one', 'step', 'at', 'a', 'time']\n",
      "Real change, enduring change, happens one step at a time.\n"
     ]
    }
   ],
   "source": [
    "quote = []\n",
    "if string.__contains__('real'):\n",
    "    quote.append('real')\n",
    "if string.__contains__('change'):\n",
    "    quote.append('change,')\n",
    "if string.__contains__('enduring'):\n",
    "    quote.append('enduring')\n",
    "if string.__contains__('change'):\n",
    "    quote.append('change,')\n",
    "if string.__contains__('happens'):\n",
    "    quote.append('happens')\n",
    "if string.__contains__('one'):\n",
    "    quote.append('one')\n",
    "if string.__contains__('step'):\n",
    "    quote.append('step')\n",
    "if string.__contains__('at'):\n",
    "    quote.append('at')\n",
    "if string.__contains__('a'):\n",
    "    quote.append('a')\n",
    "if string.__contains__('time'):\n",
    "    quote.append('time')\n",
    "\n",
    "print(quote)\n",
    "rgb_quote = \" \".join(quote).capitalize() + \".\"\n",
    "print(rgb_quote)"
   ]
  },
  {
   "cell_type": "markdown",
   "metadata": {},
   "source": [
    "# Exercise 3\n",
    "\n",
    "Given the following matrix, find the determinant:\n",
    "$$\n",
    "\\begin{equation*}\n",
    "A = \n",
    "\\begin{vmatrix}\n",
    "1 & 2 & 3 \\\\\n",
    "4 & 5 & 6 \\\\\n",
    "7 & 8 & 9\n",
    "\\end{vmatrix}\n",
    "\\end{equation*}\n",
    "$$\n",
    "The determinant of a matrix is calculated as follows:\n",
    "$$\n",
    "\\begin{equation*}\n",
    "A = \n",
    "\\begin{vmatrix}\n",
    "a & b & c \\\\\n",
    "d & e & f \\\\\n",
    "g & h & i\n",
    "\\end{vmatrix}\n",
    "= a \n",
    "\\begin{vmatrix}\n",
    "e & f \\\\\n",
    "h & i \\\\\n",
    "\\end{vmatrix}\n",
    "- b\n",
    "\\begin{vmatrix}\n",
    "d & f \\\\\n",
    "g & i \\\\\n",
    "\\end{vmatrix}\n",
    "+ c\n",
    "\\begin{vmatrix}\n",
    "d & e \\\\\n",
    "g & h \\\\\n",
    "\\end{vmatrix}\n",
    "\\end{equation*}\n",
    "$$\n",
    "\n",
    "$$ \n",
    "= aei + bfg + cdh - ceg - bdi -afh\n",
    "$$\n",
    "\n",
    "Create a 3 x 3 matrix using a list. Then use list indexing to access the elements to perform your calculation. Do not use numbers not stored in your matrix to perform your calcuation"
   ]
  },
  {
   "cell_type": "code",
   "execution_count": 74,
   "metadata": {},
   "outputs": [],
   "source": [
    "A = [[1,2,3], [4,5,6], [7,8,9]]"
   ]
  },
  {
   "cell_type": "code",
   "execution_count": 77,
   "metadata": {},
   "outputs": [
    {
     "data": {
      "text/plain": [
       "(1, 2, 3, 4, 5, 6, 7, 8, 9)"
      ]
     },
     "execution_count": 77,
     "metadata": {},
     "output_type": "execute_result"
    }
   ],
   "source": [
    "a = A[0][0]\n",
    "b = A[0][1]\n",
    "c = A[0][2]\n",
    "d = A[1][0]\n",
    "e = A[1][1]\n",
    "f = A[1][2]\n",
    "g = A[2][0]\n",
    "h = A[2][1]\n",
    "i = A[2][2]\n",
    "a, b,c,d,e,f,g,h,i"
   ]
  },
  {
   "cell_type": "code",
   "execution_count": 80,
   "metadata": {},
   "outputs": [
    {
     "data": {
      "text/plain": [
       "0"
      ]
     },
     "execution_count": 80,
     "metadata": {},
     "output_type": "execute_result"
    }
   ],
   "source": [
    "# matrix_A = (A[0][0]*A[1][1]*A[2][2]) + (A[0][1]*A[1][2]*A[2][0]) + (A[0][2]*A[1][0]*A[2][1]) - (A[0][2]*A[1][1]*A[2][0]) - (A[0][1]*A[1][0]*A[2][2]) - (A[0][0]*A[1][2]**A[2][1])\n",
    "matrix_A = a*e*i + b*f*g + c*d*h - c*e*g - b*d*i - a*f*h\n",
    "matrix_A"
   ]
  },
  {
   "cell_type": "code",
   "execution_count": null,
   "metadata": {},
   "outputs": [],
   "source": []
  }
 ],
 "metadata": {
  "kernelspec": {
   "display_name": "Python 3",
   "language": "python",
   "name": "python3"
  },
  "language_info": {
   "codemirror_mode": {
    "name": "ipython",
    "version": 3
   },
   "file_extension": ".py",
   "mimetype": "text/x-python",
   "name": "python",
   "nbconvert_exporter": "python",
   "pygments_lexer": "ipython3",
   "version": "3.8.3"
  }
 },
 "nbformat": 4,
 "nbformat_minor": 4
}
