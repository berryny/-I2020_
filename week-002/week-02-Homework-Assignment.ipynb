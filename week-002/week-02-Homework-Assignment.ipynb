{
 "cells": [
  {
   "cell_type": "markdown",
   "metadata": {},
   "source": [
    "# Week 2 HW\n",
    "\n",
    "Exercise 1 is due Monday.  \n",
    "Exercise 2 is due Tuesday.  \n",
    "Exercise 3 is due Wednesday.  "
   ]
  },
  {
   "cell_type": "markdown",
   "metadata": {},
   "source": [
    "# Exercise #1\n",
    "\n",
    "### Given the following variable `money_moves`"
   ]
  },
  {
   "cell_type": "code",
   "execution_count": 22,
   "metadata": {},
   "outputs": [],
   "source": [
    "money_moves = [\"fur coats\",\"money fans\",\"Diamonds\",\"MoNeY FaNs\",\"FUR COATS\",\"barrels of gold\"]"
   ]
  },
  {
   "cell_type": "markdown",
   "metadata": {},
   "source": [
    "### a. Print the list of unique elements. Then output the length."
   ]
  },
  {
   "cell_type": "code",
   "execution_count": 23,
   "metadata": {},
   "outputs": [
    {
     "name": "stdout",
     "output_type": "stream",
     "text": [
      "List of unique elements: {'barrels of gold', 'diamonds', 'fur coats', 'money fans'}\n",
      "the length: 4\n"
     ]
    }
   ],
   "source": [
    "money_moves_set = set()\n",
    "for m in money_moves:\n",
    "    money_moves_set.add(m.lower())\n",
    "\n",
    "# Print the list of unique elements.\n",
    "print(\"List of unique elements:\",money_moves_set)\n",
    "\n",
    "# Then output the length.\n",
    "print(\"the length:\", len(money_moves_set))"
   ]
  },
  {
   "cell_type": "markdown",
   "metadata": {},
   "source": [
    "### b. Set the 4th and 5th elements of the original list in lowercase. Pop that value and append it to the end of the list. Print the list."
   ]
  },
  {
   "cell_type": "code",
   "execution_count": 24,
   "metadata": {},
   "outputs": [],
   "source": [
    "mm_indx_4 = money_moves.index(money_moves[4-1])\n",
    "mm_indx_5 = money_moves.index(money_moves[5-1])"
   ]
  },
  {
   "cell_type": "code",
   "execution_count": 25,
   "metadata": {},
   "outputs": [],
   "source": [
    "mm_val_4 = money_moves[mm_indx_4].lower()"
   ]
  },
  {
   "cell_type": "code",
   "execution_count": 26,
   "metadata": {},
   "outputs": [],
   "source": [
    "mm_val_5 = money_moves[mm_indx_5].lower()"
   ]
  },
  {
   "cell_type": "code",
   "execution_count": 27,
   "metadata": {},
   "outputs": [],
   "source": [
    "\n",
    "money_moves.pop(mm_indx_4)\n",
    "money_moves.append(mm_val_4)\n",
    "money_moves.pop(mm_indx_5)\n",
    "money_moves.append(mm_val_5)\n",
    "\n"
   ]
  },
  {
   "cell_type": "code",
   "execution_count": 28,
   "metadata": {},
   "outputs": [
    {
     "data": {
      "text/plain": [
       "['fur coats', 'money fans', 'Diamonds', 'FUR COATS', 'money fans', 'fur coats']"
      ]
     },
     "execution_count": 28,
     "metadata": {},
     "output_type": "execute_result"
    }
   ],
   "source": [
    "money_moves"
   ]
  },
  {
   "cell_type": "markdown",
   "metadata": {},
   "source": [
    "### d. Create a new list, append odd number items from the original list`money_moves` and output the new list"
   ]
  },
  {
   "cell_type": "code",
   "execution_count": 33,
   "metadata": {},
   "outputs": [],
   "source": [
    "money_moves = [\"fur coats\",\"money fans\",\"Diamonds\",\"MoNeY FaNs\",\"FUR COATS\",\"barrels of gold\"]\n"
   ]
  },
  {
   "cell_type": "code",
   "execution_count": 34,
   "metadata": {},
   "outputs": [
    {
     "data": {
      "text/plain": [
       "['fur coats', 'Diamonds', 'FUR COATS']"
      ]
     },
     "execution_count": 34,
     "metadata": {},
     "output_type": "execute_result"
    }
   ],
   "source": [
    "# Create a new list, append odd number items from the original listmoney_moves\n",
    "money_moves_odd = money_moves[::2]\n",
    "# output the new list\n",
    "money_moves_odd"
   ]
  },
  {
   "cell_type": "markdown",
   "metadata": {},
   "source": [
    "### e. Create a new dict. Add each item of `money_moves` to the dict using it's place in the list as the key for the dict. Print the dict."
   ]
  },
  {
   "cell_type": "code",
   "execution_count": null,
   "metadata": {},
   "outputs": [],
   "source": [
    "money_moves = [\"fur coats\",\"money fans\",\"Diamonds\",\"MoNeY FaNs\",\"FUR COATS\",\"barrels of gold\"]\n"
   ]
  },
  {
   "cell_type": "code",
   "execution_count": null,
   "metadata": {},
   "outputs": [],
   "source": [
    "# Create a new dict.\n"
   ]
  },
  {
   "cell_type": "code",
   "execution_count": null,
   "metadata": {},
   "outputs": [],
   "source": []
  },
  {
   "cell_type": "markdown",
   "metadata": {},
   "source": [
    "# Exercise 2\n",
    "\n",
    "### Given the string below:  "
   ]
  },
  {
   "cell_type": "code",
   "execution_count": null,
   "metadata": {},
   "outputs": [],
   "source": [
    "original_string = \"Supercalifragilisticexpialadocious\""
   ]
  },
  {
   "cell_type": "markdown",
   "metadata": {},
   "source": [
    "### a. Extract the 3rd and 4th element separately. Return the two values in a tuple"
   ]
  },
  {
   "cell_type": "code",
   "execution_count": null,
   "metadata": {},
   "outputs": [],
   "source": []
  },
  {
   "cell_type": "markdown",
   "metadata": {},
   "source": [
    "### b. Extract the 3rd through 5th element, inclusive.   "
   ]
  },
  {
   "cell_type": "code",
   "execution_count": null,
   "metadata": {},
   "outputs": [],
   "source": []
  },
  {
   "cell_type": "markdown",
   "metadata": {},
   "source": [
    "### c. Extract the 3rd (inclusive) through 5th (exclusive) element.  "
   ]
  },
  {
   "cell_type": "code",
   "execution_count": null,
   "metadata": {},
   "outputs": [],
   "source": []
  },
  {
   "cell_type": "markdown",
   "metadata": {},
   "source": [
    "### d. What is the index of \"S\"? How many elements in the list are \"S\"? Output the results as a tuple"
   ]
  },
  {
   "cell_type": "code",
   "execution_count": null,
   "metadata": {},
   "outputs": [],
   "source": []
  },
  {
   "cell_type": "markdown",
   "metadata": {},
   "source": [
    "### e. What are the last 3 elements of the string?  "
   ]
  },
  {
   "cell_type": "code",
   "execution_count": null,
   "metadata": {},
   "outputs": [],
   "source": []
  },
  {
   "cell_type": "markdown",
   "metadata": {},
   "source": [
    "### f. Output the string backwards"
   ]
  },
  {
   "cell_type": "code",
   "execution_count": null,
   "metadata": {},
   "outputs": [],
   "source": []
  },
  {
   "cell_type": "markdown",
   "metadata": {},
   "source": [
    "# Exercise 3\n",
    "\n",
    "### Given the following code, fix it so the code outputs `\"hello\"`:\n",
    "\n",
    "Hint: for each, you just have to edit one line of code\n",
    "\n",
    "(Don't worry, you aren't meant to understand everything going on in them yet)"
   ]
  },
  {
   "cell_type": "code",
   "execution_count": null,
   "metadata": {},
   "outputs": [],
   "source": [
    "def function(x):\n",
    "    if type(x) == bool:\n",
    "        print(x)\n",
    "\n",
    "function(\"hello\")"
   ]
  },
  {
   "cell_type": "code",
   "execution_count": null,
   "metadata": {},
   "outputs": [],
   "source": [
    "s = [\"h\", \"e\", \"l\", \"l\", \"o\"]\n",
    "\"\""
   ]
  },
  {
   "cell_type": "code",
   "execution_count": null,
   "metadata": {},
   "outputs": [],
   "source": [
    "a = True\n",
    "b = False\n",
    "c = True\n",
    "d = False\n",
    "\"hello\" if (b or a and b == d and b or b) else \"\""
   ]
  },
  {
   "cell_type": "code",
   "execution_count": null,
   "metadata": {},
   "outputs": [],
   "source": [
    "class Example:\n",
    "    def __init__(self, val):\n",
    "        self.a = val and print(\"hello\")\n",
    "    def say_hi(self):\n",
    "        print(\"hello\") if self.a == \"fixed\" else print(\"\")\n",
    "    def hello(self):\n",
    "        return \"olleh\".reverse()\n",
    "        \n",
    "e = Example(\"\")\n",
    "e.say_hi()"
   ]
  }
 ],
 "metadata": {
  "kernelspec": {
   "display_name": "Python 3",
   "language": "python",
   "name": "python3"
  },
  "language_info": {
   "codemirror_mode": {
    "name": "ipython",
    "version": 3
   },
   "file_extension": ".py",
   "mimetype": "text/x-python",
   "name": "python",
   "nbconvert_exporter": "python",
   "pygments_lexer": "ipython3",
   "version": "3.8.3"
  }
 },
 "nbformat": 4,
 "nbformat_minor": 4
}
