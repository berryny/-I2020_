{
 "cells": [
  {
   "cell_type": "markdown",
   "metadata": {},
   "source": [
    "# Week 2 Project"
   ]
  },
  {
   "cell_type": "markdown",
   "metadata": {},
   "source": [
    "Our company \"Zeta\" has an algorithmic trading bot that purchases shares of stocks. We've been buying shares of TSLA and MSFT for a while now. Our bot buys 1 share at a time and the prices of each purchase is listed below."
   ]
  },
  {
   "cell_type": "code",
   "execution_count": 161,
   "metadata": {},
   "outputs": [],
   "source": [
    "tsla = [132.56, 105.2, 137.54, 124.31, 124.54, 108.52, 139.35, 121.49, 117.89, 100.79, 116.63, 108.02, 103.25, 105.72, 114.12, 128.8, 102.37, 114.9, 132.4, 135.3, 151.3, 134.8, 111.1, 132.1, 156.31, 114.58, 140.42, 127.02, 126.36, 132.64, 152.15, 126.19, 156.41, 148.95, 164.27, 129.99, 145.17, 151.98, 148.75, 144.75, 133.51, 146.97, 144.09, 129.79, 152.15, 161.55, 158.24, 157.89, 163.06, 180.86, 185.57, 198.29, 184.2, 183.68, 193.8, 201.32]\n",
    "\n",
    "# to verify your numbers are correct and have not been altered, uncomment and run the following:\n",
    "#import hashlib; print(\"tsla prices are correct\" if hashlib.md5(str(tsla).encode()).hexdigest() == '2157a3cc6c68b3ae3e26ae3101cf2c44' else \"tsla prices are incorrect\")"
   ]
  },
  {
   "cell_type": "code",
   "execution_count": 162,
   "metadata": {},
   "outputs": [
    {
     "name": "stdout",
     "output_type": "stream",
     "text": [
      "tsla prices are correct\n"
     ]
    }
   ],
   "source": [
    "import hashlib; print(\"tsla prices are correct\" if hashlib.md5(str(tsla).encode()).hexdigest() == '2157a3cc6c68b3ae3e26ae3101cf2c44' else \"tsla prices are incorrect\")"
   ]
  },
  {
   "cell_type": "code",
   "execution_count": 163,
   "metadata": {},
   "outputs": [],
   "source": [
    "msft = [167.69, 151.72, 141.38, 136.95, 146.5, 157.5, 177.42, 152.06, 147.97, 174.94, 162.73, 183.69, 139.53, 181.82, 167.49, 176.05, 179.25, 149.65, 183.38, 149.73, 151.2, 189.22, 166.28, 187.13, 195.46, 158.8, 154.24, 190.19, 153.23, 192.82, 176.67, 192.04, 177.19, 165.53, 184.44, 186.13, 199.71, 174.14, 175.61, 184.14, 205.52, 202.13, 180.19, 198.55, 204.91, 187.49, 183.52, 199.76, 212.38, 191.2, 222.39, 195.15, 185.7, 224.32, 195.49, 208.56, 184.11, 211.48, 207.77, 202.89, 186.68, 203.91, 234.01, 202.05, 205.86, 193.8, 213.51, 220.2, 234.56, 200.86, 206.04, 243.46, 243.3, 208.68, 220.96, 237.67, 208.42, 214.33, 251.64, 212.35, 217.35, 213.11, 251.61, 247.34, 234.95, 256.97, 235.53, 240.86, 213.03, 235.38, 257.89, 246.18, 234.4, 222.91, 253.5, 257.53, 266.9, 226.3, 230.97, 270.01]\n",
    "\n",
    "# to verify your numbers are correct and have not been altered, uncomment and run the following:\n",
    "#import hashlib; print(\"msft prices are correct\" if hashlib.md5(str(msft).encode()).hexdigest() == '5e0b3acc2d380c957f9db6487c0f4807' else \"msft prices are incorrect\")"
   ]
  },
  {
   "cell_type": "code",
   "execution_count": 164,
   "metadata": {
    "scrolled": true
   },
   "outputs": [
    {
     "name": "stdout",
     "output_type": "stream",
     "text": [
      "msft prices are correct\n"
     ]
    }
   ],
   "source": [
    "import hashlib; print(\"msft prices are correct\" if hashlib.md5(str(msft).encode()).hexdigest() == '5e0b3acc2d380c957f9db6487c0f4807' else \"msft prices are incorrect\")"
   ]
  },
  {
   "cell_type": "markdown",
   "metadata": {},
   "source": [
    "<div style=\"background-color:#000; color:#fff;font-size:2em;padding:1em 0; text-align:center\">Create Project functions</div>"
   ]
  },
  {
   "cell_type": "code",
   "execution_count": 165,
   "metadata": {},
   "outputs": [],
   "source": [
    "def num_of_shares(name, s):\n",
    "    print('number of {} shares is: {}'.format(name, len(s)))\n",
    "\n",
    "def average_price(name,s):\n",
    "    cost_of_all_shares = sum(s)\n",
    "    num_of_shares = len(s)\n",
    "    avg_price = cost_of_all_shares/num_of_shares\n",
    "    print(\"average price of our {} shares: {:.2f}\".format(name, float(avg_price)))\n",
    "\n",
    "def sorted_pricing(name, s, place, level):\n",
    "    prices = sorted(s)\n",
    "    if level == \"lowest\" and place == '':\n",
    "        print(\"{} {} price: {}\".format(name, level, prices[0]))\n",
    "    elif level == \"highest\" and place == '':\n",
    "        print(\"{} {} price: {}\".format(name, level, prices[len(s)-1]))\n",
    "    elif level == \"lowest\" and place != '':\n",
    "        print(prices[:5])\n",
    "    elif level == \"highest\" and place != '':\n",
    "        print(prices[-5::])\n",
    "    else:\n",
    "        print(name, prices)\n",
    "\n",
    "def unique_values(name, s):\n",
    "    unique_prices = set()\n",
    "    for p in s:\n",
    "        unique_prices.add(p)\n",
    "#     print(unique_prices)\n",
    "    print(\"{} number of unique values: {}\".format(name, len(s) - len(unique_prices)))"
   ]
  },
  {
   "cell_type": "markdown",
   "metadata": {},
   "source": [
    "### How many shares of TSLA did we buy?\n",
    "\n",
    "Note: remember that for each buy, we bought 1 share."
   ]
  },
  {
   "cell_type": "code",
   "execution_count": 166,
   "metadata": {},
   "outputs": [
    {
     "name": "stdout",
     "output_type": "stream",
     "text": [
      "number of tsla shares is: 56\n"
     ]
    }
   ],
   "source": [
    "num_of_shares('tsla',tsla)"
   ]
  },
  {
   "cell_type": "markdown",
   "metadata": {},
   "source": [
    "### What was the average price of our TSLA shares?\n",
    "\n",
    "Average price = cost of all shares / number of shares"
   ]
  },
  {
   "cell_type": "code",
   "execution_count": 167,
   "metadata": {},
   "outputs": [
    {
     "name": "stdout",
     "output_type": "stream",
     "text": [
      "average price of our tsla shares: 140.07\n"
     ]
    }
   ],
   "source": [
    "average_price('tsla',tsla)"
   ]
  },
  {
   "cell_type": "markdown",
   "metadata": {},
   "source": [
    "### What was the lowest price we paid for a share of TSLA?"
   ]
  },
  {
   "cell_type": "code",
   "execution_count": 168,
   "metadata": {},
   "outputs": [
    {
     "name": "stdout",
     "output_type": "stream",
     "text": [
      "tsla lowest price: 100.79\n"
     ]
    }
   ],
   "source": [
    "sorted_pricing('tsla', tsla, '',\"lowest\")"
   ]
  },
  {
   "cell_type": "markdown",
   "metadata": {},
   "source": [
    "### What was the highest price we paid for a share of TSLA?"
   ]
  },
  {
   "cell_type": "code",
   "execution_count": 169,
   "metadata": {},
   "outputs": [
    {
     "name": "stdout",
     "output_type": "stream",
     "text": [
      "tsla highest price: 201.32\n"
     ]
    }
   ],
   "source": [
    "sorted_pricing('tsla', tsla, '', \"highest\")"
   ]
  },
  {
   "cell_type": "markdown",
   "metadata": {},
   "source": [
    "### Sort the list of TSLA shares in place. What was the five lowest prices we paid for TSLA shares?"
   ]
  },
  {
   "cell_type": "code",
   "execution_count": 170,
   "metadata": {},
   "outputs": [
    {
     "name": "stdout",
     "output_type": "stream",
     "text": [
      "[100.79, 102.37, 103.25, 105.2, 105.72]\n"
     ]
    }
   ],
   "source": [
    "sorted_pricing('tsla', tsla, 5,\"lowest\")"
   ]
  },
  {
   "cell_type": "markdown",
   "metadata": {},
   "source": [
    "### What were the five highest prices we paid for TSLA shares? \n",
    "\n",
    "Use a slice that includes a negative number"
   ]
  },
  {
   "cell_type": "code",
   "execution_count": 171,
   "metadata": {},
   "outputs": [
    {
     "name": "stdout",
     "output_type": "stream",
     "text": [
      "[184.2, 185.57, 193.8, 198.29, 201.32]\n"
     ]
    }
   ],
   "source": [
    "sorted_pricing('tsla', tsla, 5,\"highest\")"
   ]
  },
  {
   "cell_type": "markdown",
   "metadata": {},
   "source": [
    "### How many unique values do we have in our list of TSLA prices? "
   ]
  },
  {
   "cell_type": "code",
   "execution_count": 172,
   "metadata": {},
   "outputs": [
    {
     "name": "stdout",
     "output_type": "stream",
     "text": [
      "tsla number of unique values: 1\n"
     ]
    }
   ],
   "source": [
    "unique_values('tsla', tsla)"
   ]
  },
  {
   "cell_type": "markdown",
   "metadata": {},
   "source": [
    "### We have another algo running that also buys shares of TSLA. Using the following list and the set from before, output a list of the unique set of prices of the combined lists."
   ]
  },
  {
   "cell_type": "code",
   "execution_count": 173,
   "metadata": {},
   "outputs": [
    {
     "name": "stdout",
     "output_type": "stream",
     "text": [
      "other tsla prices are correct\n"
     ]
    }
   ],
   "source": [
    "other_tsla_list = [114.12, 128.8, 102.37, 114.9, 132.4, 135.3, 151.3, 134.8, 111.1, 132.1]\n",
    "\n",
    "# to verify the above numbers are correct and have not been altered, uncomment and run the following:\n",
    "import hashlib; print(\"other tsla prices are correct\" if hashlib.md5(str(other_tsla_list).encode()).hexdigest() == '9d855ef64203308925c4259ca8864cda' else \"other prices are incorrect\")"
   ]
  },
  {
   "cell_type": "code",
   "execution_count": 174,
   "metadata": {},
   "outputs": [
    {
     "data": {
      "text/plain": [
       "{102.37, 111.1, 114.12, 114.9, 128.8, 132.1, 132.4, 134.8, 135.3, 151.3}"
      ]
     },
     "execution_count": 174,
     "metadata": {},
     "output_type": "execute_result"
    }
   ],
   "source": [
    "# list of the unique set of prices of the combined lists.\n",
    "combine_list = set(tsla).intersection(set(other_tsla_list))\n",
    "combine_list"
   ]
  },
  {
   "cell_type": "markdown",
   "metadata": {},
   "source": [
    "### Create a dictionary from the list of TSLA prices. Use the index of the sorted list as the key."
   ]
  },
  {
   "cell_type": "code",
   "execution_count": 175,
   "metadata": {},
   "outputs": [
    {
     "data": {
      "text/plain": [
       "{0: 132.56,\n",
       " 1: 105.2,\n",
       " 2: 137.54,\n",
       " 3: 124.31,\n",
       " 4: 124.54,\n",
       " 5: 108.52,\n",
       " 6: 139.35,\n",
       " 7: 121.49,\n",
       " 8: 117.89,\n",
       " 9: 100.79,\n",
       " 10: 116.63,\n",
       " 11: 108.02,\n",
       " 12: 103.25,\n",
       " 13: 105.72,\n",
       " 14: 114.12,\n",
       " 15: 128.8,\n",
       " 16: 102.37,\n",
       " 17: 114.9,\n",
       " 18: 132.4,\n",
       " 19: 135.3,\n",
       " 20: 151.3,\n",
       " 21: 134.8,\n",
       " 22: 111.1,\n",
       " 23: 132.1,\n",
       " 24: 156.31,\n",
       " 25: 114.58,\n",
       " 26: 140.42,\n",
       " 27: 127.02,\n",
       " 28: 126.36,\n",
       " 29: 132.64,\n",
       " 30: 152.15,\n",
       " 31: 126.19,\n",
       " 32: 156.41,\n",
       " 33: 148.95,\n",
       " 34: 164.27,\n",
       " 35: 129.99,\n",
       " 36: 145.17,\n",
       " 37: 151.98,\n",
       " 38: 148.75,\n",
       " 39: 144.75,\n",
       " 40: 133.51,\n",
       " 41: 146.97,\n",
       " 42: 144.09,\n",
       " 43: 129.79,\n",
       " 44: 152.15,\n",
       " 45: 161.55,\n",
       " 46: 158.24,\n",
       " 47: 157.89,\n",
       " 48: 163.06,\n",
       " 49: 180.86,\n",
       " 50: 185.57,\n",
       " 51: 198.29,\n",
       " 52: 184.2,\n",
       " 53: 183.68,\n",
       " 54: 193.8,\n",
       " 55: 201.32}"
      ]
     },
     "execution_count": 175,
     "metadata": {},
     "output_type": "execute_result"
    }
   ],
   "source": [
    "dict_tsla = {}\n",
    "for t in range(len(tsla)):\n",
    "    dict_tsla[t] = tsla[t]\n",
    "\n",
    "dict_tsla"
   ]
  },
  {
   "cell_type": "markdown",
   "metadata": {},
   "source": [
    "### How many shares of MSFT did we buy? \n",
    "\n",
    "Note: remember that for each buy, we bought only 1 share."
   ]
  },
  {
   "cell_type": "code",
   "execution_count": 176,
   "metadata": {},
   "outputs": [
    {
     "name": "stdout",
     "output_type": "stream",
     "text": [
      "number of msft shares is: 100\n"
     ]
    }
   ],
   "source": [
    "num_of_shares('msft',msft)"
   ]
  },
  {
   "cell_type": "markdown",
   "metadata": {},
   "source": [
    "### What was the average price of our MSFT shares?"
   ]
  },
  {
   "cell_type": "code",
   "execution_count": 177,
   "metadata": {},
   "outputs": [
    {
     "name": "stdout",
     "output_type": "stream",
     "text": [
      "average price of our msft shares: 199.40\n"
     ]
    }
   ],
   "source": [
    "average_price('msft',msft)"
   ]
  },
  {
   "cell_type": "markdown",
   "metadata": {},
   "source": [
    "### What was the lowest price we paid for a share of MSFT?"
   ]
  },
  {
   "cell_type": "code",
   "execution_count": 178,
   "metadata": {},
   "outputs": [
    {
     "name": "stdout",
     "output_type": "stream",
     "text": [
      "msft lowest price: 136.95\n"
     ]
    }
   ],
   "source": [
    "low_high_price('msft', msft, \"lowest\")"
   ]
  },
  {
   "cell_type": "markdown",
   "metadata": {},
   "source": [
    "### What was the highest price we paid for a share of MSFT?"
   ]
  },
  {
   "cell_type": "code",
   "execution_count": 179,
   "metadata": {},
   "outputs": [
    {
     "name": "stdout",
     "output_type": "stream",
     "text": [
      "msft highest price: 270.01\n"
     ]
    }
   ],
   "source": [
    "low_high_price('msft', msft, \"highest\")"
   ]
  },
  {
   "cell_type": "markdown",
   "metadata": {},
   "source": [
    "### Sort the list of MSFT prices in place. What were the five lowest prices we paid for MSFT shares?"
   ]
  },
  {
   "cell_type": "code",
   "execution_count": 180,
   "metadata": {},
   "outputs": [
    {
     "name": "stdout",
     "output_type": "stream",
     "text": [
      "[136.95, 139.53, 141.38, 146.5, 147.97]\n"
     ]
    }
   ],
   "source": [
    "sorted_pricing('msft', msft, 5,\"lowest\")"
   ]
  },
  {
   "cell_type": "markdown",
   "metadata": {},
   "source": [
    "### What were the five highest prices we paid for MSFT shares? \n",
    "\n",
    "Use a slice that includes a negative number"
   ]
  },
  {
   "cell_type": "code",
   "execution_count": 181,
   "metadata": {},
   "outputs": [
    {
     "name": "stdout",
     "output_type": "stream",
     "text": [
      "[256.97, 257.53, 257.89, 266.9, 270.01]\n"
     ]
    }
   ],
   "source": [
    "sorted_pricing('msft', msft, 5,\"highest\")"
   ]
  },
  {
   "cell_type": "markdown",
   "metadata": {},
   "source": [
    "### How many unique values do we have in our list of MSFT prices?"
   ]
  },
  {
   "cell_type": "code",
   "execution_count": 182,
   "metadata": {},
   "outputs": [
    {
     "name": "stdout",
     "output_type": "stream",
     "text": [
      "msft number of unique values: 0\n"
     ]
    }
   ],
   "source": [
    "unique_values('msft', msft)"
   ]
  },
  {
   "cell_type": "markdown",
   "metadata": {},
   "source": [
    "### We have another algo running that also buys shares of TSLA. Using the following list and the set from before, output a list of the unique prices of the combined lists."
   ]
  },
  {
   "cell_type": "code",
   "execution_count": 183,
   "metadata": {},
   "outputs": [
    {
     "name": "stdout",
     "output_type": "stream",
     "text": [
      "other_msft_prices are correct\n"
     ]
    }
   ],
   "source": [
    "other_msft_list = [149.73, 151.2, 189.22, 166.28, 187.13, 195.46, 158.8, 154.24, 190.19, 153.23, 192.82, 176.67, 192.04, 177.19]\n",
    "\n",
    "# to verify the above numbers are correct and have not been altered, uncomment and run the following:\n",
    "import hashlib; print(\"other_msft_prices are correct\" if hashlib.md5(str(other_msft_list).encode()).hexdigest() == '2340257f15e1472379a92741c3a83fdd' else \"other msft prices are incorrect\")"
   ]
  },
  {
   "cell_type": "markdown",
   "metadata": {},
   "source": [
    "### Create a dictionary from the list of MSFT prices. Use the index of the sorted list as the key."
   ]
  },
  {
   "cell_type": "code",
   "execution_count": 184,
   "metadata": {},
   "outputs": [
    {
     "data": {
      "text/plain": [
       "{149.73,\n",
       " 151.2,\n",
       " 153.23,\n",
       " 154.24,\n",
       " 158.8,\n",
       " 166.28,\n",
       " 176.67,\n",
       " 177.19,\n",
       " 187.13,\n",
       " 189.22,\n",
       " 190.19,\n",
       " 192.04,\n",
       " 192.82,\n",
       " 195.46}"
      ]
     },
     "execution_count": 184,
     "metadata": {},
     "output_type": "execute_result"
    }
   ],
   "source": [
    "msft_combine_list = set(msft).intersection(set(other_msft_list))\n",
    "msft_combine_list"
   ]
  },
  {
   "cell_type": "code",
   "execution_count": null,
   "metadata": {},
   "outputs": [],
   "source": []
  }
 ],
 "metadata": {
  "kernelspec": {
   "display_name": "Python 3",
   "language": "python",
   "name": "python3"
  },
  "language_info": {
   "codemirror_mode": {
    "name": "ipython",
    "version": 3
   },
   "file_extension": ".py",
   "mimetype": "text/x-python",
   "name": "python",
   "nbconvert_exporter": "python",
   "pygments_lexer": "ipython3",
   "version": "3.8.3"
  }
 },
 "nbformat": 4,
 "nbformat_minor": 4
}
