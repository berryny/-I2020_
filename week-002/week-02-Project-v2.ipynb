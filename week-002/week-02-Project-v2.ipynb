{
 "cells": [
  {
   "cell_type": "markdown",
   "metadata": {},
   "source": [
    "# Week 2 Project"
   ]
  },
  {
   "cell_type": "markdown",
   "metadata": {},
   "source": [
    "Our company \"Zeta\" has an algorithmic trading bot that purchases shares of stocks. We've been buying shares of TSLA and MSFT for a while now. Our bot buys 1 share at a time and the prices of each purchase is listed below."
   ]
  },
  {
   "cell_type": "code",
   "execution_count": 10,
   "metadata": {},
   "outputs": [],
   "source": [
    "tsla = [132.56, 105.2, 137.54, 124.31, 124.54, 108.52, 139.35, 121.49, 117.89, 100.79, 116.63, 108.02, 103.25, 105.72, 114.12, 128.8, 102.37, 114.9, 132.4, 135.3, 151.3, 134.8, 111.1, 132.1, 156.31, 114.58, 140.42, 127.02, 126.36, 132.64, 152.15, 126.19, 156.41, 148.95, 164.27, 129.99, 145.17, 151.98, 148.75, 144.75, 133.51, 146.97, 144.09, 129.79, 152.15, 161.55, 158.24, 157.89, 163.06, 180.86, 185.57, 198.29, 184.2, 183.68, 193.8, 201.32]\n",
    "\n",
    "# to verify your numbers are correct and have not been altered, uncomment and run the following:\n",
    "#import hashlib; print(\"tsla prices are correct\" if hashlib.md5(str(tsla).encode()).hexdigest() == '2157a3cc6c68b3ae3e26ae3101cf2c44' else \"tsla prices are incorrect\")"
   ]
  },
  {
   "cell_type": "code",
   "execution_count": 11,
   "metadata": {},
   "outputs": [
    {
     "name": "stdout",
     "output_type": "stream",
     "text": [
      "tsla prices are correct\n"
     ]
    }
   ],
   "source": [
    "import hashlib; print(\"tsla prices are correct\" if hashlib.md5(str(tsla).encode()).hexdigest() == '2157a3cc6c68b3ae3e26ae3101cf2c44' else \"tsla prices are incorrect\")"
   ]
  },
  {
   "cell_type": "code",
   "execution_count": 12,
   "metadata": {},
   "outputs": [],
   "source": [
    "msft = [167.69, 151.72, 141.38, 136.95, 146.5, 157.5, 177.42, 152.06, 147.97, 174.94, 162.73, 183.69, 139.53, 181.82, 167.49, 176.05, 179.25, 149.65, 183.38, 149.73, 151.2, 189.22, 166.28, 187.13, 195.46, 158.8, 154.24, 190.19, 153.23, 192.82, 176.67, 192.04, 177.19, 165.53, 184.44, 186.13, 199.71, 174.14, 175.61, 184.14, 205.52, 202.13, 180.19, 198.55, 204.91, 187.49, 183.52, 199.76, 212.38, 191.2, 222.39, 195.15, 185.7, 224.32, 195.49, 208.56, 184.11, 211.48, 207.77, 202.89, 186.68, 203.91, 234.01, 202.05, 205.86, 193.8, 213.51, 220.2, 234.56, 200.86, 206.04, 243.46, 243.3, 208.68, 220.96, 237.67, 208.42, 214.33, 251.64, 212.35, 217.35, 213.11, 251.61, 247.34, 234.95, 256.97, 235.53, 240.86, 213.03, 235.38, 257.89, 246.18, 234.4, 222.91, 253.5, 257.53, 266.9, 226.3, 230.97, 270.01]\n",
    "\n",
    "# to verify your numbers are correct and have not been altered, uncomment and run the following:\n",
    "#import hashlib; print(\"msft prices are correct\" if hashlib.md5(str(msft).encode()).hexdigest() == '5e0b3acc2d380c957f9db6487c0f4807' else \"msft prices are incorrect\")"
   ]
  },
  {
   "cell_type": "code",
   "execution_count": 38,
   "metadata": {
    "scrolled": true
   },
   "outputs": [
    {
     "name": "stdout",
     "output_type": "stream",
     "text": [
      "msft prices are correct\n"
     ]
    }
   ],
   "source": [
    "import hashlib; print(\"msft prices are correct\" if hashlib.md5(str(msft).encode()).hexdigest() == '5e0b3acc2d380c957f9db6487c0f4807' else \"msft prices are incorrect\")"
   ]
  },
  {
   "cell_type": "markdown",
   "metadata": {},
   "source": [
    "## Create Project funtions"
   ]
  },
  {
   "cell_type": "code",
   "execution_count": 96,
   "metadata": {},
   "outputs": [],
   "source": [
    "def num_of_shares(name, s):\n",
    "    print('number of {} shares is: {}'.format(name, len(s)))\n",
    "\n",
    "def average_price(name,s):\n",
    "    cost_of_all_shares = sum(s)\n",
    "    num_of_shares = len(s)\n",
    "    avg_price = cost_of_all_shares/num_of_shares\n",
    "    print(\"average price of our {} shares: {:.2f}\".format(name, float(avg_price)))\n"
   ]
  },
  {
   "cell_type": "markdown",
   "metadata": {},
   "source": [
    "### How many shares of TSLA did we buy?\n",
    "\n",
    "Note: remember that for each buy, we bought 1 share."
   ]
  },
  {
   "cell_type": "code",
   "execution_count": 97,
   "metadata": {},
   "outputs": [
    {
     "name": "stdout",
     "output_type": "stream",
     "text": [
      "number of tsla shares is: 56\n"
     ]
    }
   ],
   "source": [
    "num_of_shares('tsla',tsla)"
   ]
  },
  {
   "cell_type": "markdown",
   "metadata": {},
   "source": [
    "### What was the average price of our TSLA shares?\n",
    "\n",
    "Average price = cost of all shares / number of shares"
   ]
  },
  {
   "cell_type": "code",
   "execution_count": 98,
   "metadata": {},
   "outputs": [
    {
     "name": "stdout",
     "output_type": "stream",
     "text": [
      "average price of our tsla shares: 140.07\n"
     ]
    }
   ],
   "source": [
    "average_price('tsla',tsla)"
   ]
  },
  {
   "cell_type": "markdown",
   "metadata": {},
   "source": [
    "### What was the lowest price we paid for a share of TSLA?"
   ]
  },
  {
   "cell_type": "code",
   "execution_count": 29,
   "metadata": {},
   "outputs": [
    {
     "name": "stdout",
     "output_type": "stream",
     "text": [
      "lowest price:  100.79\n"
     ]
    }
   ],
   "source": [
    "prices = sorted(tsla)\n",
    "# print(prices)\n",
    "print(\"lowest price: \", prices[0])"
   ]
  },
  {
   "cell_type": "markdown",
   "metadata": {},
   "source": [
    "### What was the highest price we paid for a share of TSLA?"
   ]
  },
  {
   "cell_type": "code",
   "execution_count": 30,
   "metadata": {},
   "outputs": [
    {
     "name": "stdout",
     "output_type": "stream",
     "text": [
      "highest price:  201.32\n"
     ]
    }
   ],
   "source": [
    "print(\"highest price: \", prices[len(tsla)-1])"
   ]
  },
  {
   "cell_type": "markdown",
   "metadata": {},
   "source": [
    "### Sort the list of TSLA shares in place. What was the five lowest prices we paid for TSLA shares?"
   ]
  },
  {
   "cell_type": "code",
   "execution_count": 32,
   "metadata": {},
   "outputs": [
    {
     "data": {
      "text/plain": [
       "[100.79, 102.37, 103.25, 105.2, 105.72]"
      ]
     },
     "execution_count": 32,
     "metadata": {},
     "output_type": "execute_result"
    }
   ],
   "source": [
    "prices[:5]"
   ]
  },
  {
   "cell_type": "markdown",
   "metadata": {},
   "source": [
    "### What were the five highest prices we paid for TSLA shares? \n",
    "\n",
    "Use a slice that includes a negative number"
   ]
  },
  {
   "cell_type": "code",
   "execution_count": 37,
   "metadata": {},
   "outputs": [
    {
     "data": {
      "text/plain": [
       "[184.2, 185.57, 193.8, 198.29, 201.32]"
      ]
     },
     "execution_count": 37,
     "metadata": {},
     "output_type": "execute_result"
    }
   ],
   "source": [
    "prices[-5::]"
   ]
  },
  {
   "cell_type": "markdown",
   "metadata": {},
   "source": [
    "### How many unique values do we have in our list of TSLA prices? "
   ]
  },
  {
   "cell_type": "code",
   "execution_count": 45,
   "metadata": {},
   "outputs": [
    {
     "name": "stdout",
     "output_type": "stream",
     "text": [
      "{128.8, 129.99, 129.79, 132.56, 132.4, 134.8, 135.3, 132.1, 137.54, 132.64, 139.35, 140.42, 133.51, 144.75, 145.17, 146.97, 144.09, 148.95, 148.75, 151.3, 152.15, 151.98, 156.31, 156.41, 158.24, 157.89, 161.55, 163.06, 164.27, 180.86, 183.68, 184.2, 185.57, 193.8, 198.29, 201.32, 100.79, 102.37, 103.25, 105.2, 105.72, 108.52, 108.02, 111.1, 124.31, 114.12, 114.9, 116.63, 117.89, 114.58, 121.49, 126.19, 124.54, 126.36, 127.02}\n",
      "Number of unique values: 1\n"
     ]
    }
   ],
   "source": [
    "unique_prices = set()\n",
    "for p in tsla:\n",
    "    unique_prices.add(p)\n",
    "print(unique_prices)\n",
    "print(\"Number of unique values:\", len(tsla) - len(unique_prices))"
   ]
  },
  {
   "cell_type": "markdown",
   "metadata": {},
   "source": [
    "### We have another algo running that also buys shares of TSLA. Using the following list and the set from before, output a list of the unique set of prices of the combined lists."
   ]
  },
  {
   "cell_type": "code",
   "execution_count": 50,
   "metadata": {},
   "outputs": [
    {
     "name": "stdout",
     "output_type": "stream",
     "text": [
      "other tsla prices are correct\n"
     ]
    }
   ],
   "source": [
    "other_tsla_list = [114.12, 128.8, 102.37, 114.9, 132.4, 135.3, 151.3, 134.8, 111.1, 132.1]\n",
    "\n",
    "# to verify the above numbers are correct and have not been altered, uncomment and run the following:\n",
    "import hashlib; print(\"other tsla prices are correct\" if hashlib.md5(str(other_tsla_list).encode()).hexdigest() == '9d855ef64203308925c4259ca8864cda' else \"other prices are incorrect\")"
   ]
  },
  {
   "cell_type": "code",
   "execution_count": 51,
   "metadata": {},
   "outputs": [
    {
     "data": {
      "text/plain": [
       "{102.37, 111.1, 114.12, 114.9, 128.8, 132.1, 132.4, 134.8, 135.3, 151.3}"
      ]
     },
     "execution_count": 51,
     "metadata": {},
     "output_type": "execute_result"
    }
   ],
   "source": [
    "# list of the unique set of prices of the combined lists.\n",
    "combine_list = set(tsla).intersection(set(other_tsla_list))\n",
    "combine_list"
   ]
  },
  {
   "cell_type": "markdown",
   "metadata": {},
   "source": [
    "### Create a dictionary from the list of TSLA prices. Use the index of the sorted list as the key."
   ]
  },
  {
   "cell_type": "code",
   "execution_count": 55,
   "metadata": {},
   "outputs": [
    {
     "data": {
      "text/plain": [
       "{0: 132.56,\n",
       " 1: 105.2,\n",
       " 2: 137.54,\n",
       " 3: 124.31,\n",
       " 4: 124.54,\n",
       " 5: 108.52,\n",
       " 6: 139.35,\n",
       " 7: 121.49,\n",
       " 8: 117.89,\n",
       " 9: 100.79,\n",
       " 10: 116.63,\n",
       " 11: 108.02,\n",
       " 12: 103.25,\n",
       " 13: 105.72,\n",
       " 14: 114.12,\n",
       " 15: 128.8,\n",
       " 16: 102.37,\n",
       " 17: 114.9,\n",
       " 18: 132.4,\n",
       " 19: 135.3,\n",
       " 20: 151.3,\n",
       " 21: 134.8,\n",
       " 22: 111.1,\n",
       " 23: 132.1,\n",
       " 24: 156.31,\n",
       " 25: 114.58,\n",
       " 26: 140.42,\n",
       " 27: 127.02,\n",
       " 28: 126.36,\n",
       " 29: 132.64,\n",
       " 30: 152.15,\n",
       " 31: 126.19,\n",
       " 32: 156.41,\n",
       " 33: 148.95,\n",
       " 34: 164.27,\n",
       " 35: 129.99,\n",
       " 36: 145.17,\n",
       " 37: 151.98,\n",
       " 38: 148.75,\n",
       " 39: 144.75,\n",
       " 40: 133.51,\n",
       " 41: 146.97,\n",
       " 42: 144.09,\n",
       " 43: 129.79,\n",
       " 44: 152.15,\n",
       " 45: 161.55,\n",
       " 46: 158.24,\n",
       " 47: 157.89,\n",
       " 48: 163.06,\n",
       " 49: 180.86,\n",
       " 50: 185.57,\n",
       " 51: 198.29,\n",
       " 52: 184.2,\n",
       " 53: 183.68,\n",
       " 54: 193.8,\n",
       " 55: 201.32}"
      ]
     },
     "execution_count": 55,
     "metadata": {},
     "output_type": "execute_result"
    }
   ],
   "source": [
    "dict_tsla = {}\n",
    "for t in range(len(tsla)):\n",
    "    dict_tsla[t] = tsla[t]\n",
    "\n",
    "dict_tsla"
   ]
  },
  {
   "cell_type": "markdown",
   "metadata": {},
   "source": [
    "### How many shares of MSFT did we buy? \n",
    "\n",
    "Note: remember that for each buy, we bought only 1 share."
   ]
  },
  {
   "cell_type": "code",
   "execution_count": 99,
   "metadata": {},
   "outputs": [
    {
     "name": "stdout",
     "output_type": "stream",
     "text": [
      "number of msft shares is: 100\n"
     ]
    }
   ],
   "source": [
    "num_of_shares('msft',msft)"
   ]
  },
  {
   "cell_type": "markdown",
   "metadata": {},
   "source": [
    "### What was the average price of our MSFT shares?"
   ]
  },
  {
   "cell_type": "code",
   "execution_count": 100,
   "metadata": {},
   "outputs": [
    {
     "name": "stdout",
     "output_type": "stream",
     "text": [
      "average price of our msft shares: 199.40\n"
     ]
    }
   ],
   "source": [
    "average_price('msft',msft)"
   ]
  },
  {
   "cell_type": "markdown",
   "metadata": {},
   "source": [
    "### What was the lowest price we paid for a share of MSFT?"
   ]
  },
  {
   "cell_type": "code",
   "execution_count": 59,
   "metadata": {},
   "outputs": [
    {
     "name": "stdout",
     "output_type": "stream",
     "text": [
      "lowest price:  136.95\n"
     ]
    }
   ],
   "source": [
    "msft_price = sorted(msft)\n",
    "print(\"lowest price: \", msft_price[0])"
   ]
  },
  {
   "cell_type": "markdown",
   "metadata": {},
   "source": [
    "### What was the highest price we paid for a share of MSFT?"
   ]
  },
  {
   "cell_type": "code",
   "execution_count": 62,
   "metadata": {},
   "outputs": [
    {
     "name": "stdout",
     "output_type": "stream",
     "text": [
      "highest price:  270.01\n"
     ]
    }
   ],
   "source": [
    "print(\"highest price: \", msft_price[len(msft)-1])"
   ]
  },
  {
   "cell_type": "markdown",
   "metadata": {},
   "source": [
    "### Sort the list of MSFT prices in place. What were the five lowest prices we paid for MSFT shares?"
   ]
  },
  {
   "cell_type": "code",
   "execution_count": 63,
   "metadata": {},
   "outputs": [
    {
     "data": {
      "text/plain": [
       "[136.95, 139.53, 141.38, 146.5, 147.97]"
      ]
     },
     "execution_count": 63,
     "metadata": {},
     "output_type": "execute_result"
    }
   ],
   "source": [
    "msft_price[:5]"
   ]
  },
  {
   "cell_type": "markdown",
   "metadata": {},
   "source": [
    "### What were the five highest prices we paid for MSFT shares? \n",
    "\n",
    "Use a slice that includes a negative number"
   ]
  },
  {
   "cell_type": "code",
   "execution_count": 64,
   "metadata": {},
   "outputs": [
    {
     "data": {
      "text/plain": [
       "[256.97, 257.53, 257.89, 266.9, 270.01]"
      ]
     },
     "execution_count": 64,
     "metadata": {},
     "output_type": "execute_result"
    }
   ],
   "source": [
    "msft_price[-5::]"
   ]
  },
  {
   "cell_type": "markdown",
   "metadata": {},
   "source": [
    "### How many unique values do we have in our list of MSFT prices?"
   ]
  },
  {
   "cell_type": "code",
   "execution_count": 65,
   "metadata": {},
   "outputs": [
    {
     "name": "stdout",
     "output_type": "stream",
     "text": [
      "{206.04, 213.11, 213.03, 136.95, 139.53, 141.38, 146.5, 147.97, 149.65, 149.73, 151.72, 152.06, 151.2, 154.24, 153.23, 157.5, 158.8, 162.73, 165.53, 166.28, 167.69, 167.49, 174.94, 174.14, 176.05, 177.42, 176.67, 179.25, 180.19, 177.19, 181.82, 183.52, 184.11, 185.7, 186.68, 183.69, 183.38, 184.44, 186.13, 187.13, 184.14, 189.22, 190.19, 187.49, 192.82, 192.04, 191.2, 195.46, 195.15, 195.49, 198.55, 199.71, 199.76, 202.13, 202.89, 204.91, 205.52, 203.91, 207.77, 208.56, 205.86, 211.48, 212.38, 213.51, 208.68, 208.42, 214.33, 212.35, 220.2, 220.96, 222.39, 217.35, 224.32, 222.91, 226.3, 230.97, 234.01, 234.56, 234.95, 237.67, 235.53, 235.38, 240.86, 234.4, 243.46, 243.3, 246.18, 247.34, 251.64, 251.61, 253.5, 256.97, 257.89, 257.53, 266.9, 270.01, 175.61, 193.8, 200.86, 202.05}\n",
      "Number of unique values: 0\n"
     ]
    }
   ],
   "source": [
    "msft_unique_prices = set()\n",
    "for p in msft:\n",
    "    msft_unique_prices.add(p)\n",
    "print(msft_unique_prices)\n",
    "print(\"Number of unique values:\", len(msft) - len(msft_unique_prices))"
   ]
  },
  {
   "cell_type": "markdown",
   "metadata": {},
   "source": [
    "### We have another algo running that also buys shares of TSLA. Using the following list and the set from before, output a list of the unique prices of the combined lists."
   ]
  },
  {
   "cell_type": "code",
   "execution_count": 66,
   "metadata": {},
   "outputs": [
    {
     "name": "stdout",
     "output_type": "stream",
     "text": [
      "other_msft_prices are correct\n"
     ]
    }
   ],
   "source": [
    "other_msft_list = [149.73, 151.2, 189.22, 166.28, 187.13, 195.46, 158.8, 154.24, 190.19, 153.23, 192.82, 176.67, 192.04, 177.19]\n",
    "\n",
    "# to verify the above numbers are correct and have not been altered, uncomment and run the following:\n",
    "import hashlib; print(\"other_msft_prices are correct\" if hashlib.md5(str(other_msft_list).encode()).hexdigest() == '2340257f15e1472379a92741c3a83fdd' else \"other msft prices are incorrect\")"
   ]
  },
  {
   "cell_type": "markdown",
   "metadata": {},
   "source": [
    "### Create a dictionary from the list of MSFT prices. Use the index of the sorted list as the key."
   ]
  },
  {
   "cell_type": "code",
   "execution_count": 67,
   "metadata": {},
   "outputs": [
    {
     "data": {
      "text/plain": [
       "{149.73,\n",
       " 151.2,\n",
       " 153.23,\n",
       " 154.24,\n",
       " 158.8,\n",
       " 166.28,\n",
       " 176.67,\n",
       " 177.19,\n",
       " 187.13,\n",
       " 189.22,\n",
       " 190.19,\n",
       " 192.04,\n",
       " 192.82,\n",
       " 195.46}"
      ]
     },
     "execution_count": 67,
     "metadata": {},
     "output_type": "execute_result"
    }
   ],
   "source": [
    "msft_combine_list = set(msft).intersection(set(other_msft_list))\n",
    "msft_combine_list"
   ]
  },
  {
   "cell_type": "code",
   "execution_count": null,
   "metadata": {},
   "outputs": [],
   "source": []
  }
 ],
 "metadata": {
  "kernelspec": {
   "display_name": "Python 3",
   "language": "python",
   "name": "python3"
  },
  "language_info": {
   "codemirror_mode": {
    "name": "ipython",
    "version": 3
   },
   "file_extension": ".py",
   "mimetype": "text/x-python",
   "name": "python",
   "nbconvert_exporter": "python",
   "pygments_lexer": "ipython3",
   "version": "3.8.3"
  }
 },
 "nbformat": 4,
 "nbformat_minor": 4
}
