{
 "cells": [
  {
   "cell_type": "markdown",
   "metadata": {},
   "source": [
    "<div style=\"background: #000;\n",
    "            color: #FFF;\n",
    "            margin: 0px;\n",
    "                padding: 10px 0px 20px 0px;\n",
    "            text-align: center; \n",
    "                \">\n",
    "    <h1>Week 4 - Class 1</h1>\n",
    "</div>\n",
    "\n",
    "\n",
    "## Objectives for this week:\n",
    "* Creating processes and algorithms\n",
    "* Function declaration/Usage/Nesting\n",
    "* Arguments and Keywords, Function scope\n",
    "* Decorators/Recursion\n",
    "\n",
    "## Todays Agenda\n",
    "* Function declaration, usage, nesting\n",
    "* Arguments and Keywords, Function scope\n",
    "\n"
   ]
  },
  {
   "cell_type": "markdown",
   "metadata": {},
   "source": [
    "# Functions"
   ]
  },
  {
   "cell_type": "markdown",
   "metadata": {},
   "source": [
    "Functions are a way of \n",
    "\n",
    "Functions:\n",
    "\n",
    "```python\n",
    "# defining function\n",
    "    def func(arg1, arg2, kwarg1=True, kwarg2=\"default\"):\n",
    "        if kwarg1:\n",
    "            print(kwarg2)\n",
    "        return arg1 + arg2\n",
    "```\n",
    "```python\n",
    "# calling function\n",
    "    func(arg1, arg2, kwarg1=False, kwarg2=\"custom)\n",
    "```\n",
    "\n",
    "## How to use them"
   ]
  },
  {
   "cell_type": "code",
   "execution_count": 1,
   "metadata": {},
   "outputs": [
    {
     "name": "stdout",
     "output_type": "stream",
     "text": [
      "enter number6\n",
      "6\n"
     ]
    }
   ],
   "source": [
    "s = input('enter number')\n",
    "if s: print(s)"
   ]
  },
  {
   "cell_type": "code",
   "execution_count": 3,
   "metadata": {},
   "outputs": [
    {
     "name": "stdout",
     "output_type": "stream",
     "text": [
      "99\n"
     ]
    }
   ],
   "source": [
    "def number_function(num):\n",
    "    print(num)\n",
    "    \n",
    "number_function(99)"
   ]
  },
  {
   "cell_type": "markdown",
   "metadata": {},
   "source": [
    "# Arguments and keywords"
   ]
  },
  {
   "cell_type": "code",
   "execution_count": 8,
   "metadata": {},
   "outputs": [],
   "source": [
    "# def print_function():\n",
    "#     print(\"print function!\")"
   ]
  },
  {
   "cell_type": "code",
   "execution_count": 13,
   "metadata": {},
   "outputs": [],
   "source": [
    "def print_function():\n",
    "    print(\"print function!\")\n",
    "    print(\"line 2\")\n",
    "    print(\"line 3\")"
   ]
  },
  {
   "cell_type": "code",
   "execution_count": 14,
   "metadata": {},
   "outputs": [
    {
     "name": "stdout",
     "output_type": "stream",
     "text": [
      "print function!\n",
      "line 2\n",
      "line 3\n"
     ]
    }
   ],
   "source": [
    "print_function()"
   ]
  },
  {
   "cell_type": "code",
   "execution_count": 18,
   "metadata": {},
   "outputs": [
    {
     "name": "stdout",
     "output_type": "stream",
     "text": [
      "arg is a string\n"
     ]
    }
   ],
   "source": [
    "# function with argument\n",
    "\n",
    "def function_with_args(arg):\n",
    "#     if type(arg) == str:\n",
    "    if type(arg) == str:\n",
    "        print(arg, \"is a string\")\n",
    "    \n",
    "function_with_args(\"arg\") # try without argument"
   ]
  },
  {
   "cell_type": "code",
   "execution_count": 19,
   "metadata": {},
   "outputs": [
    {
     "name": "stdout",
     "output_type": "stream",
     "text": [
      "arg\n"
     ]
    }
   ],
   "source": [
    "# function with argument\n",
    "\n",
    "def function_with_args(arg):\n",
    "    print(arg)\n",
    "    \n",
    "function_with_args(\"arg\") # try without argument"
   ]
  },
  {
   "cell_type": "code",
   "execution_count": 20,
   "metadata": {},
   "outputs": [
    {
     "name": "stdout",
     "output_type": "stream",
     "text": [
      "print function using hello\n"
     ]
    }
   ],
   "source": [
    "# function with argument\n",
    "\n",
    "def print_function(word):\n",
    "    print(f\"print function using {word}\")\n",
    "    \n",
    "print_function(\"hello\")"
   ]
  },
  {
   "cell_type": "code",
   "execution_count": 21,
   "metadata": {},
   "outputs": [
    {
     "name": "stdout",
     "output_type": "stream",
     "text": [
      "print function using default\n"
     ]
    }
   ],
   "source": [
    "# function with a keyword argument\n",
    "\n",
    "def print_function(word=\"default\"):\n",
    "    print(f\"print function using {word}\")\n",
    "    \n",
    "print_function()"
   ]
  },
  {
   "cell_type": "code",
   "execution_count": 28,
   "metadata": {},
   "outputs": [
    {
     "name": "stdout",
     "output_type": "stream",
     "text": [
      "print function using judi\n",
      "print function using ...\n"
     ]
    },
    {
     "data": {
      "text/plain": [
       "3.0"
      ]
     },
     "execution_count": 28,
     "metadata": {},
     "output_type": "execute_result"
    }
   ],
   "source": [
    "# function with a keyword argument\n",
    "\n",
    "def print_function(word=\"default\", letter=24.0):\n",
    "    print(f\"print function using {word}\")\n",
    "    half_of_letter = letter/2.0\n",
    "    return half_of_letter\n",
    "    \n",
    "print_function(\"judi\")\n",
    "print_function(\"...\",6)"
   ]
  },
  {
   "cell_type": "code",
   "execution_count": 39,
   "metadata": {},
   "outputs": [
    {
     "name": "stdout",
     "output_type": "stream",
     "text": [
      "Arg: j and k\n",
      "Keyword True and default\n"
     ]
    }
   ],
   "source": [
    "# function with a keyword argument\n",
    "\n",
    "def print_function(arg1, arg2,kwarg1=True, kwarg2=\"default\"):\n",
    "    print(f\"Arg: {arg1} and {arg2}\")\n",
    "    print(f\"Keyword {kwarg1} and {kwarg2}\")\n",
    "    \n",
    "print_function(\"j\",\"k\")"
   ]
  },
  {
   "cell_type": "code",
   "execution_count": 45,
   "metadata": {},
   "outputs": [
    {
     "name": "stdout",
     "output_type": "stream",
     "text": [
      "('ming', 'alice', 'tom', 'wilson', 'roy')\n",
      "tom\n",
      "ming\n"
     ]
    }
   ],
   "source": [
    "# When use only positional arguments\n",
    "def save_ranking(*args):\n",
    "    print(args)\n",
    "    print(args[2]) \n",
    "    print(args[0]) \n",
    "\n",
    "save_ranking('ming', 'alice', 'tom', 'wilson', 'roy')"
   ]
  },
  {
   "cell_type": "code",
   "execution_count": 47,
   "metadata": {},
   "outputs": [
    {
     "name": "stdout",
     "output_type": "stream",
     "text": [
      "{'first': 'ming', 'second': 'alice', 'fourth': 'wilson', 'third': 'tom', 'fifth': 'roy'}\n"
     ]
    }
   ],
   "source": [
    "# When use only keyword arguments\n",
    "def save_ranking(**kwargs):\n",
    "    print(kwargs)\n",
    "save_ranking(first='ming', second='alice', fourth='wilson', third='tom', fifth='roy')"
   ]
  },
  {
   "cell_type": "code",
   "execution_count": 48,
   "metadata": {},
   "outputs": [
    {
     "name": "stdout",
     "output_type": "stream",
     "text": [
      "('ming', 'alice', 'tom')\n",
      "{'fourth': 'wilson', 'fifth': 'roy'}\n"
     ]
    }
   ],
   "source": [
    "# When use both positional arguments and keyword arguments\n",
    "\n",
    "def save_ranking(*args, **kwargs):\n",
    "    print(args)     \n",
    "    print(kwargs)\n",
    "save_ranking('ming', 'alice', 'tom', fourth='wilson', fifth='roy')\n",
    "\n",
    "# In above, *args means accepting the arbitrary numbers of positional arguments and **kwargs means accepting the arbitrary numbers of keyword arguments. In here, *args, **kwargs are called packing."
   ]
  },
  {
   "cell_type": "code",
   "execution_count": 54,
   "metadata": {},
   "outputs": [
    {
     "name": "stdout",
     "output_type": "stream",
     "text": [
      "string1 string2 True 0\n"
     ]
    }
   ],
   "source": [
    "def one_function(a1, a2, k1=True, k2=0):\n",
    "    print(a1, a2, k1, k2)\n",
    "    \n",
    "one_function(\"string1\", \"string2\")"
   ]
  },
  {
   "cell_type": "markdown",
   "metadata": {},
   "source": [
    "# formatting function\n",
    "## let's try to create a function that prints the following message for outr program\n",
    "`bot #num - {month}/{date} {time} - {status}`"
   ]
  },
  {
   "cell_type": "code",
   "execution_count": 78,
   "metadata": {},
   "outputs": [
    {
     "name": "stdout",
     "output_type": "stream",
     "text": [
      "Bot #100 - jan/11 10 am - busy\n"
     ]
    }
   ],
   "source": [
    "def timestamp(num, month, date, time, status=\"busy\"):\n",
    "    print(f\"Bot #{num} - {month}/{date} {time} - {status}\")\n",
    "timestamp(100, \"jan\", \"11\",\"10 am\")"
   ]
  },
  {
   "cell_type": "code",
   "execution_count": 81,
   "metadata": {},
   "outputs": [
    {
     "name": "stdout",
     "output_type": "stream",
     "text": [
      "Bot #100 - jan/11 10am - busy\n",
      "{'num': 100, 'month': 'jan', 'date': '11', 'time': '10am', 'status': 'busy'}\n"
     ]
    }
   ],
   "source": [
    "def timestamp(**t):\n",
    "    print(\"Bot #{} - {}/{} {} - {}\".format(t[\"num\"],t[\"month\"],t[\"date\"], t[\"time\"], t[\"status\"]))\n",
    "    print(t)\n",
    "timestamp(num=100, month=\"jan\", date=\"11\", time=\"10am\", status=\"busy\")"
   ]
  },
  {
   "cell_type": "markdown",
   "metadata": {},
   "source": [
    "# Function Scope"
   ]
  },
  {
   "cell_type": "code",
   "execution_count": 82,
   "metadata": {},
   "outputs": [
    {
     "data": {
      "text/plain": [
       "NoneType"
      ]
     },
     "execution_count": 82,
     "metadata": {},
     "output_type": "execute_result"
    }
   ],
   "source": [
    "# example with no return statement\n",
    "\n",
    "def no_return():\n",
    "    disappears = \"statement\"\n",
    "    \n",
    "type(no_return())"
   ]
  },
  {
   "cell_type": "code",
   "execution_count": 84,
   "metadata": {},
   "outputs": [
    {
     "name": "stdout",
     "output_type": "stream",
     "text": [
      "None\n",
      "90\n"
     ]
    }
   ],
   "source": [
    "# global scope example\n",
    "\n",
    "a = 50\n",
    "\n",
    "def global_adder_function(b):\n",
    "    global c \n",
    "    c = a + b\n",
    "\n",
    "print(global_adder_function(40))\n",
    "print(c)"
   ]
  },
  {
   "cell_type": "code",
   "execution_count": 85,
   "metadata": {},
   "outputs": [
    {
     "data": {
      "text/plain": [
       "90"
      ]
     },
     "execution_count": 85,
     "metadata": {},
     "output_type": "execute_result"
    }
   ],
   "source": [
    "a = 50\n",
    "\n",
    "def adder_function(b):\n",
    "    c = a + b\n",
    "    return c\n",
    "\n",
    "return_value = adder_function(40)\n",
    "return_value"
   ]
  },
  {
   "cell_type": "markdown",
   "metadata": {},
   "source": [
    "# Nesting control structures in function"
   ]
  },
  {
   "cell_type": "code",
   "execution_count": 32,
   "metadata": {},
   "outputs": [
    {
     "name": "stdout",
     "output_type": "stream",
     "text": [
      "prints s\n"
     ]
    }
   ],
   "source": [
    "def func(s):\n",
    "    if s:\n",
    "        print(f\"prints {s}\")\n",
    "\n",
    "func(\"s\")"
   ]
  },
  {
   "cell_type": "code",
   "execution_count": 86,
   "metadata": {},
   "outputs": [
    {
     "name": "stdout",
     "output_type": "stream",
     "text": [
      "1\n",
      "2\n",
      "3\n",
      "4\n",
      "5\n"
     ]
    }
   ],
   "source": [
    "def func(*args):\n",
    "    for arg in args:\n",
    "        if arg:\n",
    "            print(f\"{arg}\")\n",
    "            \n",
    "func(1,2,3,4,5,\"\")"
   ]
  },
  {
   "cell_type": "code",
   "execution_count": 87,
   "metadata": {},
   "outputs": [
    {
     "name": "stdout",
     "output_type": "stream",
     "text": [
      "[(0, 'orange'), (1, 'apple'), (2, 'banana')]\n",
      "0 orange\n",
      "1 apple\n",
      "2 banana\n"
     ]
    }
   ],
   "source": [
    "lst = [i for i in enumerate(['orange', 'apple', 'banana'])]\n",
    "\n",
    "print(lst)\n",
    "\n",
    "def func(lst):\n",
    "    for i,j in lst:\n",
    "        print(i, j)\n",
    "\n",
    "func(lst)"
   ]
  },
  {
   "cell_type": "code",
   "execution_count": 89,
   "metadata": {},
   "outputs": [
    {
     "data": {
      "text/plain": [
       "125000"
      ]
     },
     "execution_count": 89,
     "metadata": {},
     "output_type": "execute_result"
    }
   ],
   "source": [
    "# example using int as function parameter\n",
    "\n",
    "def function(s):\n",
    "    return s ** 3\n",
    "\n",
    "function(50)"
   ]
  },
  {
   "cell_type": "code",
   "execution_count": 106,
   "metadata": {},
   "outputs": [],
   "source": [
    "# Let's make a function that\n",
    "# takes an input: \"this is a sentence\" and capitalizes it to output: \"This Is A Sentence\""
   ]
  },
  {
   "cell_type": "code",
   "execution_count": 115,
   "metadata": {},
   "outputs": [],
   "source": [
    "word = []\n",
    "def capitalization(input_string):\n",
    "    words = input_string.split(' ')\n",
    "    for w in words:\n",
    "        global word\n",
    "        join_words = []\n",
    "        word.append(w[0].upper() + w[1:])\n",
    "        join_words.append(w[0].upper() + w[1:])\n",
    "#     return words\n",
    "    return \" \".join(join_words)"
   ]
  },
  {
   "cell_type": "code",
   "execution_count": 116,
   "metadata": {},
   "outputs": [
    {
     "data": {
      "text/plain": [
       "'This Is A Sentence'"
      ]
     },
     "execution_count": 116,
     "metadata": {},
     "output_type": "execute_result"
    }
   ],
   "source": [
    "capitalization(\"this is a sentence\")\n"
   ]
  },
  {
   "cell_type": "code",
   "execution_count": 117,
   "metadata": {},
   "outputs": [
    {
     "data": {
      "text/plain": [
       "'This Is A Sentence'"
      ]
     },
     "execution_count": 117,
     "metadata": {},
     "output_type": "execute_result"
    }
   ],
   "source": [
    "\" \".join(word)"
   ]
  },
  {
   "cell_type": "markdown",
   "metadata": {},
   "source": [
    "# Reasons to use functions:\n",
    "\n",
    "### Encapsulation\n",
    "\n",
    "\"Encapsulation refers to the bundling of data with the methods that operate on that data, or the restricting of direct access\"  \n",
    "[encapsulation article on wiki](https://en.wikipedia.org/wiki/Encapsulation_(computer_programming))\n",
    "\n",
    "### DRY\n",
    "\n",
    "Concept in python and other languages meaning \"Don't Repeat Yourself\". Functions can be useful to organize a set of statements into it's own code block to be used repeatedly in your code. If you keep writing the same statements all over your codebase, you'll notice you're repeating yourself and DRY indicates in this situation you should organize that code into it's own function to be used throughout."
   ]
  },
  {
   "cell_type": "code",
   "execution_count": null,
   "metadata": {},
   "outputs": [],
   "source": []
  }
 ],
 "metadata": {
  "kernelspec": {
   "display_name": "Python 3",
   "language": "python",
   "name": "python3"
  },
  "language_info": {
   "codemirror_mode": {
    "name": "ipython",
    "version": 3
   },
   "file_extension": ".py",
   "mimetype": "text/x-python",
   "name": "python",
   "nbconvert_exporter": "python",
   "pygments_lexer": "ipython3",
   "version": "3.8.3"
  }
 },
 "nbformat": 4,
 "nbformat_minor": 4
}
