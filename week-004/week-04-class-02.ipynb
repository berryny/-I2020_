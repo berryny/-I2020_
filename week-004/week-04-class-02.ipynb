{
 "cells": [
  {
   "cell_type": "markdown",
   "metadata": {},
   "source": [
    "<div style=\"background: #000;\n",
    "            color: #FFF;\n",
    "            margin: 0px;\n",
    "                padding: 10px 0px 20px 0px;\n",
    "            text-align: center; \n",
    "                \">\n",
    "    <h1>Python Data Science Course - Week 4 - Day 2</h1>\n",
    "</div>\n",
    "\n",
    "## Objectives for this week:\n",
    "* Creating processes and algorithms\n",
    "* Function declaration/Usage/Nesting\n",
    "* Arguments and Keywords, Function scope\n",
    "* Decorators/Recursion\n",
    "\n",
    "## Todays Agenda\n",
    "* Homework Presentations\n",
    "* Advanced functions\n",
    "* lambda functions\n",
    "* Recursion/Decorators/Currying\n"
   ]
  },
  {
   "cell_type": "markdown",
   "metadata": {},
   "source": [
    "# Homework Presentations\n"
   ]
  },
  {
   "cell_type": "markdown",
   "metadata": {},
   "source": [
    "# Exercise 1\n",
    "\n",
    "Write a for loop that sums the values of the following list and appends the different values to the correct list.\n",
    "\n",
    "Remember what we learned about the value of an `int` and `str`.\n",
    "\n",
    "Hint: try one part before the other."
   ]
  },
  {
   "cell_type": "code",
   "execution_count": null,
   "metadata": {},
   "outputs": [],
   "source": [
    "# list to sum\n",
    "list_vals = [82,True,'d',False,'v',7301,False,1,True,'x','F','w','Q','f',True]\n",
    "import hashlib;print(\"list_vals is correct\" if hashlib.md5(str(list_vals).encode()).hexdigest() == '867f5d64395c44f016668cc442fb650c' else \"list_vals is incorrect\")"
   ]
  },
  {
   "cell_type": "code",
   "execution_count": null,
   "metadata": {},
   "outputs": [],
   "source": [
    "list_for_bools = []\n",
    "list_for_ints = []\n",
    "list_for_chars = []\n",
    "sum_of_all = 0\n",
    "\n",
    "\n",
    "# use the following to output your results:\n",
    "print(sum_of_all)\n",
    "print(len(list_for_ints), list_for_ints)\n",
    "print(len(list_for_bools), list_for_bools)\n",
    "print(len(list_for_chars), list_for_chars)"
   ]
  },
  {
   "cell_type": "markdown",
   "metadata": {},
   "source": [
    "### Notes: \n",
    "`sum == 807`  \n",
    "`len(list_for_ints) == 3` \n",
    "`len(list_for_bools) == 5`    \n",
    "`len(list_for_chars) == 7`   "
   ]
  },
  {
   "cell_type": "markdown",
   "metadata": {},
   "source": [
    "# Exercise 2\n",
    "\n",
    "Given a tuple of strings. Find the following value `x` and print it. The loop should end when `x` is found"
   ]
  },
  {
   "cell_type": "code",
   "execution_count": 1,
   "metadata": {},
   "outputs": [],
   "source": [
    "x = '------'\n",
    "\n",
    "tuple_of_strings = ('steel', 'collect', 'capable', '------', 'shelter', 'language', 'mug', 'flowers')\n"
   ]
  },
  {
   "cell_type": "code",
   "execution_count": 2,
   "metadata": {},
   "outputs": [
    {
     "name": "stdout",
     "output_type": "stream",
     "text": [
      "steel\n",
      "collect\n",
      "capable\n",
      "complete \n"
     ]
    },
    {
     "data": {
      "text/plain": [
       "['steel', 'collect', 'capable', '------']"
      ]
     },
     "execution_count": 2,
     "metadata": {},
     "output_type": "execute_result"
    }
   ],
   "source": [
    "# enter your code here:\n",
    "value_found = []\n",
    "for val in tuple_of_strings:\n",
    "    if val == x:\n",
    "        value_found.append(val)\n",
    "        print(\"complete \")\n",
    "        break\n",
    "    else:\n",
    "        print(val)\n",
    "        value_found.append(val)\n",
    "value_found"
   ]
  },
  {
   "cell_type": "code",
   "execution_count": 6,
   "metadata": {},
   "outputs": [
    {
     "name": "stdout",
     "output_type": "stream",
     "text": [
      "found x: ------\n"
     ]
    }
   ],
   "source": [
    "# Using a while loop\n",
    "found = False\n",
    "i = 0\n",
    "while not found:\n",
    "    if tuple_of_strings[i] == x:\n",
    "        print(\"found x:\", tuple_of_strings[i])\n",
    "        found = True\n",
    "    i += 1"
   ]
  },
  {
   "cell_type": "markdown",
   "metadata": {},
   "source": [
    "# Arguments and Keywords continued"
   ]
  },
  {
   "cell_type": "code",
   "execution_count": 11,
   "metadata": {},
   "outputs": [
    {
     "data": {
      "text/plain": [
       "False"
      ]
     },
     "execution_count": 11,
     "metadata": {},
     "output_type": "execute_result"
    }
   ],
   "source": [
    "# recap both\n",
    "# Conditional argument\n",
    "def func(arg1):\n",
    "    return arg1\n",
    "\n",
    "func(False)"
   ]
  },
  {
   "cell_type": "code",
   "execution_count": 12,
   "metadata": {},
   "outputs": [
    {
     "data": {
      "text/plain": [
       "False"
      ]
     },
     "execution_count": 12,
     "metadata": {},
     "output_type": "execute_result"
    }
   ],
   "source": [
    "# Keyword argument\n",
    "def func(kwarg=True):\n",
    "   return kwarg\n",
    "\n",
    "func(False)"
   ]
  },
  {
   "cell_type": "code",
   "execution_count": 13,
   "metadata": {},
   "outputs": [
    {
     "data": {
      "text/plain": [
       "True"
      ]
     },
     "execution_count": 13,
     "metadata": {},
     "output_type": "execute_result"
    }
   ],
   "source": [
    "def func(kwarg=True):\n",
    "   return kwarg\n",
    "\n",
    "func()"
   ]
  },
  {
   "cell_type": "code",
   "execution_count": 9,
   "metadata": {},
   "outputs": [
    {
     "data": {
      "text/plain": [
       "False"
      ]
     },
     "execution_count": 9,
     "metadata": {},
     "output_type": "execute_result"
    }
   ],
   "source": [
    "def func(k=True, j=False):\n",
    "   return k\n",
    "\n",
    "func(j=False, k=False)"
   ]
  },
  {
   "cell_type": "code",
   "execution_count": 17,
   "metadata": {},
   "outputs": [
    {
     "data": {
      "text/plain": [
       "(2, 3, False, False)"
      ]
     },
     "execution_count": 17,
     "metadata": {},
     "output_type": "execute_result"
    }
   ],
   "source": [
    "# Conditional and Keyword arguments\n",
    "def func(arg1, arg2, k=True, j=False):\n",
    "   return (arg1, arg2, k, j)\n",
    "\n",
    "func(2,3,False,False)"
   ]
  },
  {
   "cell_type": "code",
   "execution_count": 18,
   "metadata": {},
   "outputs": [
    {
     "data": {
      "text/plain": [
       "False"
      ]
     },
     "execution_count": 18,
     "metadata": {},
     "output_type": "execute_result"
    }
   ],
   "source": [
    "def func(arg1, arg2, k=True, j=False):\n",
    "   return k\n",
    "\n",
    "func(1,2,j=False, k=False)"
   ]
  },
  {
   "cell_type": "markdown",
   "metadata": {},
   "source": [
    "# Arbitrary argument list"
   ]
  },
  {
   "cell_type": "code",
   "execution_count": 27,
   "metadata": {},
   "outputs": [
    {
     "data": {
      "text/plain": [
       "('arg1', 'arg2', 'arg3')"
      ]
     },
     "execution_count": 27,
     "metadata": {},
     "output_type": "execute_result"
    }
   ],
   "source": [
    "def func(arg1, arg2, arg3):\n",
    "    return arg1, arg2, arg3\n",
    "\n",
    "args = (\"arg1\", \"arg2\", \"arg3\")\n",
    "# Passing a number of arguments\n",
    "# args is a tuple of arguments with * is packing the argument\n",
    "# without the * [func(args)] means it's passing only one argument\n",
    "func(*args)"
   ]
  },
  {
   "cell_type": "code",
   "execution_count": 28,
   "metadata": {},
   "outputs": [
    {
     "name": "stdout",
     "output_type": "stream",
     "text": [
      "3\n",
      "4\n",
      "5\n",
      "6\n"
     ]
    }
   ],
   "source": [
    "# Excepting a group of arguments - unpacking\n",
    "def func(*args):\n",
    "    for arg in args:\n",
    "        print(arg)\n",
    "\n",
    "func(3,4,5,6)"
   ]
  },
  {
   "cell_type": "code",
   "execution_count": 29,
   "metadata": {},
   "outputs": [
    {
     "data": {
      "text/plain": [
       "True"
      ]
     },
     "execution_count": 29,
     "metadata": {},
     "output_type": "execute_result"
    }
   ],
   "source": [
    "def func(kwarg1=True, kwarg2=True):\n",
    "    return kwarg1 and kwarg2\n",
    "\n",
    "kwargs = {'kwarg1': True, 'kwarg2': False}\n",
    "func(kwargs)"
   ]
  },
  {
   "cell_type": "code",
   "execution_count": 40,
   "metadata": {},
   "outputs": [
    {
     "data": {
      "text/plain": [
       "False"
      ]
     },
     "execution_count": 40,
     "metadata": {},
     "output_type": "execute_result"
    }
   ],
   "source": [
    "def func(kwarg1=True, kwarg2=True):\n",
    "    return kwarg1 and kwarg2\n",
    "\n",
    "kwargs = {'kwarg1': True, 'kwarg2': False}\n",
    "# the ** tells it's unpacking the keyword arguments\n",
    "func(**kwargs)"
   ]
  },
  {
   "cell_type": "code",
   "execution_count": 45,
   "metadata": {},
   "outputs": [
    {
     "name": "stdout",
     "output_type": "stream",
     "text": [
      "<enumerate object at 0x0000019CCE521080> <enumerate object at 0x0000019CCE521900>\n",
      "Return type: <class 'enumerate'>\n",
      "[(0, 'eat'), (1, 'sleep'), (2, 'repeat')]\n",
      "{0: 'eat', 1: 'sleep', 2: 'repeat'}\n",
      "[(2, 'g'), (3, 'e'), (4, 'e'), (5, 'k')]\n"
     ]
    }
   ],
   "source": [
    "# This enumerate object can then be used directly in for loops or be converted into a list of tuples using list() method.\n",
    "# Python program to illustrate \n",
    "# enumerate function \n",
    "l1 = [\"eat\",\"sleep\",\"repeat\"] \n",
    "s1 = \"geek\"\n",
    "\n",
    "# creating enumerate objects \n",
    "obj1 = enumerate(l1) \n",
    "obj2 = enumerate(s1) \n",
    "\n",
    "print( obj1, obj2)\n",
    "print(\"Return type:\",type(obj1)) \n",
    "print( list(enumerate(l1))) \n",
    "print( dict(enumerate(l1))) \n",
    "\n",
    "\n",
    "# changing start index to 2 from 0 \n",
    "print( list(enumerate(s1,2))) \n"
   ]
  },
  {
   "cell_type": "code",
   "execution_count": 31,
   "metadata": {},
   "outputs": [
    {
     "name": "stdout",
     "output_type": "stream",
     "text": [
      "position 0 arugment is 3\n",
      "position 1 arugment is 4\n",
      "position 2 arugment is 5\n",
      "keyword argument a is 1\n",
      "keyword argument b is 2\n",
      "keyword argument c is 3\n"
     ]
    }
   ],
   "source": [
    "def func(*args, **kwargs):\n",
    "    for i, arg in enumerate(args):\n",
    "        print(f\"position {i} arugment is {arg}\")\n",
    "    for kwarg, val in kwargs.items():\n",
    "        print(f\"keyword argument {kwarg} is {val}\")\n",
    "\n",
    "func(3, 4, 5, a=1, b=2, c=3)"
   ]
  },
  {
   "cell_type": "code",
   "execution_count": 52,
   "metadata": {},
   "outputs": [],
   "source": [
    "# The / means let's python know anything before the slash is a conditional argument; anything after the slash is a mix argument\n",
    "# The * means anything after the * is a keywork argument\n",
    "\n",
    "def func(arg1, arg2, /, marg1, marg2, *, kwarg1=True, kwarg2=True):\n",
    "    print(f\"{arg1} {arg2} {marg1} {marg2} {kwarg1} {kwarg2}\")\n",
    "    \n",
    "# func(3,4,5,6,kwarg1=\"False\", kwarg2=\"False\")\n",
    "# func(3,4, marg1=5, marg2=6, kwarg1=\"False\", kwarg2=\"False\")\n",
    "# func(3,4,6,kwarg1=\"False\", kwarg2=\"False\")"
   ]
  },
  {
   "cell_type": "code",
   "execution_count": 53,
   "metadata": {},
   "outputs": [
    {
     "name": "stdout",
     "output_type": "stream",
     "text": [
      "3 4 5 6 False False\n"
     ]
    }
   ],
   "source": [
    "func(3,4,5,6,kwarg1=\"False\", kwarg2=\"False\")\n"
   ]
  },
  {
   "cell_type": "code",
   "execution_count": 54,
   "metadata": {},
   "outputs": [
    {
     "name": "stdout",
     "output_type": "stream",
     "text": [
      "3 4 5 6 False False\n"
     ]
    }
   ],
   "source": [
    "func(3,4, marg1=5, marg2=6, kwarg1=\"False\", kwarg2=\"False\")\n"
   ]
  },
  {
   "cell_type": "code",
   "execution_count": 55,
   "metadata": {},
   "outputs": [
    {
     "name": "stdout",
     "output_type": "stream",
     "text": [
      "3 4 6 7 False False\n"
     ]
    }
   ],
   "source": [
    "# TypeError: func() missing 1 required positional argument: 'marg2'\n",
    "# func(3,4,6,kwarg1=\"False\", kwarg2=\"False\")\n",
    "\n",
    "# Solution pass the missing argument marg2\n",
    "func(3,4,6,marg2=7,kwarg1=\"False\", kwarg2=\"False\")\n"
   ]
  },
  {
   "cell_type": "markdown",
   "metadata": {},
   "source": [
    "# Currying functions\n",
    "\n",
    "Using a curried function, we can essentially simplify functions to make them easier to use.  Mathematically, what we're doing is operating on the functions themselves in order to make our programming easier. So examples of this are: \n",
    "\n",
    "```\n",
    "f(x,y) -> x + y  \n",
    "y = 2  \n",
    "h(x) -> x + 2  \n",
    "```\n",
    "\n",
    "```\n",
    "f(x) = x + 3\n",
    "g(x) = x + 5\n",
    "f(g(x)) = x + 5 + 3\n",
    "```\n",
    "There's many ways to do this but we'll cover some to demonstrate.\n"
   ]
  },
  {
   "cell_type": "markdown",
   "metadata": {},
   "source": [
    "# f(g(x)) is\n",
    "```\n",
    "f(x+5) = (x+5) + 3\n",
    "f(x+5) = x + 8\n",
    "```"
   ]
  },
  {
   "cell_type": "code",
   "execution_count": 31,
   "metadata": {},
   "outputs": [
    {
     "name": "stdout",
     "output_type": "stream",
     "text": [
      "name: B, device: iOS\n"
     ]
    }
   ],
   "source": [
    "# f(x, y)\n",
    "def mobile_info(name, device):\n",
    "    print(f\"name: {name}, device: {device}\")\n",
    "    \n",
    "mobile_info(\"B\", \"iOS\")"
   ]
  },
  {
   "cell_type": "code",
   "execution_count": 32,
   "metadata": {},
   "outputs": [
    {
     "name": "stdout",
     "output_type": "stream",
     "text": [
      "name: A, device: android\n"
     ]
    }
   ],
   "source": [
    "# curried function\n",
    "# g(x) = f(x,y) where y = \"android\"\n",
    "def android_user(name):\n",
    "    mobile_info(name,\"android\")\n",
    "    \n",
    "android_user(\"A\")"
   ]
  },
  {
   "cell_type": "code",
   "execution_count": 33,
   "metadata": {},
   "outputs": [
    {
     "name": "stdout",
     "output_type": "stream",
     "text": [
      "6\n",
      "6\n"
     ]
    }
   ],
   "source": [
    "# f(x) = x * 3\n",
    "def multiply_by_3(num):\n",
    "    return num * 3\n",
    "\n",
    "# g(x) = x * 2\n",
    "def multiply_by_2(num):\n",
    "    return num * 2 \n",
    "\n",
    "print(multiply_by_3(2))\n",
    "print(multiply_by_2(3))"
   ]
  },
  {
   "cell_type": "code",
   "execution_count": 34,
   "metadata": {},
   "outputs": [
    {
     "data": {
      "text/plain": [
       "36"
      ]
     },
     "execution_count": 34,
     "metadata": {},
     "output_type": "execute_result"
    }
   ],
   "source": [
    "# curried function\n",
    "# f(g(x)) = x * 3 * 2\n",
    "\n",
    "def multiply_by_6(num):\n",
    "    return multiply_by_2(multiply_by_3(num))\n",
    "\n",
    "multiply_by_6(6)"
   ]
  },
  {
   "cell_type": "markdown",
   "metadata": {},
   "source": [
    "# Lambda Expressions\n",
    "\n",
    "Lambda expressions are a way to create functions on the fly. In other programming languages, they might be called anonymous functions. We've seen that we can use the map function like this:\n",
    "\n",
    "```python\n",
    "def stringer(x):\n",
    "    return str(x)\n",
    "\n",
    "map(stringer,  [1,2,3,4,5,6])\n",
    "```\n",
    "\n",
    "we could've also done this with a lambda expression:\n",
    "\n",
    "```python\n",
    "map(lambda x: str(x), [1,2,3,4,5,6])\n",
    "```"
   ]
  },
  {
   "cell_type": "code",
   "execution_count": 39,
   "metadata": {},
   "outputs": [
    {
     "data": {
      "text/plain": [
       "['1', '2', '3', '4', '5', '6']"
      ]
     },
     "execution_count": 39,
     "metadata": {},
     "output_type": "execute_result"
    }
   ],
   "source": [
    "def stringer(x):\n",
    "    return str(x)\n",
    "\n",
    "list(map(stringer,  [1,2,3,4,5,6]))"
   ]
  },
  {
   "cell_type": "code",
   "execution_count": 40,
   "metadata": {},
   "outputs": [
    {
     "data": {
      "text/plain": [
       "['1', '2', '3', '4', '5', '6']"
      ]
     },
     "execution_count": 40,
     "metadata": {},
     "output_type": "execute_result"
    }
   ],
   "source": [
    "list(map(lambda x: str(x), [1,2,3,4,5,6]))"
   ]
  },
  {
   "cell_type": "code",
   "execution_count": 41,
   "metadata": {},
   "outputs": [
    {
     "name": "stdout",
     "output_type": "stream",
     "text": [
      "718\n",
      "718\n"
     ]
    }
   ],
   "source": [
    "# function taking one argument and returning one value\n",
    "def stringer(x):\n",
    "    return str(x)\n",
    "\n",
    "# lambda function taking one argument and returning one value\n",
    "lambda_string = lambda x: str(x) \n",
    "\n",
    "print(stringer(0x2ce))\n",
    "print(lambda_string(0x2ce))"
   ]
  },
  {
   "cell_type": "code",
   "execution_count": 43,
   "metadata": {},
   "outputs": [
    {
     "name": "stdout",
     "output_type": "stream",
     "text": [
      "718\n",
      "718\n"
     ]
    }
   ],
   "source": [
    "# here we're using a lambda expression\n",
    "map(lambda x: str(x), [1,2,3,4,5,6])\n",
    "\n",
    "# here we're creating a lambda function\n",
    "function_a = lambda x: str(x)\n",
    "\n",
    "# similar way we could've done this using def\n",
    "def function_b(x): return str(x)\n",
    "\n",
    "print(function_a(0x2ce))\n",
    "print(function_b(0x2ce))"
   ]
  },
  {
   "cell_type": "code",
   "execution_count": 45,
   "metadata": {},
   "outputs": [
    {
     "data": {
      "text/plain": [
       "'goodbye'"
      ]
     },
     "execution_count": 45,
     "metadata": {},
     "output_type": "execute_result"
    }
   ],
   "source": [
    "# using lambda to create a conditional ternary operator similiar to JS\n",
    "lambda_with_if = lambda x: \"hello\" if type(x) == str else \"goodbye\"\n",
    "\n",
    "lambda_with_if(3)"
   ]
  },
  {
   "cell_type": "markdown",
   "metadata": {},
   "source": [
    "#### example of lambda function taking one argument"
   ]
  },
  {
   "cell_type": "code",
   "execution_count": 46,
   "metadata": {},
   "outputs": [
    {
     "data": {
      "text/plain": [
       "64"
      ]
     },
     "execution_count": 46,
     "metadata": {},
     "output_type": "execute_result"
    }
   ],
   "source": [
    "square_it = lambda a: a ** 2\n",
    "\n",
    "square_it(8)"
   ]
  },
  {
   "cell_type": "code",
   "execution_count": 47,
   "metadata": {},
   "outputs": [
    {
     "data": {
      "text/plain": [
       "64"
      ]
     },
     "execution_count": 47,
     "metadata": {},
     "output_type": "execute_result"
    }
   ],
   "source": [
    "def square_it_defined(num):\n",
    "    return num**2\n",
    "\n",
    "square_it(8)"
   ]
  },
  {
   "cell_type": "markdown",
   "metadata": {},
   "source": [
    "#### example of lambda function taking two arguments"
   ]
  },
  {
   "cell_type": "code",
   "execution_count": 48,
   "metadata": {},
   "outputs": [
    {
     "data": {
      "text/plain": [
       "30"
      ]
     },
     "execution_count": 48,
     "metadata": {},
     "output_type": "execute_result"
    }
   ],
   "source": [
    "x = lambda a, b : a * b\n",
    "\n",
    "x(5, 6)"
   ]
  },
  {
   "cell_type": "code",
   "execution_count": 49,
   "metadata": {},
   "outputs": [
    {
     "data": {
      "text/plain": [
       "30"
      ]
     },
     "execution_count": 49,
     "metadata": {},
     "output_type": "execute_result"
    }
   ],
   "source": [
    "def x_function(a,b): return a * b\n",
    "\n",
    "x_function(5,6)"
   ]
  },
  {
   "cell_type": "code",
   "execution_count": 62,
   "metadata": {},
   "outputs": [
    {
     "name": "stdout",
     "output_type": "stream",
     "text": [
      "completely_different_function 33\n",
      "mytripler_2 18\n",
      "mytripler 33\n"
     ]
    },
    {
     "data": {
      "text/plain": [
       "40"
      ]
     },
     "execution_count": 62,
     "metadata": {},
     "output_type": "execute_result"
    }
   ],
   "source": [
    "# example of a function\n",
    "# that takes argument n and returns the lambda function that multiplies n by `a`\n",
    "# to use we assign `mult_func` to a new variable `mytripler`\n",
    "# and when we call that function `mytripler`, the `\n",
    "# argument we pass is the `a`\n",
    "\n",
    "# essentially \n",
    "# mytripler(n) -> mult_func(3)(n)\n",
    "\n",
    "completely_different_function = lambda a, n: a * n\n",
    "print(\"completely_different_function\",completely_different_function(11,3))\n",
    "\n",
    "def mult_func(n): \n",
    "    return lambda a : a * n\n",
    "\n",
    "mytripler = mult_func(3)\n",
    "# sending 3 to \"n\"\n",
    "\n",
    "mytripler_2 = lambda a : a * 3\n",
    "print(\"mytripler_2\", mytripler_2(6))\n",
    "\n",
    "print(\"mytripler\", mytripler(11))\n",
    "#sending 11 to \"a\"\n",
    "\n",
    "# mult_func(11)(3)\n",
    "mult_func(10)(4)"
   ]
  },
  {
   "cell_type": "code",
   "execution_count": 63,
   "metadata": {},
   "outputs": [
    {
     "name": "stdout",
     "output_type": "stream",
     "text": [
      "33\n"
     ]
    },
    {
     "data": {
      "text/plain": [
       "33"
      ]
     },
     "execution_count": 63,
     "metadata": {},
     "output_type": "execute_result"
    }
   ],
   "source": [
    "def tripler_function(n):\n",
    "    def anon_mult_func(a):\n",
    "        return a * n\n",
    "    return anon_mult_func\n",
    "\n",
    "my_tripler = tripler_function(3)\n",
    "print(my_tripler(11))\n",
    "tripler_function(11)(3)"
   ]
  },
  {
   "cell_type": "markdown",
   "metadata": {},
   "source": [
    "# Decorator functions\n",
    "\n",
    "Decorator functions are a way to wrap a function in python to modify it's behavior. What this means is it allows you to do things before and after the function call you were making. This can be demonstrated as follows"
   ]
  },
  {
   "cell_type": "code",
   "execution_count": 64,
   "metadata": {},
   "outputs": [
    {
     "name": "stdout",
     "output_type": "stream",
     "text": [
      "hello world\n"
     ]
    }
   ],
   "source": [
    "def hello_world():\n",
    "    print(\"hello world\")\n",
    "    \n",
    "hello_world()"
   ]
  },
  {
   "cell_type": "code",
   "execution_count": 67,
   "metadata": {},
   "outputs": [
    {
     "name": "stdout",
     "output_type": "stream",
     "text": [
      "<pre>\n",
      "hello world\n",
      "</pre>\n"
     ]
    }
   ],
   "source": [
    "# example of decorator functions and why theyre useful\n",
    "# decorator_function(func) -> wrapper(func())\n",
    "\n",
    "def decorator_function(func):\n",
    "    def wrapper():\n",
    "        print(\"<pre>\")\n",
    "        func()\n",
    "        print(\"</pre>\")\n",
    "    return wrapper\n",
    "\n",
    "def hello_world():\n",
    "    print(\"hello world\")\n",
    "    \n",
    "wrapped_hello_world = decorator_function(hello_world)\n",
    "wrapped_hello_world()"
   ]
  },
  {
   "cell_type": "code",
   "execution_count": 82,
   "metadata": {},
   "outputs": [
    {
     "name": "stdout",
     "output_type": "stream",
     "text": [
      "<pre>\n",
      "hello world\n",
      "</pre>\n"
     ]
    }
   ],
   "source": [
    "# example of decorator functions and why theyre useful\n",
    "# decorator_function(func) -> wrapper(func())\n",
    "\n",
    "def decorator_function(f):\n",
    "    def wrapper():\n",
    "        print(\"<pre>\")\n",
    "        print(f)\n",
    "        print(\"</pre>\")\n",
    "    return wrapper\n",
    "\n",
    "def hello_world():\n",
    "    string = \"hello world\"\n",
    "    return string\n",
    "    \n",
    "wrapped_hello_world = decorator_function(hello_world())\n",
    "# add () to pass the return to decorator_function argument\n",
    "wrapped_hello_world()"
   ]
  },
  {
   "cell_type": "markdown",
   "metadata": {},
   "source": [
    "## Python Decorators\n",
    "- [Decorators for Functions and Methods](https://www.python.org/dev/peps/pep-0318/)\n",
    "- [Why@](https://www.python.org/dev/peps/pep-0318/#why)"
   ]
  },
  {
   "cell_type": "code",
   "execution_count": 84,
   "metadata": {},
   "outputs": [
    {
     "name": "stdout",
     "output_type": "stream",
     "text": [
      "<pre>\n",
      "I am a coder\n",
      "</pre>\n"
     ]
    }
   ],
   "source": [
    "# example of decorator functions and why theyre useful\n",
    "# decorator_function(func) -> wrapper(func())\n",
    "\n",
    "def print_html_function(f):\n",
    "    def wrapper():\n",
    "        print(\"<pre>\")\n",
    "        print(f())\n",
    "        print(\"</pre>\")\n",
    "    return wrapper\n",
    "\n",
    "# this is a wrapper that replace the statement 'decorator_function(hello_world())'\n",
    "@print_html_function\n",
    "def hello_world():\n",
    "    string = \"I am a coder\"\n",
    "    return string\n",
    "    \n",
    "hello_world()"
   ]
  },
  {
   "cell_type": "code",
   "execution_count": 86,
   "metadata": {},
   "outputs": [
    {
     "name": "stdout",
     "output_type": "stream",
     "text": [
      "<pre>\n",
      "goodbye coding world\n",
      "</pre>\n"
     ]
    }
   ],
   "source": [
    "@print_html_function\n",
    "def goodbye_world():\n",
    "    return \"goodbye coding world\"\n",
    "goodbye_world()"
   ]
  },
  {
   "cell_type": "code",
   "execution_count": 87,
   "metadata": {},
   "outputs": [
    {
     "data": {
      "text/plain": [
       "False"
      ]
     },
     "execution_count": 87,
     "metadata": {},
     "output_type": "execute_result"
    }
   ],
   "source": [
    "def func(kwarg1=True, kwarg2=True):\n",
    "    return kwarg1 and kwarg2\n",
    "\n",
    "kwargs = {'kwarg1': True, 'kwarg2': False}\n",
    "func(**kwargs)"
   ]
  },
  {
   "cell_type": "code",
   "execution_count": 88,
   "metadata": {},
   "outputs": [
    {
     "name": "stdout",
     "output_type": "stream",
     "text": [
      "<pre>\n",
      "hello world\n",
      "</pre>\n"
     ]
    }
   ],
   "source": [
    "def decorator_function(func):\n",
    "    def wrapper():\n",
    "        print(\"<pre>\")\n",
    "        func()\n",
    "        print(\"</pre>\")\n",
    "    return wrapper\n",
    "\n",
    "@decorator_function\n",
    "def hello_world():\n",
    "    print(\"hello world\")\n",
    "    \n",
    "hello_world()"
   ]
  },
  {
   "cell_type": "code",
   "execution_count": 89,
   "metadata": {},
   "outputs": [
    {
     "name": "stdout",
     "output_type": "stream",
     "text": [
      "<pre>\n",
      "hello world\n",
      "</pre>\n"
     ]
    }
   ],
   "source": [
    "hello_world()"
   ]
  },
  {
   "cell_type": "code",
   "execution_count": 90,
   "metadata": {},
   "outputs": [
    {
     "name": "stdout",
     "output_type": "stream",
     "text": [
      "<pre>\n",
      "hello world\n",
      "</pre>\n"
     ]
    }
   ],
   "source": [
    "wrapped_hello_world()"
   ]
  },
  {
   "cell_type": "code",
   "execution_count": 91,
   "metadata": {},
   "outputs": [
    {
     "name": "stdout",
     "output_type": "stream",
     "text": [
      "<pre>\n",
      "goodbye world\n",
      "</pre>\n"
     ]
    }
   ],
   "source": [
    "@decorator_function\n",
    "def goodbye_world():\n",
    "    print(\"goodbye world\")\n",
    "    \n",
    "goodbye_world()"
   ]
  },
  {
   "cell_type": "markdown",
   "metadata": {},
   "source": [
    "# Recursion\n",
    "\n",
    "A recursive function is a function that calls itself. If given some initial argument, you can iterate based on that value calling the function repeatedly to get a result. In this sense, it is similar to a loop. It will continue to call itself until it reaches a condition that terminates it. A simplified example of this is below.\n",
    "\n",
    "```python\n",
    "    def recursive_function(n):\n",
    "        if n == 1:\n",
    "            return 1\n",
    "        return recursive_function(n-1)\n",
    "```"
   ]
  },
  {
   "cell_type": "code",
   "execution_count": 101,
   "metadata": {},
   "outputs": [
    {
     "name": "stdout",
     "output_type": "stream",
     "text": [
      "10\n",
      "9\n",
      "8\n",
      "7\n",
      "6\n",
      "5\n",
      "4\n",
      "3\n",
      "2\n"
     ]
    },
    {
     "data": {
      "text/plain": [
       "1"
      ]
     },
     "execution_count": 101,
     "metadata": {},
     "output_type": "execute_result"
    }
   ],
   "source": [
    "def recursive_function(n):\n",
    "    if n == 1:\n",
    "        return 1\n",
    "    print(n)\n",
    "    return recursive_function(n-1)\n",
    "    \n",
    "recursive_function(10)"
   ]
  },
  {
   "cell_type": "code",
   "execution_count": 3,
   "metadata": {},
   "outputs": [
    {
     "data": {
      "text/plain": [
       "15"
      ]
     },
     "execution_count": 3,
     "metadata": {},
     "output_type": "execute_result"
    }
   ],
   "source": [
    "def sum_of_list(lst):\n",
    "    sum = 0\n",
    "    for i in range(len(lst)):\n",
    "        sum = sum + lst[i]\n",
    "    return sum\n",
    "\n",
    "sum_of_list([1,2,3,4,5])"
   ]
  },
  {
   "cell_type": "code",
   "execution_count": 4,
   "metadata": {},
   "outputs": [
    {
     "data": {
      "text/plain": [
       "15"
      ]
     },
     "execution_count": 4,
     "metadata": {},
     "output_type": "execute_result"
    }
   ],
   "source": [
    "sum([1,2,3,4,5])"
   ]
  },
  {
   "cell_type": "code",
   "execution_count": null,
   "metadata": {},
   "outputs": [],
   "source": [
    "def sum_of_list_recursive(lst):\n",
    "    if len(lst) == 1:\n",
    "        return lst[0]\n",
    "    else:\n",
    "        return lst[0] + sum_of_list_recursive(lst[1:])\n",
    "    \n",
    "sum_of_list_recursive([1,2,3,4,5])    "
   ]
  },
  {
   "cell_type": "markdown",
   "metadata": {},
   "source": [
    "#### How can we find the fibonnaci sequence using recursion?\n",
    "\n",
    "$$ 0, 1, 1, 2, 3, 5, 8, 13, 21, 34... $$\n",
    "\n",
    "```\n",
    "F(0) = 0\n",
    "F(1) = 1\n",
    "F(n) = F(n-1) + F(n-2)\n",
    "```"
   ]
  },
  {
   "cell_type": "code",
   "execution_count": 2,
   "metadata": {},
   "outputs": [
    {
     "name": "stdout",
     "output_type": "stream",
     "text": [
      "3000\n"
     ]
    }
   ],
   "source": [
    "import sys\n",
    "print(sys.getrecursionlimit())\n",
    "sys.setrecursionlimit(4000)\n"
   ]
  },
  {
   "cell_type": "code",
   "execution_count": 1,
   "metadata": {},
   "outputs": [
    {
     "data": {
      "text/plain": [
       "[0, 1, 1, 2, 3, 5, 8, 13, 21, 34]"
      ]
     },
     "execution_count": 1,
     "metadata": {},
     "output_type": "execute_result"
    }
   ],
   "source": [
    "def fibseq(num):\n",
    "    if num <= 1:\n",
    "        return num\n",
    "    else:\n",
    "        return fibseq(num - 1) + fibseq(num - 2)\n",
    "\n",
    "fibs = []\n",
    "for i in range(10):\n",
    "    fibs.append(fibseq(i))\n",
    "\n",
    "fibs"
   ]
  },
  {
   "cell_type": "code",
   "execution_count": null,
   "metadata": {},
   "outputs": [],
   "source": []
  }
 ],
 "metadata": {
  "kernelspec": {
   "display_name": "Python 3.8 (XPython)",
   "language": "python",
   "name": "xpython"
  },
  "language_info": {
   "file_extension": ".py",
   "mimetype": "text/x-python",
   "name": "python",
   "version": "3.8.5"
  }
 },
 "nbformat": 4,
 "nbformat_minor": 4
}
