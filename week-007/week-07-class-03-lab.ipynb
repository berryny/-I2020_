{
 "cells": [
  {
   "cell_type": "markdown",
   "metadata": {},
   "source": [
    "<div style=\"background: #000;\n",
    "            color: #FFF;\n",
    "            margin: 0px;\n",
    "                padding: 10px 0px 20px 0px;\n",
    "            text-align: center; \n",
    "                \">\n",
    "    <h1>Week 7 - Class 3 - Lab</h1>\n",
    "</div>\n"
   ]
  },
  {
   "cell_type": "markdown",
   "metadata": {},
   "source": [
    "# Question 1\n",
    "\n",
    "What is an example of a situation where you might want to use a `try`/`except`? Why?"
   ]
  },
  {
   "cell_type": "raw",
   "metadata": {},
   "source": [
    "The reason to use try / except is to execute multiple methonds by catching error types as it occurs without breaking the code."
   ]
  },
  {
   "cell_type": "markdown",
   "metadata": {},
   "source": [
    "# Exercise 1\n",
    "\n",
    "Create a base class called `Person` that stores `name`, `birthday`, `age` and `location`. Create methods that allow you to change those attributes (change name, birthday, age and location).\n",
    "\n",
    "Then create a class that inherits from `Person` called `Employee` that stores everything that `Person` sets but also `income`, `position` and `office_location`. Create methods that allow you to change/set those three attributes.\n",
    "\n",
    "Demonstrate that the `Employee` class can change all the attributes mentioned above.\n",
    "\n",
    "Bonus Points: Create a class attribute called `raise` and set that to 10% company wide. Create a method that applies that raise to `income` and demonstrate that you can use it to give employees a raise (company wide and per employee)."
   ]
  },
  {
   "cell_type": "code",
   "execution_count": null,
   "metadata": {},
   "outputs": [],
   "source": [
    "import random"
   ]
  },
  {
   "cell_type": "code",
   "execution_count": null,
   "metadata": {},
   "outputs": [],
   "source": [
    "personal_data = None\n",
    "\n",
    "# Create a base class called Person that stores name, birthday, age and location.\n",
    "class Person:\n",
    "    def __init__(self, name, birthday, age, location):\n",
    "#         self.person_id = self.unique_num()\n",
    "        self.name = name\n",
    "        self.birthday = birthday\n",
    "        self.age = age\n",
    "        self.location = location\n",
    "        \n",
    "    def unique_num(self):\n",
    "        personal_num = random.sample(range(1, 1000), 1)\n",
    "        return personal_num\n",
    "    \n",
    "#     Create methods that allow you to change those attributes (change name, birthday, age and location).\n",
    "    def update_personal(self,updates):\n",
    "        self.update = updates\n",
    "        print('self before:',self.name,self.birthday,self.age,self.location)\n",
    "        for attribute,val in self.update.items():\n",
    "            if attribute == 'name' and val != self.name:\n",
    "                self.name = val\n",
    "            elif attribute == 'birthday' and val != self.birthday:\n",
    "                self.birthday = val\n",
    "            elif attribute == 'age' and val != self.age:\n",
    "                self.age = val\n",
    "            elif attribute == 'location' and val != self.location:\n",
    "                self.location = val\n",
    "            else:\n",
    "                return False\n",
    "        print('self after:',self.name,self.birthday,self.age,self.location)\n"
   ]
  },
  {
   "cell_type": "code",
   "execution_count": null,
   "metadata": {},
   "outputs": [],
   "source": [
    "p = Person('Jon Doe', '10/02/1950', 70, 'New York')\n",
    "p.unique_num()"
   ]
  },
  {
   "cell_type": "code",
   "execution_count": null,
   "metadata": {},
   "outputs": [],
   "source": [
    "p.update_personal({'name' : 'Jon M Doe', 'location': 'Maine'})"
   ]
  },
  {
   "cell_type": "code",
   "execution_count": null,
   "metadata": {},
   "outputs": [],
   "source": [
    "# Then create a class that inherits from Person called Employee that stores everything that Person sets \n",
    "class Employee(Person):\n",
    "#     Create methods that allow you to change/set those three attributes.\n",
    "    def __init__(self, income, position, office_location):\n",
    "        self.income = income\n",
    "        self.position = position\n",
    "        self.office_location = office_location\n",
    "        \n",
    "#     Demonstrate that the Employee class can change all the attributes mentioned above.\n",
    "    def update_employement(self):\n",
    "        pass"
   ]
  },
  {
   "cell_type": "code",
   "execution_count": 6,
   "metadata": {},
   "outputs": [],
   "source": [
    "# Bonus Points: Create a class attribute called raise and set that to 10% company wide. Create a method that applies that raise to income and demonstrate that you can use it to give employees a raise (company wide and per employee)."
   ]
  },
  {
   "cell_type": "code",
   "execution_count": null,
   "metadata": {},
   "outputs": [],
   "source": []
  },
  {
   "cell_type": "markdown",
   "metadata": {},
   "source": [
    "# Exercise 2\n",
    "\n",
    "Fix the following code by catching the `IndexError` using try/except."
   ]
  },
  {
   "cell_type": "code",
   "execution_count": 7,
   "metadata": {},
   "outputs": [
    {
     "name": "stdout",
     "output_type": "stream",
     "text": [
      "1\n",
      "2\n",
      "3\n",
      "4\n",
      "5\n",
      "6\n",
      "7\n",
      "8\n",
      "list index out of range\n"
     ]
    }
   ],
   "source": [
    "s = [[1,2,3], [4,5,6], [7,8]]\n",
    "\n",
    "try:\n",
    "    for row in range(3):\n",
    "        for col in range(3):\n",
    "            print(s[row][col])\n",
    "except IndexError as ie:\n",
    "    print(ie)"
   ]
  },
  {
   "cell_type": "markdown",
   "metadata": {},
   "source": [
    "# Exercise 3\n",
    "\n",
    "Create a module that contains a single function. The function should be executable from the command line. It should take a series of `int`'s, sum them, and then output the result to the command line. Submit your *.py file with your name in the filename."
   ]
  },
  {
   "cell_type": "raw",
   "metadata": {},
   "source": [
    "Execute: week-007\\labs\\lab3.py\n",
    "Type: py lab3.py 3,4,4,5"
   ]
  },
  {
   "cell_type": "code",
   "execution_count": null,
   "metadata": {},
   "outputs": [],
   "source": []
  }
 ],
 "metadata": {
  "kernelspec": {
   "display_name": "Python 3",
   "language": "python",
   "name": "python3"
  },
  "language_info": {
   "codemirror_mode": {
    "name": "ipython",
    "version": 3
   },
   "file_extension": ".py",
   "mimetype": "text/x-python",
   "name": "python",
   "nbconvert_exporter": "python",
   "pygments_lexer": "ipython3",
   "version": "3.8.3"
  }
 },
 "nbformat": 4,
 "nbformat_minor": 4
}
