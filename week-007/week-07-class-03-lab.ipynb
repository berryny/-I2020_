{
 "cells": [
  {
   "cell_type": "markdown",
   "metadata": {},
   "source": [
    "<div style=\"background: #000;\n",
    "            color: #FFF;\n",
    "            margin: 0px;\n",
    "                padding: 10px 0px 20px 0px;\n",
    "            text-align: center; \n",
    "                \">\n",
    "    <h1>Week 7 - Class 3 - Lab</h1>\n",
    "</div>\n"
   ]
  },
  {
   "cell_type": "markdown",
   "metadata": {},
   "source": [
    "# Question 1\n",
    "\n",
    "What is an example of a situation where you might want to use a `try`/`except`? Why?"
   ]
  },
  {
   "cell_type": "raw",
   "metadata": {},
   "source": [
    "The reason to use try / except is to execute multiple methonds by catching error types as it occurs without breaking the code."
   ]
  },
  {
   "cell_type": "markdown",
   "metadata": {},
   "source": [
    "# Exercise 1\n",
    "\n",
    "Create a base class called `Person` that stores `name`, `birthday`, `age` and `location`. Create methods that allow you to change those attributes (change name, birthday, age and location).\n",
    "\n",
    "Then create a class that inherits from `Person` called `Employee` that stores everything that `Person` sets but also `income`, `position` and `office_location`. Create methods that allow you to change/set those three attributes.\n",
    "\n",
    "Demonstrate that the `Employee` class can change all the attributes mentioned above.\n",
    "\n",
    "Bonus Points: Create a class attribute called `raise` and set that to 10% company wide. Create a method that applies that raise to `income` and demonstrate that you can use it to give employees a raise (company wide and per employee)."
   ]
  },
  {
   "cell_type": "code",
   "execution_count": 1,
   "metadata": {},
   "outputs": [
    {
     "name": "stdout",
     "output_type": "stream",
     "text": [
      "today,year 2020-11-01 2020\n"
     ]
    }
   ],
   "source": [
    "import random\n",
    "import datetime\n",
    "today = datetime.date.today() \n",
    "year = datetime.date.today().year\n",
    "print('today,year',today,year)"
   ]
  },
  {
   "cell_type": "code",
   "execution_count": 2,
   "metadata": {},
   "outputs": [],
   "source": [
    "# Create a base class called Person that stores name, birthday, age and location.\n",
    "class Person:\n",
    "    personal_data = []\n",
    "    def __init__(self, emp_id, name, birthday, location):\n",
    "        self.emp_id = emp_id\n",
    "        self.name = name\n",
    "        self.birthday = birthday\n",
    "        self.age = today.year - birthday.year - ((today.month, today.day) < (birthday.month, birthday.day))\n",
    "        self.location = location\n",
    "        \n",
    "    @staticmethod\n",
    "    def unique_num():\n",
    "        personal_num = random.sample(range(1, 1000), 1)\n",
    "        return personal_num[0]\n",
    "    \n",
    "    def add_personal(self):\n",
    "        personObj = {}\n",
    "        personObj['emp_id'] = self.emp_id\n",
    "        personObj['name'] = self.name\n",
    "        personObj['birthday'] = self.birthday\n",
    "        personObj['age'] = self.age\n",
    "        personObj['location'] = self.location\n",
    "        self.personal_data.append(personObj)\n",
    "        return self.personal_data\n",
    "    \n",
    "#     Create methods that allow you to change those attributes (change name, birthday, age and location).\n",
    "    def update_personal(self,person_id, updates):\n",
    "        self.person_id = person_id\n",
    "        self.updates = updates\n",
    "        update_info = self.lookup_employee(self.person_id)\n",
    "        try:\n",
    "            update_info.update(self.updates)\n",
    "        except Exception as es:\n",
    "            print('err:',es)\n",
    "        print('update_personal:',self.personal_data)\n",
    "\n",
    "    def lookup_employee(self, num):\n",
    "        self.num = num\n",
    "        find_emp = next(item for item in self.personal_data if item[\"emp_id\"] == self.num)\n",
    "        return find_emp\n",
    "        "
   ]
  },
  {
   "cell_type": "code",
   "execution_count": 3,
   "metadata": {},
   "outputs": [
    {
     "data": {
      "text/plain": [
       "[{'emp_id': 446,\n",
       "  'name': 'Jon Doe',\n",
       "  'birthday': datetime.date(1950, 1, 15),\n",
       "  'age': 70,\n",
       "  'location': 'New York'}]"
      ]
     },
     "execution_count": 3,
     "metadata": {},
     "output_type": "execute_result"
    }
   ],
   "source": [
    "id_num = Person.unique_num()\n",
    "p = Person(id_num,'Jon Doe', datetime.date(1950, 1, 15), 'New York')\n",
    "p.add_personal()\n",
    "p.personal_data"
   ]
  },
  {
   "cell_type": "code",
   "execution_count": 4,
   "metadata": {},
   "outputs": [
    {
     "data": {
      "text/plain": [
       "[{'emp_id': 446,\n",
       "  'name': 'Jon Doe',\n",
       "  'birthday': datetime.date(1950, 1, 15),\n",
       "  'age': 70,\n",
       "  'location': 'New York'},\n",
       " {'emp_id': 90,\n",
       "  'name': 'Jane Smith',\n",
       "  'birthday': datetime.date(1986, 11, 20),\n",
       "  'age': 33,\n",
       "  'location': 'New York'}]"
      ]
     },
     "execution_count": 4,
     "metadata": {},
     "output_type": "execute_result"
    }
   ],
   "source": [
    "id_num = Person.unique_num()\n",
    "p = Person(id_num,'Jane Smith', datetime.date(1986, 11, 20), 'New York')\n",
    "p.add_personal()\n",
    "p.personal_data"
   ]
  },
  {
   "cell_type": "code",
   "execution_count": 5,
   "metadata": {},
   "outputs": [
    {
     "name": "stdout",
     "output_type": "stream",
     "text": [
      "update_personal: [{'emp_id': 446, 'name': 'Jon M Doe', 'birthday': datetime.date(1950, 1, 15), 'age': 70, 'location': 'Maine'}, {'emp_id': 90, 'name': 'Jane Smith', 'birthday': datetime.date(1986, 11, 20), 'age': 33, 'location': 'New York'}]\n"
     ]
    }
   ],
   "source": [
    "p.update_personal(446, {'name' : 'Jon M Doe', 'location': 'Maine'})"
   ]
  },
  {
   "cell_type": "code",
   "execution_count": 6,
   "metadata": {},
   "outputs": [],
   "source": [
    "# Then create a class that inherits from Person called Employee that stores everything that Person sets \n",
    "class Employee(Person):\n",
    "#     Create methods that allow you to change/set those three attributes.\n",
    "    def __init__(self, person_num, person_dict):\n",
    "        self.person_num = person_num\n",
    "        self.person_dict = person_dict\n",
    "        self.person_info = Person.lookup_employee(self, self.person_num)\n",
    "        print('self.person_info\\n',self.person_num,self.person_info)\n",
    "\n",
    "    def add_employement(self):\n",
    "        add_info = self.person_info\n",
    "        print('add_info\\n',add_info)\n",
    "        try:\n",
    "            add_info.update({'employement': self.person_dict})\n",
    "        except Exception as es:\n",
    "            print('err:',es)\n",
    "        print('update_personal:',self.personal_data)\n",
    "        \n",
    "#     Demonstrate that the Employee class can change all the attributes mentioned above.\n",
    "    def update_employement(self, emp_num, emp_info):\n",
    "        self.emp_num = emp_num\n",
    "        self.emp_info = emp_info\n",
    "        self.person_emp = Person.lookup_employee(self, emp_num)\n",
    "        person_emp = self.person_emp\n",
    "        if person_emp != None:\n",
    "            for k,v in person_emp.items():\n",
    "                if k == 'employement':\n",
    "                    person_emp['employement'].update(self.emp_info)\n",
    "        print('update_employement',self.person_emp)\n"
   ]
  },
  {
   "cell_type": "code",
   "execution_count": 7,
   "metadata": {},
   "outputs": [
    {
     "name": "stdout",
     "output_type": "stream",
     "text": [
      "self.person_info\n",
      " 446 {'emp_id': 446, 'name': 'Jon M Doe', 'birthday': datetime.date(1950, 1, 15), 'age': 70, 'location': 'Maine'}\n",
      "add_info\n",
      " {'emp_id': 446, 'name': 'Jon M Doe', 'birthday': datetime.date(1950, 1, 15), 'age': 70, 'location': 'Maine'}\n",
      "update_personal: [{'emp_id': 446, 'name': 'Jon M Doe', 'birthday': datetime.date(1950, 1, 15), 'age': 70, 'location': 'Maine', 'employement': {'income': 10000, 'position': 'Market Research', 'office_location': 'New York'}}, {'emp_id': 90, 'name': 'Jane Smith', 'birthday': datetime.date(1986, 11, 20), 'age': 33, 'location': 'New York'}]\n"
     ]
    }
   ],
   "source": [
    "e = Employee(446, {'income' : 10000, 'position' : 'Market Research', 'office_location' : 'New York'})\n",
    "e.add_employement()"
   ]
  },
  {
   "cell_type": "code",
   "execution_count": 8,
   "metadata": {},
   "outputs": [
    {
     "name": "stdout",
     "output_type": "stream",
     "text": [
      "self.person_info\n",
      " 90 {'emp_id': 90, 'name': 'Jane Smith', 'birthday': datetime.date(1986, 11, 20), 'age': 33, 'location': 'New York'}\n",
      "add_info\n",
      " {'emp_id': 90, 'name': 'Jane Smith', 'birthday': datetime.date(1986, 11, 20), 'age': 33, 'location': 'New York'}\n",
      "update_personal: [{'emp_id': 446, 'name': 'Jon M Doe', 'birthday': datetime.date(1950, 1, 15), 'age': 70, 'location': 'Maine', 'employement': {'income': 10000, 'position': 'Market Research', 'office_location': 'New York'}}, {'emp_id': 90, 'name': 'Jane Smith', 'birthday': datetime.date(1986, 11, 20), 'age': 33, 'location': 'New York', 'employement': {'income': 5000, 'position': 'Intern', 'office_location': 'New Mexico'}}]\n"
     ]
    }
   ],
   "source": [
    "e = Employee(90, {'income' : 5000, 'position' : 'Intern', 'office_location' : 'New Mexico'})\n",
    "e.add_employement()"
   ]
  },
  {
   "cell_type": "code",
   "execution_count": 9,
   "metadata": {},
   "outputs": [
    {
     "name": "stdout",
     "output_type": "stream",
     "text": [
      "update_employement {'emp_id': 446, 'name': 'Jon M Doe', 'birthday': datetime.date(1950, 1, 15), 'age': 70, 'location': 'Maine', 'employement': {'income': 10000, 'position': 'Market Research', 'office_location': 'Remote'}}\n"
     ]
    }
   ],
   "source": [
    "e.update_employement(446, {'office_location' : 'Remote'})"
   ]
  },
  {
   "cell_type": "code",
   "execution_count": 10,
   "metadata": {},
   "outputs": [
    {
     "name": "stdout",
     "output_type": "stream",
     "text": [
      "[{'emp_id': 446, 'name': 'Jon M Doe', 'birthday': datetime.date(1950, 1, 15), 'age': 70, 'location': 'Maine', 'employement': {'income': 11000.0, 'position': 'Market Research', 'office_location': 'Remote'}}, {'emp_id': 90, 'name': 'Jane Smith', 'birthday': datetime.date(1986, 11, 20), 'age': 33, 'location': 'New York', 'employement': {'income': 5500.0, 'position': 'Intern', 'office_location': 'New Mexico'}}]\n"
     ]
    }
   ],
   "source": [
    "\"\"\"\n",
    "Bonus Points: Create a class attribute called raise and set that to 10% company wide. \n",
    "    Create a method that applies that raise to income and demonstrate that \n",
    "    you can use it to give employees a raise (company wide and per employee).\n",
    "\"\"\"\n",
    "class Raise:\n",
    "    def __init__(self,pre):\n",
    "        if isinstance(pre,int):\n",
    "            self.pre = pre\n",
    "        else:\n",
    "            self.pre = 0\n",
    "        \n",
    "    def add_raise(self):\n",
    "        if self.pre > 0:\n",
    "            pd = Person.personal_data\n",
    "            for p in pd:\n",
    "                r = ((self.pre/100) * p['employement']['income']) + p['employement']['income']\n",
    "                p['employement']['income'] = r\n",
    "        else:\n",
    "            print(\"Enter a number.\")\n",
    "r = Raise(10)\n",
    "r.add_raise()\n",
    "print(Person.personal_data)"
   ]
  },
  {
   "cell_type": "markdown",
   "metadata": {},
   "source": [
    "# Exercise 2\n",
    "\n",
    "Fix the following code by catching the `IndexError` using try/except."
   ]
  },
  {
   "cell_type": "code",
   "execution_count": 11,
   "metadata": {},
   "outputs": [
    {
     "name": "stdout",
     "output_type": "stream",
     "text": [
      "1\n",
      "2\n",
      "3\n",
      "4\n",
      "5\n",
      "6\n",
      "7\n",
      "8\n",
      "list index out of range\n"
     ]
    }
   ],
   "source": [
    "s = [[1,2,3], [4,5,6], [7,8]]\n",
    "\n",
    "try:\n",
    "    for row in range(3):\n",
    "        for col in range(3):\n",
    "            print(s[row][col])\n",
    "except IndexError as ie:\n",
    "    print(ie)"
   ]
  },
  {
   "cell_type": "markdown",
   "metadata": {},
   "source": [
    "# Exercise 3\n",
    "\n",
    "Create a module that contains a single function. The function should be executable from the command line. It should take a series of `int`'s, sum them, and then output the result to the command line. Submit your *.py file with your name in the filename."
   ]
  },
  {
   "cell_type": "raw",
   "metadata": {},
   "source": [
    "Execute: week-007\\labs\\lab3.py\n",
    "Type: py lab3.py 3,4,4,5"
   ]
  }
 ],
 "metadata": {
  "kernelspec": {
   "display_name": "Python 3",
   "language": "python",
   "name": "python3"
  },
  "language_info": {
   "codemirror_mode": {
    "name": "ipython",
    "version": 3
   },
   "file_extension": ".py",
   "mimetype": "text/x-python",
   "name": "python",
   "nbconvert_exporter": "python",
   "pygments_lexer": "ipython3",
   "version": "3.8.3"
  }
 },
 "nbformat": 4,
 "nbformat_minor": 4
}
