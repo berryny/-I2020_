{
 "cells": [
  {
   "cell_type": "markdown",
   "metadata": {},
   "source": [
    "<div style=\"background: #000;\n",
    "            color: #FFF;\n",
    "            margin: 0px;\n",
    "                padding: 10px 0px 20px 0px;\n",
    "            text-align: center; \n",
    "                \">\n",
    "    <h1>Week 7 - Class 2 - Lab</h1>\n",
    "</div>\n"
   ]
  },
  {
   "cell_type": "markdown",
   "metadata": {},
   "source": [
    "# Question\n",
    "\n",
    "What is something we could make with the python we know now? Give an example of something and then describe what parts it might need (functions, classes, etc.) that would be necessary in order to get it to work. "
   ]
  },
  {
   "cell_type": "code",
   "execution_count": null,
   "metadata": {},
   "outputs": [],
   "source": []
  },
  {
   "cell_type": "markdown",
   "metadata": {},
   "source": [
    "# Exercise 1\n",
    "\n",
    "Create a class of your own creation. Use at least 3 attributes and 3 methods (excluding `__init__`). Bonus points if you use other dunder methods."
   ]
  },
  {
   "cell_type": "code",
   "execution_count": 1,
   "metadata": {},
   "outputs": [],
   "source": [
    "class Collective:\n",
    "    data = []\n",
    "    \n",
    "    def __init__(self, *args):\n",
    "        print('__init__',args)\n",
    "        self.collective = args\n",
    "        \n",
    "    def __repr__(self):\n",
    "        return f\"__repr__: {self.collective}\"\n",
    "    \n",
    "    def __str__(self):\n",
    "        return f\"Artist Collective: {self.collective}\"\n",
    "  \n",
    "    def artist_info(self):\n",
    "\n",
    "        for c in self.collective:\n",
    "            artObj = {}\n",
    "            artObj['artist_name'] = c[0]\n",
    "            artObj['artwork_style'] = c[1].split(',')\n",
    "            self.data.append(artObj)\n",
    "        return self.data\n",
    "        \n"
   ]
  },
  {
   "cell_type": "code",
   "execution_count": 2,
   "metadata": {},
   "outputs": [
    {
     "name": "stdout",
     "output_type": "stream",
     "text": [
      "__init__ (['name1', 'writer'], ['name2', 'street art, painter'])\n"
     ]
    },
    {
     "data": {
      "text/plain": [
       "[{'artist_name': 'name1', 'artwork_style': ['writer']},\n",
       " {'artist_name': 'name2', 'artwork_style': ['street art', ' painter']}]"
      ]
     },
     "execution_count": 2,
     "metadata": {},
     "output_type": "execute_result"
    }
   ],
   "source": [
    "c = Collective(['name1', 'writer'],['name2', 'street art, painter'])\n",
    "c.artist_info()"
   ]
  },
  {
   "cell_type": "code",
   "execution_count": 3,
   "metadata": {},
   "outputs": [
    {
     "name": "stdout",
     "output_type": "stream",
     "text": [
      "__init__ (['name3', 'poet'], ['name4', 'street art'])\n"
     ]
    },
    {
     "data": {
      "text/plain": [
       "[{'artist_name': 'name1', 'artwork_style': ['writer']},\n",
       " {'artist_name': 'name2', 'artwork_style': ['street art', ' painter']},\n",
       " {'artist_name': 'name3', 'artwork_style': ['poet']},\n",
       " {'artist_name': 'name4', 'artwork_style': ['street art']}]"
      ]
     },
     "execution_count": 3,
     "metadata": {},
     "output_type": "execute_result"
    }
   ],
   "source": [
    "c = Collective(['name3', 'poet'],['name4', 'street art'])\n",
    "c.artist_info()"
   ]
  },
  {
   "cell_type": "code",
   "execution_count": 4,
   "metadata": {},
   "outputs": [
    {
     "data": {
      "text/plain": [
       "__repr__: (['name3', 'poet'], ['name4', 'street art'])"
      ]
     },
     "execution_count": 4,
     "metadata": {},
     "output_type": "execute_result"
    }
   ],
   "source": [
    "c"
   ]
  },
  {
   "cell_type": "code",
   "execution_count": 5,
   "metadata": {},
   "outputs": [
    {
     "name": "stdout",
     "output_type": "stream",
     "text": [
      "[{'artist_name': 'name1', 'artwork_style': ['writer']}, {'artist_name': 'name2', 'artwork_style': ['street art', ' painter']}, {'artist_name': 'name3', 'artwork_style': ['poet']}, {'artist_name': 'name4', 'artwork_style': ['street art']}]\n"
     ]
    }
   ],
   "source": [
    "print(c.data)"
   ]
  },
  {
   "cell_type": "markdown",
   "metadata": {},
   "source": [
    "# Exercise 2\n",
    "\n",
    "Create a module that is a commmand line script similar to our guessing game. Include at least 1 class with the related methods. Submit the `.py` file that runs your script with no errors."
   ]
  },
  {
   "cell_type": "markdown",
   "metadata": {},
   "source": [
    "Notes:\n",
    "For the following exercises, you will create a file name using the following function and then submit that file with this notebook.\n"
   ]
  },
  {
   "cell_type": "code",
   "execution_count": 6,
   "metadata": {},
   "outputs": [
    {
     "name": "stdout",
     "output_type": "stream",
     "text": [
      "labs/judi-module.py\n"
     ]
    }
   ],
   "source": [
    "produce_file_name = lambda name: print(f\"labs/{name}-module.py\")   \n",
    "produce_file_name('judi')"
   ]
  },
  {
   "cell_type": "markdown",
   "metadata": {},
   "source": [
    "### If finished, work on Project."
   ]
  },
  {
   "cell_type": "raw",
   "metadata": {},
   "source": [
    "Done"
   ]
  }
 ],
 "metadata": {
  "kernelspec": {
   "display_name": "Python 3",
   "language": "python",
   "name": "python3"
  },
  "language_info": {
   "codemirror_mode": {
    "name": "ipython",
    "version": 3
   },
   "file_extension": ".py",
   "mimetype": "text/x-python",
   "name": "python",
   "nbconvert_exporter": "python",
   "pygments_lexer": "ipython3",
   "version": "3.8.3"
  }
 },
 "nbformat": 4,
 "nbformat_minor": 4
}
