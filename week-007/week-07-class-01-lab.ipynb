{
 "cells": [
  {
   "cell_type": "markdown",
   "metadata": {},
   "source": [
    "<div style=\"background: #000;\n",
    "            color: #FFF;\n",
    "            margin: 0px;\n",
    "                padding: 10px 0px 20px 0px;\n",
    "            text-align: center; \n",
    "                \">\n",
    "    <h1>Lab</h1>\n",
    "</div>\n"
   ]
  },
  {
   "cell_type": "markdown",
   "metadata": {},
   "source": [
    "# HW Exercise 1\n",
    "\n",
    "Create a class called `Course` and a class called `Student` based on what you think they will need. Create a way to store 20 \"students\" (instances of the `Student` class into an instance of `Course` to represent our Data Science course. \n",
    "\n",
    "Demonstrate that your code works. Message on slack if stuck or need clarification."
   ]
  },
  {
   "cell_type": "code",
   "execution_count": 1,
   "metadata": {},
   "outputs": [],
   "source": [
    "class Student:\n",
    "    \"\"\"Data Science Enrollment\"\"\"\n",
    "    def __init__(self, roster):\n",
    "        self.student = roster\n",
    "    \n",
    "    def __repr__(self):\n",
    "        return f\"Student Roster: {self.student}\"\n",
    "    \n",
    "    def __str__(self):\n",
    "        return f\"<Students in courses:  {self.student}\"\n",
    "\n",
    "class Course():\n",
    "    def __init__(self, *names):\n",
    "        self.student_roster = list(names)\n",
    "        \n",
    "    def add_student(self,*student_to_course):\n",
    "#         print('student_to_course',student_to_course)\n",
    "        if isinstance(student_to_course, Course):\n",
    "            self.student_roster.append(student_to_course)\n",
    "\n",
    "student_names = [\"Adam\", \"Scott\", \"Michael\", \"Andrew\", \"Mark\", \"Fernando\", \"Faith\", \"Steve\", \"Lee\", \"Amani\", \"Liv\", \"Nick A\", \"James\", \"Jake\", \"Brett\", \"Graham\", \"Fraser\", \"Jacob\", \"Chelsea\", \"Phil\", \"George\", \"Charley\", \"Emma\", \"Steph\"]\n",
    "student_data = Student(student_names)\n",
    "\n",
    "students = Course(student_data)\n",
    "print(student_data.__doc__)\n",
    "print(students.student_roster)\n",
    "print(students.add_student(*student_names))"
   ]
  },
  {
   "cell_type": "markdown",
   "metadata": {},
   "source": [
    "# Complete previous weeks Labs"
   ]
  },
  {
   "cell_type": "markdown",
   "metadata": {},
   "source": [
    "# Question 1:\n",
    "\n",
    "Give an example of how we could use what we learned today in our python programming."
   ]
  },
  {
   "cell_type": "code",
   "execution_count": 2,
   "metadata": {},
   "outputs": [],
   "source": [
    "import csv"
   ]
  },
  {
   "cell_type": "code",
   "execution_count": 3,
   "metadata": {},
   "outputs": [],
   "source": [
    "student_names = [\"Adam\", \"Scott\", \"Michael\", \"Andrew\", \"Mark\", \"Fernando\", \"Faith\", \"Steve\", \"Lee\", \"Amani\", \"Liv\", \"Nick A\", \"James\", \"Jake\", \"Brett\", \"Graham\", \"Fraser\", \"Jacob\", \"Chelsea\", \"Phil\", \"George\", \"Charley\", \"Emma\", \"Steph\"]\n",
    "\n",
    "with open('labs/students.csv', 'w', newline='') as s:\n",
    "    student_rooster = csv.writer(s)\n",
    "    student_rooster.writerow(['firstname'])\n",
    "    for rows in student_names:\n",
    "        student_rooster.writerow([rows])"
   ]
  },
  {
   "cell_type": "code",
   "execution_count": 4,
   "metadata": {},
   "outputs": [
    {
     "name": "stdout",
     "output_type": "stream",
     "text": [
      "firstname\n",
      "\n",
      "['Adam', 'Scott', 'Michael', 'Andrew', 'Mark', 'Fernando', 'Faith', 'Steve', 'Lee', 'Amani', 'Liv', 'Nick A', 'James', 'Jake', 'Brett', 'Graham', 'Fraser', 'Jacob', 'Chelsea', 'Phil', 'George', 'Charley', 'Emma', 'Steph']\n"
     ]
    }
   ],
   "source": [
    "students = []\n",
    "with open(\"labs/students.csv\", \"r\") as filename:\n",
    "    data = csv.reader(filename, delimiter=',')\n",
    "    header = next(filename)\n",
    "    print(header)\n",
    "    if header != None:\n",
    "        for row in data:\n",
    "            students.append(row[0])\n",
    "\n",
    "print(students)\n"
   ]
  },
  {
   "cell_type": "markdown",
   "metadata": {},
   "source": [
    "# Exercise 1:\n",
    "\n",
    "Create a file called `sample.txt`. Create a function takes one argument that opens the file and writes that argument to it."
   ]
  },
  {
   "cell_type": "code",
   "execution_count": 5,
   "metadata": {},
   "outputs": [],
   "source": [
    "# using with statement \n",
    "with open('sample.txt', 'w') as file: \n",
    "    file.write('Lorem ipsum dolor sit amet, consectetur adipiscing elit. Maecenas vitae tincidunt neque. ') "
   ]
  },
  {
   "cell_type": "markdown",
   "metadata": {},
   "source": [
    "# Exercise 2:\n",
    "    \n",
    "Create a function that takes an argument and opens the argument as a file and prints the contents.\n",
    "\n",
    "Demonstrate that this works for `sample.txt`"
   ]
  },
  {
   "cell_type": "code",
   "execution_count": 6,
   "metadata": {},
   "outputs": [
    {
     "data": {
      "text/plain": [
       "['Lorem ipsum dolor sit amet, consectetur adipiscing elit. Maecenas vitae tincidunt neque. ']"
      ]
     },
     "execution_count": 6,
     "metadata": {},
     "output_type": "execute_result"
    }
   ],
   "source": [
    "insamplefile = open(\"sample.txt\", \"r\")\n",
    "# show all rows\n",
    "insamplefile.readlines()"
   ]
  },
  {
   "cell_type": "markdown",
   "metadata": {},
   "source": [
    "# Week 6 Project\n",
    "\n",
    "#### For this project, you'll be using your solution exercise 2 from week-05-class-01-lab.ipynb and the following piece of code:"
   ]
  },
  {
   "cell_type": "code",
   "execution_count": 7,
   "metadata": {},
   "outputs": [],
   "source": [
    "import random"
   ]
  },
  {
   "cell_type": "code",
   "execution_count": 8,
   "metadata": {},
   "outputs": [
    {
     "data": {
      "text/plain": [
       "(1, 'paper')"
      ]
     },
     "execution_count": 8,
     "metadata": {},
     "output_type": "execute_result"
    }
   ],
   "source": [
    "def computers_turn():\n",
    "    choices = {\n",
    "        0: 'rock',\n",
    "        1: 'paper',\n",
    "        2: 'scissors',\n",
    "    }\n",
    "    turn = random.randint(0,2)\n",
    "    return (turn, choices[turn])\n",
    "\n",
    "computers_turn()"
   ]
  },
  {
   "cell_type": "markdown",
   "metadata": {},
   "source": [
    "#### Your solution for exercise 2"
   ]
  },
  {
   "cell_type": "code",
   "execution_count": 9,
   "metadata": {},
   "outputs": [],
   "source": [
    "def rock_paper_scissors():\n",
    "    user_correct_input = False\n",
    "    while not user_correct_input:\n",
    "        user_input = input(\"Hey there, please choose from ['R', 'P', 'S'] to play this game.\")\n",
    "        if user_input in ['R', 'P', 'S']:\n",
    "             user_correct_input = True\n",
    "        else:\n",
    "            print(\"Hey there, please put one of ['R', 'P', 'S'] to play the game.\")\n",
    "            user_input = input(\"Hey there, please choose from ['R', 'P', 'S'] to play this game.\")\n",
    "    \n",
    "    computer_choice_tuple = computers_turn()\n",
    "    \n",
    "    choices = {\n",
    "        'R': (0, 'rock'),\n",
    "        'P': (1, 'paper'),\n",
    "        'S': (2, 'scissors')\n",
    "    }\n",
    "    \n",
    "    user_choice_tuple = choices[user_input]\n",
    "    \n",
    "    if (user_choice_tuple[0] - computer_choice_tuple[0]) % 3 == 0:\n",
    "        return f\"It's a tie. User picked {user_choice_tuple}. Computer picked {computer_choice_tuple}\"\n",
    "    \n",
    "    elif (user_choice_tuple[0] - computer_choice_tuple[0]) % 3 == 1:\n",
    "        return f\"User Wins. User picked {user_choice_tuple}. Computer picked {computer_choice_tuple}\"\n",
    "    \n",
    "    elif (user_choice_tuple[0] - computer_choice_tuple[0]) % 3 == 2:\n",
    "        return f\"Computer Wins. User picked {user_choice_tuple}. Computer picked {computer_choice_tuple}\"\n",
    "    else:\n",
    "        return \"Unexpected Result.\""
   ]
  },
  {
   "cell_type": "code",
   "execution_count": 10,
   "metadata": {},
   "outputs": [
    {
     "name": "stdin",
     "output_type": "stream",
     "text": [
      "Hey there, please choose from ['R', 'P', 'S'] to play this game. P\n"
     ]
    },
    {
     "data": {
      "text/plain": [
       "\"Computer Wins. User picked (1, 'paper'). Computer picked (2, 'scissors')\""
      ]
     },
     "execution_count": 10,
     "metadata": {},
     "output_type": "execute_result"
    }
   ],
   "source": [
    "rock_paper_scissors()"
   ]
  },
  {
   "cell_type": "markdown",
   "metadata": {},
   "source": [
    "Take your solution to exercise 2 and break it up into two separate functions:\n",
    "\n",
    "`your_turn` -  which takes an input and returns `(turn, choices[turn])` similar to `computers_turn`.\n",
    "\n",
    "`compare_turns` - which takes the two-tuples from `your_turn` and `computers_turn` to declare a winner\n",
    "\n"
   ]
  },
  {
   "cell_type": "code",
   "execution_count": 11,
   "metadata": {},
   "outputs": [],
   "source": [
    "def computers_turn():\n",
    "    choices = {\n",
    "        0: 'rock',\n",
    "        1: 'paper',\n",
    "        2: 'scissors',\n",
    "    }\n",
    "    turn = random.randint(0,2)\n",
    "    return (turn, choices[turn])"
   ]
  },
  {
   "cell_type": "code",
   "execution_count": 12,
   "metadata": {},
   "outputs": [],
   "source": [
    "def your_turn():\n",
    "    choices = {\n",
    "        'R': (0, 'rock'),\n",
    "        'P': (1, 'paper'),\n",
    "        'S': (2, 'scissors')\n",
    "    }\n",
    "    user_correct_input = False\n",
    "    while not user_correct_input:\n",
    "        choices_keys = choices.keys()\n",
    "        user_input = input(\"Hey there, please choose from ['R', 'P', 'S'] to play this game.\")\n",
    "        \n",
    "        if user_input in ['R', 'P', 'S']:\n",
    "             user_correct_input = True\n",
    "        else:\n",
    "            print(\"Hey there, please put one of ['R', 'P', 'S'] to play the game.\")\n",
    "            user_input = input(\"Hey there, please choose from ['R', 'P', 'S'] to play this game.\")\n",
    "    \n",
    "    return user_input, choices[user_input]\n"
   ]
  },
  {
   "cell_type": "code",
   "execution_count": 13,
   "metadata": {},
   "outputs": [],
   "source": [
    "def compare_turns(computer_choice,user_choice):\n",
    "    \n",
    "    if (user_choice[0] - computer_choice[0]) % 3 == 0:\n",
    "        return \"Tied\"\n",
    "    \n",
    "    elif (user_choice[0] - computer_choice[0]) % 3 == 1:\n",
    "        return True\n",
    "    \n",
    "    elif (user_choice[0] - computer_choice[0]) % 3 == 2:\n",
    "        return False\n",
    "    else:\n",
    "        return None\n",
    "    "
   ]
  },
  {
   "cell_type": "markdown",
   "metadata": {},
   "source": [
    "Now create a function called `won_round` that calls `computers_turn`, `your_turn` and then `compare_turns` within the function body and then returns True if you won the round, else False."
   ]
  },
  {
   "cell_type": "code",
   "execution_count": 14,
   "metadata": {},
   "outputs": [],
   "source": [
    "def won_round():\n",
    "    computer_choice = computers_turn()\n",
    "    your_choice = your_turn()\n",
    "    user_choice = your_choice[1]\n",
    "    compare_choices = compare_turns(computer_choice,user_choice)\n",
    "    return compare_choices"
   ]
  },
  {
   "cell_type": "code",
   "execution_count": 15,
   "metadata": {},
   "outputs": [
    {
     "name": "stdin",
     "output_type": "stream",
     "text": [
      "Hey there, please choose from ['R', 'P', 'S'] to play this game. P\n"
     ]
    },
    {
     "data": {
      "text/plain": [
       "False"
      ]
     },
     "execution_count": 15,
     "metadata": {},
     "output_type": "execute_result"
    }
   ],
   "source": [
    "won_round()"
   ]
  },
  {
   "cell_type": "markdown",
   "metadata": {},
   "source": [
    "Create an instance of your class below and run a game of 3 rounds. Then output the results\n",
    "\n"
   ]
  },
  {
   "cell_type": "code",
   "execution_count": 16,
   "metadata": {},
   "outputs": [
    {
     "name": "stdin",
     "output_type": "stream",
     "text": [
      "Hey there, please choose from ['R', 'P', 'S'] to play this game. P\n"
     ]
    },
    {
     "name": "stdout",
     "output_type": "stream",
     "text": [
      "User Wins.\n"
     ]
    },
    {
     "name": "stdin",
     "output_type": "stream",
     "text": [
      "Hey there, please choose from ['R', 'P', 'S'] to play this game. R\n"
     ]
    },
    {
     "name": "stdout",
     "output_type": "stream",
     "text": [
      "Tied\n"
     ]
    },
    {
     "name": "stdin",
     "output_type": "stream",
     "text": [
      "Hey there, please choose from ['R', 'P', 'S'] to play this game. S\n"
     ]
    },
    {
     "name": "stdout",
     "output_type": "stream",
     "text": [
      "User Wins.\n",
      "Score -> You: 3 and Computer: 1\n"
     ]
    }
   ],
   "source": [
    "your_score = 0\n",
    "computer_score = 0\n",
    "\n",
    "for game in range(3):\n",
    "    play = won_round()\n",
    "    if play == True:\n",
    "        your_score += 1\n",
    "        print(f\"User Wins.\")\n",
    "    elif play == False:\n",
    "        computer_score += 1\n",
    "        print(f\"Computer Wins\")\n",
    "    elif play == \"Tied\":\n",
    "        your_score += 1\n",
    "        computer_score += 1\n",
    "        print(f\"Tied\")\n",
    "    else:\n",
    "        print(f\"Unexpected Result.\")\n",
    "\n",
    "print(f\"Score -> You: {your_score} and Computer: {computer_score}\")"
   ]
  },
  {
   "cell_type": "markdown",
   "metadata": {},
   "source": [
    "Create a class using these functions (converting them to methods that take `self`) than has attributes to store the details of who's won. Create an `__init__` function that takes, at minimum, an argument asking how many rounds to play. Also create a function that displays the details of who won each round. Bonus points for implementing other features.\n",
    "\n",
    "Demonstrate that this class can be used to run games of Rock-Paper-Scissors.\n",
    "\n",
    "When submitting, make sure all of your code from above is in this class declaration below and that the below two cells run without error. Failure to do so will result in points taken off."
   ]
  },
  {
   "cell_type": "code",
   "execution_count": 17,
   "metadata": {},
   "outputs": [],
   "source": [
    "computer_choices = {\n",
    "    0: 'rock',\n",
    "    1: 'paper',\n",
    "    2: 'scissors',\n",
    "}\n",
    "user_choices = {\n",
    "    'R': (0, 'rock'),\n",
    "    'P': (1, 'paper'),\n",
    "    'S': (2, 'scissors')\n",
    "}\n",
    "\n",
    "class RockPaperScissors:\n",
    "    def __init__(self, rps_computer_choices,rps_user_choices):\n",
    "        self.rps_computer_choices = rps_computer_choices\n",
    "        self.rps_user_choices = rps_user_choices\n",
    "    # other methods below\n",
    "    \n",
    "    def rps_computers_turn(self):\n",
    "        turn = random.randint(0,2)\n",
    "        return (turn, self.rps_computer_choices[turn])    \n",
    "\n",
    "    def rps_your_turn(self):\n",
    "        user_correct_input = False\n",
    "        while not user_correct_input:\n",
    "            user_input = input(\"Hey there, please choose from ['R', 'P', 'S'] to play this game.\")\n",
    "\n",
    "            if user_input in ['R', 'P', 'S']:\n",
    "                 user_correct_input = True\n",
    "            else:\n",
    "                print(\"Hey there, please put one of ['R', 'P', 'S'] to play the game.\")\n",
    "                user_input = input(\"Hey there, please choose from ['R', 'P', 'S'] to play this game.\")\n",
    "\n",
    "        return user_input, self.rps_user_choices[user_input]\n",
    "\n",
    "    def compare_turns(self, computer_choice,user_choice):\n",
    "\n",
    "        if (user_choice[0] - computer_choice[0]) % 3 == 0:\n",
    "            return \"Tied\"\n",
    "\n",
    "        elif (user_choice[0] - computer_choice[0]) % 3 == 1:\n",
    "            return True\n",
    "\n",
    "        elif (user_choice[0] - computer_choice[0]) % 3 == 2:\n",
    "            return False\n",
    "        else:\n",
    "            return None\n",
    "        \n",
    "    def won_round(self):\n",
    "        computer_choice = self.rps_computers_turn()\n",
    "        your_choice = self.rps_your_turn()\n",
    "        user_choice = your_choice[1]\n",
    "        compare_choices = self.compare_turns(computer_choice,user_choice)\n",
    "        return compare_choices\n",
    "    \n",
    "    @staticmethod\n",
    "    def number_of_rounds(num):\n",
    "        your_score = 0\n",
    "        computer_score = 0\n",
    "\n",
    "        for game in range(num):\n",
    "            play = RockPaperScissors(computer_choices,user_choices).won_round()\n",
    "            if play == True:\n",
    "                your_score += 1\n",
    "                print(f\"User Wins.\")\n",
    "            elif play == False:\n",
    "                computer_score += 1\n",
    "                print(f\"Computer Wins\")\n",
    "            elif play == \"Tied\":\n",
    "                your_score += 1\n",
    "                computer_score += 1\n",
    "                print(f\"Tied\")\n",
    "            else:\n",
    "                print(f\"Unexpected Result.\")\n",
    "\n",
    "        return f\"Scores -> You: {your_score} and Computer: {computer_score}\""
   ]
  },
  {
   "cell_type": "code",
   "execution_count": 18,
   "metadata": {},
   "outputs": [
    {
     "name": "stdin",
     "output_type": "stream",
     "text": [
      "Hey there, please choose from ['R', 'P', 'S'] to play this game. S\n"
     ]
    },
    {
     "data": {
      "text/plain": [
       "'Tied'"
      ]
     },
     "execution_count": 18,
     "metadata": {},
     "output_type": "execute_result"
    }
   ],
   "source": [
    "rps = RockPaperScissors(computer_choices,user_choices)\n",
    "rps.won_round()"
   ]
  },
  {
   "cell_type": "markdown",
   "metadata": {},
   "source": [
    "Create an instance of your class below and run a game of 3 rounds. Then output the results\n",
    "\n"
   ]
  },
  {
   "cell_type": "code",
   "execution_count": 19,
   "metadata": {},
   "outputs": [
    {
     "name": "stdin",
     "output_type": "stream",
     "text": [
      "Hey there, please choose from ['R', 'P', 'S'] to play this game. P\n"
     ]
    },
    {
     "name": "stdout",
     "output_type": "stream",
     "text": [
      "User Wins.\n"
     ]
    },
    {
     "name": "stdin",
     "output_type": "stream",
     "text": [
      "Hey there, please choose from ['R', 'P', 'S'] to play this game. R\n"
     ]
    },
    {
     "name": "stdout",
     "output_type": "stream",
     "text": [
      "User Wins.\n"
     ]
    },
    {
     "name": "stdin",
     "output_type": "stream",
     "text": [
      "Hey there, please choose from ['R', 'P', 'S'] to play this game. S\n"
     ]
    },
    {
     "name": "stdout",
     "output_type": "stream",
     "text": [
      "Tied\n"
     ]
    },
    {
     "data": {
      "text/plain": [
       "'Scores -> You: 3 and Computer: 1'"
      ]
     },
     "execution_count": 19,
     "metadata": {},
     "output_type": "execute_result"
    }
   ],
   "source": [
    "rps.number_of_rounds(3)"
   ]
  },
  {
   "cell_type": "code",
   "execution_count": null,
   "metadata": {},
   "outputs": [],
   "source": []
  }
 ],
 "metadata": {
  "kernelspec": {
   "display_name": "Python 3",
   "language": "python",
   "name": "python3"
  },
  "language_info": {
   "codemirror_mode": {
    "name": "ipython",
    "version": 3
   },
   "file_extension": ".py",
   "mimetype": "text/x-python",
   "name": "python",
   "nbconvert_exporter": "python",
   "pygments_lexer": "ipython3",
   "version": "3.8.3"
  }
 },
 "nbformat": 4,
 "nbformat_minor": 4
}
