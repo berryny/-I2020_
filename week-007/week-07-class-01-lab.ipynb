{
 "cells": [
  {
   "cell_type": "markdown",
   "metadata": {},
   "source": [
    "<div style=\"background: #000;\n",
    "            color: #FFF;\n",
    "            margin: 0px;\n",
    "                padding: 10px 0px 20px 0px;\n",
    "            text-align: center; \n",
    "                \">\n",
    "    <h1>Lab</h1>\n",
    "</div>\n"
   ]
  },
  {
   "cell_type": "markdown",
   "metadata": {},
   "source": [
    "# HW Exercise 1\n",
    "\n",
    "Create a class called `Course` and a class called `Student` based on what you think they will need. Create a way to store 20 \"students\" (instances of the `Student` class into an instance of `Course` to represent our Data Science course. \n",
    "\n",
    "Demonstrate that your code works. Message on slack if stuck or need clarification."
   ]
  },
  {
   "cell_type": "code",
   "execution_count": 37,
   "metadata": {},
   "outputs": [
    {
     "name": "stdout",
     "output_type": "stream",
     "text": [
      "[Student Roster: ['Adam', 'Scott', 'Michael', 'Andrew', 'Mark', 'Fernando', 'Faith', 'Steve', 'Lee', 'Amani', 'Liv', 'Nick A', 'James', 'Jake', 'Brett', 'Graham', 'Fraser', 'Jacob', 'Chelsea', 'Phil', 'George', 'Charley', 'Emma', 'Steph']]\n",
      "self.student_roster [Student Roster: ['Adam', 'Scott', 'Michael', 'Andrew', 'Mark', 'Fernando', 'Faith', 'Steve', 'Lee', 'Amani', 'Liv', 'Nick A', 'James', 'Jake', 'Brett', 'Graham', 'Fraser', 'Jacob', 'Chelsea', 'Phil', 'George', 'Charley', 'Emma', 'Steph']]\n",
      "None\n"
     ]
    }
   ],
   "source": [
    "class Course:\n",
    "    \"\"\"Data Science\"\"\"\n",
    "    def __init__(self, roster):\n",
    "        self.student = roster\n",
    "    \n",
    "    def __repr__(self):\n",
    "        return f\"Student Roster: {self.student}\"\n",
    "    \n",
    "    def __str__(self):\n",
    "        return f\"<Students in courses:  {self.student}\"\n",
    "\n",
    "class Student():\n",
    "    def __init__(self, *names):\n",
    "#         print('names:', names)\n",
    "        self.student_roster = list(names)\n",
    "        \n",
    "    def add_student(self,student_to_course):\n",
    "        if isinstance(student_to_course, Course):\n",
    "            self.student_roster.append(student_to_course)\n",
    "#         print('self.student_roster',self.student_roster)\n",
    "\n",
    "student_names = [\"Adam\", \"Scott\", \"Michael\", \"Andrew\", \"Mark\", \"Fernando\", \"Faith\", \"Steve\", \"Lee\", \"Amani\", \"Liv\", \"Nick A\", \"James\", \"Jake\", \"Brett\", \"Graham\", \"Fraser\", \"Jacob\", \"Chelsea\", \"Phil\", \"George\", \"Charley\", \"Emma\", \"Steph\"]\n",
    "data_course = Course(student_names)\n",
    "\n",
    "students = Student(data_course)\n",
    "print(students.student_roster)\n",
    "print(students.add_student(student_names))"
   ]
  },
  {
   "cell_type": "markdown",
   "metadata": {},
   "source": [
    "# Complete previous weeks Labs"
   ]
  },
  {
   "cell_type": "markdown",
   "metadata": {},
   "source": [
    "# Question 1:\n",
    "\n",
    "Give an example of how we could use what we learned today in our python programming."
   ]
  },
  {
   "cell_type": "raw",
   "metadata": {},
   "source": []
  },
  {
   "cell_type": "markdown",
   "metadata": {},
   "source": [
    "# Exercise 1:\n",
    "\n",
    "Create a file called `sample.txt`. Create a function takes one argument that opens the file and writes that argument to it."
   ]
  },
  {
   "cell_type": "code",
   "execution_count": 6,
   "metadata": {},
   "outputs": [],
   "source": [
    "# using with statement \n",
    "with open('sample.txt', 'w') as file: \n",
    "    file.write('Lorem ipsum dolor sit amet, consectetur adipiscing elit. Maecenas vitae tincidunt neque. ') "
   ]
  },
  {
   "cell_type": "markdown",
   "metadata": {},
   "source": [
    "# Exercise 2:\n",
    "    \n",
    "Create a function that takes an argument and opens the argument as a file and prints the contents.\n",
    "\n",
    "Demonstrate that this works for `sample.txt`"
   ]
  },
  {
   "cell_type": "code",
   "execution_count": 8,
   "metadata": {},
   "outputs": [
    {
     "data": {
      "text/plain": [
       "['Lorem ipsum dolor sit amet, consectetur adipiscing elit. Maecenas vitae tincidunt neque. ']"
      ]
     },
     "execution_count": 8,
     "metadata": {},
     "output_type": "execute_result"
    }
   ],
   "source": [
    "insamplefile = open(\"sample.txt\", \"r\")\n",
    "# show all rows\n",
    "insamplefile.readlines()"
   ]
  },
  {
   "cell_type": "markdown",
   "metadata": {},
   "source": [
    "# Week 6 Project\n",
    "\n",
    "#### For this project, you'll be using your solution exercise 2 from week-05-class-01-lab.ipynb and the following piece of code:"
   ]
  },
  {
   "cell_type": "code",
   "execution_count": 1,
   "metadata": {},
   "outputs": [
    {
     "data": {
      "text/plain": [
       "(0, 'rock')"
      ]
     },
     "execution_count": 1,
     "metadata": {},
     "output_type": "execute_result"
    }
   ],
   "source": [
    "import random\n",
    "def computers_turn():\n",
    "    choices = {\n",
    "        0: 'rock',\n",
    "        1: 'paper',\n",
    "        2: 'scissors',\n",
    "    }\n",
    "    turn = random.randint(0,2)\n",
    "    return (turn, choices[turn])\n",
    "\n",
    "computers_turn()"
   ]
  },
  {
   "cell_type": "markdown",
   "metadata": {},
   "source": [
    "#### Your solution for exercise 2"
   ]
  },
  {
   "cell_type": "code",
   "execution_count": null,
   "metadata": {},
   "outputs": [],
   "source": [
    "def rock_paper_scissors():\n",
    "    user_correct_input = False\n",
    "    while not user_correct_input:\n",
    "        user_input = input(\"Hey there, please choose from ['R', 'P', 'S'] to play this game.\")\n",
    "        if user_input in ['R', 'P', 'S']:\n",
    "             user_correct_input = True\n",
    "        else:\n",
    "            print(\"Hey there, please put one of ['R', 'P', 'S'] to play the game.\")\n",
    "            user_input = input(\"Hey there, please choose from ['R', 'P', 'S'] to play this game.\")\n",
    "#     user_input = input(\"Hey there, please choose from ['R', 'P', 'S'] to play this game.\")\n",
    "#     if user_input not in ['R', 'S', 'P']:\n",
    "#         raise ValueError(f\"Incorrect Value. Must be one of ['R', 'S', 'P']. Was {user_input}\")\n",
    "    \n",
    "    computer_choice_tuple = computers_turn()\n",
    "    \n",
    "    choices = {\n",
    "        'R': (0, 'rock'),\n",
    "        'P': (1, 'paper'),\n",
    "        'S': (2, 'scissors',)\n",
    "    }\n",
    "    \n",
    "    user_choice_tuple = choices[user_input]\n",
    "    \n",
    "    if (user_choice_tuple[0] - computer_choice_tuple[0]) % 3 == 0:\n",
    "        return f\"It's a tie. User picked {user_choice_tuple}. Computer picked {computer_choice_tuple}\"\n",
    "    \n",
    "    elif (user_choice_tuple[0] - computer_choice_tuple[0]) % 3 == 1:\n",
    "        return f\"User Wins. User picked {user_choice_tuple}. Computer picked {computer_choice_tuple}\"\n",
    "    \n",
    "    elif (user_choice_tuple[0] - computer_choice_tuple[0]) % 3 == 2:\n",
    "        return f\"Computer Wins. User picked {user_choice_tuple}. Computer picked {computer_choice_tuple}\"\n",
    "    else:\n",
    "        return \"Unexpected Result.\""
   ]
  },
  {
   "cell_type": "markdown",
   "metadata": {},
   "source": [
    "Take your solution to exercise 2 and break it up into two separate functions:\n",
    "\n",
    "`your_turn` -  which takes an input and returns `(turn, choices[turn])` similar to `computers_turn`.\n",
    "\n",
    "`compare_turns` - which takes the two-tuples from `your_turn` and `computers_turn` to declare a winner\n",
    "\n"
   ]
  },
  {
   "cell_type": "code",
   "execution_count": null,
   "metadata": {},
   "outputs": [],
   "source": [
    "def your_turn():\n",
    "    pass"
   ]
  },
  {
   "cell_type": "code",
   "execution_count": 4,
   "metadata": {},
   "outputs": [],
   "source": [
    "def compare_turns():\n",
    "    pass"
   ]
  },
  {
   "cell_type": "markdown",
   "metadata": {},
   "source": [
    "Now create a function called `won_round` that calls `computers_turn`, `your_turn` and then `compare_turns` within the function body and then returns True if you won the round, else False."
   ]
  },
  {
   "cell_type": "code",
   "execution_count": 6,
   "metadata": {},
   "outputs": [],
   "source": [
    "def won_round():\n",
    "    pass"
   ]
  },
  {
   "cell_type": "markdown",
   "metadata": {},
   "source": [
    "Create a class using these functions (converting them to methods that take `self`) tha has attributes to store the details of who's won. Create an `__init__` function that takes, at minimum, an argument asking how many rounds to play. Also create a function that displays the details of who won each round. Bonus points for implementing other features.\n",
    "\n",
    "Demonstrate that this class can be used to run games of Rock-Paper-Scissors.\n",
    "\n",
    "When submitting, make sure all of your code from above is in this class declaration below and that the below two cells run without error. Failure to do so will result in points taken off."
   ]
  },
  {
   "cell_type": "code",
   "execution_count": null,
   "metadata": {},
   "outputs": [],
   "source": [
    "class RockPaperScissors:\n",
    "    def __init__(self):\n",
    "        pass\n",
    "    # other methods below\n",
    "    \n",
    "    \n"
   ]
  },
  {
   "cell_type": "markdown",
   "metadata": {},
   "source": [
    "Create an instance of your class below and run a game of 3 rounds. Then output the results\n",
    "\n"
   ]
  }
 ],
 "metadata": {
  "kernelspec": {
   "display_name": "Python 3",
   "language": "python",
   "name": "python3"
  },
  "language_info": {
   "codemirror_mode": {
    "name": "ipython",
    "version": 3
   },
   "file_extension": ".py",
   "mimetype": "text/x-python",
   "name": "python",
   "nbconvert_exporter": "python",
   "pygments_lexer": "ipython3",
   "version": "3.8.3"
  }
 },
 "nbformat": 4,
 "nbformat_minor": 4
}
