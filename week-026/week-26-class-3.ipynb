{
 "cells": [
  {
   "cell_type": "markdown",
   "id": "experienced-surfing",
   "metadata": {},
   "source": [
    "<div style=\"background: #000;\n",
    "            color: #FFF;\n",
    "            margin: 0px;\n",
    "            padding: 10px 0px 20px 0px;\n",
    "            text-align: center; \n",
    "                \">\n",
    "    <h1 >Week 26 Class 3 03/24</h1>\n",
    "</div>\n",
    "\n",
    "## Objectives for this week:\n",
    "* Work on our projects"
   ]
  },
  {
   "cell_type": "markdown",
   "id": "another-actor",
   "metadata": {},
   "source": [
    "# Useful links\n",
    "* [Kaggle Learn Section on Data Visualizations](https://www.kaggle.com/gaetanlopez/how-to-make-clean-visualizations)\n",
    "* [Kaggle Learn Section on Machine Learning](https://www.kaggle.com/gaetanlopez/how-to-make-clean-visualizations)\n",
    "  - This is about decision trees which we haven't covered but the process is similar to what we've done and the notebooks are in the style you'll be submitting for your final project\n",
    "  - [How Models Work](https://www.kaggle.com/gaetanlopez/how-to-make-clean-visualizations)\n",
    "  - [Basic Data Exploration](https://www.kaggle.com/gaetanlopez/how-to-make-clean-visualizations)\n",
    "  - [Your first machine learning model](https://www.kaggle.com/gaetanlopez/how-to-make-clean-visualizations)\n",
    "  - [Model Validation](https://www.kaggle.com/gaetanlopez/how-to-make-clean-visualizations)\n",
    "  - [Underfitting and Overfitting](https://www.kaggle.com/gaetanlopez/how-to-make-clean-visualizations)\n",
    "\n",
    "* [How to make clean visualizations](https://www.kaggle.com/gaetanlopez/how-to-make-clean-visualizations)\n",
    "* [Statistical Analysis (including probability stuff we haven't covered)](https://www.kaggle.com/gaetanlopez/how-to-make-clean-visualizations)\n",
    "* [Exploratory Data Analysis](https://www.kaggle.com/gaetanlopez/how-to-make-clean-visualizations)\n",
    "* [House Prices Predictions](https://www.kaggle.com/gaetanlopez/how-to-make-clean-visualizations)\n",
    "* [Data Exploration and Analysis](https://www.kaggle.com/gaetanlopez/how-to-make-clean-visualizations)\n",
    "* [Data Analysis using SQL](https://www.kaggle.com/gaetanlopez/how-to-make-clean-visualizations)\n",
    "* [Exploratory Data Analysis](https://www.kaggle.com/gaetanlopez/how-to-make-clean-visualizations)\n",
    "* [Detailed Data Analysis](https://www.kaggle.com/gaetanlopez/how-to-make-clean-visualizations)\n",
    "* [Exploratory Data Analysis and Feature Extraction for Logistic Regression](https://www.kaggle.com/gaetanlopez/how-to-make-clean-visualizations)\n",
    "* [Exploratory Data Analysis for SHSAT](https://www.kaggle.com/gaetanlopez/how-to-make-clean-visualizations)\n",
    "* [Sales Data Analysis Report](https://www.kaggle.com/gaetanlopez/how-to-make-clean-visualizations)\n",
    "* [Visual Data Analysis in Python](https://www.kaggle.com/gaetanlopez/how-to-make-clean-visualizations)\n",
    "* [10 Simple hacks to speed up your data analysis](https://www.kaggle.com/gaetanlopez/how-to-make-clean-visualizations)\n",
    "* [Covid 19 Exploratory Data Analysis](https://www.kaggle.com/gaetanlopez/how-to-make-clean-visualizations)\n",
    "* [Data Science Full Pipeline](https://www.kaggle.com/gaetanlopez/how-to-make-clean-visualizations)"
   ]
  },
  {
   "cell_type": "code",
   "execution_count": null,
   "id": "japanese-circle",
   "metadata": {},
   "outputs": [],
   "source": []
  }
 ],
 "metadata": {
  "kernelspec": {
   "display_name": "Python 3",
   "language": "python",
   "name": "python3"
  },
  "language_info": {
   "codemirror_mode": {
    "name": "ipython",
    "version": 3
   },
   "file_extension": ".py",
   "mimetype": "text/x-python",
   "name": "python",
   "nbconvert_exporter": "python",
   "pygments_lexer": "ipython3",
   "version": "3.9.1"
  }
 },
 "nbformat": 4,
 "nbformat_minor": 5
}
