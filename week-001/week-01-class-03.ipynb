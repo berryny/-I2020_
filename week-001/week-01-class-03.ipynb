{
 "cells": [
  {
   "cell_type": "markdown",
   "metadata": {},
   "source": [
    "<div style=\"background: #000;\n",
    "            color: #FFF;\n",
    "            margin: 0px;\n",
    "                padding: 10px 0px 20px 0px;\n",
    "            text-align: center; \n",
    "                \">\n",
    "    <h1>Python Data Science Course - Week 1 - Day 3</h1>\n",
    "</div>\n",
    "\n",
    "## Todays Agenda\n",
    "* Logic Fun\n",
    "* Ints vs. Floats\n",
    "* Math in Python\n",
    "* Discuss homework assignments\n"
   ]
  },
  {
   "cell_type": "markdown",
   "metadata": {},
   "source": [
    "## Logic Fun\n",
    "\n",
    "### Truth Tables\n",
    "\n",
    "\tTrue\t      False\t\tIdentity   \tNegation\n",
    "\tp\tT\t\tp\tF\t\tp\tp\t\tp   ¬P\n",
    "\tT\tT\t\tT\tF\t\tT\tT\t\tT\tF\n",
    "\tF\tT\t\tF\tF\t\tF\tF\t\tF\tT\n",
    "\n",
    "\tAND      OR       XOR     NAND\n",
    "\tp & q\tp || q   p ⊕ q   p  NAND  q\n",
    "\tT T T\tT T  T   T F T   T    F   T\n",
    "\tT F F\tT T  F   T T F   T    T   F\n",
    "\tF F T\tF T  T   F T T   F    T   T\n",
    "\tF F F\tF F  F   F F F   F    T   F\n",
    "\t\n",
    "\n",
    "Can You Answer these? How about in python?      \n",
    "\n",
    "¬(p & q )    \n",
    "\n",
    "\n",
    "\n",
    "\n",
    "( p || q ) & ( ¬p || ¬q)\n"
   ]
  },
  {
   "cell_type": "markdown",
   "metadata": {},
   "source": [
    "# DIscuss python solutions for logic fun"
   ]
  },
  {
   "cell_type": "code",
   "execution_count": null,
   "metadata": {},
   "outputs": [],
   "source": []
  },
  {
   "cell_type": "code",
   "execution_count": null,
   "metadata": {},
   "outputs": [],
   "source": []
  },
  {
   "cell_type": "markdown",
   "metadata": {},
   "source": [
    "# Notes from yesterday"
   ]
  },
  {
   "cell_type": "code",
   "execution_count": 3,
   "metadata": {},
   "outputs": [
    {
     "name": "stdout",
     "output_type": "stream",
     "text": [
      "enter an adjectivej\n",
      "enter and adjectivej\n",
      "enter a nounj\n",
      "enter a verbj\n",
      "enter a nounj\n",
      "enter a nounj\n",
      "enter a dayj\n",
      "enter a personj\n",
      "enter a verbj\n",
      "enter a weatherj\n",
      "enter a crazy eventj\n",
      "enter an actionj\n",
      "enter a numberj\n",
      "enter a time of arrivalj\n",
      "enter a actionj\n",
      "enter a conditionj\n",
      "enter a meeting eventj\n",
      "It was a j, cold November day. I woke up to the j smell of j downstairs. I quickly got ready, grabbing my j and ran downstairs to j the j. It was j and I was late! I rushed outside to see j at the bodega j. I had no time for that and it was j outside so I headed to the subway. On the train, I see j so I j. I finally get to my stop and leave the train. I'm j minutes j so I j. I get to the meeting j only to find out that j\n"
     ]
    }
   ],
   "source": [
    "first_adjective = input(\"enter an adjective\")\n",
    "second_adjective = input(\"enter and adjective\")\n",
    "first_noun = input(\"enter a noun\")\n",
    "first_verb = input(\"enter a verb\")\n",
    "second_noun = input(\"enter a noun\")\n",
    "third_noun = input(\"enter a noun\")\n",
    "day = input(\"enter a day\")\n",
    "person = input(\"enter a person\")\n",
    "second_verb = input(\"enter a verb\")\n",
    "weather = input(\"enter a weather\")\n",
    "crazy_event = input(\"enter a crazy event\")\n",
    "action_in_response = input(\"enter an action\")\n",
    "number = input(\"enter a number\")\n",
    "time_of_arrival = input(\"enter a time of arrival\")\n",
    "action = input(\"enter a action\")\n",
    "condition = input(\"enter a condition\")\n",
    "meeting_event = input(\"enter a meeting event\")\n",
    "\n",
    "mad_lib = f\"It was a {first_adjective}, cold November day. I woke up to the {second_adjective} smell of {first_noun} downstairs. I quickly got ready, grabbing my {second_noun} and ran downstairs to {first_verb} the {third_noun}. It was {day} and I was late! I rushed outside to see {person} at the bodega {second_verb}. I had no time for that and it was {weather} outside so I headed to the subway. On the train, I see {crazy_event} so I {action_in_response}. I finally get to my stop and leave the train. I'm {number} minutes {time_of_arrival} so I {action}. I get to the meeting {condition} only to find out that {meeting_event}\"\n",
    "\n",
    "print(mad_lib)"
   ]
  },
  {
   "cell_type": "markdown",
   "metadata": {},
   "source": [
    "### bools"
   ]
  },
  {
   "cell_type": "code",
   "execution_count": 4,
   "metadata": {},
   "outputs": [
    {
     "name": "stdout",
     "output_type": "stream",
     "text": [
      "hello\n"
     ]
    }
   ],
   "source": [
    "print(\"hello\") and print(\"hello\")"
   ]
  },
  {
   "cell_type": "code",
   "execution_count": 5,
   "metadata": {},
   "outputs": [
    {
     "name": "stdout",
     "output_type": "stream",
     "text": [
      "hello\n"
     ]
    }
   ],
   "source": [
    "print(\"hello\") and True"
   ]
  },
  {
   "cell_type": "code",
   "execution_count": 6,
   "metadata": {},
   "outputs": [
    {
     "name": "stdout",
     "output_type": "stream",
     "text": [
      "hello\n"
     ]
    }
   ],
   "source": [
    "print(\"hello\") and False"
   ]
  },
  {
   "cell_type": "code",
   "execution_count": 7,
   "metadata": {},
   "outputs": [
    {
     "name": "stdout",
     "output_type": "stream",
     "text": [
      "hello\n"
     ]
    }
   ],
   "source": [
    "True and print(\"hello\")"
   ]
  },
  {
   "cell_type": "code",
   "execution_count": 8,
   "metadata": {},
   "outputs": [
    {
     "data": {
      "text/plain": [
       "False"
      ]
     },
     "execution_count": 8,
     "metadata": {},
     "output_type": "execute_result"
    }
   ],
   "source": [
    "False and print(\"hello\")"
   ]
  },
  {
   "cell_type": "code",
   "execution_count": 9,
   "metadata": {},
   "outputs": [
    {
     "name": "stdout",
     "output_type": "stream",
     "text": [
      "hello\n",
      "goodbye\n"
     ]
    }
   ],
   "source": [
    "print(\"hello\") or print(\"goodbye\")"
   ]
  },
  {
   "cell_type": "code",
   "execution_count": 10,
   "metadata": {},
   "outputs": [
    {
     "name": "stdout",
     "output_type": "stream",
     "text": [
      "hello\n"
     ]
    },
    {
     "data": {
      "text/plain": [
       "True"
      ]
     },
     "execution_count": 10,
     "metadata": {},
     "output_type": "execute_result"
    }
   ],
   "source": [
    "print(\"hello\") or True"
   ]
  },
  {
   "cell_type": "code",
   "execution_count": 11,
   "metadata": {},
   "outputs": [
    {
     "data": {
      "text/plain": [
       "True"
      ]
     },
     "execution_count": 11,
     "metadata": {},
     "output_type": "execute_result"
    }
   ],
   "source": [
    "True == 1"
   ]
  },
  {
   "cell_type": "code",
   "execution_count": 12,
   "metadata": {},
   "outputs": [
    {
     "data": {
      "text/plain": [
       "True"
      ]
     },
     "execution_count": 12,
     "metadata": {},
     "output_type": "execute_result"
    }
   ],
   "source": [
    "False == 0"
   ]
  },
  {
   "cell_type": "code",
   "execution_count": 13,
   "metadata": {},
   "outputs": [
    {
     "data": {
      "text/plain": [
       "False"
      ]
     },
     "execution_count": 13,
     "metadata": {},
     "output_type": "execute_result"
    }
   ],
   "source": [
    "True == 939"
   ]
  },
  {
   "cell_type": "code",
   "execution_count": 14,
   "metadata": {},
   "outputs": [
    {
     "data": {
      "text/plain": [
       "False"
      ]
     },
     "execution_count": 14,
     "metadata": {},
     "output_type": "execute_result"
    }
   ],
   "source": [
    "False == -323"
   ]
  },
  {
   "cell_type": "code",
   "execution_count": 15,
   "metadata": {},
   "outputs": [
    {
     "data": {
      "text/plain": [
       "(False, False, False)"
      ]
     },
     "execution_count": 15,
     "metadata": {},
     "output_type": "execute_result"
    }
   ],
   "source": [
    "bool(0), bool(0.00), bool(0j)"
   ]
  },
  {
   "cell_type": "code",
   "execution_count": 16,
   "metadata": {},
   "outputs": [
    {
     "data": {
      "text/plain": [
       "False"
      ]
     },
     "execution_count": 16,
     "metadata": {},
     "output_type": "execute_result"
    }
   ],
   "source": [
    "bool(None)"
   ]
  },
  {
   "cell_type": "code",
   "execution_count": 17,
   "metadata": {},
   "outputs": [
    {
     "data": {
      "text/plain": [
       "(False, False, False)"
      ]
     },
     "execution_count": 17,
     "metadata": {},
     "output_type": "execute_result"
    }
   ],
   "source": [
    "bool(()), bool([]), bool({})"
   ]
  },
  {
   "cell_type": "code",
   "execution_count": 18,
   "metadata": {},
   "outputs": [
    {
     "data": {
      "text/plain": [
       "False"
      ]
     },
     "execution_count": 18,
     "metadata": {},
     "output_type": "execute_result"
    }
   ],
   "source": [
    "class Example:\n",
    "    def __init__(self):\n",
    "        pass\n",
    "    def __bool__(self):\n",
    "        return False\n",
    "    def __len__(self):\n",
    "        return 0\n",
    "\n",
    "e = Example()\n",
    "    \n",
    "bool(e)"
   ]
  },
  {
   "cell_type": "markdown",
   "metadata": {},
   "source": [
    "# Ints"
   ]
  },
  {
   "cell_type": "code",
   "execution_count": 19,
   "metadata": {},
   "outputs": [],
   "source": [
    "variable = 45"
   ]
  },
  {
   "cell_type": "code",
   "execution_count": 20,
   "metadata": {},
   "outputs": [
    {
     "data": {
      "text/plain": [
       "int"
      ]
     },
     "execution_count": 20,
     "metadata": {},
     "output_type": "execute_result"
    }
   ],
   "source": [
    "type(variable)"
   ]
  },
  {
   "cell_type": "markdown",
   "metadata": {},
   "source": [
    "# common math operations"
   ]
  },
  {
   "cell_type": "code",
   "execution_count": 21,
   "metadata": {},
   "outputs": [
    {
     "name": "stdout",
     "output_type": "stream",
     "text": [
      "20\n"
     ]
    }
   ],
   "source": [
    "variable = 10 + 10\n",
    "\n",
    "print(variable)"
   ]
  },
  {
   "cell_type": "code",
   "execution_count": 22,
   "metadata": {},
   "outputs": [
    {
     "name": "stdout",
     "output_type": "stream",
     "text": [
      "0\n"
     ]
    }
   ],
   "source": [
    "variable = 10 - 10\n",
    "\n",
    "print(variable)"
   ]
  },
  {
   "cell_type": "code",
   "execution_count": 23,
   "metadata": {},
   "outputs": [
    {
     "name": "stdout",
     "output_type": "stream",
     "text": [
      "0\n"
     ]
    }
   ],
   "source": [
    "variable = -10 + 10\n",
    "print(variable)"
   ]
  },
  {
   "cell_type": "code",
   "execution_count": 24,
   "metadata": {},
   "outputs": [],
   "source": [
    "# some useful tricks\n",
    "\n",
    "# adding/subtracting an amount to a variable:\n",
    "variable += 5\n",
    "variable -= 5"
   ]
  },
  {
   "cell_type": "code",
   "execution_count": 25,
   "metadata": {},
   "outputs": [
    {
     "name": "stdout",
     "output_type": "stream",
     "text": [
      "25 3125\n"
     ]
    }
   ],
   "source": [
    "# multiplication\n",
    "\n",
    "variable = 5 * 5\n",
    "\n",
    "# using exponents\n",
    "\n",
    "variable2 = 5 ** 5\n",
    "\n",
    "print(variable, variable2)"
   ]
  },
  {
   "cell_type": "markdown",
   "metadata": {},
   "source": [
    "# Examples using python as a calculator"
   ]
  },
  {
   "cell_type": "markdown",
   "metadata": {},
   "source": [
    "Say you had a company that ran projects with a budgeted amount of $1000 per project. Of that amount, you spend money for supplies and labor. Often, you don't use the full budget. Your boss asks you weekly to generate a list of the leftover funds. \n",
    "\n",
    "Let's use python to create a script that will allow us to enter the values and generate that list easily. "
   ]
  },
  {
   "cell_type": "code",
   "execution_count": 29,
   "metadata": {},
   "outputs": [],
   "source": [
    "balance: int = 1000\n",
    "s: int = 1000"
   ]
  },
  {
   "cell_type": "code",
   "execution_count": 30,
   "metadata": {},
   "outputs": [
    {
     "ename": "TypeError",
     "evalue": "'int' object is not iterable",
     "output_type": "error",
     "traceback": [
      "\u001b[1;31m---------------------------------------------------------------------------\u001b[0m",
      "\u001b[1;31mTypeError\u001b[0m                                 Traceback (most recent call last)",
      "\u001b[1;32m<ipython-input-30-a1d2094b79e8>\u001b[0m in \u001b[0;36m<module>\u001b[1;34m\u001b[0m\n\u001b[1;32m----> 1\u001b[1;33m \u001b[0msum\u001b[0m\u001b[1;33m(\u001b[0m\u001b[0ms\u001b[0m\u001b[1;33m)\u001b[0m\u001b[1;33m\u001b[0m\u001b[1;33m\u001b[0m\u001b[0m\n\u001b[0m",
      "\u001b[1;31mTypeError\u001b[0m: 'int' object is not iterable"
     ]
    }
   ],
   "source": [
    "sum(s)"
   ]
  },
  {
   "cell_type": "code",
   "execution_count": null,
   "metadata": {},
   "outputs": [],
   "source": []
  },
  {
   "cell_type": "markdown",
   "metadata": {},
   "source": [
    "# More complicated examples"
   ]
  },
  {
   "cell_type": "code",
   "execution_count": 31,
   "metadata": {},
   "outputs": [
    {
     "data": {
      "text/plain": [
       "4"
      ]
     },
     "execution_count": 31,
     "metadata": {},
     "output_type": "execute_result"
    }
   ],
   "source": [
    "# Floor division\n",
    "\n",
    "14 // 3 # discards fractional part"
   ]
  },
  {
   "cell_type": "code",
   "execution_count": 32,
   "metadata": {},
   "outputs": [
    {
     "data": {
      "text/plain": [
       "2"
      ]
     },
     "execution_count": 32,
     "metadata": {},
     "output_type": "execute_result"
    }
   ],
   "source": [
    "# Remainder operation\n",
    "\n",
    "14 % 3 # returns remainder"
   ]
  },
  {
   "cell_type": "code",
   "execution_count": 33,
   "metadata": {},
   "outputs": [
    {
     "data": {
      "text/plain": [
       "5"
      ]
     },
     "execution_count": 33,
     "metadata": {},
     "output_type": "execute_result"
    }
   ],
   "source": [
    "# putting that together:\n",
    "\n",
    "w = 17 // 3\n",
    "w"
   ]
  },
  {
   "cell_type": "code",
   "execution_count": 34,
   "metadata": {},
   "outputs": [
    {
     "data": {
      "text/plain": [
       "2"
      ]
     },
     "execution_count": 34,
     "metadata": {},
     "output_type": "execute_result"
    }
   ],
   "source": [
    "x = 17 % 3\n",
    "x"
   ]
  },
  {
   "cell_type": "code",
   "execution_count": 35,
   "metadata": {},
   "outputs": [
    {
     "data": {
      "text/plain": [
       "(5, 2)"
      ]
     },
     "execution_count": 35,
     "metadata": {},
     "output_type": "execute_result"
    }
   ],
   "source": [
    "y = w, x\n",
    "y"
   ]
  },
  {
   "cell_type": "code",
   "execution_count": 36,
   "metadata": {},
   "outputs": [
    {
     "data": {
      "text/plain": [
       "17"
      ]
     },
     "execution_count": 36,
     "metadata": {},
     "output_type": "execute_result"
    }
   ],
   "source": [
    "w * 3 + x"
   ]
  },
  {
   "cell_type": "code",
   "execution_count": 37,
   "metadata": {},
   "outputs": [],
   "source": [
    "# multiplication gets tricky"
   ]
  },
  {
   "cell_type": "code",
   "execution_count": 38,
   "metadata": {},
   "outputs": [
    {
     "name": "stdout",
     "output_type": "stream",
     "text": [
      "<class 'int'>\n",
      "<class 'int'>\n",
      "<class 'float'>\n"
     ]
    }
   ],
   "source": [
    "print(type(5))\n",
    "print(type(3))\n",
    "print(type(5/3))"
   ]
  },
  {
   "cell_type": "code",
   "execution_count": 39,
   "metadata": {},
   "outputs": [
    {
     "data": {
      "text/plain": [
       "float"
      ]
     },
     "execution_count": 39,
     "metadata": {},
     "output_type": "execute_result"
    }
   ],
   "source": [
    "type(4.)"
   ]
  },
  {
   "cell_type": "code",
   "execution_count": 40,
   "metadata": {},
   "outputs": [
    {
     "data": {
      "text/plain": [
       "3.142857142857143"
      ]
     },
     "execution_count": 40,
     "metadata": {},
     "output_type": "execute_result"
    }
   ],
   "source": [
    "22/7."
   ]
  },
  {
   "cell_type": "code",
   "execution_count": 41,
   "metadata": {},
   "outputs": [
    {
     "data": {
      "text/plain": [
       "(884279719003555, 281474976710656)"
      ]
     },
     "execution_count": 41,
     "metadata": {},
     "output_type": "execute_result"
    }
   ],
   "source": [
    "import math\n",
    "math.pi.as_integer_ratio()"
   ]
  },
  {
   "cell_type": "code",
   "execution_count": 42,
   "metadata": {},
   "outputs": [
    {
     "data": {
      "text/plain": [
       "3.141592653589793"
      ]
     },
     "execution_count": 42,
     "metadata": {},
     "output_type": "execute_result"
    }
   ],
   "source": [
    "884279719003555/281474976710656"
   ]
  },
  {
   "cell_type": "markdown",
   "metadata": {},
   "source": [
    "# Floats\n",
    "***\n",
    "\n",
    "The float type in CPython uses a C double for storage. A float object’s value is stored in binary floating-point with a fixed precision (typically 53 bits) and Python uses C operations, which in turn rely on the hardware implementation in the processor, to perform floating-point operations. This means that as far as floating-point operations are concerned, Python behaves like many popular languages including C and Java.\n",
    "\n",
    "Floats:\n",
    "1. Sign bit\n",
    "2. Fractional part digits\n",
    "3. Exponent part digits\n",
    "\n",
    "\n",
    "\n",
    "1. bit for negative/postive\n",
    "2. bits to expand as follows:  \n",
    "$\n",
    "01101101 - 0*2^{-1} + 1*2^{-2} + 1*2^{-3} + 0*2^{-4} + 1*2^{-5} + 1*2^{-6} + 0*2^{-7} + 1*2^{-8} = 0.42578125\n",
    "$\n",
    "3. bits for exponent:\n",
    "$\n",
    "11000011 - 1*2^7 + 1*2^6 + 0*2^5 + 0*2^4 + 0*2^3 + 0*2^2 + 1*2^1 + 1*2^0 = 195\n",
    "$\n",
    "\n",
    "\n",
    "sign * fractional part ** exponent"
   ]
  },
  {
   "cell_type": "code",
   "execution_count": 43,
   "metadata": {},
   "outputs": [
    {
     "data": {
      "text/plain": [
       "0.42578125"
      ]
     },
     "execution_count": 43,
     "metadata": {},
     "output_type": "execute_result"
    }
   ],
   "source": [
    "0*2**-1 + 1*2**-2 + 1*2**-3 + 0*2**-4 + 1*2**-5 + 1*2**-6 + 0*2**-7 + 1*2**-8"
   ]
  },
  {
   "cell_type": "code",
   "execution_count": 44,
   "metadata": {},
   "outputs": [
    {
     "data": {
      "text/plain": [
       "0.42578125"
      ]
     },
     "execution_count": 44,
     "metadata": {},
     "output_type": "execute_result"
    }
   ],
   "source": [
    "sum([int(j) * 2 **-(i+1) for i, j in enumerate('01101101')])"
   ]
  },
  {
   "cell_type": "code",
   "execution_count": 45,
   "metadata": {},
   "outputs": [
    {
     "data": {
      "text/plain": [
       "195"
      ]
     },
     "execution_count": 45,
     "metadata": {},
     "output_type": "execute_result"
    }
   ],
   "source": [
    "1*2**7 + 1*2**6 + 0*2**5 + 0*2**4 + 0*2**3 + 0*2**2 + 1*2**1 + 1*2**0"
   ]
  },
  {
   "cell_type": "code",
   "execution_count": 46,
   "metadata": {},
   "outputs": [
    {
     "data": {
      "text/plain": [
       "195"
      ]
     },
     "execution_count": 46,
     "metadata": {},
     "output_type": "execute_result"
    }
   ],
   "source": [
    "sum([int(j) * 2 **(i) for i, j in enumerate('11000011')])"
   ]
  },
  {
   "cell_type": "markdown",
   "metadata": {},
   "source": [
    "1 2 3 4 5 6 7 8 9 10\n",
    "\n",
    "1.00 1.01 1.02 .. 1.99 2.00 99\n",
    "\n",
    "1.00000000000000000000000000000...\n",
    "2.000000000000000000000000000000000000000000000...\n",
    "1.0 ... 2.0"
   ]
  },
  {
   "cell_type": "code",
   "execution_count": 47,
   "metadata": {},
   "outputs": [
    {
     "data": {
      "text/plain": [
       "0.3333333333333333"
      ]
     },
     "execution_count": 47,
     "metadata": {},
     "output_type": "execute_result"
    }
   ],
   "source": [
    "1/3."
   ]
  },
  {
   "cell_type": "code",
   "execution_count": 48,
   "metadata": {},
   "outputs": [
    {
     "data": {
      "text/plain": [
       "float"
      ]
     },
     "execution_count": 48,
     "metadata": {},
     "output_type": "execute_result"
    }
   ],
   "source": [
    "import math\n",
    "\n",
    "type(math.pi)"
   ]
  },
  {
   "cell_type": "code",
   "execution_count": 49,
   "metadata": {},
   "outputs": [
    {
     "data": {
      "text/plain": [
       "'3.14159265359'"
      ]
     },
     "execution_count": 49,
     "metadata": {},
     "output_type": "execute_result"
    }
   ],
   "source": [
    "format(math.pi, '.12g')"
   ]
  },
  {
   "cell_type": "code",
   "execution_count": 50,
   "metadata": {},
   "outputs": [
    {
     "data": {
      "text/plain": [
       "'3.14'"
      ]
     },
     "execution_count": 50,
     "metadata": {},
     "output_type": "execute_result"
    }
   ],
   "source": [
    "format(math.pi, '.2f')"
   ]
  },
  {
   "cell_type": "code",
   "execution_count": 51,
   "metadata": {},
   "outputs": [
    {
     "data": {
      "text/plain": [
       "'0.10000000000000001'"
      ]
     },
     "execution_count": 51,
     "metadata": {},
     "output_type": "execute_result"
    }
   ],
   "source": [
    "format(0.1, '.17f')"
   ]
  },
  {
   "cell_type": "code",
   "execution_count": 52,
   "metadata": {},
   "outputs": [
    {
     "data": {
      "text/plain": [
       "False"
      ]
     },
     "execution_count": 52,
     "metadata": {},
     "output_type": "execute_result"
    }
   ],
   "source": [
    "0.1 + 0.1 + 0.1 == 0.3"
   ]
  },
  {
   "cell_type": "code",
   "execution_count": 53,
   "metadata": {},
   "outputs": [
    {
     "data": {
      "text/plain": [
       "True"
      ]
     },
     "execution_count": 53,
     "metadata": {},
     "output_type": "execute_result"
    }
   ],
   "source": [
    "round(0.1 + 0.1 + 0.1, 10) == round(0.3, 10)"
   ]
  },
  {
   "cell_type": "code",
   "execution_count": 54,
   "metadata": {},
   "outputs": [
    {
     "data": {
      "text/plain": [
       "(3602879701896397, 36028797018963968)"
      ]
     },
     "execution_count": 54,
     "metadata": {},
     "output_type": "execute_result"
    }
   ],
   "source": [
    "(0.1).as_integer_ratio()"
   ]
  },
  {
   "cell_type": "code",
   "execution_count": 55,
   "metadata": {},
   "outputs": [
    {
     "data": {
      "text/plain": [
       "Decimal('0.142857')"
      ]
     },
     "execution_count": 55,
     "metadata": {},
     "output_type": "execute_result"
    }
   ],
   "source": [
    "from decimal import getcontext, Decimal\n",
    "getcontext().prec = 6\n",
    "Decimal(1)/Decimal(7)"
   ]
  },
  {
   "cell_type": "code",
   "execution_count": 56,
   "metadata": {},
   "outputs": [
    {
     "data": {
      "text/plain": [
       "Decimal('0.1428571428571428571428571429')"
      ]
     },
     "execution_count": 56,
     "metadata": {},
     "output_type": "execute_result"
    }
   ],
   "source": [
    "getcontext().prec = 28\n",
    "Decimal(1)/Decimal(7)"
   ]
  },
  {
   "cell_type": "code",
   "execution_count": 57,
   "metadata": {},
   "outputs": [
    {
     "data": {
      "text/plain": [
       "Decimal('0.14')"
      ]
     },
     "execution_count": 57,
     "metadata": {},
     "output_type": "execute_result"
    }
   ],
   "source": [
    "getcontext().prec = 2\n",
    "Decimal(1)/Decimal(7)"
   ]
  },
  {
   "cell_type": "code",
   "execution_count": 58,
   "metadata": {},
   "outputs": [
    {
     "data": {
      "text/plain": [
       "Fraction(1, 4)"
      ]
     },
     "execution_count": 58,
     "metadata": {},
     "output_type": "execute_result"
    }
   ],
   "source": [
    "from fractions import Fraction\n",
    "Fraction.from_float(0.25)"
   ]
  },
  {
   "cell_type": "code",
   "execution_count": 59,
   "metadata": {},
   "outputs": [
    {
     "data": {
      "text/plain": [
       "Fraction(3002369727582815, 9007199254740992)"
      ]
     },
     "execution_count": 59,
     "metadata": {},
     "output_type": "execute_result"
    }
   ],
   "source": [
    "Fraction.from_float(0.33333)"
   ]
  },
  {
   "cell_type": "markdown",
   "metadata": {},
   "source": [
    "# More Python\n",
    "\n",
    "## Useful Built In Functions\n",
    "\n",
    "|               |             |              |              |                |\n",
    "|---------------|-------------|--------------|--------------|----------------|\n",
    "| abs()         | delattr()   | hash()       | memoryview() | set()          |\n",
    "| all()         | dict()      | help()       | min()        | setattr()      |\n",
    "| any()         | dir()       | hex()        | next()       | slice()        |\n",
    "| ascii()       | divmod()    | id()         | object()     | sorted()       |\n",
    "| bin()         | enumerate() | input()      | oct()        | staticmethod() |\n",
    "| bool()        | eval()      | int()        | open()       | str()          |\n",
    "| breakpoint()  | exec()      | isinstance() | ord()        | sum()          |\n",
    "| bytearray()   | filter()    | issubclass() | pow()        | super()        |\n",
    "| bytes()       | float()     | iter()       | print()      | tuple()        |\n",
    "| callable()    | format()    | len()        | property()   | type()         |\n",
    "| chr()         | frozenset() | list()       | range()      | vars()         |\n",
    "| classmethod() | getattr()   | locals()     | repr()       | zip()          |\n",
    "| compile()     | globals()   | map()        | reversed()   | \\__import__()   |\n",
    "| complex()     | hasattr()   | max()        | round()      |                |"
   ]
  },
  {
   "cell_type": "markdown",
   "metadata": {},
   "source": [
    "### `abs(x)` -> returns absolute value of x   \n"
   ]
  },
  {
   "cell_type": "code",
   "execution_count": 60,
   "metadata": {},
   "outputs": [
    {
     "data": {
      "text/plain": [
       "10"
      ]
     },
     "execution_count": 60,
     "metadata": {},
     "output_type": "execute_result"
    }
   ],
   "source": [
    "abs(10)"
   ]
  },
  {
   "cell_type": "code",
   "execution_count": 61,
   "metadata": {},
   "outputs": [
    {
     "data": {
      "text/plain": [
       "10"
      ]
     },
     "execution_count": 61,
     "metadata": {},
     "output_type": "execute_result"
    }
   ],
   "source": [
    "abs(-10)"
   ]
  },
  {
   "cell_type": "code",
   "execution_count": 62,
   "metadata": {},
   "outputs": [
    {
     "data": {
      "text/plain": [
       "0"
      ]
     },
     "execution_count": 62,
     "metadata": {},
     "output_type": "execute_result"
    }
   ],
   "source": [
    "abs(0)"
   ]
  },
  {
   "cell_type": "markdown",
   "metadata": {},
   "source": [
    "### `bool(x)` -> casts x as bool "
   ]
  },
  {
   "cell_type": "code",
   "execution_count": 63,
   "metadata": {},
   "outputs": [
    {
     "data": {
      "text/plain": [
       "(False, False, False)"
      ]
     },
     "execution_count": 63,
     "metadata": {},
     "output_type": "execute_result"
    }
   ],
   "source": [
    "bool(0), bool(\"\"), bool(None)"
   ]
  },
  {
   "cell_type": "code",
   "execution_count": 64,
   "metadata": {},
   "outputs": [
    {
     "data": {
      "text/plain": [
       "(True, True)"
      ]
     },
     "execution_count": 64,
     "metadata": {},
     "output_type": "execute_result"
    }
   ],
   "source": [
    "bool(1), bool(24)"
   ]
  },
  {
   "cell_type": "code",
   "execution_count": 65,
   "metadata": {},
   "outputs": [
    {
     "data": {
      "text/plain": [
       "(True, True, True)"
      ]
     },
     "execution_count": 65,
     "metadata": {},
     "output_type": "execute_result"
    }
   ],
   "source": [
    "bool(True), bool(4), bool(\"s\")"
   ]
  },
  {
   "cell_type": "markdown",
   "metadata": {},
   "source": [
    "### `callable(x)` -> returns True if x is a function  \n"
   ]
  },
  {
   "cell_type": "code",
   "execution_count": 66,
   "metadata": {},
   "outputs": [
    {
     "data": {
      "text/plain": [
       "True"
      ]
     },
     "execution_count": 66,
     "metadata": {},
     "output_type": "execute_result"
    }
   ],
   "source": [
    "callable(print)"
   ]
  },
  {
   "cell_type": "code",
   "execution_count": 67,
   "metadata": {},
   "outputs": [
    {
     "data": {
      "text/plain": [
       "True"
      ]
     },
     "execution_count": 67,
     "metadata": {},
     "output_type": "execute_result"
    }
   ],
   "source": [
    "callable(bool)"
   ]
  },
  {
   "cell_type": "code",
   "execution_count": 68,
   "metadata": {},
   "outputs": [
    {
     "data": {
      "text/plain": [
       "False"
      ]
     },
     "execution_count": 68,
     "metadata": {},
     "output_type": "execute_result"
    }
   ],
   "source": [
    "s = \"string\"\n",
    "callable(s)"
   ]
  },
  {
   "cell_type": "markdown",
   "metadata": {},
   "source": [
    "### `dict()` -> returns dict  "
   ]
  },
  {
   "cell_type": "code",
   "execution_count": 69,
   "metadata": {},
   "outputs": [
    {
     "data": {
      "text/plain": [
       "dict"
      ]
     },
     "execution_count": 69,
     "metadata": {},
     "output_type": "execute_result"
    }
   ],
   "source": [
    "d = dict()\n",
    "type(d)"
   ]
  },
  {
   "cell_type": "markdown",
   "metadata": {},
   "source": [
    "### `dir(x)` -> returns attributes and methods of object x  "
   ]
  },
  {
   "cell_type": "code",
   "execution_count": 70,
   "metadata": {},
   "outputs": [
    {
     "data": {
      "text/plain": [
       "['Decimal',\n",
       " 'Example',\n",
       " 'Fraction',\n",
       " 'In',\n",
       " 'Out',\n",
       " '_',\n",
       " '_10',\n",
       " '_11',\n",
       " '_12',\n",
       " '_13',\n",
       " '_14',\n",
       " '_15',\n",
       " '_16',\n",
       " '_17',\n",
       " '_18',\n",
       " '_20',\n",
       " '_31',\n",
       " '_32',\n",
       " '_33',\n",
       " '_34',\n",
       " '_35',\n",
       " '_36',\n",
       " '_39',\n",
       " '_40',\n",
       " '_41',\n",
       " '_42',\n",
       " '_43',\n",
       " '_44',\n",
       " '_45',\n",
       " '_46',\n",
       " '_47',\n",
       " '_48',\n",
       " '_49',\n",
       " '_50',\n",
       " '_51',\n",
       " '_52',\n",
       " '_53',\n",
       " '_54',\n",
       " '_55',\n",
       " '_56',\n",
       " '_57',\n",
       " '_58',\n",
       " '_59',\n",
       " '_60',\n",
       " '_61',\n",
       " '_62',\n",
       " '_63',\n",
       " '_64',\n",
       " '_65',\n",
       " '_66',\n",
       " '_67',\n",
       " '_68',\n",
       " '_69',\n",
       " '_8',\n",
       " '__',\n",
       " '___',\n",
       " '__annotations__',\n",
       " '__builtin__',\n",
       " '__builtins__',\n",
       " '__doc__',\n",
       " '__loader__',\n",
       " '__name__',\n",
       " '__package__',\n",
       " '__spec__',\n",
       " '_dh',\n",
       " '_i',\n",
       " '_i1',\n",
       " '_i10',\n",
       " '_i11',\n",
       " '_i12',\n",
       " '_i13',\n",
       " '_i14',\n",
       " '_i15',\n",
       " '_i16',\n",
       " '_i17',\n",
       " '_i18',\n",
       " '_i19',\n",
       " '_i2',\n",
       " '_i20',\n",
       " '_i21',\n",
       " '_i22',\n",
       " '_i23',\n",
       " '_i24',\n",
       " '_i25',\n",
       " '_i26',\n",
       " '_i27',\n",
       " '_i28',\n",
       " '_i29',\n",
       " '_i3',\n",
       " '_i30',\n",
       " '_i31',\n",
       " '_i32',\n",
       " '_i33',\n",
       " '_i34',\n",
       " '_i35',\n",
       " '_i36',\n",
       " '_i37',\n",
       " '_i38',\n",
       " '_i39',\n",
       " '_i4',\n",
       " '_i40',\n",
       " '_i41',\n",
       " '_i42',\n",
       " '_i43',\n",
       " '_i44',\n",
       " '_i45',\n",
       " '_i46',\n",
       " '_i47',\n",
       " '_i48',\n",
       " '_i49',\n",
       " '_i5',\n",
       " '_i50',\n",
       " '_i51',\n",
       " '_i52',\n",
       " '_i53',\n",
       " '_i54',\n",
       " '_i55',\n",
       " '_i56',\n",
       " '_i57',\n",
       " '_i58',\n",
       " '_i59',\n",
       " '_i6',\n",
       " '_i60',\n",
       " '_i61',\n",
       " '_i62',\n",
       " '_i63',\n",
       " '_i64',\n",
       " '_i65',\n",
       " '_i66',\n",
       " '_i67',\n",
       " '_i68',\n",
       " '_i69',\n",
       " '_i7',\n",
       " '_i70',\n",
       " '_i8',\n",
       " '_i9',\n",
       " '_ih',\n",
       " '_ii',\n",
       " '_iii',\n",
       " '_oh',\n",
       " 'action',\n",
       " 'action_in_response',\n",
       " 'balance',\n",
       " 'condition',\n",
       " 'crazy_event',\n",
       " 'd',\n",
       " 'day',\n",
       " 'e',\n",
       " 'exit',\n",
       " 'first_adjective',\n",
       " 'first_noun',\n",
       " 'first_verb',\n",
       " 'get_ipython',\n",
       " 'getcontext',\n",
       " 'mad_lib',\n",
       " 'math',\n",
       " 'meeting_event',\n",
       " 'number',\n",
       " 'person',\n",
       " 'quit',\n",
       " 's',\n",
       " 'second_adjective',\n",
       " 'second_noun',\n",
       " 'second_verb',\n",
       " 'third_noun',\n",
       " 'time_of_arrival',\n",
       " 'variable',\n",
       " 'variable2',\n",
       " 'w',\n",
       " 'weather',\n",
       " 'x',\n",
       " 'y']"
      ]
     },
     "execution_count": 70,
     "metadata": {},
     "output_type": "execute_result"
    }
   ],
   "source": [
    "dir()"
   ]
  },
  {
   "cell_type": "code",
   "execution_count": 71,
   "metadata": {},
   "outputs": [
    {
     "data": {
      "text/plain": [
       "['__call__',\n",
       " '__class__',\n",
       " '__delattr__',\n",
       " '__dict__',\n",
       " '__dir__',\n",
       " '__doc__',\n",
       " '__eq__',\n",
       " '__format__',\n",
       " '__ge__',\n",
       " '__getattribute__',\n",
       " '__gt__',\n",
       " '__hash__',\n",
       " '__init__',\n",
       " '__init_subclass__',\n",
       " '__le__',\n",
       " '__lt__',\n",
       " '__module__',\n",
       " '__ne__',\n",
       " '__new__',\n",
       " '__reduce__',\n",
       " '__reduce_ex__',\n",
       " '__repr__',\n",
       " '__setattr__',\n",
       " '__sizeof__',\n",
       " '__str__',\n",
       " '__subclasshook__',\n",
       " '__weakref__']"
      ]
     },
     "execution_count": 71,
     "metadata": {},
     "output_type": "execute_result"
    }
   ],
   "source": [
    "dir(help)"
   ]
  },
  {
   "cell_type": "markdown",
   "metadata": {},
   "source": [
    " ### `float(x)` -> casts x to a float  "
   ]
  },
  {
   "cell_type": "code",
   "execution_count": 72,
   "metadata": {},
   "outputs": [
    {
     "data": {
      "text/plain": [
       "1.0"
      ]
     },
     "execution_count": 72,
     "metadata": {},
     "output_type": "execute_result"
    }
   ],
   "source": [
    "float(1)"
   ]
  },
  {
   "cell_type": "code",
   "execution_count": 73,
   "metadata": {},
   "outputs": [
    {
     "data": {
      "text/plain": [
       "1.0"
      ]
     },
     "execution_count": 73,
     "metadata": {},
     "output_type": "execute_result"
    }
   ],
   "source": [
    "float(\"1\")"
   ]
  },
  {
   "cell_type": "code",
   "execution_count": 74,
   "metadata": {},
   "outputs": [
    {
     "ename": "ValueError",
     "evalue": "could not convert string to float: 's'",
     "output_type": "error",
     "traceback": [
      "\u001b[1;31m---------------------------------------------------------------------------\u001b[0m",
      "\u001b[1;31mValueError\u001b[0m                                Traceback (most recent call last)",
      "\u001b[1;32m<ipython-input-74-817e6ea32519>\u001b[0m in \u001b[0;36m<module>\u001b[1;34m\u001b[0m\n\u001b[1;32m----> 1\u001b[1;33m \u001b[0mfloat\u001b[0m\u001b[1;33m(\u001b[0m\u001b[1;34m\"s\"\u001b[0m\u001b[1;33m)\u001b[0m\u001b[1;33m\u001b[0m\u001b[1;33m\u001b[0m\u001b[0m\n\u001b[0m",
      "\u001b[1;31mValueError\u001b[0m: could not convert string to float: 's'"
     ]
    }
   ],
   "source": [
    "float(\"s\")"
   ]
  },
  {
   "cell_type": "markdown",
   "metadata": {},
   "source": [
    "\n",
    "### `hex(x)` -> casts int x as a hex   \n"
   ]
  },
  {
   "cell_type": "code",
   "execution_count": 75,
   "metadata": {},
   "outputs": [
    {
     "data": {
      "text/plain": [
       "'0x0'"
      ]
     },
     "execution_count": 75,
     "metadata": {},
     "output_type": "execute_result"
    }
   ],
   "source": [
    "hex(0)"
   ]
  },
  {
   "cell_type": "code",
   "execution_count": 76,
   "metadata": {},
   "outputs": [
    {
     "ename": "TypeError",
     "evalue": "'float' object cannot be interpreted as an integer",
     "output_type": "error",
     "traceback": [
      "\u001b[1;31m---------------------------------------------------------------------------\u001b[0m",
      "\u001b[1;31mTypeError\u001b[0m                                 Traceback (most recent call last)",
      "\u001b[1;32m<ipython-input-76-527c8167b553>\u001b[0m in \u001b[0;36m<module>\u001b[1;34m\u001b[0m\n\u001b[1;32m----> 1\u001b[1;33m \u001b[0mhex\u001b[0m\u001b[1;33m(\u001b[0m\u001b[1;36m0.0\u001b[0m\u001b[1;33m)\u001b[0m\u001b[1;33m\u001b[0m\u001b[1;33m\u001b[0m\u001b[0m\n\u001b[0m",
      "\u001b[1;31mTypeError\u001b[0m: 'float' object cannot be interpreted as an integer"
     ]
    }
   ],
   "source": [
    "hex(0.0)"
   ]
  },
  {
   "cell_type": "code",
   "execution_count": 77,
   "metadata": {},
   "outputs": [
    {
     "ename": "TypeError",
     "evalue": "'str' object cannot be interpreted as an integer",
     "output_type": "error",
     "traceback": [
      "\u001b[1;31m---------------------------------------------------------------------------\u001b[0m",
      "\u001b[1;31mTypeError\u001b[0m                                 Traceback (most recent call last)",
      "\u001b[1;32m<ipython-input-77-0b00495ca65c>\u001b[0m in \u001b[0;36m<module>\u001b[1;34m\u001b[0m\n\u001b[1;32m----> 1\u001b[1;33m \u001b[0mhex\u001b[0m\u001b[1;33m(\u001b[0m\u001b[1;34m\"0\"\u001b[0m\u001b[1;33m)\u001b[0m\u001b[1;33m\u001b[0m\u001b[1;33m\u001b[0m\u001b[0m\n\u001b[0m",
      "\u001b[1;31mTypeError\u001b[0m: 'str' object cannot be interpreted as an integer"
     ]
    }
   ],
   "source": [
    "hex(\"0\")"
   ]
  },
  {
   "cell_type": "markdown",
   "metadata": {},
   "source": [
    "### `id(x)` -> returns id for object x  \n"
   ]
  },
  {
   "cell_type": "code",
   "execution_count": 78,
   "metadata": {},
   "outputs": [
    {
     "name": "stdout",
     "output_type": "stream",
     "text": [
      "strin\n"
     ]
    },
    {
     "data": {
      "text/plain": [
       "(1411751117936,\n",
       " 1411751117936,\n",
       " 1411793938032,\n",
       " 1411793938032,\n",
       " 1411793937840,\n",
       " 1411793937776)"
      ]
     },
     "execution_count": 78,
     "metadata": {},
     "output_type": "execute_result"
    }
   ],
   "source": [
    "s = \"string\"\n",
    "d = \"string\"\n",
    "e = \"strin\"\n",
    "f = e[:]\n",
    "g = s[:-1]\n",
    "h = d[:-1]\n",
    "print(f)\n",
    "id(s), id(d), id(e), id(f), id(g), id(h)"
   ]
  },
  {
   "cell_type": "code",
   "execution_count": 79,
   "metadata": {},
   "outputs": [
    {
     "data": {
      "text/plain": [
       "True"
      ]
     },
     "execution_count": 79,
     "metadata": {},
     "output_type": "execute_result"
    }
   ],
   "source": [
    "s is d"
   ]
  },
  {
   "cell_type": "code",
   "execution_count": 80,
   "metadata": {},
   "outputs": [
    {
     "data": {
      "text/plain": [
       "True"
      ]
     },
     "execution_count": 80,
     "metadata": {},
     "output_type": "execute_result"
    }
   ],
   "source": [
    "s == d"
   ]
  },
  {
   "cell_type": "code",
   "execution_count": 81,
   "metadata": {},
   "outputs": [
    {
     "data": {
      "text/plain": [
       "True"
      ]
     },
     "execution_count": 81,
     "metadata": {},
     "output_type": "execute_result"
    }
   ],
   "source": [
    "e == g"
   ]
  },
  {
   "cell_type": "code",
   "execution_count": 82,
   "metadata": {},
   "outputs": [
    {
     "data": {
      "text/plain": [
       "False"
      ]
     },
     "execution_count": 82,
     "metadata": {},
     "output_type": "execute_result"
    }
   ],
   "source": [
    "e is g"
   ]
  },
  {
   "cell_type": "code",
   "execution_count": 83,
   "metadata": {},
   "outputs": [
    {
     "data": {
      "text/plain": [
       "(1411793201536, 1411793945344)"
      ]
     },
     "execution_count": 83,
     "metadata": {},
     "output_type": "execute_result"
    }
   ],
   "source": [
    "s = [4, 5]\n",
    "d = [4, 5]\n",
    "id(s), id(d)"
   ]
  },
  {
   "cell_type": "code",
   "execution_count": 84,
   "metadata": {},
   "outputs": [
    {
     "data": {
      "text/plain": [
       "False"
      ]
     },
     "execution_count": 84,
     "metadata": {},
     "output_type": "execute_result"
    }
   ],
   "source": [
    "s is d"
   ]
  },
  {
   "cell_type": "code",
   "execution_count": 85,
   "metadata": {},
   "outputs": [
    {
     "data": {
      "text/plain": [
       "True"
      ]
     },
     "execution_count": 85,
     "metadata": {},
     "output_type": "execute_result"
    }
   ],
   "source": [
    "s == d"
   ]
  },
  {
   "cell_type": "markdown",
   "metadata": {},
   "source": [
    "### `input()`  -> returns user input"
   ]
  },
  {
   "cell_type": "code",
   "execution_count": 86,
   "metadata": {},
   "outputs": [
    {
     "name": "stdout",
     "output_type": "stream",
     "text": [
      "j\n"
     ]
    },
    {
     "data": {
      "text/plain": [
       "'j'"
      ]
     },
     "execution_count": 86,
     "metadata": {},
     "output_type": "execute_result"
    }
   ],
   "source": [
    "input()"
   ]
  },
  {
   "cell_type": "code",
   "execution_count": null,
   "metadata": {},
   "outputs": [],
   "source": [
    "s = input()"
   ]
  },
  {
   "cell_type": "code",
   "execution_count": null,
   "metadata": {},
   "outputs": [],
   "source": [
    "s"
   ]
  },
  {
   "cell_type": "markdown",
   "metadata": {},
   "source": [
    "### `int(x)` -> casts x as int  "
   ]
  },
  {
   "cell_type": "code",
   "execution_count": 87,
   "metadata": {},
   "outputs": [
    {
     "data": {
      "text/plain": [
       "0"
      ]
     },
     "execution_count": 87,
     "metadata": {},
     "output_type": "execute_result"
    }
   ],
   "source": [
    "int(0)"
   ]
  },
  {
   "cell_type": "code",
   "execution_count": 88,
   "metadata": {},
   "outputs": [
    {
     "data": {
      "text/plain": [
       "1"
      ]
     },
     "execution_count": 88,
     "metadata": {},
     "output_type": "execute_result"
    }
   ],
   "source": [
    "int(\"1\")"
   ]
  },
  {
   "cell_type": "code",
   "execution_count": 89,
   "metadata": {},
   "outputs": [
    {
     "data": {
      "text/plain": [
       "1"
      ]
     },
     "execution_count": 89,
     "metadata": {},
     "output_type": "execute_result"
    }
   ],
   "source": [
    "int(True)"
   ]
  },
  {
   "cell_type": "markdown",
   "metadata": {},
   "source": [
    "### `len(x)` -> returns count of x  "
   ]
  },
  {
   "cell_type": "code",
   "execution_count": 90,
   "metadata": {},
   "outputs": [
    {
     "data": {
      "text/plain": [
       "6"
      ]
     },
     "execution_count": 90,
     "metadata": {},
     "output_type": "execute_result"
    }
   ],
   "source": [
    "len(\"string\")"
   ]
  },
  {
   "cell_type": "code",
   "execution_count": 91,
   "metadata": {},
   "outputs": [
    {
     "data": {
      "text/plain": [
       "4"
      ]
     },
     "execution_count": 91,
     "metadata": {},
     "output_type": "execute_result"
    }
   ],
   "source": [
    "len([1,2,3,4])"
   ]
  },
  {
   "cell_type": "code",
   "execution_count": 92,
   "metadata": {},
   "outputs": [
    {
     "data": {
      "text/plain": [
       "4"
      ]
     },
     "execution_count": 92,
     "metadata": {},
     "output_type": "execute_result"
    }
   ],
   "source": [
    "len((1,2,3,4))"
   ]
  },
  {
   "cell_type": "code",
   "execution_count": 93,
   "metadata": {},
   "outputs": [
    {
     "data": {
      "text/plain": [
       "2"
      ]
     },
     "execution_count": 93,
     "metadata": {},
     "output_type": "execute_result"
    }
   ],
   "source": [
    "len({'a':1, 'b':2})"
   ]
  },
  {
   "cell_type": "markdown",
   "metadata": {},
   "source": [
    "### `list()`  -> returns list"
   ]
  },
  {
   "cell_type": "code",
   "execution_count": 94,
   "metadata": {},
   "outputs": [],
   "source": [
    "l = list()"
   ]
  },
  {
   "cell_type": "code",
   "execution_count": 95,
   "metadata": {},
   "outputs": [],
   "source": [
    "l.append(4)"
   ]
  },
  {
   "cell_type": "code",
   "execution_count": 101,
   "metadata": {},
   "outputs": [
    {
     "data": {
      "text/plain": [
       "[4]"
      ]
     },
     "execution_count": 101,
     "metadata": {},
     "output_type": "execute_result"
    }
   ],
   "source": [
    "l"
   ]
  },
  {
   "cell_type": "code",
   "execution_count": 103,
   "metadata": {},
   "outputs": [
    {
     "data": {
      "text/plain": [
       "[2]"
      ]
     },
     "execution_count": 103,
     "metadata": {},
     "output_type": "execute_result"
    }
   ],
   "source": [
    "k = [2]\n",
    "k"
   ]
  },
  {
   "cell_type": "markdown",
   "metadata": {},
   "source": [
    "### `pow(x, y)` -> returns x to the y power  "
   ]
  },
  {
   "cell_type": "code",
   "execution_count": 104,
   "metadata": {},
   "outputs": [
    {
     "data": {
      "text/plain": [
       "16"
      ]
     },
     "execution_count": 104,
     "metadata": {},
     "output_type": "execute_result"
    }
   ],
   "source": [
    "pow(2,4)"
   ]
  },
  {
   "cell_type": "code",
   "execution_count": 105,
   "metadata": {},
   "outputs": [
    {
     "data": {
      "text/plain": [
       "625"
      ]
     },
     "execution_count": 105,
     "metadata": {},
     "output_type": "execute_result"
    }
   ],
   "source": [
    "pow(25,2)"
   ]
  },
  {
   "cell_type": "markdown",
   "metadata": {},
   "source": [
    "### `print()`  -> prints argument"
   ]
  },
  {
   "cell_type": "code",
   "execution_count": 106,
   "metadata": {},
   "outputs": [
    {
     "name": "stdout",
     "output_type": "stream",
     "text": [
      "hello\n"
     ]
    }
   ],
   "source": [
    "print(\"hello\")"
   ]
  },
  {
   "cell_type": "code",
   "execution_count": 107,
   "metadata": {},
   "outputs": [
    {
     "name": "stdout",
     "output_type": "stream",
     "text": [
      "25\n"
     ]
    }
   ],
   "source": [
    "print(25)"
   ]
  },
  {
   "cell_type": "code",
   "execution_count": 110,
   "metadata": {},
   "outputs": [
    {
     "name": "stdout",
     "output_type": "stream",
     "text": [
      "True\n"
     ]
    }
   ],
   "source": [
    "print(True)"
   ]
  },
  {
   "cell_type": "markdown",
   "metadata": {},
   "source": [
    "### `range()`  returns iterable of sequential values"
   ]
  },
  {
   "cell_type": "code",
   "execution_count": 111,
   "metadata": {},
   "outputs": [
    {
     "data": {
      "text/plain": [
       "range(0, 100)"
      ]
     },
     "execution_count": 111,
     "metadata": {},
     "output_type": "execute_result"
    }
   ],
   "source": [
    "range(100)"
   ]
  },
  {
   "cell_type": "code",
   "execution_count": 112,
   "metadata": {},
   "outputs": [
    {
     "data": {
      "text/plain": [
       "range(5, 10)"
      ]
     },
     "execution_count": 112,
     "metadata": {},
     "output_type": "execute_result"
    }
   ],
   "source": [
    "range(5,10)"
   ]
  },
  {
   "cell_type": "code",
   "execution_count": 115,
   "metadata": {},
   "outputs": [
    {
     "data": {
      "text/plain": [
       "[0, 1, 2, 3, 4, 5, 6, 7, 8, 9]"
      ]
     },
     "execution_count": 115,
     "metadata": {},
     "output_type": "execute_result"
    }
   ],
   "source": [
    "[i for i in range(10)]"
   ]
  },
  {
   "cell_type": "code",
   "execution_count": 117,
   "metadata": {},
   "outputs": [
    {
     "data": {
      "text/plain": [
       "[5, 6, 7, 8, 9]"
      ]
     },
     "execution_count": 117,
     "metadata": {},
     "output_type": "execute_result"
    }
   ],
   "source": [
    "list(range(5,10))"
   ]
  },
  {
   "cell_type": "code",
   "execution_count": 118,
   "metadata": {},
   "outputs": [
    {
     "data": {
      "text/plain": [
       "[1, 1, 1, 1, 1, 1, 1, 1, 1, 1]"
      ]
     },
     "execution_count": 118,
     "metadata": {},
     "output_type": "execute_result"
    }
   ],
   "source": [
    "[1 for i in range(10)]"
   ]
  },
  {
   "cell_type": "markdown",
   "metadata": {},
   "source": [
    "### `round(x)` -> returns x rounded to nearest"
   ]
  },
  {
   "cell_type": "code",
   "execution_count": 119,
   "metadata": {},
   "outputs": [
    {
     "data": {
      "text/plain": [
       "132320.0324534521"
      ]
     },
     "execution_count": 119,
     "metadata": {},
     "output_type": "execute_result"
    }
   ],
   "source": [
    "round(132320.0324534521, 10)"
   ]
  },
  {
   "cell_type": "code",
   "execution_count": 120,
   "metadata": {},
   "outputs": [
    {
     "data": {
      "text/plain": [
       "100000.0"
      ]
     },
     "execution_count": 120,
     "metadata": {},
     "output_type": "execute_result"
    }
   ],
   "source": [
    "round(132320.0324534521, -5)"
   ]
  },
  {
   "cell_type": "code",
   "execution_count": 121,
   "metadata": {},
   "outputs": [
    {
     "data": {
      "text/plain": [
       "132320.03"
      ]
     },
     "execution_count": 121,
     "metadata": {},
     "output_type": "execute_result"
    }
   ],
   "source": [
    "round(132320.0324534521, 2)"
   ]
  },
  {
   "cell_type": "markdown",
   "metadata": {},
   "source": [
    "### `set()` "
   ]
  },
  {
   "cell_type": "code",
   "execution_count": 122,
   "metadata": {},
   "outputs": [],
   "source": [
    "s = set()"
   ]
  },
  {
   "cell_type": "code",
   "execution_count": 123,
   "metadata": {},
   "outputs": [],
   "source": [
    "s.add(4)"
   ]
  },
  {
   "cell_type": "code",
   "execution_count": 125,
   "metadata": {},
   "outputs": [
    {
     "data": {
      "text/plain": [
       "{4}"
      ]
     },
     "execution_count": 125,
     "metadata": {},
     "output_type": "execute_result"
    }
   ],
   "source": [
    "s"
   ]
  },
  {
   "cell_type": "markdown",
   "metadata": {},
   "source": [
    "### `str(x)`  -> casts x as string"
   ]
  },
  {
   "cell_type": "code",
   "execution_count": 128,
   "metadata": {},
   "outputs": [
    {
     "data": {
      "text/plain": [
       "'718'"
      ]
     },
     "execution_count": 128,
     "metadata": {},
     "output_type": "execute_result"
    }
   ],
   "source": [
    "str(718)"
   ]
  },
  {
   "cell_type": "code",
   "execution_count": 129,
   "metadata": {},
   "outputs": [
    {
     "data": {
      "text/plain": [
       "'True'"
      ]
     },
     "execution_count": 129,
     "metadata": {},
     "output_type": "execute_result"
    }
   ],
   "source": [
    "str(True)"
   ]
  },
  {
   "cell_type": "code",
   "execution_count": 133,
   "metadata": {},
   "outputs": [
    {
     "data": {
      "text/plain": [
       "'[2, 3, 4, 5]'"
      ]
     },
     "execution_count": 133,
     "metadata": {},
     "output_type": "execute_result"
    }
   ],
   "source": [
    "str([2,3,4,5])"
   ]
  },
  {
   "cell_type": "markdown",
   "metadata": {},
   "source": [
    "### `type()`  "
   ]
  },
  {
   "cell_type": "code",
   "execution_count": 134,
   "metadata": {},
   "outputs": [
    {
     "data": {
      "text/plain": [
       "str"
      ]
     },
     "execution_count": 134,
     "metadata": {},
     "output_type": "execute_result"
    }
   ],
   "source": [
    "type(\"string\")"
   ]
  },
  {
   "cell_type": "markdown",
   "metadata": {},
   "source": [
    "### Dunder methods\n",
    "Dunder or magic methods in Python are the methods having two prefix and suffix underscores in the method name. Dunder here means Double Under (Underscores)\"."
   ]
  },
  {
   "cell_type": "code",
   "execution_count": 135,
   "metadata": {},
   "outputs": [
    {
     "data": {
      "text/plain": [
       "['__add__',\n",
       " '__class__',\n",
       " '__contains__',\n",
       " '__delattr__',\n",
       " '__dir__',\n",
       " '__doc__',\n",
       " '__eq__',\n",
       " '__format__',\n",
       " '__ge__',\n",
       " '__getattribute__',\n",
       " '__getitem__',\n",
       " '__getnewargs__',\n",
       " '__gt__',\n",
       " '__hash__',\n",
       " '__init__',\n",
       " '__init_subclass__',\n",
       " '__iter__',\n",
       " '__le__',\n",
       " '__len__',\n",
       " '__lt__',\n",
       " '__mod__',\n",
       " '__mul__',\n",
       " '__ne__',\n",
       " '__new__',\n",
       " '__reduce__',\n",
       " '__reduce_ex__',\n",
       " '__repr__',\n",
       " '__rmod__',\n",
       " '__rmul__',\n",
       " '__setattr__',\n",
       " '__sizeof__',\n",
       " '__str__',\n",
       " '__subclasshook__']"
      ]
     },
     "execution_count": 135,
     "metadata": {},
     "output_type": "execute_result"
    }
   ],
   "source": [
    "s = str()\n",
    "[i for i in dir(s) if i.endswith('_')]"
   ]
  },
  {
   "cell_type": "code",
   "execution_count": 136,
   "metadata": {},
   "outputs": [
    {
     "name": "stdout",
     "output_type": "stream",
     "text": [
      "str(object='') -> str\n",
      "str(bytes_or_buffer[, encoding[, errors]]) -> str\n",
      "\n",
      "Create a new string object from the given object. If encoding or\n",
      "errors is specified, then the object must expose a data buffer\n",
      "that will be decoded using the given encoding and error handler.\n",
      "Otherwise, returns the result of object.__str__() (if defined)\n",
      "or repr(object).\n",
      "encoding defaults to sys.getdefaultencoding().\n",
      "errors defaults to 'strict'.\n"
     ]
    }
   ],
   "source": [
    "print(s.__doc__)"
   ]
  },
  {
   "cell_type": "code",
   "execution_count": 137,
   "metadata": {},
   "outputs": [
    {
     "name": "stdout",
     "output_type": "stream",
     "text": [
      "<method-wrapper '__str__' of str object at 0x00000148B0F722F0>\n"
     ]
    }
   ],
   "source": [
    "print(s.__str__)"
   ]
  },
  {
   "cell_type": "code",
   "execution_count": 138,
   "metadata": {},
   "outputs": [
    {
     "name": "stdout",
     "output_type": "stream",
     "text": [
      "<method-wrapper '__repr__' of str object at 0x00000148B0F722F0>\n"
     ]
    }
   ],
   "source": [
    "print(s.__repr__)"
   ]
  },
  {
   "cell_type": "code",
   "execution_count": 141,
   "metadata": {},
   "outputs": [
    {
     "name": "stdout",
     "output_type": "stream",
     "text": [
      "hello\n"
     ]
    }
   ],
   "source": [
    "s = \"hello\"\n",
    "print(s)"
   ]
  },
  {
   "cell_type": "code",
   "execution_count": 144,
   "metadata": {},
   "outputs": [
    {
     "name": "stdout",
     "output_type": "stream",
     "text": [
      "<method-wrapper '__len__' of str object at 0x00000148B56E0870>\n"
     ]
    }
   ],
   "source": [
    "print(s.__len__)"
   ]
  },
  {
   "cell_type": "code",
   "execution_count": 145,
   "metadata": {},
   "outputs": [
    {
     "data": {
      "text/plain": [
       "5"
      ]
     },
     "execution_count": 145,
     "metadata": {},
     "output_type": "execute_result"
    }
   ],
   "source": [
    "len(s)"
   ]
  },
  {
   "cell_type": "code",
   "execution_count": 146,
   "metadata": {},
   "outputs": [
    {
     "name": "stdout",
     "output_type": "stream",
     "text": [
      "<class 'str'>\n"
     ]
    }
   ],
   "source": [
    "print(s.__class__)"
   ]
  },
  {
   "cell_type": "code",
   "execution_count": 147,
   "metadata": {},
   "outputs": [
    {
     "name": "stdout",
     "output_type": "stream",
     "text": [
      "<built-in method __dir__ of str object at 0x00000148B56E0870>\n"
     ]
    }
   ],
   "source": [
    "print(s.__dir__)"
   ]
  },
  {
   "cell_type": "code",
   "execution_count": 148,
   "metadata": {},
   "outputs": [
    {
     "name": "stdout",
     "output_type": "stream",
     "text": [
      "<method-wrapper '__init__' of str object at 0x00000148B56E0870>\n"
     ]
    }
   ],
   "source": [
    "print(s.__init__)"
   ]
  },
  {
   "cell_type": "code",
   "execution_count": 149,
   "metadata": {
    "scrolled": true
   },
   "outputs": [
    {
     "data": {
      "text/plain": [
       "'bool(x) -> bool\\n\\nReturns True when the argument x is true, False otherwise.\\nThe builtins True and False are the only two instances of the class bool.\\nThe class bool is a subclass of the class int, and cannot be subclassed.'"
      ]
     },
     "execution_count": 149,
     "metadata": {},
     "output_type": "execute_result"
    }
   ],
   "source": [
    "bool.__doc__"
   ]
  },
  {
   "cell_type": "markdown",
   "metadata": {},
   "source": [
    "# Built In Exceptions"
   ]
  },
  {
   "cell_type": "code",
   "execution_count": 153,
   "metadata": {},
   "outputs": [
    {
     "ename": "IndexError",
     "evalue": "string index out of range",
     "output_type": "error",
     "traceback": [
      "\u001b[1;31m---------------------------------------------------------------------------\u001b[0m",
      "\u001b[1;31mIndexError\u001b[0m                                Traceback (most recent call last)",
      "\u001b[1;32m<ipython-input-153-df46f1f6dc9f>\u001b[0m in \u001b[0;36m<module>\u001b[1;34m\u001b[0m\n\u001b[1;32m----> 1\u001b[1;33m \u001b[1;34m\"123\"\u001b[0m\u001b[1;33m[\u001b[0m\u001b[1;36m9\u001b[0m\u001b[1;33m]\u001b[0m\u001b[1;33m\u001b[0m\u001b[1;33m\u001b[0m\u001b[0m\n\u001b[0m",
      "\u001b[1;31mIndexError\u001b[0m: string index out of range"
     ]
    }
   ],
   "source": [
    "\"123\"[9]\n",
    "# gives an error message IndexError: string index out of range"
   ]
  },
  {
   "cell_type": "code",
   "execution_count": 161,
   "metadata": {},
   "outputs": [
    {
     "name": "stdout",
     "output_type": "stream",
     "text": [
      "string index out of range\n"
     ]
    }
   ],
   "source": [
    "try:\n",
    "    \"123\"[9]\n",
    "except Exception as e:\n",
    "    print(e)"
   ]
  },
  {
   "cell_type": "code",
   "execution_count": 162,
   "metadata": {},
   "outputs": [
    {
     "ename": "Exception",
     "evalue": "",
     "output_type": "error",
     "traceback": [
      "\u001b[1;31m---------------------------------------------------------------------------\u001b[0m",
      "\u001b[1;31mException\u001b[0m                                 Traceback (most recent call last)",
      "\u001b[1;32m<ipython-input-162-2aee0157c87b>\u001b[0m in \u001b[0;36m<module>\u001b[1;34m\u001b[0m\n\u001b[1;32m----> 1\u001b[1;33m \u001b[1;32mraise\u001b[0m \u001b[0mException\u001b[0m\u001b[1;33m\u001b[0m\u001b[1;33m\u001b[0m\u001b[0m\n\u001b[0m",
      "\u001b[1;31mException\u001b[0m: "
     ]
    }
   ],
   "source": [
    "raise Exception"
   ]
  },
  {
   "cell_type": "code",
   "execution_count": null,
   "metadata": {},
   "outputs": [],
   "source": [
    "type(Exception)"
   ]
  },
  {
   "cell_type": "code",
   "execution_count": null,
   "metadata": {},
   "outputs": [],
   "source": [
    "import flask as f"
   ]
  },
  {
   "cell_type": "markdown",
   "metadata": {},
   "source": [
    "# Python Documentation"
   ]
  },
  {
   "cell_type": "code",
   "execution_count": null,
   "metadata": {
    "scrolled": true
   },
   "outputs": [
    {
     "name": "stdout",
     "output_type": "stream",
     "text": [
      "\n",
      "Welcome to Python 3.8's help utility!\n",
      "\n",
      "If this is your first time using Python, you should definitely check out\n",
      "the tutorial on the Internet at https://docs.python.org/3.8/tutorial/.\n",
      "\n",
      "Enter the name of any module, keyword, or topic to get help on writing\n",
      "Python programs and using Python modules.  To quit this help utility and\n",
      "return to the interpreter, just type \"quit\".\n",
      "\n",
      "To get a list of available modules, keywords, symbols, or topics, type\n",
      "\"modules\", \"keywords\", \"symbols\", or \"topics\".  Each module also comes\n",
      "with a one-line summary of what it does; to list the modules whose name\n",
      "or summary contain a given string such as \"spam\", type \"modules spam\".\n",
      "\n",
      "help> except\n",
      "The \"try\" statement\n",
      "*******************\n",
      "\n",
      "The \"try\" statement specifies exception handlers and/or cleanup code\n",
      "for a group of statements:\n",
      "\n",
      "   try_stmt  ::= try1_stmt | try2_stmt\n",
      "   try1_stmt ::= \"try\" \":\" suite\n",
      "                 (\"except\" [expression [\"as\" identifier]] \":\" suite)+\n",
      "                 [\"else\" \":\" suite]\n",
      "                 [\"finally\" \":\" suite]\n",
      "   try2_stmt ::= \"try\" \":\" suite\n",
      "                 \"finally\" \":\" suite\n",
      "\n",
      "The \"except\" clause(s) specify one or more exception handlers. When no\n",
      "exception occurs in the \"try\" clause, no exception handler is\n",
      "executed. When an exception occurs in the \"try\" suite, a search for an\n",
      "exception handler is started.  This search inspects the except clauses\n",
      "in turn until one is found that matches the exception.  An expression-\n",
      "less except clause, if present, must be last; it matches any\n",
      "exception.  For an except clause with an expression, that expression\n",
      "is evaluated, and the clause matches the exception if the resulting\n",
      "object is “compatible” with the exception.  An object is compatible\n",
      "with an exception if it is the class or a base class of the exception\n",
      "object or a tuple containing an item compatible with the exception.\n",
      "\n",
      "If no except clause matches the exception, the search for an exception\n",
      "handler continues in the surrounding code and on the invocation stack.\n",
      "[1]\n",
      "\n",
      "If the evaluation of an expression in the header of an except clause\n",
      "raises an exception, the original search for a handler is canceled and\n",
      "a search starts for the new exception in the surrounding code and on\n",
      "the call stack (it is treated as if the entire \"try\" statement raised\n",
      "the exception).\n",
      "\n",
      "When a matching except clause is found, the exception is assigned to\n",
      "the target specified after the \"as\" keyword in that except clause, if\n",
      "present, and the except clause’s suite is executed.  All except\n",
      "clauses must have an executable block.  When the end of this block is\n",
      "reached, execution continues normally after the entire try statement.\n",
      "(This means that if two nested handlers exist for the same exception,\n",
      "and the exception occurs in the try clause of the inner handler, the\n",
      "outer handler will not handle the exception.)\n",
      "\n",
      "When an exception has been assigned using \"as target\", it is cleared\n",
      "at the end of the except clause.  This is as if\n",
      "\n",
      "   except E as N:\n",
      "       foo\n",
      "\n",
      "was translated to\n",
      "\n",
      "   except E as N:\n",
      "       try:\n",
      "           foo\n",
      "       finally:\n",
      "           del N\n",
      "\n",
      "This means the exception must be assigned to a different name to be\n",
      "able to refer to it after the except clause.  Exceptions are cleared\n",
      "because with the traceback attached to them, they form a reference\n",
      "cycle with the stack frame, keeping all locals in that frame alive\n",
      "until the next garbage collection occurs.\n",
      "\n",
      "Before an except clause’s suite is executed, details about the\n",
      "exception are stored in the \"sys\" module and can be accessed via\n",
      "\"sys.exc_info()\". \"sys.exc_info()\" returns a 3-tuple consisting of the\n",
      "exception class, the exception instance and a traceback object (see\n",
      "section The standard type hierarchy) identifying the point in the\n",
      "program where the exception occurred.  \"sys.exc_info()\" values are\n",
      "restored to their previous values (before the call) when returning\n",
      "from a function that handled an exception.\n",
      "\n",
      "The optional \"else\" clause is executed if the control flow leaves the\n",
      "\"try\" suite, no exception was raised, and no \"return\", \"continue\", or\n",
      "\"break\" statement was executed.  Exceptions in the \"else\" clause are\n",
      "not handled by the preceding \"except\" clauses.\n",
      "\n",
      "If \"finally\" is present, it specifies a ‘cleanup’ handler.  The \"try\"\n",
      "clause is executed, including any \"except\" and \"else\" clauses.  If an\n",
      "exception occurs in any of the clauses and is not handled, the\n",
      "exception is temporarily saved. The \"finally\" clause is executed.  If\n",
      "there is a saved exception it is re-raised at the end of the \"finally\"\n",
      "clause.  If the \"finally\" clause raises another exception, the saved\n",
      "exception is set as the context of the new exception. If the \"finally\"\n",
      "clause executes a \"return\", \"break\" or \"continue\" statement, the saved\n",
      "exception is discarded:\n",
      "\n",
      "   >>> def f():\n",
      "   ...     try:\n",
      "   ...         1/0\n",
      "   ...     finally:\n",
      "   ...         return 42\n",
      "   ...\n",
      "   >>> f()\n",
      "   42\n",
      "\n",
      "The exception information is not available to the program during\n",
      "execution of the \"finally\" clause.\n",
      "\n",
      "When a \"return\", \"break\" or \"continue\" statement is executed in the\n",
      "\"try\" suite of a \"try\"…\"finally\" statement, the \"finally\" clause is\n",
      "also executed ‘on the way out.’\n",
      "\n",
      "The return value of a function is determined by the last \"return\"\n",
      "statement executed.  Since the \"finally\" clause always executes, a\n",
      "\"return\" statement executed in the \"finally\" clause will always be the\n",
      "last one executed:\n",
      "\n",
      "   >>> def foo():\n",
      "   ...     try:\n",
      "   ...         return 'try'\n",
      "   ...     finally:\n",
      "   ...         return 'finally'\n",
      "   ...\n",
      "   >>> foo()\n",
      "   'finally'\n",
      "\n",
      "Additional information on exceptions can be found in section\n",
      "Exceptions, and information on using the \"raise\" statement to generate\n",
      "exceptions may be found in section The raise statement.\n",
      "\n",
      "Changed in version 3.8: Prior to Python 3.8, a \"continue\" statement\n",
      "was illegal in the \"finally\" clause due to a problem with the\n",
      "implementation.\n",
      "\n",
      "Related help topics: EXCEPTIONS\n",
      "\n",
      "help> flask\n",
      "Help on package flask:\n",
      "\n",
      "NAME\n",
      "    flask\n",
      "\n",
      "DESCRIPTION\n",
      "    flask\n",
      "    ~~~~~\n",
      "    \n",
      "    A microframework based on Werkzeug.  It's extensively documented\n",
      "    and follows best practice patterns.\n",
      "    \n",
      "    :copyright: 2010 Pallets\n",
      "    :license: BSD-3-Clause\n",
      "\n",
      "PACKAGE CONTENTS\n",
      "    __main__\n",
      "    _compat\n",
      "    app\n",
      "    blueprints\n",
      "    cli\n",
      "    config\n",
      "    ctx\n",
      "    debughelpers\n",
      "    globals\n",
      "    helpers\n",
      "    json (package)\n",
      "    logging\n",
      "    sessions\n",
      "    signals\n",
      "    templating\n",
      "    testing\n",
      "    views\n",
      "    wrappers\n",
      "\n",
      "FUNCTIONS\n",
      "    escape(...)\n",
      "        escape(s) -> markup\n",
      "        \n",
      "        Convert the characters &, <, >, ', and \" in string s to HTML-safe\n",
      "        sequences.  Use this if you need to display text that might contain\n",
      "        such characters in HTML.  Marks return value as markup string.\n",
      "\n",
      "DATA\n",
      "    appcontext_popped = <flask.signals._FakeSignal object>\n",
      "    appcontext_pushed = <flask.signals._FakeSignal object>\n",
      "    appcontext_tearing_down = <flask.signals._FakeSignal object>\n",
      "    before_render_template = <flask.signals._FakeSignal object>\n",
      "    current_app = <LocalProxy unbound>\n",
      "    g = <LocalProxy unbound>\n",
      "    got_request_exception = <flask.signals._FakeSignal object>\n",
      "    json_available = <flask._compat._DeprecatedBool object>\n",
      "    message_flashed = <flask.signals._FakeSignal object>\n",
      "    request = <LocalProxy unbound>\n",
      "    request_finished = <flask.signals._FakeSignal object>\n",
      "    request_started = <flask.signals._FakeSignal object>\n",
      "    request_tearing_down = <flask.signals._FakeSignal object>\n",
      "    session = <LocalProxy unbound>\n",
      "    signals_available = False\n",
      "    template_rendered = <flask.signals._FakeSignal object>\n",
      "\n",
      "VERSION\n",
      "    1.1.2\n",
      "\n",
      "FILE\n",
      "    c:\\users\\youthcode_11\\anaconda3\\lib\\site-packages\\flask\\__init__.py\n",
      "\n",
      "\n"
     ]
    }
   ],
   "source": [
    "help()"
   ]
  },
  {
   "cell_type": "markdown",
   "metadata": {},
   "source": [
    "<div style=\"background: #000;\n",
    "            color: #FFF;\n",
    "            margin: 0px;\n",
    "                padding: 10px 0px 20px 0px;\n",
    "            text-align: center; \n",
    "                \">\n",
    "    <h1>Extended Lab</h1>\n",
    "</div>\n"
   ]
  },
  {
   "cell_type": "markdown",
   "metadata": {},
   "source": [
    "### Question 1: \n",
    "\n",
    "Explain what data types are in your own words."
   ]
  },
  {
   "cell_type": "markdown",
   "metadata": {},
   "source": [
    "Data types are variables assigned to use built-in functions to define it's role such as string, int, boolean, float and etc."
   ]
  },
  {
   "cell_type": "markdown",
   "metadata": {},
   "source": [
    "## Question 2:\n",
    "\n",
    "In your own words, explain what a float is and why sometimes it gives an incorrect value."
   ]
  },
  {
   "cell_type": "markdown",
   "metadata": {},
   "source": [
    "A float is a number type written with a decial point"
   ]
  },
  {
   "cell_type": "markdown",
   "metadata": {},
   "source": [
    "### Exercise 1:\n",
    "\n",
    "Store your first name, in lowercase, in a variable.\n",
    "Using that one variable, print your name in lowercase, Titlecase, and UPPERCASE.\n"
   ]
  },
  {
   "cell_type": "code",
   "execution_count": null,
   "metadata": {},
   "outputs": [],
   "source": [
    "first = \"judith\"\n",
    "first.lower()"
   ]
  },
  {
   "cell_type": "code",
   "execution_count": null,
   "metadata": {},
   "outputs": [],
   "source": [
    "first.title()"
   ]
  },
  {
   "cell_type": "code",
   "execution_count": null,
   "metadata": {},
   "outputs": [],
   "source": [
    "first.upper()"
   ]
  },
  {
   "cell_type": "markdown",
   "metadata": {},
   "source": [
    "### Exercise 2:\n",
    "\n",
    "Find a quote that you like. Store the quote in a variable, with an appropriate introduction such as \"Ken Thompson once said, 'One of my most productive days was throwing away 1000 lines of code'\". Print the quote 1000 times."
   ]
  },
  {
   "cell_type": "code",
   "execution_count": 1,
   "metadata": {},
   "outputs": [
    {
     "name": "stdout",
     "output_type": "stream",
     "text": [
      "A bicycle ride around the world begins with a single pedal stroke\n",
      "A bicycle ride around the world begins with a single pedal stroke\n",
      "A bicycle ride around the world begins with a single pedal stroke\n",
      "A bicycle ride around the world begins with a single pedal stroke\n",
      "A bicycle ride around the world begins with a single pedal stroke\n",
      "A bicycle ride around the world begins with a single pedal stroke\n",
      "A bicycle ride around the world begins with a single pedal stroke\n",
      "A bicycle ride around the world begins with a single pedal stroke\n",
      "A bicycle ride around the world begins with a single pedal stroke\n",
      "A bicycle ride around the world begins with a single pedal stroke\n",
      "A bicycle ride around the world begins with a single pedal stroke\n",
      "A bicycle ride around the world begins with a single pedal stroke\n",
      "A bicycle ride around the world begins with a single pedal stroke\n",
      "A bicycle ride around the world begins with a single pedal stroke\n",
      "A bicycle ride around the world begins with a single pedal stroke\n",
      "A bicycle ride around the world begins with a single pedal stroke\n",
      "A bicycle ride around the world begins with a single pedal stroke\n",
      "A bicycle ride around the world begins with a single pedal stroke\n",
      "A bicycle ride around the world begins with a single pedal stroke\n",
      "A bicycle ride around the world begins with a single pedal stroke\n",
      "A bicycle ride around the world begins with a single pedal stroke\n",
      "A bicycle ride around the world begins with a single pedal stroke\n",
      "A bicycle ride around the world begins with a single pedal stroke\n",
      "A bicycle ride around the world begins with a single pedal stroke\n",
      "A bicycle ride around the world begins with a single pedal stroke\n",
      "A bicycle ride around the world begins with a single pedal stroke\n",
      "A bicycle ride around the world begins with a single pedal stroke\n",
      "A bicycle ride around the world begins with a single pedal stroke\n",
      "A bicycle ride around the world begins with a single pedal stroke\n",
      "A bicycle ride around the world begins with a single pedal stroke\n",
      "A bicycle ride around the world begins with a single pedal stroke\n",
      "A bicycle ride around the world begins with a single pedal stroke\n",
      "A bicycle ride around the world begins with a single pedal stroke\n",
      "A bicycle ride around the world begins with a single pedal stroke\n",
      "A bicycle ride around the world begins with a single pedal stroke\n",
      "A bicycle ride around the world begins with a single pedal stroke\n",
      "A bicycle ride around the world begins with a single pedal stroke\n",
      "A bicycle ride around the world begins with a single pedal stroke\n",
      "A bicycle ride around the world begins with a single pedal stroke\n",
      "A bicycle ride around the world begins with a single pedal stroke\n",
      "A bicycle ride around the world begins with a single pedal stroke\n",
      "A bicycle ride around the world begins with a single pedal stroke\n",
      "A bicycle ride around the world begins with a single pedal stroke\n",
      "A bicycle ride around the world begins with a single pedal stroke\n",
      "A bicycle ride around the world begins with a single pedal stroke\n",
      "A bicycle ride around the world begins with a single pedal stroke\n",
      "A bicycle ride around the world begins with a single pedal stroke\n",
      "A bicycle ride around the world begins with a single pedal stroke\n",
      "A bicycle ride around the world begins with a single pedal stroke\n",
      "A bicycle ride around the world begins with a single pedal stroke\n",
      "A bicycle ride around the world begins with a single pedal stroke\n",
      "A bicycle ride around the world begins with a single pedal stroke\n",
      "A bicycle ride around the world begins with a single pedal stroke\n",
      "A bicycle ride around the world begins with a single pedal stroke\n",
      "A bicycle ride around the world begins with a single pedal stroke\n",
      "A bicycle ride around the world begins with a single pedal stroke\n",
      "A bicycle ride around the world begins with a single pedal stroke\n",
      "A bicycle ride around the world begins with a single pedal stroke\n",
      "A bicycle ride around the world begins with a single pedal stroke\n",
      "A bicycle ride around the world begins with a single pedal stroke\n",
      "A bicycle ride around the world begins with a single pedal stroke\n",
      "A bicycle ride around the world begins with a single pedal stroke\n",
      "A bicycle ride around the world begins with a single pedal stroke\n",
      "A bicycle ride around the world begins with a single pedal stroke\n",
      "A bicycle ride around the world begins with a single pedal stroke\n",
      "A bicycle ride around the world begins with a single pedal stroke\n",
      "A bicycle ride around the world begins with a single pedal stroke\n",
      "A bicycle ride around the world begins with a single pedal stroke\n",
      "A bicycle ride around the world begins with a single pedal stroke\n",
      "A bicycle ride around the world begins with a single pedal stroke\n",
      "A bicycle ride around the world begins with a single pedal stroke\n",
      "A bicycle ride around the world begins with a single pedal stroke\n",
      "A bicycle ride around the world begins with a single pedal stroke\n",
      "A bicycle ride around the world begins with a single pedal stroke\n",
      "A bicycle ride around the world begins with a single pedal stroke\n",
      "A bicycle ride around the world begins with a single pedal stroke\n",
      "A bicycle ride around the world begins with a single pedal stroke\n",
      "A bicycle ride around the world begins with a single pedal stroke\n",
      "A bicycle ride around the world begins with a single pedal stroke\n",
      "A bicycle ride around the world begins with a single pedal stroke\n",
      "A bicycle ride around the world begins with a single pedal stroke\n",
      "A bicycle ride around the world begins with a single pedal stroke\n",
      "A bicycle ride around the world begins with a single pedal stroke\n",
      "A bicycle ride around the world begins with a single pedal stroke\n",
      "A bicycle ride around the world begins with a single pedal stroke\n",
      "A bicycle ride around the world begins with a single pedal stroke\n",
      "A bicycle ride around the world begins with a single pedal stroke\n",
      "A bicycle ride around the world begins with a single pedal stroke\n",
      "A bicycle ride around the world begins with a single pedal stroke\n",
      "A bicycle ride around the world begins with a single pedal stroke\n",
      "A bicycle ride around the world begins with a single pedal stroke\n",
      "A bicycle ride around the world begins with a single pedal stroke\n",
      "A bicycle ride around the world begins with a single pedal stroke\n",
      "A bicycle ride around the world begins with a single pedal stroke\n",
      "A bicycle ride around the world begins with a single pedal stroke\n",
      "A bicycle ride around the world begins with a single pedal stroke\n",
      "A bicycle ride around the world begins with a single pedal stroke\n",
      "A bicycle ride around the world begins with a single pedal stroke\n",
      "A bicycle ride around the world begins with a single pedal stroke\n",
      "A bicycle ride around the world begins with a single pedal stroke\n",
      "A bicycle ride around the world begins with a single pedal stroke\n",
      "A bicycle ride around the world begins with a single pedal stroke\n",
      "A bicycle ride around the world begins with a single pedal stroke\n",
      "A bicycle ride around the world begins with a single pedal stroke\n",
      "A bicycle ride around the world begins with a single pedal stroke\n",
      "A bicycle ride around the world begins with a single pedal stroke\n",
      "A bicycle ride around the world begins with a single pedal stroke\n",
      "A bicycle ride around the world begins with a single pedal stroke\n",
      "A bicycle ride around the world begins with a single pedal stroke\n",
      "A bicycle ride around the world begins with a single pedal stroke\n",
      "A bicycle ride around the world begins with a single pedal stroke\n",
      "A bicycle ride around the world begins with a single pedal stroke\n",
      "A bicycle ride around the world begins with a single pedal stroke\n",
      "A bicycle ride around the world begins with a single pedal stroke\n",
      "A bicycle ride around the world begins with a single pedal stroke\n",
      "A bicycle ride around the world begins with a single pedal stroke\n",
      "A bicycle ride around the world begins with a single pedal stroke\n",
      "A bicycle ride around the world begins with a single pedal stroke\n",
      "A bicycle ride around the world begins with a single pedal stroke\n",
      "A bicycle ride around the world begins with a single pedal stroke\n",
      "A bicycle ride around the world begins with a single pedal stroke\n",
      "A bicycle ride around the world begins with a single pedal stroke\n",
      "A bicycle ride around the world begins with a single pedal stroke\n",
      "A bicycle ride around the world begins with a single pedal stroke\n",
      "A bicycle ride around the world begins with a single pedal stroke\n",
      "A bicycle ride around the world begins with a single pedal stroke\n",
      "A bicycle ride around the world begins with a single pedal stroke\n",
      "A bicycle ride around the world begins with a single pedal stroke\n",
      "A bicycle ride around the world begins with a single pedal stroke\n",
      "A bicycle ride around the world begins with a single pedal stroke\n",
      "A bicycle ride around the world begins with a single pedal stroke\n",
      "A bicycle ride around the world begins with a single pedal stroke\n",
      "A bicycle ride around the world begins with a single pedal stroke\n",
      "A bicycle ride around the world begins with a single pedal stroke\n",
      "A bicycle ride around the world begins with a single pedal stroke\n",
      "A bicycle ride around the world begins with a single pedal stroke\n",
      "A bicycle ride around the world begins with a single pedal stroke\n",
      "A bicycle ride around the world begins with a single pedal stroke\n",
      "A bicycle ride around the world begins with a single pedal stroke\n",
      "A bicycle ride around the world begins with a single pedal stroke\n",
      "A bicycle ride around the world begins with a single pedal stroke\n",
      "A bicycle ride around the world begins with a single pedal stroke\n",
      "A bicycle ride around the world begins with a single pedal stroke\n",
      "A bicycle ride around the world begins with a single pedal stroke\n",
      "A bicycle ride around the world begins with a single pedal stroke\n",
      "A bicycle ride around the world begins with a single pedal stroke\n",
      "A bicycle ride around the world begins with a single pedal stroke\n",
      "A bicycle ride around the world begins with a single pedal stroke\n",
      "A bicycle ride around the world begins with a single pedal stroke\n",
      "A bicycle ride around the world begins with a single pedal stroke\n",
      "A bicycle ride around the world begins with a single pedal stroke\n",
      "A bicycle ride around the world begins with a single pedal stroke\n",
      "A bicycle ride around the world begins with a single pedal stroke\n",
      "A bicycle ride around the world begins with a single pedal stroke\n",
      "A bicycle ride around the world begins with a single pedal stroke\n",
      "A bicycle ride around the world begins with a single pedal stroke\n",
      "A bicycle ride around the world begins with a single pedal stroke\n",
      "A bicycle ride around the world begins with a single pedal stroke\n",
      "A bicycle ride around the world begins with a single pedal stroke\n",
      "A bicycle ride around the world begins with a single pedal stroke\n",
      "A bicycle ride around the world begins with a single pedal stroke\n",
      "A bicycle ride around the world begins with a single pedal stroke\n",
      "A bicycle ride around the world begins with a single pedal stroke\n",
      "A bicycle ride around the world begins with a single pedal stroke\n",
      "A bicycle ride around the world begins with a single pedal stroke\n",
      "A bicycle ride around the world begins with a single pedal stroke\n",
      "A bicycle ride around the world begins with a single pedal stroke\n",
      "A bicycle ride around the world begins with a single pedal stroke\n",
      "A bicycle ride around the world begins with a single pedal stroke\n",
      "A bicycle ride around the world begins with a single pedal stroke\n",
      "A bicycle ride around the world begins with a single pedal stroke\n",
      "A bicycle ride around the world begins with a single pedal stroke\n",
      "A bicycle ride around the world begins with a single pedal stroke\n",
      "A bicycle ride around the world begins with a single pedal stroke\n",
      "A bicycle ride around the world begins with a single pedal stroke\n",
      "A bicycle ride around the world begins with a single pedal stroke\n",
      "A bicycle ride around the world begins with a single pedal stroke\n",
      "A bicycle ride around the world begins with a single pedal stroke\n",
      "A bicycle ride around the world begins with a single pedal stroke\n",
      "A bicycle ride around the world begins with a single pedal stroke\n",
      "A bicycle ride around the world begins with a single pedal stroke\n",
      "A bicycle ride around the world begins with a single pedal stroke\n",
      "A bicycle ride around the world begins with a single pedal stroke\n",
      "A bicycle ride around the world begins with a single pedal stroke\n",
      "A bicycle ride around the world begins with a single pedal stroke\n",
      "A bicycle ride around the world begins with a single pedal stroke\n",
      "A bicycle ride around the world begins with a single pedal stroke\n",
      "A bicycle ride around the world begins with a single pedal stroke\n",
      "A bicycle ride around the world begins with a single pedal stroke\n",
      "A bicycle ride around the world begins with a single pedal stroke\n",
      "A bicycle ride around the world begins with a single pedal stroke\n",
      "A bicycle ride around the world begins with a single pedal stroke\n",
      "A bicycle ride around the world begins with a single pedal stroke\n",
      "A bicycle ride around the world begins with a single pedal stroke\n",
      "A bicycle ride around the world begins with a single pedal stroke\n",
      "A bicycle ride around the world begins with a single pedal stroke\n",
      "A bicycle ride around the world begins with a single pedal stroke\n",
      "A bicycle ride around the world begins with a single pedal stroke\n",
      "A bicycle ride around the world begins with a single pedal stroke\n",
      "A bicycle ride around the world begins with a single pedal stroke\n",
      "A bicycle ride around the world begins with a single pedal stroke\n",
      "A bicycle ride around the world begins with a single pedal stroke\n",
      "A bicycle ride around the world begins with a single pedal stroke\n",
      "A bicycle ride around the world begins with a single pedal stroke\n",
      "A bicycle ride around the world begins with a single pedal stroke\n",
      "A bicycle ride around the world begins with a single pedal stroke\n",
      "A bicycle ride around the world begins with a single pedal stroke\n",
      "A bicycle ride around the world begins with a single pedal stroke\n",
      "A bicycle ride around the world begins with a single pedal stroke\n",
      "A bicycle ride around the world begins with a single pedal stroke\n",
      "A bicycle ride around the world begins with a single pedal stroke\n",
      "A bicycle ride around the world begins with a single pedal stroke\n",
      "A bicycle ride around the world begins with a single pedal stroke\n",
      "A bicycle ride around the world begins with a single pedal stroke\n",
      "A bicycle ride around the world begins with a single pedal stroke\n",
      "A bicycle ride around the world begins with a single pedal stroke\n",
      "A bicycle ride around the world begins with a single pedal stroke\n",
      "A bicycle ride around the world begins with a single pedal stroke\n",
      "A bicycle ride around the world begins with a single pedal stroke\n",
      "A bicycle ride around the world begins with a single pedal stroke\n",
      "A bicycle ride around the world begins with a single pedal stroke\n",
      "A bicycle ride around the world begins with a single pedal stroke\n",
      "A bicycle ride around the world begins with a single pedal stroke\n",
      "A bicycle ride around the world begins with a single pedal stroke\n",
      "A bicycle ride around the world begins with a single pedal stroke\n",
      "A bicycle ride around the world begins with a single pedal stroke\n",
      "A bicycle ride around the world begins with a single pedal stroke\n",
      "A bicycle ride around the world begins with a single pedal stroke\n",
      "A bicycle ride around the world begins with a single pedal stroke\n",
      "A bicycle ride around the world begins with a single pedal stroke\n",
      "A bicycle ride around the world begins with a single pedal stroke\n",
      "A bicycle ride around the world begins with a single pedal stroke\n",
      "A bicycle ride around the world begins with a single pedal stroke\n",
      "A bicycle ride around the world begins with a single pedal stroke\n",
      "A bicycle ride around the world begins with a single pedal stroke\n",
      "A bicycle ride around the world begins with a single pedal stroke\n",
      "A bicycle ride around the world begins with a single pedal stroke\n",
      "A bicycle ride around the world begins with a single pedal stroke\n",
      "A bicycle ride around the world begins with a single pedal stroke\n",
      "A bicycle ride around the world begins with a single pedal stroke\n",
      "A bicycle ride around the world begins with a single pedal stroke\n",
      "A bicycle ride around the world begins with a single pedal stroke\n",
      "A bicycle ride around the world begins with a single pedal stroke\n",
      "A bicycle ride around the world begins with a single pedal stroke\n",
      "A bicycle ride around the world begins with a single pedal stroke\n",
      "A bicycle ride around the world begins with a single pedal stroke\n",
      "A bicycle ride around the world begins with a single pedal stroke\n",
      "A bicycle ride around the world begins with a single pedal stroke\n",
      "A bicycle ride around the world begins with a single pedal stroke\n",
      "A bicycle ride around the world begins with a single pedal stroke\n",
      "A bicycle ride around the world begins with a single pedal stroke\n",
      "A bicycle ride around the world begins with a single pedal stroke\n",
      "A bicycle ride around the world begins with a single pedal stroke\n",
      "A bicycle ride around the world begins with a single pedal stroke\n",
      "A bicycle ride around the world begins with a single pedal stroke\n",
      "A bicycle ride around the world begins with a single pedal stroke\n",
      "A bicycle ride around the world begins with a single pedal stroke\n",
      "A bicycle ride around the world begins with a single pedal stroke\n",
      "A bicycle ride around the world begins with a single pedal stroke\n",
      "A bicycle ride around the world begins with a single pedal stroke\n",
      "A bicycle ride around the world begins with a single pedal stroke\n",
      "A bicycle ride around the world begins with a single pedal stroke\n",
      "A bicycle ride around the world begins with a single pedal stroke\n",
      "A bicycle ride around the world begins with a single pedal stroke\n",
      "A bicycle ride around the world begins with a single pedal stroke\n",
      "A bicycle ride around the world begins with a single pedal stroke\n",
      "A bicycle ride around the world begins with a single pedal stroke\n",
      "A bicycle ride around the world begins with a single pedal stroke\n",
      "A bicycle ride around the world begins with a single pedal stroke\n",
      "A bicycle ride around the world begins with a single pedal stroke\n",
      "A bicycle ride around the world begins with a single pedal stroke\n",
      "A bicycle ride around the world begins with a single pedal stroke\n",
      "A bicycle ride around the world begins with a single pedal stroke\n",
      "A bicycle ride around the world begins with a single pedal stroke\n",
      "A bicycle ride around the world begins with a single pedal stroke\n",
      "A bicycle ride around the world begins with a single pedal stroke\n",
      "A bicycle ride around the world begins with a single pedal stroke\n",
      "A bicycle ride around the world begins with a single pedal stroke\n",
      "A bicycle ride around the world begins with a single pedal stroke\n",
      "A bicycle ride around the world begins with a single pedal stroke\n",
      "A bicycle ride around the world begins with a single pedal stroke\n",
      "A bicycle ride around the world begins with a single pedal stroke\n",
      "A bicycle ride around the world begins with a single pedal stroke\n",
      "A bicycle ride around the world begins with a single pedal stroke\n",
      "A bicycle ride around the world begins with a single pedal stroke\n",
      "A bicycle ride around the world begins with a single pedal stroke\n",
      "A bicycle ride around the world begins with a single pedal stroke\n",
      "A bicycle ride around the world begins with a single pedal stroke\n",
      "A bicycle ride around the world begins with a single pedal stroke\n",
      "A bicycle ride around the world begins with a single pedal stroke\n",
      "A bicycle ride around the world begins with a single pedal stroke\n",
      "A bicycle ride around the world begins with a single pedal stroke\n",
      "A bicycle ride around the world begins with a single pedal stroke\n",
      "A bicycle ride around the world begins with a single pedal stroke\n",
      "A bicycle ride around the world begins with a single pedal stroke\n",
      "A bicycle ride around the world begins with a single pedal stroke\n",
      "A bicycle ride around the world begins with a single pedal stroke\n",
      "A bicycle ride around the world begins with a single pedal stroke\n",
      "A bicycle ride around the world begins with a single pedal stroke\n",
      "A bicycle ride around the world begins with a single pedal stroke\n",
      "A bicycle ride around the world begins with a single pedal stroke\n",
      "A bicycle ride around the world begins with a single pedal stroke\n",
      "A bicycle ride around the world begins with a single pedal stroke\n",
      "A bicycle ride around the world begins with a single pedal stroke\n",
      "A bicycle ride around the world begins with a single pedal stroke\n",
      "A bicycle ride around the world begins with a single pedal stroke\n",
      "A bicycle ride around the world begins with a single pedal stroke\n",
      "A bicycle ride around the world begins with a single pedal stroke\n",
      "A bicycle ride around the world begins with a single pedal stroke\n",
      "A bicycle ride around the world begins with a single pedal stroke\n",
      "A bicycle ride around the world begins with a single pedal stroke\n",
      "A bicycle ride around the world begins with a single pedal stroke\n",
      "A bicycle ride around the world begins with a single pedal stroke\n",
      "A bicycle ride around the world begins with a single pedal stroke\n",
      "A bicycle ride around the world begins with a single pedal stroke\n",
      "A bicycle ride around the world begins with a single pedal stroke\n",
      "A bicycle ride around the world begins with a single pedal stroke\n",
      "A bicycle ride around the world begins with a single pedal stroke\n",
      "A bicycle ride around the world begins with a single pedal stroke\n",
      "A bicycle ride around the world begins with a single pedal stroke\n",
      "A bicycle ride around the world begins with a single pedal stroke\n",
      "A bicycle ride around the world begins with a single pedal stroke\n",
      "A bicycle ride around the world begins with a single pedal stroke\n",
      "A bicycle ride around the world begins with a single pedal stroke\n",
      "A bicycle ride around the world begins with a single pedal stroke\n",
      "A bicycle ride around the world begins with a single pedal stroke\n",
      "A bicycle ride around the world begins with a single pedal stroke\n",
      "A bicycle ride around the world begins with a single pedal stroke\n",
      "A bicycle ride around the world begins with a single pedal stroke\n",
      "A bicycle ride around the world begins with a single pedal stroke\n",
      "A bicycle ride around the world begins with a single pedal stroke\n",
      "A bicycle ride around the world begins with a single pedal stroke\n",
      "A bicycle ride around the world begins with a single pedal stroke\n",
      "A bicycle ride around the world begins with a single pedal stroke\n",
      "A bicycle ride around the world begins with a single pedal stroke\n",
      "A bicycle ride around the world begins with a single pedal stroke\n",
      "A bicycle ride around the world begins with a single pedal stroke\n",
      "A bicycle ride around the world begins with a single pedal stroke\n",
      "A bicycle ride around the world begins with a single pedal stroke\n",
      "A bicycle ride around the world begins with a single pedal stroke\n",
      "A bicycle ride around the world begins with a single pedal stroke\n",
      "A bicycle ride around the world begins with a single pedal stroke\n",
      "A bicycle ride around the world begins with a single pedal stroke\n",
      "A bicycle ride around the world begins with a single pedal stroke\n",
      "A bicycle ride around the world begins with a single pedal stroke\n",
      "A bicycle ride around the world begins with a single pedal stroke\n",
      "A bicycle ride around the world begins with a single pedal stroke\n",
      "A bicycle ride around the world begins with a single pedal stroke\n",
      "A bicycle ride around the world begins with a single pedal stroke\n",
      "A bicycle ride around the world begins with a single pedal stroke\n",
      "A bicycle ride around the world begins with a single pedal stroke\n",
      "A bicycle ride around the world begins with a single pedal stroke\n",
      "A bicycle ride around the world begins with a single pedal stroke\n",
      "A bicycle ride around the world begins with a single pedal stroke\n",
      "A bicycle ride around the world begins with a single pedal stroke\n",
      "A bicycle ride around the world begins with a single pedal stroke\n",
      "A bicycle ride around the world begins with a single pedal stroke\n",
      "A bicycle ride around the world begins with a single pedal stroke\n",
      "A bicycle ride around the world begins with a single pedal stroke\n",
      "A bicycle ride around the world begins with a single pedal stroke\n",
      "A bicycle ride around the world begins with a single pedal stroke\n",
      "A bicycle ride around the world begins with a single pedal stroke\n",
      "A bicycle ride around the world begins with a single pedal stroke\n",
      "A bicycle ride around the world begins with a single pedal stroke\n",
      "A bicycle ride around the world begins with a single pedal stroke\n",
      "A bicycle ride around the world begins with a single pedal stroke\n",
      "A bicycle ride around the world begins with a single pedal stroke\n",
      "A bicycle ride around the world begins with a single pedal stroke\n",
      "A bicycle ride around the world begins with a single pedal stroke\n",
      "A bicycle ride around the world begins with a single pedal stroke\n",
      "A bicycle ride around the world begins with a single pedal stroke\n",
      "A bicycle ride around the world begins with a single pedal stroke\n",
      "A bicycle ride around the world begins with a single pedal stroke\n",
      "A bicycle ride around the world begins with a single pedal stroke\n",
      "A bicycle ride around the world begins with a single pedal stroke\n",
      "A bicycle ride around the world begins with a single pedal stroke\n",
      "A bicycle ride around the world begins with a single pedal stroke\n",
      "A bicycle ride around the world begins with a single pedal stroke\n",
      "A bicycle ride around the world begins with a single pedal stroke\n",
      "A bicycle ride around the world begins with a single pedal stroke\n",
      "A bicycle ride around the world begins with a single pedal stroke\n",
      "A bicycle ride around the world begins with a single pedal stroke\n",
      "A bicycle ride around the world begins with a single pedal stroke\n",
      "A bicycle ride around the world begins with a single pedal stroke\n",
      "A bicycle ride around the world begins with a single pedal stroke\n",
      "A bicycle ride around the world begins with a single pedal stroke\n",
      "A bicycle ride around the world begins with a single pedal stroke\n",
      "A bicycle ride around the world begins with a single pedal stroke\n",
      "A bicycle ride around the world begins with a single pedal stroke\n",
      "A bicycle ride around the world begins with a single pedal stroke\n",
      "A bicycle ride around the world begins with a single pedal stroke\n",
      "A bicycle ride around the world begins with a single pedal stroke\n",
      "A bicycle ride around the world begins with a single pedal stroke\n",
      "A bicycle ride around the world begins with a single pedal stroke\n",
      "A bicycle ride around the world begins with a single pedal stroke\n",
      "A bicycle ride around the world begins with a single pedal stroke\n",
      "A bicycle ride around the world begins with a single pedal stroke\n",
      "A bicycle ride around the world begins with a single pedal stroke\n",
      "A bicycle ride around the world begins with a single pedal stroke\n",
      "A bicycle ride around the world begins with a single pedal stroke\n",
      "A bicycle ride around the world begins with a single pedal stroke\n",
      "A bicycle ride around the world begins with a single pedal stroke\n",
      "A bicycle ride around the world begins with a single pedal stroke\n",
      "A bicycle ride around the world begins with a single pedal stroke\n",
      "A bicycle ride around the world begins with a single pedal stroke\n",
      "A bicycle ride around the world begins with a single pedal stroke\n",
      "A bicycle ride around the world begins with a single pedal stroke\n",
      "A bicycle ride around the world begins with a single pedal stroke\n",
      "A bicycle ride around the world begins with a single pedal stroke\n",
      "A bicycle ride around the world begins with a single pedal stroke\n",
      "A bicycle ride around the world begins with a single pedal stroke\n",
      "A bicycle ride around the world begins with a single pedal stroke\n",
      "A bicycle ride around the world begins with a single pedal stroke\n",
      "A bicycle ride around the world begins with a single pedal stroke\n",
      "A bicycle ride around the world begins with a single pedal stroke\n",
      "A bicycle ride around the world begins with a single pedal stroke\n",
      "A bicycle ride around the world begins with a single pedal stroke\n",
      "A bicycle ride around the world begins with a single pedal stroke\n",
      "A bicycle ride around the world begins with a single pedal stroke\n",
      "A bicycle ride around the world begins with a single pedal stroke\n",
      "A bicycle ride around the world begins with a single pedal stroke\n",
      "A bicycle ride around the world begins with a single pedal stroke\n",
      "A bicycle ride around the world begins with a single pedal stroke\n",
      "A bicycle ride around the world begins with a single pedal stroke\n",
      "A bicycle ride around the world begins with a single pedal stroke\n",
      "A bicycle ride around the world begins with a single pedal stroke\n",
      "A bicycle ride around the world begins with a single pedal stroke\n",
      "A bicycle ride around the world begins with a single pedal stroke\n",
      "A bicycle ride around the world begins with a single pedal stroke\n",
      "A bicycle ride around the world begins with a single pedal stroke\n",
      "A bicycle ride around the world begins with a single pedal stroke\n",
      "A bicycle ride around the world begins with a single pedal stroke\n",
      "A bicycle ride around the world begins with a single pedal stroke\n",
      "A bicycle ride around the world begins with a single pedal stroke\n",
      "A bicycle ride around the world begins with a single pedal stroke\n",
      "A bicycle ride around the world begins with a single pedal stroke\n",
      "A bicycle ride around the world begins with a single pedal stroke\n",
      "A bicycle ride around the world begins with a single pedal stroke\n",
      "A bicycle ride around the world begins with a single pedal stroke\n",
      "A bicycle ride around the world begins with a single pedal stroke\n",
      "A bicycle ride around the world begins with a single pedal stroke\n",
      "A bicycle ride around the world begins with a single pedal stroke\n",
      "A bicycle ride around the world begins with a single pedal stroke\n",
      "A bicycle ride around the world begins with a single pedal stroke\n",
      "A bicycle ride around the world begins with a single pedal stroke\n",
      "A bicycle ride around the world begins with a single pedal stroke\n",
      "A bicycle ride around the world begins with a single pedal stroke\n",
      "A bicycle ride around the world begins with a single pedal stroke\n",
      "A bicycle ride around the world begins with a single pedal stroke\n",
      "A bicycle ride around the world begins with a single pedal stroke\n",
      "A bicycle ride around the world begins with a single pedal stroke\n",
      "A bicycle ride around the world begins with a single pedal stroke\n",
      "A bicycle ride around the world begins with a single pedal stroke\n",
      "A bicycle ride around the world begins with a single pedal stroke\n",
      "A bicycle ride around the world begins with a single pedal stroke\n",
      "A bicycle ride around the world begins with a single pedal stroke\n",
      "A bicycle ride around the world begins with a single pedal stroke\n",
      "A bicycle ride around the world begins with a single pedal stroke\n",
      "A bicycle ride around the world begins with a single pedal stroke\n",
      "A bicycle ride around the world begins with a single pedal stroke\n",
      "A bicycle ride around the world begins with a single pedal stroke\n",
      "A bicycle ride around the world begins with a single pedal stroke\n",
      "A bicycle ride around the world begins with a single pedal stroke\n",
      "A bicycle ride around the world begins with a single pedal stroke\n",
      "A bicycle ride around the world begins with a single pedal stroke\n",
      "A bicycle ride around the world begins with a single pedal stroke\n",
      "A bicycle ride around the world begins with a single pedal stroke\n",
      "A bicycle ride around the world begins with a single pedal stroke\n",
      "A bicycle ride around the world begins with a single pedal stroke\n",
      "A bicycle ride around the world begins with a single pedal stroke\n",
      "A bicycle ride around the world begins with a single pedal stroke\n",
      "A bicycle ride around the world begins with a single pedal stroke\n",
      "A bicycle ride around the world begins with a single pedal stroke\n",
      "A bicycle ride around the world begins with a single pedal stroke\n",
      "A bicycle ride around the world begins with a single pedal stroke\n",
      "A bicycle ride around the world begins with a single pedal stroke\n",
      "A bicycle ride around the world begins with a single pedal stroke\n",
      "A bicycle ride around the world begins with a single pedal stroke\n",
      "A bicycle ride around the world begins with a single pedal stroke\n",
      "A bicycle ride around the world begins with a single pedal stroke\n",
      "A bicycle ride around the world begins with a single pedal stroke\n",
      "A bicycle ride around the world begins with a single pedal stroke\n",
      "A bicycle ride around the world begins with a single pedal stroke\n",
      "A bicycle ride around the world begins with a single pedal stroke\n",
      "A bicycle ride around the world begins with a single pedal stroke\n",
      "A bicycle ride around the world begins with a single pedal stroke\n",
      "A bicycle ride around the world begins with a single pedal stroke\n",
      "A bicycle ride around the world begins with a single pedal stroke\n",
      "A bicycle ride around the world begins with a single pedal stroke\n",
      "A bicycle ride around the world begins with a single pedal stroke\n",
      "A bicycle ride around the world begins with a single pedal stroke\n",
      "A bicycle ride around the world begins with a single pedal stroke\n",
      "A bicycle ride around the world begins with a single pedal stroke\n",
      "A bicycle ride around the world begins with a single pedal stroke\n",
      "A bicycle ride around the world begins with a single pedal stroke\n",
      "A bicycle ride around the world begins with a single pedal stroke\n",
      "A bicycle ride around the world begins with a single pedal stroke\n",
      "A bicycle ride around the world begins with a single pedal stroke\n",
      "A bicycle ride around the world begins with a single pedal stroke\n",
      "A bicycle ride around the world begins with a single pedal stroke\n",
      "A bicycle ride around the world begins with a single pedal stroke\n",
      "A bicycle ride around the world begins with a single pedal stroke\n",
      "A bicycle ride around the world begins with a single pedal stroke\n",
      "A bicycle ride around the world begins with a single pedal stroke\n",
      "A bicycle ride around the world begins with a single pedal stroke\n",
      "A bicycle ride around the world begins with a single pedal stroke\n",
      "A bicycle ride around the world begins with a single pedal stroke\n",
      "A bicycle ride around the world begins with a single pedal stroke\n",
      "A bicycle ride around the world begins with a single pedal stroke\n",
      "A bicycle ride around the world begins with a single pedal stroke\n",
      "A bicycle ride around the world begins with a single pedal stroke\n",
      "A bicycle ride around the world begins with a single pedal stroke\n",
      "A bicycle ride around the world begins with a single pedal stroke\n",
      "A bicycle ride around the world begins with a single pedal stroke\n",
      "A bicycle ride around the world begins with a single pedal stroke\n",
      "A bicycle ride around the world begins with a single pedal stroke\n",
      "A bicycle ride around the world begins with a single pedal stroke\n",
      "A bicycle ride around the world begins with a single pedal stroke\n",
      "A bicycle ride around the world begins with a single pedal stroke\n",
      "A bicycle ride around the world begins with a single pedal stroke\n",
      "A bicycle ride around the world begins with a single pedal stroke\n",
      "A bicycle ride around the world begins with a single pedal stroke\n",
      "A bicycle ride around the world begins with a single pedal stroke\n",
      "A bicycle ride around the world begins with a single pedal stroke\n",
      "A bicycle ride around the world begins with a single pedal stroke\n",
      "A bicycle ride around the world begins with a single pedal stroke\n",
      "A bicycle ride around the world begins with a single pedal stroke\n",
      "A bicycle ride around the world begins with a single pedal stroke\n",
      "A bicycle ride around the world begins with a single pedal stroke\n",
      "A bicycle ride around the world begins with a single pedal stroke\n",
      "A bicycle ride around the world begins with a single pedal stroke\n",
      "A bicycle ride around the world begins with a single pedal stroke\n",
      "A bicycle ride around the world begins with a single pedal stroke\n",
      "A bicycle ride around the world begins with a single pedal stroke\n",
      "A bicycle ride around the world begins with a single pedal stroke\n",
      "A bicycle ride around the world begins with a single pedal stroke\n",
      "A bicycle ride around the world begins with a single pedal stroke\n",
      "A bicycle ride around the world begins with a single pedal stroke\n",
      "A bicycle ride around the world begins with a single pedal stroke\n",
      "A bicycle ride around the world begins with a single pedal stroke\n",
      "A bicycle ride around the world begins with a single pedal stroke\n",
      "A bicycle ride around the world begins with a single pedal stroke\n",
      "A bicycle ride around the world begins with a single pedal stroke\n",
      "A bicycle ride around the world begins with a single pedal stroke\n",
      "A bicycle ride around the world begins with a single pedal stroke\n",
      "A bicycle ride around the world begins with a single pedal stroke\n",
      "A bicycle ride around the world begins with a single pedal stroke\n",
      "A bicycle ride around the world begins with a single pedal stroke\n",
      "A bicycle ride around the world begins with a single pedal stroke\n",
      "A bicycle ride around the world begins with a single pedal stroke\n",
      "A bicycle ride around the world begins with a single pedal stroke\n",
      "A bicycle ride around the world begins with a single pedal stroke\n",
      "A bicycle ride around the world begins with a single pedal stroke\n",
      "A bicycle ride around the world begins with a single pedal stroke\n",
      "A bicycle ride around the world begins with a single pedal stroke\n",
      "A bicycle ride around the world begins with a single pedal stroke\n",
      "A bicycle ride around the world begins with a single pedal stroke\n",
      "A bicycle ride around the world begins with a single pedal stroke\n",
      "A bicycle ride around the world begins with a single pedal stroke\n",
      "A bicycle ride around the world begins with a single pedal stroke\n",
      "A bicycle ride around the world begins with a single pedal stroke\n",
      "A bicycle ride around the world begins with a single pedal stroke\n",
      "A bicycle ride around the world begins with a single pedal stroke\n",
      "A bicycle ride around the world begins with a single pedal stroke\n",
      "A bicycle ride around the world begins with a single pedal stroke\n",
      "A bicycle ride around the world begins with a single pedal stroke\n",
      "A bicycle ride around the world begins with a single pedal stroke\n",
      "A bicycle ride around the world begins with a single pedal stroke\n",
      "A bicycle ride around the world begins with a single pedal stroke\n",
      "A bicycle ride around the world begins with a single pedal stroke\n",
      "A bicycle ride around the world begins with a single pedal stroke\n",
      "A bicycle ride around the world begins with a single pedal stroke\n",
      "A bicycle ride around the world begins with a single pedal stroke\n",
      "A bicycle ride around the world begins with a single pedal stroke\n",
      "A bicycle ride around the world begins with a single pedal stroke\n",
      "A bicycle ride around the world begins with a single pedal stroke\n",
      "A bicycle ride around the world begins with a single pedal stroke\n",
      "A bicycle ride around the world begins with a single pedal stroke\n",
      "A bicycle ride around the world begins with a single pedal stroke\n",
      "A bicycle ride around the world begins with a single pedal stroke\n",
      "A bicycle ride around the world begins with a single pedal stroke\n",
      "A bicycle ride around the world begins with a single pedal stroke\n",
      "A bicycle ride around the world begins with a single pedal stroke\n",
      "A bicycle ride around the world begins with a single pedal stroke\n",
      "A bicycle ride around the world begins with a single pedal stroke\n",
      "A bicycle ride around the world begins with a single pedal stroke\n",
      "A bicycle ride around the world begins with a single pedal stroke\n",
      "A bicycle ride around the world begins with a single pedal stroke\n",
      "A bicycle ride around the world begins with a single pedal stroke\n",
      "A bicycle ride around the world begins with a single pedal stroke\n",
      "A bicycle ride around the world begins with a single pedal stroke\n",
      "A bicycle ride around the world begins with a single pedal stroke\n",
      "A bicycle ride around the world begins with a single pedal stroke\n",
      "A bicycle ride around the world begins with a single pedal stroke\n",
      "A bicycle ride around the world begins with a single pedal stroke\n",
      "A bicycle ride around the world begins with a single pedal stroke\n",
      "A bicycle ride around the world begins with a single pedal stroke\n",
      "A bicycle ride around the world begins with a single pedal stroke\n",
      "A bicycle ride around the world begins with a single pedal stroke\n",
      "A bicycle ride around the world begins with a single pedal stroke\n",
      "A bicycle ride around the world begins with a single pedal stroke\n",
      "A bicycle ride around the world begins with a single pedal stroke\n",
      "A bicycle ride around the world begins with a single pedal stroke\n",
      "A bicycle ride around the world begins with a single pedal stroke\n",
      "A bicycle ride around the world begins with a single pedal stroke\n",
      "A bicycle ride around the world begins with a single pedal stroke\n",
      "A bicycle ride around the world begins with a single pedal stroke\n",
      "A bicycle ride around the world begins with a single pedal stroke\n",
      "A bicycle ride around the world begins with a single pedal stroke\n",
      "A bicycle ride around the world begins with a single pedal stroke\n",
      "A bicycle ride around the world begins with a single pedal stroke\n",
      "A bicycle ride around the world begins with a single pedal stroke\n",
      "A bicycle ride around the world begins with a single pedal stroke\n",
      "A bicycle ride around the world begins with a single pedal stroke\n",
      "A bicycle ride around the world begins with a single pedal stroke\n",
      "A bicycle ride around the world begins with a single pedal stroke\n",
      "A bicycle ride around the world begins with a single pedal stroke\n",
      "A bicycle ride around the world begins with a single pedal stroke\n",
      "A bicycle ride around the world begins with a single pedal stroke\n",
      "A bicycle ride around the world begins with a single pedal stroke\n",
      "A bicycle ride around the world begins with a single pedal stroke\n",
      "A bicycle ride around the world begins with a single pedal stroke\n",
      "A bicycle ride around the world begins with a single pedal stroke\n",
      "A bicycle ride around the world begins with a single pedal stroke\n",
      "A bicycle ride around the world begins with a single pedal stroke\n",
      "A bicycle ride around the world begins with a single pedal stroke\n",
      "A bicycle ride around the world begins with a single pedal stroke\n",
      "A bicycle ride around the world begins with a single pedal stroke\n",
      "A bicycle ride around the world begins with a single pedal stroke\n",
      "A bicycle ride around the world begins with a single pedal stroke\n",
      "A bicycle ride around the world begins with a single pedal stroke\n",
      "A bicycle ride around the world begins with a single pedal stroke\n",
      "A bicycle ride around the world begins with a single pedal stroke\n",
      "A bicycle ride around the world begins with a single pedal stroke\n",
      "A bicycle ride around the world begins with a single pedal stroke\n",
      "A bicycle ride around the world begins with a single pedal stroke\n",
      "A bicycle ride around the world begins with a single pedal stroke\n",
      "A bicycle ride around the world begins with a single pedal stroke\n",
      "A bicycle ride around the world begins with a single pedal stroke\n",
      "A bicycle ride around the world begins with a single pedal stroke\n",
      "A bicycle ride around the world begins with a single pedal stroke\n",
      "A bicycle ride around the world begins with a single pedal stroke\n",
      "A bicycle ride around the world begins with a single pedal stroke\n",
      "A bicycle ride around the world begins with a single pedal stroke\n",
      "A bicycle ride around the world begins with a single pedal stroke\n",
      "A bicycle ride around the world begins with a single pedal stroke\n",
      "A bicycle ride around the world begins with a single pedal stroke\n",
      "A bicycle ride around the world begins with a single pedal stroke\n",
      "A bicycle ride around the world begins with a single pedal stroke\n",
      "A bicycle ride around the world begins with a single pedal stroke\n",
      "A bicycle ride around the world begins with a single pedal stroke\n",
      "A bicycle ride around the world begins with a single pedal stroke\n",
      "A bicycle ride around the world begins with a single pedal stroke\n",
      "A bicycle ride around the world begins with a single pedal stroke\n",
      "A bicycle ride around the world begins with a single pedal stroke\n",
      "A bicycle ride around the world begins with a single pedal stroke\n",
      "A bicycle ride around the world begins with a single pedal stroke\n",
      "A bicycle ride around the world begins with a single pedal stroke\n",
      "A bicycle ride around the world begins with a single pedal stroke\n",
      "A bicycle ride around the world begins with a single pedal stroke\n",
      "A bicycle ride around the world begins with a single pedal stroke\n",
      "A bicycle ride around the world begins with a single pedal stroke\n",
      "A bicycle ride around the world begins with a single pedal stroke\n",
      "A bicycle ride around the world begins with a single pedal stroke\n",
      "A bicycle ride around the world begins with a single pedal stroke\n",
      "A bicycle ride around the world begins with a single pedal stroke\n",
      "A bicycle ride around the world begins with a single pedal stroke\n",
      "A bicycle ride around the world begins with a single pedal stroke\n",
      "A bicycle ride around the world begins with a single pedal stroke\n",
      "A bicycle ride around the world begins with a single pedal stroke\n",
      "A bicycle ride around the world begins with a single pedal stroke\n",
      "A bicycle ride around the world begins with a single pedal stroke\n",
      "A bicycle ride around the world begins with a single pedal stroke\n",
      "A bicycle ride around the world begins with a single pedal stroke\n",
      "A bicycle ride around the world begins with a single pedal stroke\n",
      "A bicycle ride around the world begins with a single pedal stroke\n",
      "A bicycle ride around the world begins with a single pedal stroke\n",
      "A bicycle ride around the world begins with a single pedal stroke\n",
      "A bicycle ride around the world begins with a single pedal stroke\n",
      "A bicycle ride around the world begins with a single pedal stroke\n",
      "A bicycle ride around the world begins with a single pedal stroke\n",
      "A bicycle ride around the world begins with a single pedal stroke\n",
      "A bicycle ride around the world begins with a single pedal stroke\n",
      "A bicycle ride around the world begins with a single pedal stroke\n",
      "A bicycle ride around the world begins with a single pedal stroke\n",
      "A bicycle ride around the world begins with a single pedal stroke\n",
      "A bicycle ride around the world begins with a single pedal stroke\n",
      "A bicycle ride around the world begins with a single pedal stroke\n",
      "A bicycle ride around the world begins with a single pedal stroke\n",
      "A bicycle ride around the world begins with a single pedal stroke\n",
      "A bicycle ride around the world begins with a single pedal stroke\n",
      "A bicycle ride around the world begins with a single pedal stroke\n",
      "A bicycle ride around the world begins with a single pedal stroke\n",
      "A bicycle ride around the world begins with a single pedal stroke\n",
      "A bicycle ride around the world begins with a single pedal stroke\n",
      "A bicycle ride around the world begins with a single pedal stroke\n",
      "A bicycle ride around the world begins with a single pedal stroke\n",
      "A bicycle ride around the world begins with a single pedal stroke\n",
      "A bicycle ride around the world begins with a single pedal stroke\n",
      "A bicycle ride around the world begins with a single pedal stroke\n",
      "A bicycle ride around the world begins with a single pedal stroke\n",
      "A bicycle ride around the world begins with a single pedal stroke\n",
      "A bicycle ride around the world begins with a single pedal stroke\n",
      "A bicycle ride around the world begins with a single pedal stroke\n",
      "A bicycle ride around the world begins with a single pedal stroke\n",
      "A bicycle ride around the world begins with a single pedal stroke\n",
      "A bicycle ride around the world begins with a single pedal stroke\n",
      "A bicycle ride around the world begins with a single pedal stroke\n",
      "A bicycle ride around the world begins with a single pedal stroke\n",
      "A bicycle ride around the world begins with a single pedal stroke\n",
      "A bicycle ride around the world begins with a single pedal stroke\n",
      "A bicycle ride around the world begins with a single pedal stroke\n",
      "A bicycle ride around the world begins with a single pedal stroke\n",
      "A bicycle ride around the world begins with a single pedal stroke\n",
      "A bicycle ride around the world begins with a single pedal stroke\n",
      "A bicycle ride around the world begins with a single pedal stroke\n",
      "A bicycle ride around the world begins with a single pedal stroke\n",
      "A bicycle ride around the world begins with a single pedal stroke\n",
      "A bicycle ride around the world begins with a single pedal stroke\n",
      "A bicycle ride around the world begins with a single pedal stroke\n",
      "A bicycle ride around the world begins with a single pedal stroke\n",
      "A bicycle ride around the world begins with a single pedal stroke\n",
      "A bicycle ride around the world begins with a single pedal stroke\n",
      "A bicycle ride around the world begins with a single pedal stroke\n",
      "A bicycle ride around the world begins with a single pedal stroke\n",
      "A bicycle ride around the world begins with a single pedal stroke\n",
      "A bicycle ride around the world begins with a single pedal stroke\n",
      "A bicycle ride around the world begins with a single pedal stroke\n",
      "A bicycle ride around the world begins with a single pedal stroke\n",
      "A bicycle ride around the world begins with a single pedal stroke\n",
      "A bicycle ride around the world begins with a single pedal stroke\n",
      "A bicycle ride around the world begins with a single pedal stroke\n",
      "A bicycle ride around the world begins with a single pedal stroke\n",
      "A bicycle ride around the world begins with a single pedal stroke\n",
      "A bicycle ride around the world begins with a single pedal stroke\n",
      "A bicycle ride around the world begins with a single pedal stroke\n",
      "A bicycle ride around the world begins with a single pedal stroke\n",
      "A bicycle ride around the world begins with a single pedal stroke\n",
      "A bicycle ride around the world begins with a single pedal stroke\n",
      "A bicycle ride around the world begins with a single pedal stroke\n",
      "A bicycle ride around the world begins with a single pedal stroke\n",
      "A bicycle ride around the world begins with a single pedal stroke\n",
      "A bicycle ride around the world begins with a single pedal stroke\n",
      "A bicycle ride around the world begins with a single pedal stroke\n",
      "A bicycle ride around the world begins with a single pedal stroke\n",
      "A bicycle ride around the world begins with a single pedal stroke\n",
      "A bicycle ride around the world begins with a single pedal stroke\n",
      "A bicycle ride around the world begins with a single pedal stroke\n",
      "A bicycle ride around the world begins with a single pedal stroke\n",
      "A bicycle ride around the world begins with a single pedal stroke\n",
      "A bicycle ride around the world begins with a single pedal stroke\n",
      "A bicycle ride around the world begins with a single pedal stroke\n",
      "A bicycle ride around the world begins with a single pedal stroke\n",
      "A bicycle ride around the world begins with a single pedal stroke\n",
      "A bicycle ride around the world begins with a single pedal stroke\n",
      "A bicycle ride around the world begins with a single pedal stroke\n",
      "A bicycle ride around the world begins with a single pedal stroke\n",
      "A bicycle ride around the world begins with a single pedal stroke\n",
      "A bicycle ride around the world begins with a single pedal stroke\n",
      "A bicycle ride around the world begins with a single pedal stroke\n",
      "A bicycle ride around the world begins with a single pedal stroke\n",
      "A bicycle ride around the world begins with a single pedal stroke\n",
      "A bicycle ride around the world begins with a single pedal stroke\n",
      "A bicycle ride around the world begins with a single pedal stroke\n",
      "A bicycle ride around the world begins with a single pedal stroke\n",
      "A bicycle ride around the world begins with a single pedal stroke\n",
      "A bicycle ride around the world begins with a single pedal stroke\n",
      "A bicycle ride around the world begins with a single pedal stroke\n",
      "A bicycle ride around the world begins with a single pedal stroke\n",
      "A bicycle ride around the world begins with a single pedal stroke\n",
      "A bicycle ride around the world begins with a single pedal stroke\n",
      "A bicycle ride around the world begins with a single pedal stroke\n",
      "A bicycle ride around the world begins with a single pedal stroke\n",
      "A bicycle ride around the world begins with a single pedal stroke\n",
      "A bicycle ride around the world begins with a single pedal stroke\n",
      "A bicycle ride around the world begins with a single pedal stroke\n",
      "A bicycle ride around the world begins with a single pedal stroke\n",
      "A bicycle ride around the world begins with a single pedal stroke\n",
      "A bicycle ride around the world begins with a single pedal stroke\n",
      "A bicycle ride around the world begins with a single pedal stroke\n",
      "A bicycle ride around the world begins with a single pedal stroke\n",
      "A bicycle ride around the world begins with a single pedal stroke\n",
      "A bicycle ride around the world begins with a single pedal stroke\n",
      "A bicycle ride around the world begins with a single pedal stroke\n",
      "A bicycle ride around the world begins with a single pedal stroke\n",
      "A bicycle ride around the world begins with a single pedal stroke\n",
      "A bicycle ride around the world begins with a single pedal stroke\n",
      "A bicycle ride around the world begins with a single pedal stroke\n",
      "A bicycle ride around the world begins with a single pedal stroke\n",
      "A bicycle ride around the world begins with a single pedal stroke\n",
      "A bicycle ride around the world begins with a single pedal stroke\n",
      "A bicycle ride around the world begins with a single pedal stroke\n",
      "A bicycle ride around the world begins with a single pedal stroke\n",
      "A bicycle ride around the world begins with a single pedal stroke\n",
      "A bicycle ride around the world begins with a single pedal stroke\n",
      "A bicycle ride around the world begins with a single pedal stroke\n",
      "A bicycle ride around the world begins with a single pedal stroke\n",
      "A bicycle ride around the world begins with a single pedal stroke\n",
      "A bicycle ride around the world begins with a single pedal stroke\n",
      "A bicycle ride around the world begins with a single pedal stroke\n",
      "A bicycle ride around the world begins with a single pedal stroke\n",
      "A bicycle ride around the world begins with a single pedal stroke\n",
      "A bicycle ride around the world begins with a single pedal stroke\n",
      "A bicycle ride around the world begins with a single pedal stroke\n",
      "A bicycle ride around the world begins with a single pedal stroke\n",
      "A bicycle ride around the world begins with a single pedal stroke\n",
      "A bicycle ride around the world begins with a single pedal stroke\n",
      "A bicycle ride around the world begins with a single pedal stroke\n",
      "A bicycle ride around the world begins with a single pedal stroke\n",
      "A bicycle ride around the world begins with a single pedal stroke\n",
      "A bicycle ride around the world begins with a single pedal stroke\n",
      "A bicycle ride around the world begins with a single pedal stroke\n",
      "A bicycle ride around the world begins with a single pedal stroke\n",
      "A bicycle ride around the world begins with a single pedal stroke\n",
      "A bicycle ride around the world begins with a single pedal stroke\n",
      "A bicycle ride around the world begins with a single pedal stroke\n",
      "A bicycle ride around the world begins with a single pedal stroke\n",
      "A bicycle ride around the world begins with a single pedal stroke\n",
      "A bicycle ride around the world begins with a single pedal stroke\n",
      "A bicycle ride around the world begins with a single pedal stroke\n",
      "A bicycle ride around the world begins with a single pedal stroke\n",
      "A bicycle ride around the world begins with a single pedal stroke\n",
      "A bicycle ride around the world begins with a single pedal stroke\n",
      "A bicycle ride around the world begins with a single pedal stroke\n",
      "A bicycle ride around the world begins with a single pedal stroke\n",
      "A bicycle ride around the world begins with a single pedal stroke\n",
      "A bicycle ride around the world begins with a single pedal stroke\n",
      "A bicycle ride around the world begins with a single pedal stroke\n",
      "A bicycle ride around the world begins with a single pedal stroke\n",
      "A bicycle ride around the world begins with a single pedal stroke\n",
      "A bicycle ride around the world begins with a single pedal stroke\n",
      "A bicycle ride around the world begins with a single pedal stroke\n",
      "A bicycle ride around the world begins with a single pedal stroke\n",
      "A bicycle ride around the world begins with a single pedal stroke\n",
      "A bicycle ride around the world begins with a single pedal stroke\n",
      "A bicycle ride around the world begins with a single pedal stroke\n",
      "A bicycle ride around the world begins with a single pedal stroke\n",
      "A bicycle ride around the world begins with a single pedal stroke\n",
      "A bicycle ride around the world begins with a single pedal stroke\n",
      "A bicycle ride around the world begins with a single pedal stroke\n",
      "A bicycle ride around the world begins with a single pedal stroke\n",
      "A bicycle ride around the world begins with a single pedal stroke\n",
      "A bicycle ride around the world begins with a single pedal stroke\n",
      "A bicycle ride around the world begins with a single pedal stroke\n",
      "A bicycle ride around the world begins with a single pedal stroke\n",
      "A bicycle ride around the world begins with a single pedal stroke\n",
      "A bicycle ride around the world begins with a single pedal stroke\n",
      "A bicycle ride around the world begins with a single pedal stroke\n",
      "A bicycle ride around the world begins with a single pedal stroke\n",
      "A bicycle ride around the world begins with a single pedal stroke\n",
      "A bicycle ride around the world begins with a single pedal stroke\n",
      "A bicycle ride around the world begins with a single pedal stroke\n",
      "A bicycle ride around the world begins with a single pedal stroke\n",
      "A bicycle ride around the world begins with a single pedal stroke\n",
      "A bicycle ride around the world begins with a single pedal stroke\n",
      "A bicycle ride around the world begins with a single pedal stroke\n",
      "A bicycle ride around the world begins with a single pedal stroke\n",
      "A bicycle ride around the world begins with a single pedal stroke\n",
      "A bicycle ride around the world begins with a single pedal stroke\n",
      "A bicycle ride around the world begins with a single pedal stroke\n",
      "A bicycle ride around the world begins with a single pedal stroke\n",
      "A bicycle ride around the world begins with a single pedal stroke\n",
      "A bicycle ride around the world begins with a single pedal stroke\n",
      "A bicycle ride around the world begins with a single pedal stroke\n",
      "A bicycle ride around the world begins with a single pedal stroke\n",
      "A bicycle ride around the world begins with a single pedal stroke\n",
      "A bicycle ride around the world begins with a single pedal stroke\n",
      "A bicycle ride around the world begins with a single pedal stroke\n",
      "A bicycle ride around the world begins with a single pedal stroke\n",
      "A bicycle ride around the world begins with a single pedal stroke\n",
      "A bicycle ride around the world begins with a single pedal stroke\n",
      "A bicycle ride around the world begins with a single pedal stroke\n",
      "A bicycle ride around the world begins with a single pedal stroke\n",
      "A bicycle ride around the world begins with a single pedal stroke\n",
      "A bicycle ride around the world begins with a single pedal stroke\n",
      "A bicycle ride around the world begins with a single pedal stroke\n",
      "A bicycle ride around the world begins with a single pedal stroke\n",
      "A bicycle ride around the world begins with a single pedal stroke\n",
      "A bicycle ride around the world begins with a single pedal stroke\n",
      "A bicycle ride around the world begins with a single pedal stroke\n",
      "A bicycle ride around the world begins with a single pedal stroke\n",
      "A bicycle ride around the world begins with a single pedal stroke\n",
      "A bicycle ride around the world begins with a single pedal stroke\n",
      "A bicycle ride around the world begins with a single pedal stroke\n",
      "A bicycle ride around the world begins with a single pedal stroke\n",
      "A bicycle ride around the world begins with a single pedal stroke\n",
      "A bicycle ride around the world begins with a single pedal stroke\n",
      "A bicycle ride around the world begins with a single pedal stroke\n",
      "A bicycle ride around the world begins with a single pedal stroke\n",
      "A bicycle ride around the world begins with a single pedal stroke\n",
      "A bicycle ride around the world begins with a single pedal stroke\n",
      "A bicycle ride around the world begins with a single pedal stroke\n",
      "A bicycle ride around the world begins with a single pedal stroke\n",
      "A bicycle ride around the world begins with a single pedal stroke\n",
      "A bicycle ride around the world begins with a single pedal stroke\n",
      "A bicycle ride around the world begins with a single pedal stroke\n",
      "A bicycle ride around the world begins with a single pedal stroke\n",
      "A bicycle ride around the world begins with a single pedal stroke\n",
      "A bicycle ride around the world begins with a single pedal stroke\n",
      "A bicycle ride around the world begins with a single pedal stroke\n",
      "A bicycle ride around the world begins with a single pedal stroke\n",
      "A bicycle ride around the world begins with a single pedal stroke\n",
      "A bicycle ride around the world begins with a single pedal stroke\n",
      "A bicycle ride around the world begins with a single pedal stroke\n",
      "A bicycle ride around the world begins with a single pedal stroke\n",
      "A bicycle ride around the world begins with a single pedal stroke\n",
      "A bicycle ride around the world begins with a single pedal stroke\n",
      "A bicycle ride around the world begins with a single pedal stroke\n",
      "A bicycle ride around the world begins with a single pedal stroke\n",
      "A bicycle ride around the world begins with a single pedal stroke\n",
      "A bicycle ride around the world begins with a single pedal stroke\n",
      "A bicycle ride around the world begins with a single pedal stroke\n",
      "A bicycle ride around the world begins with a single pedal stroke\n",
      "A bicycle ride around the world begins with a single pedal stroke\n",
      "A bicycle ride around the world begins with a single pedal stroke\n",
      "A bicycle ride around the world begins with a single pedal stroke\n",
      "A bicycle ride around the world begins with a single pedal stroke\n",
      "A bicycle ride around the world begins with a single pedal stroke\n",
      "A bicycle ride around the world begins with a single pedal stroke\n",
      "A bicycle ride around the world begins with a single pedal stroke\n",
      "A bicycle ride around the world begins with a single pedal stroke\n",
      "A bicycle ride around the world begins with a single pedal stroke\n",
      "A bicycle ride around the world begins with a single pedal stroke\n",
      "A bicycle ride around the world begins with a single pedal stroke\n",
      "A bicycle ride around the world begins with a single pedal stroke\n",
      "A bicycle ride around the world begins with a single pedal stroke\n",
      "A bicycle ride around the world begins with a single pedal stroke\n",
      "A bicycle ride around the world begins with a single pedal stroke\n",
      "A bicycle ride around the world begins with a single pedal stroke\n",
      "A bicycle ride around the world begins with a single pedal stroke\n",
      "A bicycle ride around the world begins with a single pedal stroke\n",
      "A bicycle ride around the world begins with a single pedal stroke\n",
      "A bicycle ride around the world begins with a single pedal stroke\n",
      "A bicycle ride around the world begins with a single pedal stroke\n",
      "A bicycle ride around the world begins with a single pedal stroke\n",
      "A bicycle ride around the world begins with a single pedal stroke\n",
      "A bicycle ride around the world begins with a single pedal stroke\n",
      "A bicycle ride around the world begins with a single pedal stroke\n",
      "A bicycle ride around the world begins with a single pedal stroke\n",
      "A bicycle ride around the world begins with a single pedal stroke\n",
      "A bicycle ride around the world begins with a single pedal stroke\n",
      "A bicycle ride around the world begins with a single pedal stroke\n",
      "A bicycle ride around the world begins with a single pedal stroke\n",
      "A bicycle ride around the world begins with a single pedal stroke\n",
      "A bicycle ride around the world begins with a single pedal stroke\n",
      "A bicycle ride around the world begins with a single pedal stroke\n",
      "A bicycle ride around the world begins with a single pedal stroke\n",
      "A bicycle ride around the world begins with a single pedal stroke\n",
      "A bicycle ride around the world begins with a single pedal stroke\n",
      "A bicycle ride around the world begins with a single pedal stroke\n",
      "A bicycle ride around the world begins with a single pedal stroke\n",
      "A bicycle ride around the world begins with a single pedal stroke\n",
      "A bicycle ride around the world begins with a single pedal stroke\n",
      "A bicycle ride around the world begins with a single pedal stroke\n",
      "A bicycle ride around the world begins with a single pedal stroke\n",
      "A bicycle ride around the world begins with a single pedal stroke\n",
      "A bicycle ride around the world begins with a single pedal stroke\n",
      "A bicycle ride around the world begins with a single pedal stroke\n",
      "A bicycle ride around the world begins with a single pedal stroke\n",
      "A bicycle ride around the world begins with a single pedal stroke\n",
      "A bicycle ride around the world begins with a single pedal stroke\n",
      "A bicycle ride around the world begins with a single pedal stroke\n",
      "A bicycle ride around the world begins with a single pedal stroke\n",
      "A bicycle ride around the world begins with a single pedal stroke\n",
      "A bicycle ride around the world begins with a single pedal stroke\n",
      "A bicycle ride around the world begins with a single pedal stroke\n",
      "A bicycle ride around the world begins with a single pedal stroke\n",
      "A bicycle ride around the world begins with a single pedal stroke\n",
      "A bicycle ride around the world begins with a single pedal stroke\n",
      "A bicycle ride around the world begins with a single pedal stroke\n",
      "A bicycle ride around the world begins with a single pedal stroke\n",
      "A bicycle ride around the world begins with a single pedal stroke\n",
      "A bicycle ride around the world begins with a single pedal stroke\n",
      "A bicycle ride around the world begins with a single pedal stroke\n",
      "A bicycle ride around the world begins with a single pedal stroke\n",
      "A bicycle ride around the world begins with a single pedal stroke\n",
      "A bicycle ride around the world begins with a single pedal stroke\n",
      "A bicycle ride around the world begins with a single pedal stroke\n",
      "A bicycle ride around the world begins with a single pedal stroke\n",
      "A bicycle ride around the world begins with a single pedal stroke\n",
      "A bicycle ride around the world begins with a single pedal stroke\n",
      "A bicycle ride around the world begins with a single pedal stroke\n",
      "A bicycle ride around the world begins with a single pedal stroke\n",
      "A bicycle ride around the world begins with a single pedal stroke\n",
      "A bicycle ride around the world begins with a single pedal stroke\n",
      "A bicycle ride around the world begins with a single pedal stroke\n",
      "A bicycle ride around the world begins with a single pedal stroke\n",
      "A bicycle ride around the world begins with a single pedal stroke\n",
      "A bicycle ride around the world begins with a single pedal stroke\n",
      "A bicycle ride around the world begins with a single pedal stroke\n",
      "A bicycle ride around the world begins with a single pedal stroke\n",
      "A bicycle ride around the world begins with a single pedal stroke\n",
      "A bicycle ride around the world begins with a single pedal stroke\n",
      "A bicycle ride around the world begins with a single pedal stroke\n",
      "A bicycle ride around the world begins with a single pedal stroke\n",
      "A bicycle ride around the world begins with a single pedal stroke\n",
      "A bicycle ride around the world begins with a single pedal stroke\n",
      "A bicycle ride around the world begins with a single pedal stroke\n",
      "A bicycle ride around the world begins with a single pedal stroke\n",
      "A bicycle ride around the world begins with a single pedal stroke\n"
     ]
    }
   ],
   "source": [
    "quote = \"A bicycle ride around the world begins with a single pedal stroke\"\n",
    "for q in range(1000):\n",
    "    print(quote)"
   ]
  },
  {
   "cell_type": "markdown",
   "metadata": {},
   "source": [
    "### Exercise 3:\n",
    "\n",
    "Use python string operations and methods to use the following variables to print this:\n",
    "\n",
    "    \"hello world\""
   ]
  },
  {
   "cell_type": "code",
   "execution_count": 2,
   "metadata": {},
   "outputs": [],
   "source": [
    "message_1 = \"hELlo\"\n",
    "message_2 = \"                              wor\"\n",
    "message_3 = \"wbdaloqteldndyrcggzf\""
   ]
  },
  {
   "cell_type": "code",
   "execution_count": 3,
   "metadata": {},
   "outputs": [
    {
     "data": {
      "text/plain": [
       "'\"hello word'"
      ]
     },
     "execution_count": 3,
     "metadata": {},
     "output_type": "execute_result"
    }
   ],
   "source": [
    "\"\".join('\"' + message_1 +' '+ message_2.strip() + 'd').lower()"
   ]
  },
  {
   "cell_type": "markdown",
   "metadata": {},
   "source": [
    "### Exercise 4\n",
    "\n",
    "Fix the following code so it prints properly"
   ]
  },
  {
   "cell_type": "code",
   "execution_count": 4,
   "metadata": {},
   "outputs": [
    {
     "name": "stdout",
     "output_type": "stream",
     "text": [
      "The price is $3.44.\n"
     ]
    }
   ],
   "source": [
    "# Dollar amounts should only have two digits after the decimal\n",
    "# print(\"The price is $%.5f.\" % (3.44444))\n",
    "print(\"The price is $%.2f.\" % (3.44444))"
   ]
  },
  {
   "cell_type": "code",
   "execution_count": null,
   "metadata": {},
   "outputs": [],
   "source": [
    "# Complete the code so it prints your name and what you're learning\n",
    "name = input(\"enter your name: \")\n",
    "language = input(\"enter the language you are learning: \")\n",
    "print(\"{} is learning {}\".format() )"
   ]
  },
  {
   "cell_type": "markdown",
   "metadata": {},
   "source": [
    "### Exercise 5\n",
    "\n",
    "Create your own mad-lib with at least 5 inputs."
   ]
  },
  {
   "cell_type": "code",
   "execution_count": null,
   "metadata": {},
   "outputs": [],
   "source": [
    "school_location = input(\"Which boro is the school located in? \")\n",
    "days = input(\"Enter class days: \")\n",
    "time = input(\"Enter class start time: \")\n",
    "teacher_name = input(\"What's the teacher's first name: \")\n",
    "student_name = input(\"Enter a student's first name: \")\n",
    "\n",
    "\n",
    "print(\"Boro\", school_location)\n",
    "print(\"Class course days\" + days)\n",
    "print(\"Class course times\" + time)\n",
    "print(\"Teacher\" + teacher_name)\n",
    "print(\"Student\"+ student_name)"
   ]
  }
 ],
 "metadata": {
  "kernelspec": {
   "display_name": "Python 3",
   "language": "python",
   "name": "python3"
  },
  "language_info": {
   "codemirror_mode": {
    "name": "ipython",
    "version": 3
   },
   "file_extension": ".py",
   "mimetype": "text/x-python",
   "name": "python",
   "nbconvert_exporter": "python",
   "pygments_lexer": "ipython3",
   "version": "3.8.3"
  }
 },
 "nbformat": 4,
 "nbformat_minor": 4
}
