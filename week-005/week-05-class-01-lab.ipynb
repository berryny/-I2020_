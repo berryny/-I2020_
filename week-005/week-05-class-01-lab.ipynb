{
 "cells": [
  {
   "cell_type": "markdown",
   "metadata": {},
   "source": [
    "<div style=\"background: #000;\n",
    "            color: #FFF;\n",
    "            margin: 0px;\n",
    "                padding: 10px 0px 20px 0px;\n",
    "            text-align: center; \n",
    "                \">\n",
    "    <h1>Week 5 - Class 1 - Lab</h1>\n",
    "</div>"
   ]
  },
  {
   "cell_type": "markdown",
   "metadata": {},
   "source": [
    "# Question 1:\n",
    "\n",
    "What are signs you should use a recursive function? What happens when you do a recursive function call in a return statement?\n",
    "\n",
    "Walk us through how recursive functions work in your answer."
   ]
  },
  {
   "cell_type": "code",
   "execution_count": null,
   "metadata": {},
   "outputs": [],
   "source": []
  },
  {
   "cell_type": "markdown",
   "metadata": {},
   "source": [
    "# Exercise 1:\n",
    "\n",
    "Create a function that executes in constant time. Then create a function that executes in linear time. Curry the two functions to produce an output."
   ]
  },
  {
   "cell_type": "code",
   "execution_count": 1,
   "metadata": {},
   "outputs": [
    {
     "name": "stdout",
     "output_type": "stream",
     "text": [
      "116\n"
     ]
    }
   ],
   "source": [
    "# constant time\n",
    "def sum_num(count,num):\n",
    "    s_sum = count + num\n",
    "    return s_sum\n",
    "\n",
    "# linear time\n",
    "def sum_num_loop(*arg):\n",
    "    s = 0\n",
    "    for x in arg:\n",
    "#         s += x\n",
    "        s = sum_num(s,x)\n",
    "    return s\n",
    "\n",
    "# Curry: execute two functions together\n",
    "print(sum_num_loop(3,15,98))"
   ]
  },
  {
   "cell_type": "markdown",
   "metadata": {},
   "source": [
    "# Exercise 2:\n",
    "\n",
    "Create a function using the following function that will take your choice of the following and input:\n",
    "\n",
    "\"R\" (rock), \"P\" (paper), or \"S\" (scissors) \n",
    "\n",
    "and return whether or not you beat the computer.\n"
   ]
  },
  {
   "cell_type": "code",
   "execution_count": 2,
   "metadata": {},
   "outputs": [
    {
     "data": {
      "text/plain": [
       "(2, 'scissors')"
      ]
     },
     "execution_count": 2,
     "metadata": {},
     "output_type": "execute_result"
    }
   ],
   "source": [
    "import random\n",
    "def computers_turn():\n",
    "    choices = {\n",
    "        0: 'rock',\n",
    "        1: 'paper',\n",
    "        2: 'scissors',\n",
    "    }\n",
    "    turn = random.randint(0,2)\n",
    "    return (turn, choices[turn])\n",
    "\n",
    "computers_turn()"
   ]
  },
  {
   "cell_type": "code",
   "execution_count": 3,
   "metadata": {},
   "outputs": [],
   "source": [
    "# 1. take an argument that is in ['R', 'P', 'S']\n",
    "# 2. Call computers_turn() store the result\n",
    "# 3. compare my input (1.) with the computer's turn (2.) "
   ]
  },
  {
   "cell_type": "code",
   "execution_count": 4,
   "metadata": {},
   "outputs": [],
   "source": [
    "def rock_paper_scissors():\n",
    "    user_correct_input = False\n",
    "    while not user_correct_input:\n",
    "        user_input = input(\"Hey there, please choose from ['R', 'P', 'S'] to play this game.\")\n",
    "        if user_input in ['R', 'P', 'S']:\n",
    "             user_correct_input = True\n",
    "        else:\n",
    "            print(\"Hey there, please put one of ['R', 'P', 'S'] to play the game.\")\n",
    "            user_input = input(\"Hey there, please choose from ['R', 'P', 'S'] to play this game.\")\n",
    "#     user_input = input(\"Hey there, please choose from ['R', 'P', 'S'] to play this game.\")\n",
    "#     if user_input not in ['R', 'S', 'P']:\n",
    "#         raise ValueError(f\"Incorrect Value. Must be one of ['R', 'S', 'P']. Was {user_input}\")\n",
    "    \n",
    "    computer_choice_tuple = computers_turn()\n",
    "    \n",
    "    choices = {\n",
    "        'R': (0, 'rock'),\n",
    "        'P': (1, 'paper'),\n",
    "        'S': (2, 'scissors',)\n",
    "    }\n",
    "    \n",
    "    user_choice_tuple = choices[user_input]\n",
    "    \n",
    "    if (user_choice_tuple[0] - computer_choice_tuple[0]) % 3 == 0:\n",
    "        return f\"It's a tie. User picked {user_choice_tuple}. Computer picked {computer_choice_tuple}\"\n",
    "    \n",
    "    elif (user_choice_tuple[0] - computer_choice_tuple[0]) % 3 == 1:\n",
    "        return f\"User Wins. User picked {user_choice_tuple}. Computer picked {computer_choice_tuple}\"\n",
    "    \n",
    "    elif (user_choice_tuple[0] - computer_choice_tuple[0]) % 3 == 2:\n",
    "        return f\"Computer Wins. User picked {user_choice_tuple}. Computer picked {computer_choice_tuple}\"\n",
    "    else:\n",
    "        return \"Unexpected Result.\""
   ]
  },
  {
   "cell_type": "code",
   "execution_count": 5,
   "metadata": {},
   "outputs": [
    {
     "name": "stdin",
     "output_type": "stream",
     "text": [
      "Hey there, please choose from ['R', 'P', 'S'] to play this game. P\n"
     ]
    },
    {
     "data": {
      "text/plain": [
       "\"It's a tie. User picked (1, 'paper'). Computer picked (1, 'paper')\""
      ]
     },
     "execution_count": 5,
     "metadata": {},
     "output_type": "execute_result"
    }
   ],
   "source": [
    "rock_paper_scissors()"
   ]
  },
  {
   "cell_type": "markdown",
   "metadata": {},
   "source": [
    "# Exercise 3:\n",
    "\n",
    "Create a function that takes a string, converts it to upper, sorts it and then take the `ord()` of each element of the string and adds it to a list. Output the final list.\n",
    "\n",
    "Once your function runs, optimize it to make it more efficient. "
   ]
  },
  {
   "cell_type": "code",
   "execution_count": 6,
   "metadata": {},
   "outputs": [
    {
     "name": "stdout",
     "output_type": "stream",
     "text": [
      "[66, 66, 79]\n"
     ]
    }
   ],
   "source": [
    "def string_list(word):\n",
    "    w_upper_sorted = sorted(word.upper())\n",
    "    word_org = []\n",
    "    for s in w_upper_sorted:\n",
    "        word_org.append(ord(s))\n",
    "    print(word_org)\n",
    "\n",
    "string_list(\"bob\")"
   ]
  },
  {
   "cell_type": "markdown",
   "metadata": {},
   "source": [
    "# Exercise 4:\n",
    "\n",
    "Create a recursive function that computers the powers of a number using the following equation:\n",
    "\n",
    "   $$ x^{n} = x * x^{n-1} $$ "
   ]
  },
  {
   "cell_type": "code",
   "execution_count": 7,
   "metadata": {},
   "outputs": [
    {
     "name": "stdout",
     "output_type": "stream",
     "text": [
      "16\n"
     ]
    }
   ],
   "source": [
    "def compute_power(x,n):\n",
    "    if n == 0:\n",
    "        return 0\n",
    "    elif n == 1:\n",
    "        return x\n",
    "    else:\n",
    "        return x * compute_power(x, n-1)\n",
    "\n",
    "print(compute_power(2,4))"
   ]
  },
  {
   "cell_type": "markdown",
   "metadata": {},
   "source": [
    "# Bonus: \n",
    "\n",
    "Find a lab exercise solution that you previously submitted that you can optimize, make a function out of the solution and make it more efficient."
   ]
  },
  {
   "cell_type": "code",
   "execution_count": null,
   "metadata": {},
   "outputs": [],
   "source": []
  }
 ],
 "metadata": {
  "kernelspec": {
   "display_name": "Python 3",
   "language": "python",
   "name": "python3"
  },
  "language_info": {
   "codemirror_mode": {
    "name": "ipython",
    "version": 3
   },
   "file_extension": ".py",
   "mimetype": "text/x-python",
   "name": "python",
   "nbconvert_exporter": "python",
   "pygments_lexer": "ipython3",
   "version": "3.8.3"
  }
 },
 "nbformat": 4,
 "nbformat_minor": 4
}
