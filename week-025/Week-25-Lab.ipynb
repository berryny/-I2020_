{
 "cells": [
  {
   "cell_type": "markdown",
   "metadata": {},
   "source": [
    "<div style=\"background: #000;\n",
    "            color: #FFF;\n",
    "            margin: 0px;\n",
    "            padding: 10px 0px 20px 0px;\n",
    "            text-align: center; \n",
    "                \">\n",
    "    <h1 >Week 25 Lab</h1>\n",
    "</div>\n",
    "\n",
    "### Open Ended Questions:\n",
    "1. What do you understand by Machine Learning? What does it mean and how does it work?\n",
    "2. What are the different Algorithms techniques in Machine Learning?\n",
    "3. What is the difference between supervised and unsupervised machine learning?\n",
    "4. What is Overfitting in Machine Learning?\n",
    "5. What is the difference between classification and regression?\n",
    "6. In what situations would you use a linear regression? What do you need for a linear regression? Briefly explain the process\n",
    "7. In what situations would you use a logistic regression? What do you need for a logistic regression? Briefly explain the process\n",
    "8. What is cross validation? Why is it useful?\n",
    "9. Explain the Bias vs. Variance issue and how it affects our machine learning models.\n",
    "10. Explain the sklearn method `test_train_split`. Why do we use it?\n",
    "11. Why do we calculate errors for supervised learning? \n",
    "12. What is $R^{2}$ and why do we use it to analyze the fitness of our linear regressions?\n",
    "13. Explain what the metrics we use to evaluate the performance of our logistic regressions mean (accuracy, precision, recall). What is a confusion matrix and what does it help us understand?\n",
    "### "
   ]
  },
  {
   "cell_type": "raw",
   "metadata": {},
   "source": [
    "# What do you understand by Machine Learning? What does it mean and how does it work?\n",
    "Logistic regression is used for making binary predictions, for example will someone die from a disease, yes or no?"
   ]
  },
  {
   "cell_type": "code",
   "execution_count": null,
   "metadata": {},
   "outputs": [],
   "source": [
    "# What are the different Algorithms techniques in Machine Learning?"
   ]
  },
  {
   "cell_type": "raw",
   "metadata": {},
   "source": [
    "# What is the difference between supervised and unsupervised machine learning?\n",
    "Supervised machine learning teach or train the machine using data that is well labeled; Supervised learning allows collecting data and produces data output from previous experiences.\n",
    "\n",
    "Unsupervised learning is the training of a machine using information that is neither classified nor labeled and allowing the algorithm to act on that information without guidance. "
   ]
  },
  {
   "cell_type": "raw",
   "metadata": {},
   "source": [
    "# What is Overfitting in Machine Learning?\n",
    "Overfitting is when the model memorizes the exact training data but doesn't figure out the pattern in the data."
   ]
  },
  {
   "cell_type": "raw",
   "metadata": {},
   "source": [
    "# What is the difference between classification and regression?\n",
    "A classification model attempts to draw some conclusion from observed values. \n",
    "Regression predicts a value from a continuous set, whereas classification predicts the 'belonging' to the class."
   ]
  },
  {
   "cell_type": "raw",
   "metadata": {},
   "source": [
    "# In what situations would you use a linear regression? What do you need for a linear regression? \n",
    "When determining the strength of predictors, forecasting an effect, and trend forecasting.\n",
    "\n",
    "# Briefly explain the process\n"
   ]
  },
  {
   "cell_type": "code",
   "execution_count": 5,
   "metadata": {},
   "outputs": [],
   "source": [
    "# In what situations would you use a logistic regression? What do you need for a logistic regression? Briefly explain the process\n",
    "Logistic regression is used for making binary predictions, for example will someone die from a disease, yes or no? Compared to linear regression where you have continuous data where you make predictions on."
   ]
  },
  {
   "cell_type": "code",
   "execution_count": 6,
   "metadata": {},
   "outputs": [],
   "source": [
    "# What is cross validation? Why is it useful?"
   ]
  },
  {
   "cell_type": "code",
   "execution_count": 7,
   "metadata": {},
   "outputs": [],
   "source": [
    "# Explain the Bias vs. Variance issue and how it affects our machine learning models."
   ]
  },
  {
   "cell_type": "code",
   "execution_count": 9,
   "metadata": {},
   "outputs": [],
   "source": [
    "# Explain the sklearn method test_train_split. Why do we use it?"
   ]
  },
  {
   "cell_type": "code",
   "execution_count": null,
   "metadata": {},
   "outputs": [],
   "source": [
    "# Why do we calculate errors for supervised learning?"
   ]
  },
  {
   "cell_type": "raw",
   "metadata": {},
   "source": [
    "# What is R2 and why do we use it to analyze the fitness of our linear regressions?\n",
    "Adding independent variables to a linear regression model will always increase the explained variance of the model (typically expressed as R²).  The closer our $R^{2}$ is to zero is not accurate at predicting the output. "
   ]
  },
  {
   "cell_type": "code",
   "execution_count": 11,
   "metadata": {},
   "outputs": [],
   "source": [
    "# Explain what the metrics we use to evaluate the performance of our logistic regressions mean (accuracy, precision, recall). What is a confusion matrix and what does it help us understand?"
   ]
  },
  {
   "cell_type": "code",
   "execution_count": null,
   "metadata": {},
   "outputs": [],
   "source": []
  }
 ],
 "metadata": {
  "kernelspec": {
   "display_name": "Python 3",
   "language": "python",
   "name": "python3"
  },
  "language_info": {
   "codemirror_mode": {
    "name": "ipython",
    "version": 3
   },
   "file_extension": ".py",
   "mimetype": "text/x-python",
   "name": "python",
   "nbconvert_exporter": "python",
   "pygments_lexer": "ipython3",
   "version": "3.9.0"
  }
 },
 "nbformat": 4,
 "nbformat_minor": 5
}
