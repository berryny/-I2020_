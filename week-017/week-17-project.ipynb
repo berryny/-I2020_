{
 "cells": [
  {
   "cell_type": "markdown",
   "metadata": {},
   "source": [
    "<div style=\"background: #000;\n",
    "            color: #FFF;\n",
    "            margin: 0px;\n",
    "            padding: 10px 0px 20px 0px;\n",
    "            text-align: center; \n",
    "                \">\n",
    "    <h1 >Week 17 Project</h1>\n",
    "</div>\n"
   ]
  },
  {
   "cell_type": "markdown",
   "metadata": {},
   "source": [
    "Complete the following parts:\n",
    "\n",
    "### Part 1 \n",
    "In the 20×20 grid below, four numbers along a diagonal line have been marked in red.\n",
    "\n",
    "<p class=\"monospace center\">\n",
    "08 02 22 97 38 15 00 40 00 75 04 05 07 78 52 12 50 77 91 08<br />\n",
    "49 49 99 40 17 81 18 57 60 87 17 40 98 43 69 48 04 56 62 00<br />\n",
    "81 49 31 73 55 79 14 29 93 71 40 67 53 88 30 03 49 13 36 65<br />\n",
    "52 70 95 23 04 60 11 42 69 24 68 56 01 32 56 71 37 02 36 91<br />\n",
    "22 31 16 71 51 67 63 89 41 92 36 54 22 40 40 28 66 33 13 80<br />\n",
    "24 47 32 60 99 03 45 02 44 75 33 53 78 36 84 20 35 17 12 50<br />\n",
    "32 98 81 28 64 23 67 10 <span style=\"color:red;\"><b>26</b></span> 38 40 67 59 54 70 66 18 38 64 70<br />\n",
    "67 26 20 68 02 62 12 20 95 <span  style=\"color:red;\"><b>63</b></span> 94 39 63 08 40 91 66 49 94 21<br />\n",
    "24 55 58 05 66 73 99 26 97 17 <span  style=\"color:red;\"><b>78</b></span> 78 96 83 14 88 34 89 63 72<br />\n",
    "21 36 23 09 75 00 76 44 20 45 35 <span  style=\"color:red;\"><b>14</b></span> 00 61 33 97 34 31 33 95<br />\n",
    "78 17 53 28 22 75 31 67 15 94 03 80 04 62 16 14 09 53 56 92<br />\n",
    "16 39 05 42 96 35 31 47 55 58 88 24 00 17 54 24 36 29 85 57<br />\n",
    "86 56 00 48 35 71 89 07 05 44 44 37 44 60 21 58 51 54 17 58<br />\n",
    "19 80 81 68 05 94 47 69 28 73 92 13 86 52 17 77 04 89 55 40<br />\n",
    "04 52 08 83 97 35 99 16 07 97 57 32 16 26 26 79 33 27 98 66<br />\n",
    "88 36 68 87 57 62 20 72 03 46 33 67 46 55 12 32 63 93 53 69<br />\n",
    "04 42 16 73 38 25 39 11 24 94 72 18 08 46 29 32 40 62 76 36<br />\n",
    "20 69 36 41 72 30 23 88 34 62 99 69 82 67 59 85 74 04 36 16<br />\n",
    "20 73 35 29 78 31 90 01 74 31 49 71 48 86 81 16 23 57 05 54<br />\n",
    "01 70 54 71 83 51 54 69 16 92 33 48 61 43 52 01 89 19 67 48<br /></p>\n",
    "<p>The product of these numbers is 26 × 63 × 78 × 14 = 1788696.</p>\n",
    "<p>What is the greatest product of four adjacent numbers in the same direction (up, down, left, right, or diagonally) in the 20×20 grid?</p>\n",
    "\n",
    "Use numpy or pandas as needed."
   ]
  },
  {
   "cell_type": "code",
   "execution_count": 1,
   "metadata": {},
   "outputs": [],
   "source": [
    "import numpy as np\n",
    "import pandas as pd\n",
    "\n",
    "grid = \\\n",
    "\"\"\"\n",
    "08 02 22 97 38 15 00 40 00 75 04 05 07 78 52 12 50 77 91 08\n",
    "49 49 99 40 17 81 18 57 60 87 17 40 98 43 69 48 04 56 62 00\n",
    "81 49 31 73 55 79 14 29 93 71 40 67 53 88 30 03 49 13 36 65\n",
    "52 70 95 23 04 60 11 42 69 24 68 56 01 32 56 71 37 02 36 91\n",
    "22 31 16 71 51 67 63 89 41 92 36 54 22 40 40 28 66 33 13 80\n",
    "24 47 32 60 99 03 45 02 44 75 33 53 78 36 84 20 35 17 12 50\n",
    "32 98 81 28 64 23 67 10 26 38 40 67 59 54 70 66 18 38 64 70\n",
    "67 26 20 68 02 62 12 20 95 63 94 39 63 08 40 91 66 49 94 21\n",
    "24 55 58 05 66 73 99 26 97 17 78 78 96 83 14 88 34 89 63 72\n",
    "21 36 23 09 75 00 76 44 20 45 35 14 00 61 33 97 34 31 33 95\n",
    "78 17 53 28 22 75 31 67 15 94 03 80 04 62 16 14 09 53 56 92\n",
    "16 39 05 42 96 35 31 47 55 58 88 24 00 17 54 24 36 29 85 57\n",
    "86 56 00 48 35 71 89 07 05 44 44 37 44 60 21 58 51 54 17 58\n",
    "19 80 81 68 05 94 47 69 28 73 92 13 86 52 17 77 04 89 55 40\n",
    "04 52 08 83 97 35 99 16 07 97 57 32 16 26 26 79 33 27 98 66\n",
    "88 36 68 87 57 62 20 72 03 46 33 67 46 55 12 32 63 93 53 69\n",
    "04 42 16 73 38 25 39 11 24 94 72 18 08 46 29 32 40 62 76 36\n",
    "20 69 36 41 72 30 23 88 34 62 99 69 82 67 59 85 74 04 36 16\n",
    "20 73 35 29 78 31 90 01 74 31 49 71 48 86 81 16 23 57 05 54\n",
    "01 70 54 71 83 51 54 69 16 92 33 48 61 43 52 01 89 19 67 48\n",
    "\"\"\""
   ]
  },
  {
   "cell_type": "code",
   "execution_count": 2,
   "metadata": {},
   "outputs": [],
   "source": [
    "grid_lst = grid.split(\" \")\n",
    "\n",
    "grid_int = [x.split('\\n') for x in grid_lst]\n",
    "grid_arr = []\n",
    "\n",
    "for i in grid_int:\n",
    "    for r in i:\n",
    "        if r != \"\":\n",
    "            grid_arr.append(r)"
   ]
  },
  {
   "cell_type": "code",
   "execution_count": 3,
   "metadata": {},
   "outputs": [
    {
     "data": {
      "text/plain": [
       "array([['08', '02', '22', '97', '38', '15', '00', '40', '00', '75', '04',\n",
       "        '05', '07', '78', '52', '12', '50', '77', '91', '08'],\n",
       "       ['49', '49', '99', '40', '17', '81', '18', '57', '60', '87', '17',\n",
       "        '40', '98', '43', '69', '48', '04', '56', '62', '00'],\n",
       "       ['81', '49', '31', '73', '55', '79', '14', '29', '93', '71', '40',\n",
       "        '67', '53', '88', '30', '03', '49', '13', '36', '65'],\n",
       "       ['52', '70', '95', '23', '04', '60', '11', '42', '69', '24', '68',\n",
       "        '56', '01', '32', '56', '71', '37', '02', '36', '91'],\n",
       "       ['22', '31', '16', '71', '51', '67', '63', '89', '41', '92', '36',\n",
       "        '54', '22', '40', '40', '28', '66', '33', '13', '80'],\n",
       "       ['24', '47', '32', '60', '99', '03', '45', '02', '44', '75', '33',\n",
       "        '53', '78', '36', '84', '20', '35', '17', '12', '50'],\n",
       "       ['32', '98', '81', '28', '64', '23', '67', '10', '26', '38', '40',\n",
       "        '67', '59', '54', '70', '66', '18', '38', '64', '70'],\n",
       "       ['67', '26', '20', '68', '02', '62', '12', '20', '95', '63', '94',\n",
       "        '39', '63', '08', '40', '91', '66', '49', '94', '21'],\n",
       "       ['24', '55', '58', '05', '66', '73', '99', '26', '97', '17', '78',\n",
       "        '78', '96', '83', '14', '88', '34', '89', '63', '72'],\n",
       "       ['21', '36', '23', '09', '75', '00', '76', '44', '20', '45', '35',\n",
       "        '14', '00', '61', '33', '97', '34', '31', '33', '95'],\n",
       "       ['78', '17', '53', '28', '22', '75', '31', '67', '15', '94', '03',\n",
       "        '80', '04', '62', '16', '14', '09', '53', '56', '92'],\n",
       "       ['16', '39', '05', '42', '96', '35', '31', '47', '55', '58', '88',\n",
       "        '24', '00', '17', '54', '24', '36', '29', '85', '57'],\n",
       "       ['86', '56', '00', '48', '35', '71', '89', '07', '05', '44', '44',\n",
       "        '37', '44', '60', '21', '58', '51', '54', '17', '58'],\n",
       "       ['19', '80', '81', '68', '05', '94', '47', '69', '28', '73', '92',\n",
       "        '13', '86', '52', '17', '77', '04', '89', '55', '40'],\n",
       "       ['04', '52', '08', '83', '97', '35', '99', '16', '07', '97', '57',\n",
       "        '32', '16', '26', '26', '79', '33', '27', '98', '66'],\n",
       "       ['88', '36', '68', '87', '57', '62', '20', '72', '03', '46', '33',\n",
       "        '67', '46', '55', '12', '32', '63', '93', '53', '69'],\n",
       "       ['04', '42', '16', '73', '38', '25', '39', '11', '24', '94', '72',\n",
       "        '18', '08', '46', '29', '32', '40', '62', '76', '36'],\n",
       "       ['20', '69', '36', '41', '72', '30', '23', '88', '34', '62', '99',\n",
       "        '69', '82', '67', '59', '85', '74', '04', '36', '16'],\n",
       "       ['20', '73', '35', '29', '78', '31', '90', '01', '74', '31', '49',\n",
       "        '71', '48', '86', '81', '16', '23', '57', '05', '54'],\n",
       "       ['01', '70', '54', '71', '83', '51', '54', '69', '16', '92', '33',\n",
       "        '48', '61', '43', '52', '01', '89', '19', '67', '48']],\n",
       "      dtype='<U2')"
      ]
     },
     "execution_count": 3,
     "metadata": {},
     "output_type": "execute_result"
    }
   ],
   "source": [
    "# Step 1: convert string to 2d np.array\n",
    "grid_np_arr = np.array(grid_arr).reshape((20, 20))\n",
    "grid_np_arr"
   ]
  },
  {
   "cell_type": "code",
   "execution_count": 8,
   "metadata": {},
   "outputs": [],
   "source": [
    "# Step 2: Create a four adjacent numbers function from\n",
    "adjacent_num = 4\n",
    "grid_size = len(grid_np_arr)"
   ]
  },
  {
   "cell_type": "code",
   "execution_count": 13,
   "metadata": {},
   "outputs": [
    {
     "name": "stdout",
     "output_type": "stream",
     "text": [
      "['08' '02' '22' '97' '38' '15' '00' '40' '00' '75' '04' '05' '07' '78'\n",
      " '52' '12' '50' '77' '91' '08'] 20\n",
      "['49' '49' '99' '40' '17' '81' '18' '57' '60' '87' '17' '40' '98' '43'\n",
      " '69' '48' '04' '56' '62' '00'] 20\n",
      "['81' '49' '31' '73' '55' '79' '14' '29' '93' '71' '40' '67' '53' '88'\n",
      " '30' '03' '49' '13' '36' '65'] 20\n",
      "['52' '70' '95' '23' '04' '60' '11' '42' '69' '24' '68' '56' '01' '32'\n",
      " '56' '71' '37' '02' '36' '91'] 20\n",
      "['22' '31' '16' '71' '51' '67' '63' '89' '41' '92' '36' '54' '22' '40'\n",
      " '40' '28' '66' '33' '13' '80'] 20\n",
      "['24' '47' '32' '60' '99' '03' '45' '02' '44' '75' '33' '53' '78' '36'\n",
      " '84' '20' '35' '17' '12' '50'] 20\n",
      "['32' '98' '81' '28' '64' '23' '67' '10' '26' '38' '40' '67' '59' '54'\n",
      " '70' '66' '18' '38' '64' '70'] 20\n",
      "['67' '26' '20' '68' '02' '62' '12' '20' '95' '63' '94' '39' '63' '08'\n",
      " '40' '91' '66' '49' '94' '21'] 20\n",
      "['24' '55' '58' '05' '66' '73' '99' '26' '97' '17' '78' '78' '96' '83'\n",
      " '14' '88' '34' '89' '63' '72'] 20\n",
      "['21' '36' '23' '09' '75' '00' '76' '44' '20' '45' '35' '14' '00' '61'\n",
      " '33' '97' '34' '31' '33' '95'] 20\n",
      "['78' '17' '53' '28' '22' '75' '31' '67' '15' '94' '03' '80' '04' '62'\n",
      " '16' '14' '09' '53' '56' '92'] 20\n",
      "['16' '39' '05' '42' '96' '35' '31' '47' '55' '58' '88' '24' '00' '17'\n",
      " '54' '24' '36' '29' '85' '57'] 20\n",
      "['86' '56' '00' '48' '35' '71' '89' '07' '05' '44' '44' '37' '44' '60'\n",
      " '21' '58' '51' '54' '17' '58'] 20\n",
      "['19' '80' '81' '68' '05' '94' '47' '69' '28' '73' '92' '13' '86' '52'\n",
      " '17' '77' '04' '89' '55' '40'] 20\n",
      "['04' '52' '08' '83' '97' '35' '99' '16' '07' '97' '57' '32' '16' '26'\n",
      " '26' '79' '33' '27' '98' '66'] 20\n",
      "['88' '36' '68' '87' '57' '62' '20' '72' '03' '46' '33' '67' '46' '55'\n",
      " '12' '32' '63' '93' '53' '69'] 20\n",
      "['04' '42' '16' '73' '38' '25' '39' '11' '24' '94' '72' '18' '08' '46'\n",
      " '29' '32' '40' '62' '76' '36'] 20\n",
      "['20' '69' '36' '41' '72' '30' '23' '88' '34' '62' '99' '69' '82' '67'\n",
      " '59' '85' '74' '04' '36' '16'] 20\n",
      "['20' '73' '35' '29' '78' '31' '90' '01' '74' '31' '49' '71' '48' '86'\n",
      " '81' '16' '23' '57' '05' '54'] 20\n",
      "['01' '70' '54' '71' '83' '51' '54' '69' '16' '92' '33' '48' '61' '43'\n",
      " '52' '01' '89' '19' '67' '48'] 20\n"
     ]
    }
   ],
   "source": [
    "for r in grid_np_arr:\n",
    "    print(r)\n",
    "    "
   ]
  },
  {
   "cell_type": "raw",
   "metadata": {},
   "source": [
    "Step 2: Create a four adjacent numbers function from\n",
    "- left, right\n",
    "- down (up/down )\n",
    "- diagonally\n",
    "\n",
    "Step 3: Store the results\n",
    "\n",
    "Step 4: get the np max "
   ]
  },
  {
   "cell_type": "markdown",
   "metadata": {},
   "source": [
    "## Part 2\n",
    "\n",
    "For this part we will use the dataset `covid_19_data.csv` located in the `../datasets` folder.\n",
    "\n"
   ]
  },
  {
   "cell_type": "code",
   "execution_count": 5,
   "metadata": {},
   "outputs": [
    {
     "data": {
      "text/html": [
       "<div>\n",
       "<style scoped>\n",
       "    .dataframe tbody tr th:only-of-type {\n",
       "        vertical-align: middle;\n",
       "    }\n",
       "\n",
       "    .dataframe tbody tr th {\n",
       "        vertical-align: top;\n",
       "    }\n",
       "\n",
       "    .dataframe thead th {\n",
       "        text-align: right;\n",
       "    }\n",
       "</style>\n",
       "<table border=\"1\" class=\"dataframe\">\n",
       "  <thead>\n",
       "    <tr style=\"text-align: right;\">\n",
       "      <th></th>\n",
       "      <th>SNo</th>\n",
       "      <th>ObservationDate</th>\n",
       "      <th>Province/State</th>\n",
       "      <th>Country/Region</th>\n",
       "      <th>Last Update</th>\n",
       "      <th>Confirmed</th>\n",
       "      <th>Deaths</th>\n",
       "      <th>Recovered</th>\n",
       "    </tr>\n",
       "  </thead>\n",
       "  <tbody>\n",
       "    <tr>\n",
       "      <th>0</th>\n",
       "      <td>1</td>\n",
       "      <td>01/22/2020</td>\n",
       "      <td>Anhui</td>\n",
       "      <td>Mainland China</td>\n",
       "      <td>1/22/2020 17:00</td>\n",
       "      <td>1.0</td>\n",
       "      <td>0.0</td>\n",
       "      <td>0.0</td>\n",
       "    </tr>\n",
       "    <tr>\n",
       "      <th>1</th>\n",
       "      <td>2</td>\n",
       "      <td>01/22/2020</td>\n",
       "      <td>Beijing</td>\n",
       "      <td>Mainland China</td>\n",
       "      <td>1/22/2020 17:00</td>\n",
       "      <td>14.0</td>\n",
       "      <td>0.0</td>\n",
       "      <td>0.0</td>\n",
       "    </tr>\n",
       "    <tr>\n",
       "      <th>2</th>\n",
       "      <td>3</td>\n",
       "      <td>01/22/2020</td>\n",
       "      <td>Chongqing</td>\n",
       "      <td>Mainland China</td>\n",
       "      <td>1/22/2020 17:00</td>\n",
       "      <td>6.0</td>\n",
       "      <td>0.0</td>\n",
       "      <td>0.0</td>\n",
       "    </tr>\n",
       "    <tr>\n",
       "      <th>3</th>\n",
       "      <td>4</td>\n",
       "      <td>01/22/2020</td>\n",
       "      <td>Fujian</td>\n",
       "      <td>Mainland China</td>\n",
       "      <td>1/22/2020 17:00</td>\n",
       "      <td>1.0</td>\n",
       "      <td>0.0</td>\n",
       "      <td>0.0</td>\n",
       "    </tr>\n",
       "    <tr>\n",
       "      <th>4</th>\n",
       "      <td>5</td>\n",
       "      <td>01/22/2020</td>\n",
       "      <td>Gansu</td>\n",
       "      <td>Mainland China</td>\n",
       "      <td>1/22/2020 17:00</td>\n",
       "      <td>0.0</td>\n",
       "      <td>0.0</td>\n",
       "      <td>0.0</td>\n",
       "    </tr>\n",
       "  </tbody>\n",
       "</table>\n",
       "</div>"
      ],
      "text/plain": [
       "   SNo ObservationDate Province/State  Country/Region      Last Update  \\\n",
       "0    1      01/22/2020          Anhui  Mainland China  1/22/2020 17:00   \n",
       "1    2      01/22/2020        Beijing  Mainland China  1/22/2020 17:00   \n",
       "2    3      01/22/2020      Chongqing  Mainland China  1/22/2020 17:00   \n",
       "3    4      01/22/2020         Fujian  Mainland China  1/22/2020 17:00   \n",
       "4    5      01/22/2020          Gansu  Mainland China  1/22/2020 17:00   \n",
       "\n",
       "   Confirmed  Deaths  Recovered  \n",
       "0        1.0     0.0        0.0  \n",
       "1       14.0     0.0        0.0  \n",
       "2        6.0     0.0        0.0  \n",
       "3        1.0     0.0        0.0  \n",
       "4        0.0     0.0        0.0  "
      ]
     },
     "execution_count": 5,
     "metadata": {},
     "output_type": "execute_result"
    }
   ],
   "source": [
    "df = pd.read_csv('../datasets/covid_19_data.csv')\n",
    "df.head()"
   ]
  },
  {
   "cell_type": "markdown",
   "metadata": {},
   "source": [
    "**1. What is the shape of this dataframe?**"
   ]
  },
  {
   "cell_type": "code",
   "execution_count": null,
   "metadata": {},
   "outputs": [],
   "source": []
  },
  {
   "cell_type": "markdown",
   "metadata": {},
   "source": [
    "**2. How many missing values are there? How do we find this out? Which column is problematic?**"
   ]
  },
  {
   "cell_type": "code",
   "execution_count": 6,
   "metadata": {},
   "outputs": [],
   "source": [
    "# enter your code here\n"
   ]
  },
  {
   "cell_type": "markdown",
   "metadata": {},
   "source": [
    "**3. In your own words, what could we do about the missing values? Should we remove rows with the missing values? Are they useful?**"
   ]
  },
  {
   "cell_type": "raw",
   "metadata": {},
   "source": [
    "# write your answer here:\n"
   ]
  },
  {
   "cell_type": "markdown",
   "metadata": {},
   "source": [
    "**4. Where was the first observation of more than 100+ covid cases?**"
   ]
  },
  {
   "cell_type": "code",
   "execution_count": null,
   "metadata": {},
   "outputs": [],
   "source": []
  },
  {
   "cell_type": "markdown",
   "metadata": {},
   "source": [
    "**5. What was the date of the first confirmed covid case in the United States?**"
   ]
  },
  {
   "cell_type": "code",
   "execution_count": null,
   "metadata": {},
   "outputs": [],
   "source": []
  },
  {
   "cell_type": "markdown",
   "metadata": {},
   "source": [
    "**6. What caused the most amount of confirmed cases in U.S. during this period?**"
   ]
  },
  {
   "cell_type": "code",
   "execution_count": null,
   "metadata": {},
   "outputs": [],
   "source": []
  },
  {
   "cell_type": "markdown",
   "metadata": {},
   "source": [
    "**7. How many deaths occurred in the top 5 deadliest countries in the period of our data set?**"
   ]
  },
  {
   "cell_type": "code",
   "execution_count": null,
   "metadata": {},
   "outputs": [],
   "source": []
  },
  {
   "cell_type": "markdown",
   "metadata": {},
   "source": [
    "**8. Which country had the highest number of confirmed cases but zero deaths during this period?**"
   ]
  },
  {
   "cell_type": "code",
   "execution_count": null,
   "metadata": {},
   "outputs": [],
   "source": []
  },
  {
   "cell_type": "markdown",
   "metadata": {},
   "source": [
    "**9. Which country had the highest percent of deaths compared to its cases during this period?**"
   ]
  },
  {
   "cell_type": "code",
   "execution_count": null,
   "metadata": {},
   "outputs": [],
   "source": []
  },
  {
   "cell_type": "markdown",
   "metadata": {},
   "source": [
    "**10. What was the total number of confirmed cases by day?**"
   ]
  },
  {
   "cell_type": "code",
   "execution_count": null,
   "metadata": {},
   "outputs": [],
   "source": []
  },
  {
   "cell_type": "markdown",
   "metadata": {},
   "source": [
    "**11. Can you plot a chart from this dataset?**"
   ]
  },
  {
   "cell_type": "code",
   "execution_count": null,
   "metadata": {},
   "outputs": [],
   "source": []
  }
 ],
 "metadata": {
  "kernelspec": {
   "display_name": "Python 3",
   "language": "python",
   "name": "python3"
  },
  "language_info": {
   "codemirror_mode": {
    "name": "ipython",
    "version": 3
   },
   "file_extension": ".py",
   "mimetype": "text/x-python",
   "name": "python",
   "nbconvert_exporter": "python",
   "pygments_lexer": "ipython3",
   "version": "3.9.0"
  }
 },
 "nbformat": 4,
 "nbformat_minor": 4
}
