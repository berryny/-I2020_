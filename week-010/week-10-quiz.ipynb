{
 "cells": [
  {
   "cell_type": "markdown",
   "metadata": {},
   "source": [
    "<div style=\"background: #000;\n",
    "            color: #FFF;\n",
    "            margin: 0px;\n",
    "                padding: 10px 0px 20px 0px;\n",
    "            text-align: center; \n",
    "                \">\n",
    "    <h1>Week 10 Quiz</h1>\n",
    "</div>"
   ]
  },
  {
   "cell_type": "markdown",
   "metadata": {},
   "source": [
    "# Exercise 1"
   ]
  },
  {
   "cell_type": "markdown",
   "metadata": {},
   "source": [
    "Create a list comprehension that outputs all of the numbers under 1000 that are divisible by 7 or 11.\n",
    "\n",
    "Sum the list and assign it to `s`. Then output `s`."
   ]
  },
  {
   "cell_type": "code",
   "execution_count": null,
   "metadata": {},
   "outputs": [],
   "source": [
    "# put your code here\n",
    "s = None\n",
    "s"
   ]
  },
  {
   "cell_type": "code",
   "execution_count": null,
   "metadata": {},
   "outputs": [],
   "source": [
    "num = list(range(0,1000))\n",
    "num_lst = []\n",
    "for x in num:\n",
    "    if (((x / 7 % 1) == 0) or (x / 11 % 1) == 0):\n",
    "        num_lst.append(x)\n",
    "s = sum(num_lst)\n",
    "print(s)"
   ]
  },
  {
   "cell_type": "code",
   "execution_count": 3,
   "metadata": {},
   "outputs": [
    {
     "name": "stdout",
     "output_type": "stream",
     "text": [
      "solution is correct\n"
     ]
    }
   ],
   "source": [
    "# run this cell to check your solution\n",
    "try:\n",
    "    import hashlib\n",
    "    h = hashlib.sha256()\n",
    "    h.update(str(s).encode())\n",
    "    assert(h.hexdigest() == '1b527626476d0b34565bc1ed5db94a5afbd946fa618ea3441dd5bae7dc84a97a')\n",
    "    print(\"solution is correct\")\n",
    "except:\n",
    "    print(\"solution is incorrect\")"
   ]
  },
  {
   "cell_type": "markdown",
   "metadata": {},
   "source": [
    "# Exercise 2\n",
    "\n",
    "Create a function that takes a list of strings and outputs a dictionary where the key is the string and the value is the index."
   ]
  },
  {
   "cell_type": "code",
   "execution_count": 4,
   "metadata": {},
   "outputs": [
    {
     "data": {
      "text/plain": [
       "{'': 0}"
      ]
     },
     "execution_count": 4,
     "metadata": {},
     "output_type": "execute_result"
    }
   ],
   "source": [
    "def strings_to_dict(lst):\n",
    "    listDict = {}\n",
    "    for l in range(len(lst)):\n",
    "        listDict[lst[l]] = l\n",
    "    return listDict\n",
    "\n",
    "# test cases:\n",
    "strings_to_dict([\"a\"])\n",
    "strings_to_dict([\"a\",\"b\",\"c\"])\n",
    "strings_to_dict([\"\"])"
   ]
  },
  {
   "cell_type": "code",
   "execution_count": 5,
   "metadata": {},
   "outputs": [
    {
     "name": "stdout",
     "output_type": "stream",
     "text": [
      "solution is correct\n"
     ]
    }
   ],
   "source": [
    "# run this cell to check your solution\n",
    "try:\n",
    "    assert(strings_to_dict([\"a\"]) == {'a':0})\n",
    "    assert(strings_to_dict([\"a\",\"b\",\"c\"]) == {'a':0, 'b':1, 'c':2})\n",
    "    assert(strings_to_dict([\"\"]) == {'':0})\n",
    "    print(\"solution is correct\")\n",
    "except:\n",
    "    print(\"solution is incorrect\")"
   ]
  },
  {
   "cell_type": "markdown",
   "metadata": {},
   "source": [
    "# Exercise 3\n",
    "\n",
    "Create a class that has a static method."
   ]
  },
  {
   "cell_type": "code",
   "execution_count": 6,
   "metadata": {},
   "outputs": [],
   "source": [
    "class CreatAStaticMethod:\n",
    "    def __init__(self,fname,lname):\n",
    "        self.fname = fname\n",
    "        self.lname = lname\n",
    "        \n",
    "    def print_name(self):\n",
    "        print(f\"My name is {self.fname} {self.lname}\")\n",
    "        \n",
    "    @staticmethod\n",
    "    def msg():\n",
    "        print('Create a class that has a static method.')"
   ]
  },
  {
   "cell_type": "code",
   "execution_count": 7,
   "metadata": {},
   "outputs": [
    {
     "name": "stdout",
     "output_type": "stream",
     "text": [
      "My name is judi desire\n",
      "Create a class that has a static method.\n"
     ]
    }
   ],
   "source": [
    "csm = CreatAStaticMethod('judi','desire')\n",
    "csm.print_name()\n",
    "csm.msg()"
   ]
  },
  {
   "cell_type": "code",
   "execution_count": null,
   "metadata": {},
   "outputs": [],
   "source": []
  }
 ],
 "metadata": {
  "kernelspec": {
   "display_name": "Python 3",
   "language": "python",
   "name": "python3"
  },
  "language_info": {
   "codemirror_mode": {
    "name": "ipython",
    "version": 3
   },
   "file_extension": ".py",
   "mimetype": "text/x-python",
   "name": "python",
   "nbconvert_exporter": "python",
   "pygments_lexer": "ipython3",
   "version": "3.8.3"
  }
 },
 "nbformat": 4,
 "nbformat_minor": 4
}
