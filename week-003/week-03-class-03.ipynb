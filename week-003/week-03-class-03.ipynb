{
 "cells": [
  {
   "cell_type": "markdown",
   "metadata": {},
   "source": [
    "<div style=\"background: #000;\n",
    "            color: #FFF;\n",
    "            margin: 0px;\n",
    "                padding: 10px 0px 20px 0px;\n",
    "            text-align: center; \n",
    "                \">\n",
    "    <h1>Week 3 - Class 3 - 9/30</h1>\n",
    "</div>\n",
    "\n",
    "## Objectives for this week:\n",
    "* If Statements, If and Elif\n",
    "* Conditional Statements, Nested Conditionals\n",
    "* While & For loops, Nested Loops\n",
    "* List Comprehension\n",
    "\n",
    "## Todays Agenda\n",
    "* Homework Presentations\n",
    "* While Loops"
   ]
  },
  {
   "cell_type": "markdown",
   "metadata": {},
   "source": [
    "# Homework Presentations"
   ]
  },
  {
   "cell_type": "markdown",
   "metadata": {},
   "source": [
    "# Exercise 3\n",
    "\n",
    "### Given the following code, fix it so the code outputs `\"hello\"`:\n",
    "\n",
    "Hint: for each, you just have to edit one line of code\n",
    "\n",
    "(Don't worry, you aren't meant to understand everything going on in them yet)"
   ]
  },
  {
   "cell_type": "code",
   "execution_count": 7,
   "metadata": {},
   "outputs": [],
   "source": [
    "def function(x):\n",
    "    if type(x) == bool:\n",
    "        print(x)\n",
    "\n",
    "function(\"hello\")"
   ]
  },
  {
   "cell_type": "code",
   "execution_count": 8,
   "metadata": {},
   "outputs": [
    {
     "data": {
      "text/plain": [
       "''"
      ]
     },
     "execution_count": 8,
     "metadata": {},
     "output_type": "execute_result"
    }
   ],
   "source": [
    "s = [\"h\", \"e\", \"l\", \"l\", \"o\"]\n",
    "\"\""
   ]
  },
  {
   "cell_type": "code",
   "execution_count": 9,
   "metadata": {},
   "outputs": [
    {
     "data": {
      "text/plain": [
       "''"
      ]
     },
     "execution_count": 9,
     "metadata": {},
     "output_type": "execute_result"
    }
   ],
   "source": [
    "a = True\n",
    "b = False\n",
    "c = True\n",
    "d = False\n",
    "\"hello\" if (b or a and b == d and b or b) else \"\""
   ]
  },
  {
   "cell_type": "code",
   "execution_count": 10,
   "metadata": {},
   "outputs": [
    {
     "name": "stdout",
     "output_type": "stream",
     "text": [
      "\n"
     ]
    }
   ],
   "source": [
    "class Example:\n",
    "    def __init__(self, val):\n",
    "        self.a = val and print(\"hello\")\n",
    "    def say_hi(self):\n",
    "        print(\"hello\") if self.a == \"fixed\" else print(\"\")\n",
    "    def hello(self):\n",
    "        return \"olleh\".reverse()\n",
    "        \n",
    "e = Example(\"\")\n",
    "e.say_hi()"
   ]
  },
  {
   "cell_type": "markdown",
   "metadata": {},
   "source": [
    "# For loops continued"
   ]
  },
  {
   "cell_type": "code",
   "execution_count": 11,
   "metadata": {},
   "outputs": [
    {
     "name": "stdout",
     "output_type": "stream",
     "text": [
      "0\n",
      "2\n",
      "4\n",
      "6\n",
      "8\n"
     ]
    }
   ],
   "source": [
    "x = [0,1,2,3,4,5,6,7,8,9]\n",
    "for i in x:\n",
    "    if i % 2 == 0:\n",
    "        print(i)"
   ]
  },
  {
   "cell_type": "code",
   "execution_count": 12,
   "metadata": {},
   "outputs": [
    {
     "name": "stdout",
     "output_type": "stream",
     "text": [
      "    i: 0 j: a\n",
      "    i: 0 j: b\n",
      "    i: 0 j: c\n",
      "    i: 1 j: a\n",
      "    i: 1 j: b\n",
      "    i: 1 j: c\n",
      "    i: 2 j: a\n",
      "    i: 2 j: b\n",
      "    i: 2 j: c\n"
     ]
    }
   ],
   "source": [
    "for i in range(3):\n",
    "    for j in ['a', 'b', 'c']:\n",
    "        print(f\"    i: {i} j: {j}\")"
   ]
  },
  {
   "cell_type": "code",
   "execution_count": 13,
   "metadata": {},
   "outputs": [
    {
     "name": "stdout",
     "output_type": "stream",
     "text": [
      "running loop for 0\n",
      "    inner loop for a\n",
      "    i: 0 \t j: a\n",
      "    inner loop for b\n",
      "    i: 0 \t j: b\n",
      "    inner loop for c\n",
      "    i: 0 \t j: c\n",
      "running loop for 1\n",
      "    inner loop for a\n",
      "    i: 1 \t j: a\n",
      "    inner loop for b\n",
      "    i: 1 \t j: b\n",
      "    inner loop for c\n",
      "    i: 1 \t j: c\n",
      "running loop for 2\n",
      "    inner loop for a\n",
      "    i: 2 \t j: a\n",
      "    inner loop for b\n",
      "    i: 2 \t j: b\n",
      "    inner loop for c\n",
      "    i: 2 \t j: c\n"
     ]
    }
   ],
   "source": [
    "for i in range(3):\n",
    "    print(f\"running loop for {i}\")\n",
    "    for j in ['a', 'b', 'c']:\n",
    "        print(f\"    inner loop for {j}\")\n",
    "        print(f\"    i: {i} \\t j: {j}\")"
   ]
  },
  {
   "cell_type": "code",
   "execution_count": 14,
   "metadata": {},
   "outputs": [
    {
     "name": "stdout",
     "output_type": "stream",
     "text": [
      "i: 0 j: a k: 0\n",
      "i: 0 j: a k: 1\n",
      "i: 0 j: a k: 2\n",
      "i: 0 j: b k: 0\n",
      "i: 0 j: b k: 1\n",
      "i: 0 j: b k: 2\n",
      "i: 0 j: c k: 0\n",
      "i: 0 j: c k: 1\n",
      "i: 0 j: c k: 2\n",
      "i: 1 j: a k: 0\n",
      "i: 1 j: a k: 1\n",
      "i: 1 j: a k: 2\n",
      "i: 1 j: b k: 0\n",
      "i: 1 j: b k: 1\n",
      "i: 1 j: b k: 2\n",
      "i: 1 j: c k: 0\n",
      "i: 1 j: c k: 1\n",
      "i: 1 j: c k: 2\n",
      "i: 2 j: a k: 0\n",
      "i: 2 j: a k: 1\n",
      "i: 2 j: a k: 2\n",
      "i: 2 j: b k: 0\n",
      "i: 2 j: b k: 1\n",
      "i: 2 j: b k: 2\n",
      "i: 2 j: c k: 0\n",
      "i: 2 j: c k: 1\n",
      "i: 2 j: c k: 2\n"
     ]
    }
   ],
   "source": [
    "for i in range(3):\n",
    "    for j in ['a', 'b', 'c']:\n",
    "        for k in range(3):\n",
    "            print(f\"i: {i} j: {j} k: {k}\")"
   ]
  },
  {
   "cell_type": "code",
   "execution_count": 15,
   "metadata": {},
   "outputs": [
    {
     "name": "stdout",
     "output_type": "stream",
     "text": [
      "running loop for i = 0\n",
      "\n",
      "\trunning loop for j = a\n",
      "\n",
      "\t\trunning loop for k = 0\n",
      "\n",
      "\t\t\ti: 0 \t j: a \t k: 0\n",
      "\n",
      "\t\trunning loop for k = 1\n",
      "\n",
      "\t\t\ti: 0 \t j: a \t k: 1\n",
      "\n",
      "\t\trunning loop for k = 2\n",
      "\n",
      "\t\t\ti: 0 \t j: a \t k: 2\n",
      "\n",
      "\trunning loop for j = b\n",
      "\n",
      "\t\trunning loop for k = 0\n",
      "\n",
      "\t\t\ti: 0 \t j: b \t k: 0\n",
      "\n",
      "\t\trunning loop for k = 1\n",
      "\n",
      "\t\t\ti: 0 \t j: b \t k: 1\n",
      "\n",
      "\t\trunning loop for k = 2\n",
      "\n",
      "\t\t\ti: 0 \t j: b \t k: 2\n",
      "\n",
      "\trunning loop for j = c\n",
      "\n",
      "\t\trunning loop for k = 0\n",
      "\n",
      "\t\t\ti: 0 \t j: c \t k: 0\n",
      "\n",
      "\t\trunning loop for k = 1\n",
      "\n",
      "\t\t\ti: 0 \t j: c \t k: 1\n",
      "\n",
      "\t\trunning loop for k = 2\n",
      "\n",
      "\t\t\ti: 0 \t j: c \t k: 2\n",
      "\n",
      "running loop for i = 1\n",
      "\n",
      "\trunning loop for j = a\n",
      "\n",
      "\t\trunning loop for k = 0\n",
      "\n",
      "\t\t\ti: 1 \t j: a \t k: 0\n",
      "\n",
      "\t\trunning loop for k = 1\n",
      "\n",
      "\t\t\ti: 1 \t j: a \t k: 1\n",
      "\n",
      "\t\trunning loop for k = 2\n",
      "\n",
      "\t\t\ti: 1 \t j: a \t k: 2\n",
      "\n",
      "\trunning loop for j = b\n",
      "\n",
      "\t\trunning loop for k = 0\n",
      "\n",
      "\t\t\ti: 1 \t j: b \t k: 0\n",
      "\n",
      "\t\trunning loop for k = 1\n",
      "\n",
      "\t\t\ti: 1 \t j: b \t k: 1\n",
      "\n",
      "\t\trunning loop for k = 2\n",
      "\n",
      "\t\t\ti: 1 \t j: b \t k: 2\n",
      "\n",
      "\trunning loop for j = c\n",
      "\n",
      "\t\trunning loop for k = 0\n",
      "\n",
      "\t\t\ti: 1 \t j: c \t k: 0\n",
      "\n",
      "\t\trunning loop for k = 1\n",
      "\n",
      "\t\t\ti: 1 \t j: c \t k: 1\n",
      "\n",
      "\t\trunning loop for k = 2\n",
      "\n",
      "\t\t\ti: 1 \t j: c \t k: 2\n",
      "\n",
      "running loop for i = 2\n",
      "\n",
      "\trunning loop for j = a\n",
      "\n",
      "\t\trunning loop for k = 0\n",
      "\n",
      "\t\t\ti: 2 \t j: a \t k: 0\n",
      "\n",
      "\t\trunning loop for k = 1\n",
      "\n",
      "\t\t\ti: 2 \t j: a \t k: 1\n",
      "\n",
      "\t\trunning loop for k = 2\n",
      "\n",
      "\t\t\ti: 2 \t j: a \t k: 2\n",
      "\n",
      "\trunning loop for j = b\n",
      "\n",
      "\t\trunning loop for k = 0\n",
      "\n",
      "\t\t\ti: 2 \t j: b \t k: 0\n",
      "\n",
      "\t\trunning loop for k = 1\n",
      "\n",
      "\t\t\ti: 2 \t j: b \t k: 1\n",
      "\n",
      "\t\trunning loop for k = 2\n",
      "\n",
      "\t\t\ti: 2 \t j: b \t k: 2\n",
      "\n",
      "\trunning loop for j = c\n",
      "\n",
      "\t\trunning loop for k = 0\n",
      "\n",
      "\t\t\ti: 2 \t j: c \t k: 0\n",
      "\n",
      "\t\trunning loop for k = 1\n",
      "\n",
      "\t\t\ti: 2 \t j: c \t k: 1\n",
      "\n",
      "\t\trunning loop for k = 2\n",
      "\n",
      "\t\t\ti: 2 \t j: c \t k: 2\n",
      "\n"
     ]
    }
   ],
   "source": [
    "for i in range(3):\n",
    "    print(f\"running loop for i = {i}\\n\")\n",
    "    for j in ['a', 'b', 'c']:\n",
    "        print(f\"\\trunning loop for j = {j}\\n\")\n",
    "        for k in range(3):\n",
    "            print(f\"\\t\\trunning loop for k = {k}\\n\")\n",
    "            print(f\"\\t\\t\\ti: {i} \\t j: {j} \\t k: {k}\\n\")"
   ]
  },
  {
   "cell_type": "markdown",
   "metadata": {},
   "source": [
    "### Multiple for loops in list comprehensions:"
   ]
  },
  {
   "cell_type": "code",
   "execution_count": 16,
   "metadata": {},
   "outputs": [
    {
     "data": {
      "text/plain": [
       "[(0, 'a'),\n",
       " (0, 'b'),\n",
       " (0, 'c'),\n",
       " (1, 'a'),\n",
       " (1, 'b'),\n",
       " (1, 'c'),\n",
       " (2, 'a'),\n",
       " (2, 'b'),\n",
       " (2, 'c')]"
      ]
     },
     "execution_count": 16,
     "metadata": {},
     "output_type": "execute_result"
    }
   ],
   "source": [
    "[(x,y) for x in range(3) for y in ['a', 'b', 'c']]"
   ]
  },
  {
   "cell_type": "code",
   "execution_count": 17,
   "metadata": {},
   "outputs": [
    {
     "data": {
      "text/plain": [
       "[(0, 'a'),\n",
       " (0, 'b'),\n",
       " (0, 'c'),\n",
       " (1, 'a'),\n",
       " (1, 'b'),\n",
       " (1, 'c'),\n",
       " (2, 'a'),\n",
       " (2, 'b'),\n",
       " (2, 'c')]"
      ]
     },
     "execution_count": 17,
     "metadata": {},
     "output_type": "execute_result"
    }
   ],
   "source": [
    "l = []\n",
    "\n",
    "for x in range(3):\n",
    "    for y in ['a', 'b', 'c']:\n",
    "        l.append((x,y))\n",
    "l"
   ]
  },
  {
   "cell_type": "markdown",
   "metadata": {},
   "source": [
    "# While loops\n",
    "\n",
    "\n",
    "```python\n",
    "    condition = True\n",
    "    \n",
    "    while condition:\n",
    "        <statement 1>\n",
    "        <statement 2>\n",
    "    \n",
    "```"
   ]
  },
  {
   "cell_type": "code",
   "execution_count": 18,
   "metadata": {
    "scrolled": true
   },
   "outputs": [],
   "source": [
    "# infinite loop - do not run\n",
    "\n",
    "#while True:\n",
    "#    print(\"Hello World\")\n",
    "#    # This never reaches"
   ]
  },
  {
   "cell_type": "code",
   "execution_count": 19,
   "metadata": {},
   "outputs": [],
   "source": [
    "while not True:\n",
    "    print(\"Hello World\")\n",
    " "
   ]
  },
  {
   "cell_type": "code",
   "execution_count": 20,
   "metadata": {},
   "outputs": [
    {
     "name": "stdout",
     "output_type": "stream",
     "text": [
      "4\n",
      "5\n",
      "6\n",
      "7\n",
      "8\n"
     ]
    }
   ],
   "source": [
    "i = 4\n",
    "\n",
    "while i < 9:\n",
    "    print(i)\n",
    "    i += 1"
   ]
  },
  {
   "cell_type": "code",
   "execution_count": 21,
   "metadata": {},
   "outputs": [
    {
     "name": "stdout",
     "output_type": "stream",
     "text": [
      "100\n",
      "99\n",
      "98\n",
      "97\n",
      "96\n",
      "95\n",
      "94\n",
      "93\n",
      "92\n",
      "91\n"
     ]
    }
   ],
   "source": [
    "i = 100\n",
    "\n",
    "while i > 90:\n",
    "    print(i)\n",
    "    i -= 1"
   ]
  },
  {
   "cell_type": "markdown",
   "metadata": {},
   "source": [
    "# Useful examples of `while` loops"
   ]
  },
  {
   "cell_type": "code",
   "execution_count": 22,
   "metadata": {},
   "outputs": [
    {
     "name": "stdout",
     "output_type": "stream",
     "text": [
      "our code is running without errors\n",
      "our code is running without errors\n",
      "our code is running without errors\n",
      "our code is running without errors\n",
      "our code is running without errors\n",
      "our code is running without errors\n",
      "our code is running without errors\n",
      "our code is running without errors\n",
      "our code is running without errors\n",
      "our code is running without errors\n",
      "our code is running without errors\n",
      "our code is running without errors\n",
      "our code is running without errors\n",
      "our code is running without errors\n",
      "our code is running without errors\n",
      "our code is running without errors\n",
      "our code is running without errors\n",
      "our code is running without errors\n",
      "our code is running without errors\n",
      "our code is running without errors\n",
      "we found an error!\n",
      "done\n"
     ]
    }
   ],
   "source": [
    "import random\n",
    "\n",
    "def check_for_errors():\n",
    "    random_int = random.randint(0,5)\n",
    "    if random_int == 4:\n",
    "        print(\"we found an error!\")\n",
    "        return False\n",
    "    else:\n",
    "        return True\n",
    "\n",
    "no_errors = True\n",
    "while no_errors:\n",
    "    print(\"our code is running without errors\")\n",
    "    no_errors = check_for_errors()\n",
    "print(\"done\")"
   ]
  },
  {
   "cell_type": "code",
   "execution_count": 26,
   "metadata": {},
   "outputs": [
    {
     "name": "stdout",
     "output_type": "stream",
     "text": [
      "searching...\n",
      "searching...\n",
      "searching...\n",
      "searching...\n",
      "searching...\n",
      "searching...\n",
      "we found it!\n"
     ]
    }
   ],
   "source": [
    "import random\n",
    "\n",
    "def search_function():\n",
    "    random_int = random.randint(0,5)\n",
    "    if random_int == 1:\n",
    "        return True\n",
    "    else:\n",
    "        return False\n",
    "    \n",
    "    \n",
    "found = False\n",
    "while not found:\n",
    "    print(\"searching...\")\n",
    "    found = search_function()\n",
    "\n",
    "print(\"we found it!\")"
   ]
  },
  {
   "cell_type": "code",
   "execution_count": 1,
   "metadata": {},
   "outputs": [
    {
     "name": "stdout",
     "output_type": "stream",
     "text": [
      "Requirement already satisfied: requests in c:\\users\\youthcode_11\\appdata\\local\\packages\\pythonsoftwarefoundation.python.3.8_qbz5n2kfra8p0\\localcache\\local-packages\\python38\\site-packages (2.24.0)"
     ]
    },
    {
     "name": "stderr",
     "output_type": "stream",
     "text": [
      "WARNING: You are using pip version 20.2.1; however, version 20.2.3 is available.\n",
      "You should consider upgrading via the 'C:\\Users\\YouthCode_11\\AppData\\Local\\Microsoft\\WindowsApps\\PythonSoftwareFoundation.Python.3.8_qbz5n2kfra8p0\\python.exe -m pip install --upgrade pip' command.\n"
     ]
    },
    {
     "name": "stdout",
     "output_type": "stream",
     "text": [
      "\n",
      "Requirement already satisfied: chardet<4,>=3.0.2 in c:\\users\\youthcode_11\\appdata\\local\\packages\\pythonsoftwarefoundation.python.3.8_qbz5n2kfra8p0\\localcache\\local-packages\\python38\\site-packages (from requests) (3.0.4)\n",
      "Requirement already satisfied: idna<3,>=2.5 in c:\\users\\youthcode_11\\appdata\\local\\packages\\pythonsoftwarefoundation.python.3.8_qbz5n2kfra8p0\\localcache\\local-packages\\python38\\site-packages (from requests) (2.10)\n",
      "Requirement already satisfied: urllib3!=1.25.0,!=1.25.1,<1.26,>=1.21.1 in c:\\users\\youthcode_11\\appdata\\local\\packages\\pythonsoftwarefoundation.python.3.8_qbz5n2kfra8p0\\localcache\\local-packages\\python38\\site-packages (from requests) (1.25.10)\n",
      "Requirement already satisfied: certifi>=2017.4.17 in c:\\users\\youthcode_11\\appdata\\local\\packages\\pythonsoftwarefoundation.python.3.8_qbz5n2kfra8p0\\localcache\\local-packages\\python38\\site-packages (from requests) (2020.6.20)\n"
     ]
    }
   ],
   "source": [
    "# uncomment and run the line below in order to install the requests library\n",
    "!python3 -m pip install --user requests"
   ]
  },
  {
   "cell_type": "code",
   "execution_count": 28,
   "metadata": {},
   "outputs": [
    {
     "name": "stdout",
     "output_type": "stream",
     "text": [
      "True 200\n"
     ]
    }
   ],
   "source": [
    "import requests, random\n",
    "\n",
    "def get_page():\n",
    "    url = {\n",
    "        0: \"https://httpbin.org/status/200\", \n",
    "        1: \"https://httpbin.org/status/301\",\n",
    "        2: \"https://httpbin.org/status/400\",\n",
    "        3: \"https://httpbin.org/status/401\",\n",
    "        4: \"https://httpbin.org/status/403\",\n",
    "        5: \"https://httpbin.org/status/404\",\n",
    "        \n",
    "    }\n",
    "    rand_int = random.randint(0,5)\n",
    "    request = requests.get(url[rand_int])\n",
    "    if (stat_code := request.status_code) == 200:\n",
    "        return (True, stat_code)\n",
    "    else:\n",
    "        return (False, stat_code)\n",
    "    \n",
    "######################################################################################\n",
    "\n",
    "fetched_page = False    \n",
    "    \n",
    "while not fetched_page:\n",
    "    success, resp = get_page()\n",
    "    print(success, resp)\n",
    "    fetched_page = success"
   ]
  },
  {
   "cell_type": "markdown",
   "metadata": {},
   "source": [
    "# Other Useful Control Structure keywords"
   ]
  },
  {
   "cell_type": "code",
   "execution_count": 2,
   "metadata": {},
   "outputs": [
    {
     "name": "stdout",
     "output_type": "stream",
     "text": [
      "0\n",
      "1\n",
      "2\n",
      "3\n",
      "4\n",
      "5\n",
      "6\n",
      "7\n",
      "8\n",
      "9\n"
     ]
    }
   ],
   "source": [
    "# pass example\n",
    "\n",
    "for i in range(10):\n",
    "    if i % 2 == 0:\n",
    "        pass\n",
    "    print(i)"
   ]
  },
  {
   "cell_type": "code",
   "execution_count": 3,
   "metadata": {},
   "outputs": [
    {
     "name": "stdout",
     "output_type": "stream",
     "text": [
      "coding\n"
     ]
    }
   ],
   "source": [
    "def func():\n",
    "    pass\n",
    "    \n",
    "print(\"coding\")"
   ]
  },
  {
   "cell_type": "code",
   "execution_count": 4,
   "metadata": {},
   "outputs": [
    {
     "name": "stdout",
     "output_type": "stream",
     "text": [
      "1\n",
      "3\n",
      "5\n",
      "7\n",
      "9\n"
     ]
    }
   ],
   "source": [
    "# continue example\n",
    "for i in range(10):\n",
    "    if i % 2 == 0:\n",
    "        continue\n",
    "    print(i)\n",
    "    "
   ]
  },
  {
   "cell_type": "code",
   "execution_count": 5,
   "metadata": {},
   "outputs": [
    {
     "name": "stdout",
     "output_type": "stream",
     "text": [
      "1\n",
      "2\n"
     ]
    }
   ],
   "source": [
    "# break example\n",
    "for i in range(1,10):\n",
    "    if i % 3 == 0:\n",
    "        break\n",
    "    print(i)"
   ]
  },
  {
   "cell_type": "code",
   "execution_count": 6,
   "metadata": {},
   "outputs": [
    {
     "name": "stdout",
     "output_type": "stream",
     "text": [
      "no iterable found\n"
     ]
    }
   ],
   "source": [
    "# for else statement\n",
    "iterable = \"\"\n",
    "\n",
    "for i in iterable:\n",
    "    print(i)\n",
    "else:\n",
    "    print(\"no iterable found\")"
   ]
  },
  {
   "cell_type": "code",
   "execution_count": null,
   "metadata": {},
   "outputs": [],
   "source": []
  }
 ],
 "metadata": {
  "kernelspec": {
   "display_name": "Python 3",
   "language": "python",
   "name": "python3"
  },
  "language_info": {
   "codemirror_mode": {
    "name": "ipython",
    "version": 3
   },
   "file_extension": ".py",
   "mimetype": "text/x-python",
   "name": "python",
   "nbconvert_exporter": "python",
   "pygments_lexer": "ipython3",
   "version": "3.8.3"
  }
 },
 "nbformat": 4,
 "nbformat_minor": 4
}
