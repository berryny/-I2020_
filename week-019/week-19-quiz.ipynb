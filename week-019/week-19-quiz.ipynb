{
 "cells": [
  {
   "cell_type": "markdown",
   "metadata": {},
   "source": [
    "<div style=\"background: #000;\n",
    "            color: #FFF;\n",
    "            margin: 0px;\n",
    "            padding: 10px 0px 20px 0px;\n",
    "            text-align: center; \n",
    "                \">\n",
    "    <h1 >Week 19 Quiz</h1>\n",
    "</div>"
   ]
  },
  {
   "cell_type": "markdown",
   "metadata": {},
   "source": [
    "# Exercise \n",
    "\n",
    "Given an array A of positive integers, let `S` be the sum of the digits of the minimal element of `A`.\n",
    "\n",
    "Return `0` if `S` is odd, otherwise return `1`.\n",
    "\n",
    "Example 1:\n",
    "\n",
    "Input: [34,23,1,24,75,33,54,8]  \n",
    "Output: 0  \n",
    "Explanation:   \n",
    "The minimal element is 1, and the sum of those digits is S = 1 which is odd, so the answer is 0.  \n",
    "\n",
    "Example 2:\n",
    "\n",
    "Input: [99,77,33,66,55]  \n",
    "Output: 1  \n",
    "Explanation:   \n",
    "The minimal element is 33, and the sum of those digits is S = 3 + 3 = 6 which is even, so the answer is 1.  \n"
   ]
  },
  {
   "cell_type": "code",
   "execution_count": 4,
   "metadata": {},
   "outputs": [],
   "source": [
    "# %%timeit\n",
    "def exercise(array):\n",
    "    arr = sorted(set(array))\n",
    "    s = list(str(arr[0]))\n",
    "    minSum = sum([int(s[i]) for i in range(len(s))])\n",
    "    return 1 if minSum % 2 == 0 else 0"
   ]
  },
  {
   "cell_type": "code",
   "execution_count": 5,
   "metadata": {},
   "outputs": [],
   "source": [
    "# %%timeit\n",
    "# teachers solution\n",
    "def exercise(array):\n",
    "    v = min(array)\n",
    "    if v < 10:\n",
    "        return (v + 1) % 2\n",
    "    _sum = 1\n",
    "    while not v == 0:\n",
    "        v, r = divmod(v, 10)\n",
    "        _sum += r\n",
    "    return _sum % 2"
   ]
  },
  {
   "cell_type": "code",
   "execution_count": 6,
   "metadata": {},
   "outputs": [
    {
     "name": "stdout",
     "output_type": "stream",
     "text": [
      "solution is correct\n"
     ]
    }
   ],
   "source": [
    "try:\n",
    "    assert(exercise([34,23,1,24,75,33,54,8]) == 0)\n",
    "    assert(exercise([99,77,33,66,55]) == 1)\n",
    "    assert(exercise([100,110,200,600,500]) == 0)\n",
    "    print(\"solution is correct\")\n",
    "except AssertionError:\n",
    "    print(\"solution is incorrect\")"
   ]
  },
  {
   "cell_type": "code",
   "execution_count": null,
   "metadata": {},
   "outputs": [],
   "source": []
  }
 ],
 "metadata": {
  "kernelspec": {
   "display_name": "Python 3",
   "language": "python",
   "name": "python3"
  },
  "language_info": {
   "codemirror_mode": {
    "name": "ipython",
    "version": 3
   },
   "file_extension": ".py",
   "mimetype": "text/x-python",
   "name": "python",
   "nbconvert_exporter": "python",
   "pygments_lexer": "ipython3",
   "version": "3.9.0"
  }
 },
 "nbformat": 4,
 "nbformat_minor": 4
}
